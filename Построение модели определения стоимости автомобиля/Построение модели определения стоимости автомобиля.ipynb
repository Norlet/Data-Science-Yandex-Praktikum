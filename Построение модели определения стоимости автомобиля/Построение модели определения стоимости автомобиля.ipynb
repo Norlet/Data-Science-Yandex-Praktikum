{
  "metadata": {
    "ExecuteTimeLog": [
      {
        "duration": 44,
        "start_time": "2022-11-23T19:47:15.010Z"
      },
      {
        "duration": 1044,
        "start_time": "2022-11-23T19:47:16.440Z"
      },
      {
        "duration": 2862,
        "start_time": "2022-11-23T19:47:17.486Z"
      },
      {
        "duration": 857,
        "start_time": "2022-11-23T19:47:50.956Z"
      },
      {
        "duration": 914,
        "start_time": "2022-11-23T19:47:58.567Z"
      },
      {
        "duration": 16,
        "start_time": "2022-11-23T20:01:59.440Z"
      },
      {
        "duration": 4,
        "start_time": "2022-11-23T20:04:04.531Z"
      },
      {
        "duration": 452,
        "start_time": "2022-11-23T20:04:15.574Z"
      },
      {
        "duration": 4,
        "start_time": "2022-11-23T20:05:42.697Z"
      },
      {
        "duration": 403,
        "start_time": "2022-11-23T20:05:42.864Z"
      },
      {
        "duration": 3,
        "start_time": "2022-11-23T20:06:00.288Z"
      },
      {
        "duration": 418,
        "start_time": "2022-11-23T20:06:00.433Z"
      },
      {
        "duration": 439,
        "start_time": "2022-11-23T20:31:07.635Z"
      },
      {
        "duration": 958,
        "start_time": "2022-11-23T20:31:26.956Z"
      },
      {
        "duration": 81,
        "start_time": "2022-11-23T20:34:21.898Z"
      },
      {
        "duration": 113,
        "start_time": "2022-11-23T20:35:06.328Z"
      },
      {
        "duration": 95,
        "start_time": "2022-11-23T20:35:27.839Z"
      },
      {
        "duration": 98,
        "start_time": "2022-11-23T20:49:09.264Z"
      },
      {
        "duration": 24,
        "start_time": "2022-11-23T20:50:15.049Z"
      },
      {
        "duration": 6,
        "start_time": "2022-11-23T20:50:16.464Z"
      },
      {
        "duration": 5,
        "start_time": "2022-11-23T20:50:58.585Z"
      },
      {
        "duration": 4,
        "start_time": "2022-11-23T20:53:41.440Z"
      },
      {
        "duration": 4,
        "start_time": "2022-11-23T20:53:54.979Z"
      },
      {
        "duration": 408,
        "start_time": "2022-11-23T20:54:26.776Z"
      },
      {
        "duration": 9,
        "start_time": "2022-11-23T20:54:53.685Z"
      },
      {
        "duration": 18,
        "start_time": "2022-11-23T20:55:02.607Z"
      },
      {
        "duration": 4,
        "start_time": "2022-11-23T20:55:33.050Z"
      },
      {
        "duration": 64,
        "start_time": "2022-11-24T20:05:26.322Z"
      },
      {
        "duration": 8,
        "start_time": "2022-11-24T20:05:30.086Z"
      },
      {
        "duration": 1241,
        "start_time": "2022-11-24T20:05:36.857Z"
      },
      {
        "duration": 3205,
        "start_time": "2022-11-24T20:05:38.100Z"
      },
      {
        "duration": 26,
        "start_time": "2022-11-24T20:05:41.308Z"
      },
      {
        "duration": 15,
        "start_time": "2022-11-24T20:05:41.336Z"
      },
      {
        "duration": 510,
        "start_time": "2022-11-24T20:05:41.355Z"
      },
      {
        "duration": 1348,
        "start_time": "2022-11-24T20:05:41.867Z"
      },
      {
        "duration": 0,
        "start_time": "2022-11-24T20:05:43.218Z"
      },
      {
        "duration": 0,
        "start_time": "2022-11-24T20:05:43.218Z"
      },
      {
        "duration": 0,
        "start_time": "2022-11-24T20:05:43.220Z"
      },
      {
        "duration": 0,
        "start_time": "2022-11-24T20:05:43.222Z"
      },
      {
        "duration": 0,
        "start_time": "2022-11-24T20:05:43.224Z"
      },
      {
        "duration": 0,
        "start_time": "2022-11-24T20:05:43.225Z"
      },
      {
        "duration": 0,
        "start_time": "2022-11-24T20:05:43.227Z"
      },
      {
        "duration": 162,
        "start_time": "2022-11-24T20:06:14.718Z"
      },
      {
        "duration": 525,
        "start_time": "2022-11-24T20:06:18.623Z"
      },
      {
        "duration": 1178,
        "start_time": "2022-11-24T20:06:19.168Z"
      },
      {
        "duration": 91,
        "start_time": "2022-11-24T20:06:21.537Z"
      },
      {
        "duration": 9,
        "start_time": "2022-11-24T20:06:22.092Z"
      },
      {
        "duration": 76,
        "start_time": "2022-11-24T20:06:32.761Z"
      },
      {
        "duration": 120,
        "start_time": "2022-11-24T20:06:45.545Z"
      },
      {
        "duration": 8,
        "start_time": "2022-11-24T20:06:47.354Z"
      },
      {
        "duration": 828,
        "start_time": "2022-11-24T20:06:50.859Z"
      },
      {
        "duration": 365,
        "start_time": "2022-11-24T20:09:19.278Z"
      },
      {
        "duration": 415,
        "start_time": "2022-11-24T20:09:27.791Z"
      },
      {
        "duration": 1147,
        "start_time": "2022-11-24T20:19:12.233Z"
      },
      {
        "duration": 1010,
        "start_time": "2022-11-24T20:19:13.382Z"
      },
      {
        "duration": 23,
        "start_time": "2022-11-24T20:19:14.393Z"
      },
      {
        "duration": 3,
        "start_time": "2022-11-24T20:19:15.050Z"
      },
      {
        "duration": 451,
        "start_time": "2022-11-24T20:19:15.453Z"
      },
      {
        "duration": 162,
        "start_time": "2022-11-24T20:19:16.148Z"
      },
      {
        "duration": 506,
        "start_time": "2022-11-24T20:19:16.729Z"
      },
      {
        "duration": 1166,
        "start_time": "2022-11-24T20:19:17.237Z"
      },
      {
        "duration": 101,
        "start_time": "2022-11-24T20:19:18.405Z"
      },
      {
        "duration": 77,
        "start_time": "2022-11-24T20:19:18.508Z"
      },
      {
        "duration": 116,
        "start_time": "2022-11-24T20:19:19.424Z"
      },
      {
        "duration": 8,
        "start_time": "2022-11-24T20:19:20.369Z"
      },
      {
        "duration": 580,
        "start_time": "2022-11-24T20:19:21.244Z"
      },
      {
        "duration": 291,
        "start_time": "2022-11-24T20:22:25.468Z"
      },
      {
        "duration": 272,
        "start_time": "2022-11-24T20:34:05.240Z"
      },
      {
        "duration": 353,
        "start_time": "2022-11-24T20:34:12.408Z"
      },
      {
        "duration": 380,
        "start_time": "2022-11-24T20:34:19.927Z"
      },
      {
        "duration": 345,
        "start_time": "2022-11-24T20:34:39.601Z"
      },
      {
        "duration": 300,
        "start_time": "2022-11-24T20:35:57.588Z"
      },
      {
        "duration": 15,
        "start_time": "2022-11-24T20:36:03.111Z"
      },
      {
        "duration": 17,
        "start_time": "2022-11-24T20:36:04.200Z"
      },
      {
        "duration": 25,
        "start_time": "2022-11-24T20:36:05.985Z"
      },
      {
        "duration": 4,
        "start_time": "2022-11-24T20:36:09.503Z"
      },
      {
        "duration": 1022,
        "start_time": "2022-11-24T20:36:09.509Z"
      },
      {
        "duration": 22,
        "start_time": "2022-11-24T20:36:10.532Z"
      },
      {
        "duration": 6,
        "start_time": "2022-11-24T20:36:10.555Z"
      },
      {
        "duration": 475,
        "start_time": "2022-11-24T20:36:10.564Z"
      },
      {
        "duration": 171,
        "start_time": "2022-11-24T20:36:11.041Z"
      },
      {
        "duration": 452,
        "start_time": "2022-11-24T20:36:11.214Z"
      },
      {
        "duration": 1028,
        "start_time": "2022-11-24T20:36:11.667Z"
      },
      {
        "duration": 97,
        "start_time": "2022-11-24T20:36:12.696Z"
      },
      {
        "duration": 82,
        "start_time": "2022-11-24T20:36:12.795Z"
      },
      {
        "duration": 126,
        "start_time": "2022-11-24T20:36:12.879Z"
      },
      {
        "duration": 7,
        "start_time": "2022-11-24T20:36:13.007Z"
      },
      {
        "duration": 321,
        "start_time": "2022-11-24T20:36:13.016Z"
      },
      {
        "duration": 532,
        "start_time": "2022-11-24T20:36:22.399Z"
      },
      {
        "duration": 304,
        "start_time": "2022-11-24T20:36:28.647Z"
      },
      {
        "duration": 322,
        "start_time": "2022-11-24T20:36:44.125Z"
      },
      {
        "duration": 297,
        "start_time": "2022-11-24T20:36:48.449Z"
      },
      {
        "duration": 358,
        "start_time": "2022-11-24T20:36:49.422Z"
      },
      {
        "duration": 168,
        "start_time": "2022-11-24T20:39:14.853Z"
      },
      {
        "duration": 91,
        "start_time": "2022-11-24T20:40:05.233Z"
      },
      {
        "duration": 22,
        "start_time": "2022-11-24T20:40:23.377Z"
      },
      {
        "duration": 23,
        "start_time": "2022-11-24T20:40:34.762Z"
      },
      {
        "duration": 45,
        "start_time": "2022-11-25T20:04:50.255Z"
      },
      {
        "duration": 1029,
        "start_time": "2022-11-25T20:04:57.707Z"
      },
      {
        "duration": 3062,
        "start_time": "2022-11-25T20:04:58.738Z"
      },
      {
        "duration": 21,
        "start_time": "2022-11-25T20:05:01.802Z"
      },
      {
        "duration": 27,
        "start_time": "2022-11-25T20:05:01.826Z"
      },
      {
        "duration": 436,
        "start_time": "2022-11-25T20:05:01.855Z"
      },
      {
        "duration": 183,
        "start_time": "2022-11-25T20:05:02.292Z"
      },
      {
        "duration": 474,
        "start_time": "2022-11-25T20:05:02.478Z"
      },
      {
        "duration": 1023,
        "start_time": "2022-11-25T20:05:02.954Z"
      },
      {
        "duration": 85,
        "start_time": "2022-11-25T20:05:03.978Z"
      },
      {
        "duration": 69,
        "start_time": "2022-11-25T20:05:04.066Z"
      },
      {
        "duration": 131,
        "start_time": "2022-11-25T20:05:04.137Z"
      },
      {
        "duration": 16,
        "start_time": "2022-11-25T20:05:04.270Z"
      },
      {
        "duration": 766,
        "start_time": "2022-11-25T20:05:04.288Z"
      },
      {
        "duration": 303,
        "start_time": "2022-11-25T20:05:05.056Z"
      },
      {
        "duration": 25,
        "start_time": "2022-11-25T20:05:05.361Z"
      },
      {
        "duration": 67,
        "start_time": "2022-11-25T20:27:01.410Z"
      },
      {
        "duration": 565,
        "start_time": "2022-11-25T20:27:22.279Z"
      },
      {
        "duration": 339,
        "start_time": "2022-11-25T20:37:37.102Z"
      },
      {
        "duration": 294,
        "start_time": "2022-11-25T20:38:19.811Z"
      },
      {
        "duration": 525,
        "start_time": "2022-11-25T20:38:38.497Z"
      },
      {
        "duration": 342,
        "start_time": "2022-11-25T20:38:39.067Z"
      },
      {
        "duration": 367,
        "start_time": "2022-11-25T20:38:51.739Z"
      },
      {
        "duration": 4,
        "start_time": "2022-11-25T20:39:26.012Z"
      },
      {
        "duration": 4,
        "start_time": "2022-11-25T20:40:00.489Z"
      },
      {
        "duration": 5,
        "start_time": "2022-11-25T20:51:08.427Z"
      },
      {
        "duration": 11,
        "start_time": "2022-11-25T20:52:54.605Z"
      },
      {
        "duration": 98,
        "start_time": "2022-11-25T20:53:07.860Z"
      },
      {
        "duration": 171,
        "start_time": "2022-11-25T20:53:20.059Z"
      },
      {
        "duration": 808,
        "start_time": "2022-11-25T20:53:20.357Z"
      },
      {
        "duration": 16,
        "start_time": "2022-11-25T20:53:21.166Z"
      },
      {
        "duration": 7,
        "start_time": "2022-11-25T20:53:21.184Z"
      },
      {
        "duration": 394,
        "start_time": "2022-11-25T20:53:21.192Z"
      },
      {
        "duration": 140,
        "start_time": "2022-11-25T20:53:21.588Z"
      },
      {
        "duration": 374,
        "start_time": "2022-11-25T20:53:21.730Z"
      },
      {
        "duration": 893,
        "start_time": "2022-11-25T20:53:22.105Z"
      },
      {
        "duration": 77,
        "start_time": "2022-11-25T20:53:23.000Z"
      },
      {
        "duration": 63,
        "start_time": "2022-11-25T20:53:23.078Z"
      },
      {
        "duration": 111,
        "start_time": "2022-11-25T20:53:23.143Z"
      },
      {
        "duration": 5,
        "start_time": "2022-11-25T20:53:23.256Z"
      },
      {
        "duration": 298,
        "start_time": "2022-11-25T20:53:23.263Z"
      },
      {
        "duration": 282,
        "start_time": "2022-11-25T20:53:23.563Z"
      },
      {
        "duration": 22,
        "start_time": "2022-11-25T20:53:23.851Z"
      },
      {
        "duration": 581,
        "start_time": "2022-11-25T20:53:24.724Z"
      },
      {
        "duration": 465,
        "start_time": "2022-11-25T20:53:25.307Z"
      },
      {
        "duration": 6,
        "start_time": "2022-11-25T20:53:25.774Z"
      },
      {
        "duration": 110,
        "start_time": "2022-11-25T20:53:27.139Z"
      },
      {
        "duration": 66,
        "start_time": "2022-11-25T20:53:50.233Z"
      },
      {
        "duration": 369,
        "start_time": "2022-11-25T20:53:50.397Z"
      },
      {
        "duration": 5,
        "start_time": "2022-11-25T20:53:50.767Z"
      },
      {
        "duration": 435,
        "start_time": "2022-11-25T20:53:57.141Z"
      },
      {
        "duration": 459,
        "start_time": "2022-11-25T20:53:57.578Z"
      },
      {
        "duration": 5,
        "start_time": "2022-11-25T20:53:58.039Z"
      },
      {
        "duration": 95,
        "start_time": "2022-11-25T20:53:58.045Z"
      },
      {
        "duration": 559,
        "start_time": "2022-11-25T20:54:13.470Z"
      },
      {
        "duration": 455,
        "start_time": "2022-11-25T20:54:14.031Z"
      },
      {
        "duration": 6,
        "start_time": "2022-11-25T20:54:14.488Z"
      },
      {
        "duration": 102,
        "start_time": "2022-11-25T20:54:14.539Z"
      },
      {
        "duration": 88,
        "start_time": "2022-11-25T20:55:30.875Z"
      },
      {
        "duration": 108,
        "start_time": "2022-11-25T20:55:31.437Z"
      },
      {
        "duration": 218,
        "start_time": "2022-11-25T20:55:31.603Z"
      },
      {
        "duration": 34,
        "start_time": "2022-11-25T20:55:31.980Z"
      },
      {
        "duration": 55,
        "start_time": "2022-11-25T20:55:32.158Z"
      },
      {
        "duration": 62,
        "start_time": "2022-11-25T20:55:33.870Z"
      },
      {
        "duration": 5,
        "start_time": "2022-11-25T20:55:34.699Z"
      },
      {
        "duration": 263,
        "start_time": "2022-11-25T20:55:35.411Z"
      },
      {
        "duration": 269,
        "start_time": "2022-11-25T20:55:35.675Z"
      },
      {
        "duration": 19,
        "start_time": "2022-11-25T20:55:36.258Z"
      },
      {
        "duration": 482,
        "start_time": "2022-11-25T20:55:36.988Z"
      },
      {
        "duration": 400,
        "start_time": "2022-11-25T20:55:37.472Z"
      },
      {
        "duration": 4,
        "start_time": "2022-11-25T20:55:37.874Z"
      },
      {
        "duration": 96,
        "start_time": "2022-11-25T20:55:38.079Z"
      },
      {
        "duration": 85,
        "start_time": "2022-11-25T20:56:14.954Z"
      },
      {
        "duration": 79,
        "start_time": "2022-11-25T20:56:53.935Z"
      },
      {
        "duration": 105,
        "start_time": "2022-11-25T20:56:54.922Z"
      },
      {
        "duration": 207,
        "start_time": "2022-11-25T20:56:55.767Z"
      },
      {
        "duration": 21,
        "start_time": "2022-11-25T20:56:57.214Z"
      },
      {
        "duration": 46,
        "start_time": "2022-11-25T20:56:57.848Z"
      },
      {
        "duration": 3,
        "start_time": "2022-11-25T20:57:10.674Z"
      },
      {
        "duration": 768,
        "start_time": "2022-11-25T20:57:11.338Z"
      },
      {
        "duration": 16,
        "start_time": "2022-11-25T20:57:15.592Z"
      },
      {
        "duration": 3,
        "start_time": "2022-11-25T20:57:16.570Z"
      },
      {
        "duration": 367,
        "start_time": "2022-11-25T20:57:17.338Z"
      },
      {
        "duration": 129,
        "start_time": "2022-11-25T20:57:19.785Z"
      },
      {
        "duration": 374,
        "start_time": "2022-11-25T20:57:21.500Z"
      },
      {
        "duration": 136,
        "start_time": "2022-11-25T20:57:24.933Z"
      },
      {
        "duration": 354,
        "start_time": "2022-11-25T20:57:26.102Z"
      },
      {
        "duration": 768,
        "start_time": "2022-11-25T20:57:27.041Z"
      },
      {
        "duration": 57,
        "start_time": "2022-11-25T20:57:28.393Z"
      },
      {
        "duration": 67,
        "start_time": "2022-11-25T20:57:30.800Z"
      },
      {
        "duration": 99,
        "start_time": "2022-11-25T20:57:33.111Z"
      },
      {
        "duration": 6,
        "start_time": "2022-11-25T20:57:34.514Z"
      },
      {
        "duration": 285,
        "start_time": "2022-11-25T20:57:35.577Z"
      },
      {
        "duration": 368,
        "start_time": "2022-11-25T20:57:36.776Z"
      },
      {
        "duration": 20,
        "start_time": "2022-11-25T20:57:43.059Z"
      },
      {
        "duration": 427,
        "start_time": "2022-11-25T20:57:45.299Z"
      },
      {
        "duration": 444,
        "start_time": "2022-11-25T20:57:45.830Z"
      },
      {
        "duration": 5,
        "start_time": "2022-11-25T20:57:47.139Z"
      },
      {
        "duration": 87,
        "start_time": "2022-11-25T20:58:02.934Z"
      },
      {
        "duration": 512,
        "start_time": "2022-11-25T20:59:11.228Z"
      },
      {
        "duration": 413,
        "start_time": "2022-11-25T20:59:11.778Z"
      },
      {
        "duration": 5,
        "start_time": "2022-11-25T20:59:12.217Z"
      },
      {
        "duration": 35520,
        "start_time": "2022-11-25T20:59:13.152Z"
      },
      {
        "duration": 12,
        "start_time": "2022-11-25T21:11:57.450Z"
      },
      {
        "duration": 458,
        "start_time": "2022-11-25T21:12:12.409Z"
      },
      {
        "duration": 1266,
        "start_time": "2022-11-25T21:13:11.296Z"
      },
      {
        "duration": 350,
        "start_time": "2022-11-25T21:13:29.128Z"
      },
      {
        "duration": 10,
        "start_time": "2022-11-25T21:13:58.773Z"
      },
      {
        "duration": 26,
        "start_time": "2022-11-25T21:14:17.720Z"
      },
      {
        "duration": 788,
        "start_time": "2022-11-25T21:14:17.748Z"
      },
      {
        "duration": 19,
        "start_time": "2022-11-25T21:14:18.538Z"
      },
      {
        "duration": 3,
        "start_time": "2022-11-25T21:14:18.560Z"
      },
      {
        "duration": 407,
        "start_time": "2022-11-25T21:14:18.566Z"
      },
      {
        "duration": 160,
        "start_time": "2022-11-25T21:14:18.975Z"
      },
      {
        "duration": 393,
        "start_time": "2022-11-25T21:14:19.137Z"
      },
      {
        "duration": 812,
        "start_time": "2022-11-25T21:14:19.532Z"
      },
      {
        "duration": 86,
        "start_time": "2022-11-25T21:14:20.346Z"
      },
      {
        "duration": 75,
        "start_time": "2022-11-25T21:14:20.434Z"
      },
      {
        "duration": 112,
        "start_time": "2022-11-25T21:14:20.511Z"
      },
      {
        "duration": 6,
        "start_time": "2022-11-25T21:14:20.625Z"
      },
      {
        "duration": 337,
        "start_time": "2022-11-25T21:14:20.632Z"
      },
      {
        "duration": 303,
        "start_time": "2022-11-25T21:14:20.972Z"
      },
      {
        "duration": 22,
        "start_time": "2022-11-25T21:14:21.277Z"
      },
      {
        "duration": 465,
        "start_time": "2022-11-25T21:14:21.301Z"
      },
      {
        "duration": 340,
        "start_time": "2022-11-25T21:14:21.768Z"
      },
      {
        "duration": 12,
        "start_time": "2022-11-25T21:14:22.109Z"
      },
      {
        "duration": 0,
        "start_time": "2022-11-25T21:14:22.123Z"
      },
      {
        "duration": 286,
        "start_time": "2022-11-25T21:14:32.825Z"
      },
      {
        "duration": 348,
        "start_time": "2022-11-25T21:17:33.155Z"
      },
      {
        "duration": 2,
        "start_time": "2022-11-25T21:17:33.505Z"
      },
      {
        "duration": 53,
        "start_time": "2022-11-25T21:17:45.362Z"
      },
      {
        "duration": 1450,
        "start_time": "2022-11-25T21:17:48.133Z"
      },
      {
        "duration": 900,
        "start_time": "2022-11-25T21:17:49.584Z"
      },
      {
        "duration": 21,
        "start_time": "2022-11-25T21:17:50.486Z"
      },
      {
        "duration": 14,
        "start_time": "2022-11-25T21:17:50.508Z"
      },
      {
        "duration": 419,
        "start_time": "2022-11-25T21:17:50.524Z"
      },
      {
        "duration": 149,
        "start_time": "2022-11-25T21:17:50.945Z"
      },
      {
        "duration": 487,
        "start_time": "2022-11-25T21:17:51.096Z"
      },
      {
        "duration": 998,
        "start_time": "2022-11-25T21:17:51.585Z"
      },
      {
        "duration": 98,
        "start_time": "2022-11-25T21:17:52.585Z"
      },
      {
        "duration": 82,
        "start_time": "2022-11-25T21:17:52.685Z"
      },
      {
        "duration": 117,
        "start_time": "2022-11-25T21:17:52.769Z"
      },
      {
        "duration": 9,
        "start_time": "2022-11-25T21:17:52.888Z"
      },
      {
        "duration": 349,
        "start_time": "2022-11-25T21:17:52.898Z"
      },
      {
        "duration": 413,
        "start_time": "2022-11-25T21:17:53.250Z"
      },
      {
        "duration": 22,
        "start_time": "2022-11-25T21:17:53.665Z"
      },
      {
        "duration": 469,
        "start_time": "2022-11-25T21:17:53.689Z"
      },
      {
        "duration": 363,
        "start_time": "2022-11-25T21:17:54.160Z"
      },
      {
        "duration": 2,
        "start_time": "2022-11-25T21:17:54.525Z"
      },
      {
        "duration": 22925,
        "start_time": "2022-11-25T21:17:54.528Z"
      },
      {
        "duration": 149,
        "start_time": "2022-11-25T21:18:17.455Z"
      },
      {
        "duration": 19395,
        "start_time": "2022-11-25T21:19:09.357Z"
      },
      {
        "duration": 45,
        "start_time": "2022-11-26T18:31:50.478Z"
      },
      {
        "duration": 1471,
        "start_time": "2022-11-26T18:31:53.875Z"
      },
      {
        "duration": 1065,
        "start_time": "2022-11-26T18:31:55.348Z"
      },
      {
        "duration": 18,
        "start_time": "2022-11-26T18:31:56.414Z"
      },
      {
        "duration": 3,
        "start_time": "2022-11-26T18:31:56.433Z"
      },
      {
        "duration": 410,
        "start_time": "2022-11-26T18:31:56.437Z"
      },
      {
        "duration": 163,
        "start_time": "2022-11-26T18:31:56.848Z"
      },
      {
        "duration": 373,
        "start_time": "2022-11-26T18:31:57.012Z"
      },
      {
        "duration": 775,
        "start_time": "2022-11-26T18:31:57.387Z"
      },
      {
        "duration": 87,
        "start_time": "2022-11-26T18:31:58.164Z"
      },
      {
        "duration": 77,
        "start_time": "2022-11-26T18:31:58.253Z"
      },
      {
        "duration": 112,
        "start_time": "2022-11-26T18:31:58.331Z"
      },
      {
        "duration": 7,
        "start_time": "2022-11-26T18:31:58.444Z"
      },
      {
        "duration": 316,
        "start_time": "2022-11-26T18:31:58.452Z"
      },
      {
        "duration": 330,
        "start_time": "2022-11-26T18:31:58.770Z"
      },
      {
        "duration": 19,
        "start_time": "2022-11-26T18:31:59.101Z"
      },
      {
        "duration": 397,
        "start_time": "2022-11-26T18:31:59.122Z"
      },
      {
        "duration": 332,
        "start_time": "2022-11-26T18:31:59.520Z"
      },
      {
        "duration": 72,
        "start_time": "2022-11-26T18:31:59.854Z"
      },
      {
        "duration": 0,
        "start_time": "2022-11-26T18:31:59.928Z"
      },
      {
        "duration": 0,
        "start_time": "2022-11-26T18:31:59.929Z"
      },
      {
        "duration": 13745,
        "start_time": "2022-11-26T19:13:31.453Z"
      },
      {
        "duration": 49,
        "start_time": "2022-11-28T12:11:22.652Z"
      },
      {
        "duration": 1545,
        "start_time": "2022-11-28T12:11:26.777Z"
      },
      {
        "duration": 1154,
        "start_time": "2022-11-28T12:11:28.324Z"
      },
      {
        "duration": 21,
        "start_time": "2022-11-28T12:11:29.480Z"
      },
      {
        "duration": 11,
        "start_time": "2022-11-28T12:11:29.502Z"
      },
      {
        "duration": 443,
        "start_time": "2022-11-28T12:11:29.515Z"
      },
      {
        "duration": 165,
        "start_time": "2022-11-28T12:11:29.960Z"
      },
      {
        "duration": 498,
        "start_time": "2022-11-28T12:11:30.126Z"
      },
      {
        "duration": 903,
        "start_time": "2022-11-28T12:11:30.626Z"
      },
      {
        "duration": 90,
        "start_time": "2022-11-28T12:11:31.531Z"
      },
      {
        "duration": 78,
        "start_time": "2022-11-28T12:11:31.623Z"
      },
      {
        "duration": 120,
        "start_time": "2022-11-28T12:11:31.703Z"
      },
      {
        "duration": 10,
        "start_time": "2022-11-28T12:11:31.824Z"
      },
      {
        "duration": 351,
        "start_time": "2022-11-28T12:11:31.835Z"
      },
      {
        "duration": 410,
        "start_time": "2022-11-28T12:11:32.189Z"
      },
      {
        "duration": 23,
        "start_time": "2022-11-28T12:11:32.600Z"
      },
      {
        "duration": 481,
        "start_time": "2022-11-28T12:11:32.625Z"
      },
      {
        "duration": 374,
        "start_time": "2022-11-28T12:11:33.107Z"
      },
      {
        "duration": 110,
        "start_time": "2022-11-28T12:11:33.484Z"
      },
      {
        "duration": 0,
        "start_time": "2022-11-28T12:11:33.596Z"
      },
      {
        "duration": 0,
        "start_time": "2022-11-28T12:11:33.597Z"
      },
      {
        "duration": 147,
        "start_time": "2022-11-28T12:12:54.989Z"
      },
      {
        "duration": 25615,
        "start_time": "2022-11-28T12:16:07.565Z"
      },
      {
        "duration": 1692,
        "start_time": "2022-11-29T11:55:50.270Z"
      },
      {
        "duration": 1242,
        "start_time": "2022-11-29T11:55:51.964Z"
      },
      {
        "duration": 22,
        "start_time": "2022-11-29T11:55:53.208Z"
      },
      {
        "duration": 3,
        "start_time": "2022-11-29T11:55:53.232Z"
      },
      {
        "duration": 464,
        "start_time": "2022-11-29T11:55:53.237Z"
      },
      {
        "duration": 174,
        "start_time": "2022-11-29T11:55:53.703Z"
      },
      {
        "duration": 485,
        "start_time": "2022-11-29T11:55:53.879Z"
      },
      {
        "duration": 1043,
        "start_time": "2022-11-29T11:55:54.366Z"
      },
      {
        "duration": 131,
        "start_time": "2022-11-29T11:55:55.411Z"
      },
      {
        "duration": 83,
        "start_time": "2022-11-29T11:55:55.543Z"
      },
      {
        "duration": 120,
        "start_time": "2022-11-29T11:55:55.628Z"
      },
      {
        "duration": 8,
        "start_time": "2022-11-29T11:55:55.750Z"
      },
      {
        "duration": 387,
        "start_time": "2022-11-29T11:55:55.759Z"
      },
      {
        "duration": 504,
        "start_time": "2022-11-29T11:55:56.149Z"
      },
      {
        "duration": 23,
        "start_time": "2022-11-29T11:55:56.655Z"
      },
      {
        "duration": 718,
        "start_time": "2022-11-29T11:55:56.680Z"
      },
      {
        "duration": 515,
        "start_time": "2022-11-29T11:55:57.399Z"
      },
      {
        "duration": 3,
        "start_time": "2022-11-29T11:55:57.916Z"
      },
      {
        "duration": 16390,
        "start_time": "2022-11-29T11:55:57.921Z"
      },
      {
        "duration": 3,
        "start_time": "2022-11-29T11:56:14.313Z"
      },
      {
        "duration": 126,
        "start_time": "2022-11-29T12:27:25.803Z"
      },
      {
        "duration": 292,
        "start_time": "2022-11-29T12:27:51.942Z"
      },
      {
        "duration": 347,
        "start_time": "2022-11-29T12:28:00.468Z"
      },
      {
        "duration": 870,
        "start_time": "2022-11-29T12:28:23.339Z"
      },
      {
        "duration": 837,
        "start_time": "2022-11-29T12:35:05.242Z"
      },
      {
        "duration": 60,
        "start_time": "2022-11-29T12:35:15.528Z"
      },
      {
        "duration": 159,
        "start_time": "2022-11-29T12:50:45.132Z"
      },
      {
        "duration": 14,
        "start_time": "2022-11-29T12:51:17.832Z"
      },
      {
        "duration": 50,
        "start_time": "2022-11-29T12:51:18.041Z"
      },
      {
        "duration": 15,
        "start_time": "2022-11-29T12:51:30.301Z"
      },
      {
        "duration": 619,
        "start_time": "2022-11-29T12:51:52.433Z"
      },
      {
        "duration": 49,
        "start_time": "2022-11-29T12:51:53.220Z"
      },
      {
        "duration": 118,
        "start_time": "2022-11-29T12:51:55.953Z"
      },
      {
        "duration": 23575,
        "start_time": "2022-11-29T12:53:04.897Z"
      },
      {
        "duration": 121,
        "start_time": "2022-11-29T12:54:44.344Z"
      },
      {
        "duration": 51,
        "start_time": "2022-11-29T12:54:52.875Z"
      },
      {
        "duration": 123,
        "start_time": "2022-11-29T12:54:53.981Z"
      },
      {
        "duration": 302,
        "start_time": "2022-11-29T12:55:47.670Z"
      },
      {
        "duration": 23456,
        "start_time": "2022-11-29T12:55:48.481Z"
      },
      {
        "duration": 3178752,
        "start_time": "2022-11-29T13:01:18.550Z"
      },
      {
        "duration": 110,
        "start_time": "2022-11-30T19:35:57.631Z"
      },
      {
        "duration": 1566,
        "start_time": "2022-11-30T19:36:01.077Z"
      },
      {
        "duration": 1136,
        "start_time": "2022-11-30T19:36:02.646Z"
      },
      {
        "duration": 18,
        "start_time": "2022-11-30T19:36:03.784Z"
      },
      {
        "duration": 10,
        "start_time": "2022-11-30T19:36:03.803Z"
      },
      {
        "duration": 435,
        "start_time": "2022-11-30T19:36:03.815Z"
      },
      {
        "duration": 182,
        "start_time": "2022-11-30T19:36:04.251Z"
      },
      {
        "duration": 448,
        "start_time": "2022-11-30T19:36:04.435Z"
      },
      {
        "duration": 917,
        "start_time": "2022-11-30T19:36:04.885Z"
      },
      {
        "duration": 94,
        "start_time": "2022-11-30T19:36:05.804Z"
      },
      {
        "duration": 68,
        "start_time": "2022-11-30T19:36:05.900Z"
      },
      {
        "duration": 117,
        "start_time": "2022-11-30T19:36:05.970Z"
      },
      {
        "duration": 7,
        "start_time": "2022-11-30T19:36:06.088Z"
      },
      {
        "duration": 344,
        "start_time": "2022-11-30T19:36:06.097Z"
      },
      {
        "duration": 406,
        "start_time": "2022-11-30T19:36:06.443Z"
      },
      {
        "duration": 22,
        "start_time": "2022-11-30T19:36:06.850Z"
      },
      {
        "duration": 427,
        "start_time": "2022-11-30T19:36:06.874Z"
      },
      {
        "duration": 346,
        "start_time": "2022-11-30T19:36:07.303Z"
      },
      {
        "duration": 3,
        "start_time": "2022-11-30T19:36:07.650Z"
      },
      {
        "duration": 16682,
        "start_time": "2022-11-30T19:36:07.654Z"
      },
      {
        "duration": 370,
        "start_time": "2022-11-30T19:36:24.338Z"
      },
      {
        "duration": 20387,
        "start_time": "2022-11-30T19:36:24.710Z"
      },
      {
        "duration": 1372333,
        "start_time": "2022-11-30T19:36:45.099Z"
      },
      {
        "duration": 7,
        "start_time": "2022-11-30T19:59:37.434Z"
      },
      {
        "duration": 29,
        "start_time": "2022-11-30T19:59:37.444Z"
      },
      {
        "duration": 46,
        "start_time": "2022-11-30T19:59:57.943Z"
      },
      {
        "duration": 2415,
        "start_time": "2022-11-30T20:00:08.158Z"
      },
      {
        "duration": 2306,
        "start_time": "2022-11-30T20:01:58.901Z"
      },
      {
        "duration": 40208,
        "start_time": "2022-11-30T20:13:14.847Z"
      },
      {
        "duration": 18,
        "start_time": "2022-11-30T20:31:30.144Z"
      },
      {
        "duration": 3,
        "start_time": "2022-11-30T20:31:36.086Z"
      },
      {
        "duration": 6395369,
        "start_time": "2022-11-30T20:31:36.780Z"
      },
      {
        "duration": 14240,
        "start_time": "2022-11-30T23:04:43.597Z"
      },
      {
        "duration": 583,
        "start_time": "2022-11-30T23:08:37.753Z"
      },
      {
        "duration": 2915,
        "start_time": "2022-11-30T23:08:44.220Z"
      },
      {
        "duration": 306,
        "start_time": "2022-11-30T23:08:47.137Z"
      },
      {
        "duration": 1818791,
        "start_time": "2022-11-30T23:08:58.397Z"
      },
      {
        "duration": 15832,
        "start_time": "2022-11-30T23:39:17.190Z"
      },
      {
        "duration": 17,
        "start_time": "2022-12-01T15:36:37.717Z"
      },
      {
        "duration": 110,
        "start_time": "2022-12-01T15:36:41.153Z"
      },
      {
        "duration": 2022,
        "start_time": "2022-12-01T15:36:46.476Z"
      },
      {
        "duration": 1650,
        "start_time": "2022-12-01T15:36:48.501Z"
      },
      {
        "duration": 31,
        "start_time": "2022-12-01T15:36:50.153Z"
      },
      {
        "duration": 33,
        "start_time": "2022-12-01T15:36:50.186Z"
      },
      {
        "duration": 665,
        "start_time": "2022-12-01T15:36:50.224Z"
      },
      {
        "duration": 224,
        "start_time": "2022-12-01T15:36:52.134Z"
      },
      {
        "duration": 613,
        "start_time": "2022-12-01T15:36:53.635Z"
      },
      {
        "duration": 1170,
        "start_time": "2022-12-01T15:36:54.329Z"
      },
      {
        "duration": 92,
        "start_time": "2022-12-01T15:36:56.509Z"
      },
      {
        "duration": 86,
        "start_time": "2022-12-01T15:36:57.117Z"
      },
      {
        "duration": 148,
        "start_time": "2022-12-01T15:36:59.333Z"
      },
      {
        "duration": 10,
        "start_time": "2022-12-01T15:37:00.192Z"
      },
      {
        "duration": 416,
        "start_time": "2022-12-01T15:37:00.847Z"
      },
      {
        "duration": 585,
        "start_time": "2022-12-01T15:37:01.265Z"
      },
      {
        "duration": 31,
        "start_time": "2022-12-01T15:37:02.651Z"
      },
      {
        "duration": 465,
        "start_time": "2022-12-01T15:37:04.604Z"
      },
      {
        "duration": 415,
        "start_time": "2022-12-01T15:37:05.070Z"
      },
      {
        "duration": 4,
        "start_time": "2022-12-01T15:37:05.918Z"
      },
      {
        "duration": 29528,
        "start_time": "2022-12-01T15:37:10.220Z"
      },
      {
        "duration": 2705,
        "start_time": "2022-12-01T15:37:55.285Z"
      },
      {
        "duration": 139928,
        "start_time": "2022-12-01T15:38:03.724Z"
      },
      {
        "duration": 2,
        "start_time": "2022-12-01T15:40:23.654Z"
      },
      {
        "duration": 19874,
        "start_time": "2022-12-01T15:40:23.658Z"
      },
      {
        "duration": 510,
        "start_time": "2022-12-01T15:40:43.622Z"
      },
      {
        "duration": 1594,
        "start_time": "2022-12-01T19:22:12.306Z"
      },
      {
        "duration": 3002,
        "start_time": "2022-12-01T19:22:13.902Z"
      },
      {
        "duration": 18,
        "start_time": "2022-12-01T19:22:16.906Z"
      },
      {
        "duration": 3,
        "start_time": "2022-12-01T19:22:16.926Z"
      },
      {
        "duration": 432,
        "start_time": "2022-12-01T19:22:16.930Z"
      },
      {
        "duration": 161,
        "start_time": "2022-12-01T19:22:19.296Z"
      },
      {
        "duration": 428,
        "start_time": "2022-12-01T19:22:19.969Z"
      },
      {
        "duration": 963,
        "start_time": "2022-12-01T19:22:20.967Z"
      },
      {
        "duration": 87,
        "start_time": "2022-12-01T19:22:22.050Z"
      },
      {
        "duration": 75,
        "start_time": "2022-12-01T19:22:22.555Z"
      },
      {
        "duration": 119,
        "start_time": "2022-12-01T19:22:23.649Z"
      },
      {
        "duration": 8,
        "start_time": "2022-12-01T19:22:24.195Z"
      },
      {
        "duration": 330,
        "start_time": "2022-12-01T19:22:24.756Z"
      },
      {
        "duration": 402,
        "start_time": "2022-12-01T19:22:25.809Z"
      },
      {
        "duration": 21,
        "start_time": "2022-12-01T19:22:27.260Z"
      },
      {
        "duration": 495,
        "start_time": "2022-12-01T19:22:28.690Z"
      },
      {
        "duration": 353,
        "start_time": "2022-12-01T19:22:29.648Z"
      },
      {
        "duration": 3,
        "start_time": "2022-12-01T19:22:31.054Z"
      },
      {
        "duration": 14688,
        "start_time": "2022-12-01T19:22:31.950Z"
      },
      {
        "duration": 288,
        "start_time": "2022-12-01T19:22:53.659Z"
      },
      {
        "duration": 2425,
        "start_time": "2022-12-01T19:23:03.591Z"
      },
      {
        "duration": 6373,
        "start_time": "2022-12-01T19:23:06.765Z"
      },
      {
        "duration": 14386,
        "start_time": "2022-12-01T19:23:13.954Z"
      },
      {
        "duration": 597,
        "start_time": "2022-12-01T19:23:28.342Z"
      },
      {
        "duration": 2869,
        "start_time": "2022-12-01T19:24:13.755Z"
      },
      {
        "duration": 308,
        "start_time": "2022-12-01T19:24:16.626Z"
      },
      {
        "duration": 4,
        "start_time": "2022-12-01T19:56:08.004Z"
      },
      {
        "duration": 113,
        "start_time": "2022-12-01T19:58:36.509Z"
      },
      {
        "duration": 1350,
        "start_time": "2022-12-01T19:58:43.170Z"
      },
      {
        "duration": 884,
        "start_time": "2022-12-01T19:58:44.522Z"
      },
      {
        "duration": 18,
        "start_time": "2022-12-01T19:58:45.408Z"
      },
      {
        "duration": 4,
        "start_time": "2022-12-01T19:58:45.438Z"
      },
      {
        "duration": 439,
        "start_time": "2022-12-01T19:58:45.443Z"
      },
      {
        "duration": 161,
        "start_time": "2022-12-01T19:58:45.883Z"
      },
      {
        "duration": 417,
        "start_time": "2022-12-01T19:58:46.046Z"
      },
      {
        "duration": 902,
        "start_time": "2022-12-01T19:58:46.464Z"
      },
      {
        "duration": 90,
        "start_time": "2022-12-01T19:58:47.368Z"
      },
      {
        "duration": 69,
        "start_time": "2022-12-01T19:58:47.460Z"
      },
      {
        "duration": 113,
        "start_time": "2022-12-01T19:58:47.537Z"
      },
      {
        "duration": 8,
        "start_time": "2022-12-01T19:58:47.651Z"
      },
      {
        "duration": 369,
        "start_time": "2022-12-01T19:58:47.660Z"
      },
      {
        "duration": 405,
        "start_time": "2022-12-01T19:58:48.037Z"
      },
      {
        "duration": 22,
        "start_time": "2022-12-01T19:58:48.444Z"
      },
      {
        "duration": 443,
        "start_time": "2022-12-01T19:58:48.469Z"
      },
      {
        "duration": 393,
        "start_time": "2022-12-01T19:58:48.915Z"
      },
      {
        "duration": 2,
        "start_time": "2022-12-01T19:58:49.486Z"
      },
      {
        "duration": 14924,
        "start_time": "2022-12-01T19:58:52.923Z"
      },
      {
        "duration": 291,
        "start_time": "2022-12-01T19:59:17.850Z"
      },
      {
        "duration": 19581,
        "start_time": "2022-12-01T19:59:20.194Z"
      },
      {
        "duration": 2201,
        "start_time": "2022-12-01T19:59:39.778Z"
      },
      {
        "duration": 14663,
        "start_time": "2022-12-01T19:59:41.981Z"
      },
      {
        "duration": 491,
        "start_time": "2022-12-01T20:01:02.148Z"
      },
      {
        "duration": 2867,
        "start_time": "2022-12-01T20:01:05.155Z"
      },
      {
        "duration": 314,
        "start_time": "2022-12-01T20:01:08.858Z"
      },
      {
        "duration": 1818386,
        "start_time": "2022-12-01T20:01:11.999Z"
      },
      {
        "duration": 15543,
        "start_time": "2022-12-01T20:31:30.387Z"
      },
      {
        "duration": 81532,
        "start_time": "2022-12-01T20:31:45.931Z"
      },
      {
        "duration": 21242,
        "start_time": "2022-12-01T21:14:22.622Z"
      },
      {
        "duration": 7170,
        "start_time": "2022-12-01T21:14:43.867Z"
      },
      {
        "duration": 199,
        "start_time": "2022-12-01T21:14:51.039Z"
      },
      {
        "duration": 2151,
        "start_time": "2022-12-01T21:14:51.240Z"
      },
      {
        "duration": 52,
        "start_time": "2022-12-02T20:19:03.971Z"
      },
      {
        "duration": 1760,
        "start_time": "2022-12-02T20:19:13.332Z"
      },
      {
        "duration": 87,
        "start_time": "2022-12-02T20:19:16.710Z"
      },
      {
        "duration": 16,
        "start_time": "2022-12-02T20:19:33.057Z"
      },
      {
        "duration": 89,
        "start_time": "2022-12-02T20:24:40.687Z"
      },
      {
        "duration": 10,
        "start_time": "2022-12-02T20:24:51.245Z"
      },
      {
        "duration": 8912,
        "start_time": "2022-12-03T12:21:48.435Z"
      },
      {
        "duration": 7605,
        "start_time": "2022-12-03T12:22:01.335Z"
      },
      {
        "duration": 190,
        "start_time": "2022-12-03T12:22:08.948Z"
      },
      {
        "duration": 6,
        "start_time": "2022-12-03T12:22:10.936Z"
      },
      {
        "duration": 3705,
        "start_time": "2022-12-03T12:22:11.236Z"
      },
      {
        "duration": 1600,
        "start_time": "2022-12-03T12:22:14.945Z"
      },
      {
        "duration": 3598,
        "start_time": "2022-12-03T12:22:16.642Z"
      },
      {
        "duration": 6602,
        "start_time": "2022-12-03T12:22:20.245Z"
      },
      {
        "duration": 598,
        "start_time": "2022-12-03T12:22:26.941Z"
      },
      {
        "duration": 499,
        "start_time": "2022-12-03T12:22:27.542Z"
      },
      {
        "duration": 1090,
        "start_time": "2022-12-03T12:22:28.045Z"
      },
      {
        "duration": 98,
        "start_time": "2022-12-03T12:22:29.138Z"
      },
      {
        "duration": 2896,
        "start_time": "2022-12-03T12:22:29.242Z"
      },
      {
        "duration": 2697,
        "start_time": "2022-12-03T12:22:32.141Z"
      },
      {
        "duration": 107,
        "start_time": "2022-12-03T12:22:34.846Z"
      },
      {
        "duration": 480,
        "start_time": "2022-12-03T12:22:34.956Z"
      },
      {
        "duration": 44,
        "start_time": "2022-12-03T16:26:41.197Z"
      },
      {
        "duration": 1794,
        "start_time": "2022-12-03T16:26:47.390Z"
      },
      {
        "duration": 2979,
        "start_time": "2022-12-03T16:26:49.186Z"
      },
      {
        "duration": 19,
        "start_time": "2022-12-03T16:26:52.167Z"
      },
      {
        "duration": 3,
        "start_time": "2022-12-03T16:26:52.188Z"
      },
      {
        "duration": 391,
        "start_time": "2022-12-03T16:26:52.192Z"
      },
      {
        "duration": 3,
        "start_time": "2022-12-03T16:26:52.585Z"
      },
      {
        "duration": 79,
        "start_time": "2022-12-03T16:26:53.664Z"
      },
      {
        "duration": 72,
        "start_time": "2022-12-03T16:28:06.192Z"
      },
      {
        "duration": 68,
        "start_time": "2022-12-03T16:28:18.285Z"
      },
      {
        "duration": 438,
        "start_time": "2022-12-03T16:28:19.321Z"
      },
      {
        "duration": 865,
        "start_time": "2022-12-03T16:28:20.449Z"
      },
      {
        "duration": 77,
        "start_time": "2022-12-03T16:28:24.541Z"
      },
      {
        "duration": 69,
        "start_time": "2022-12-03T16:28:27.116Z"
      },
      {
        "duration": 112,
        "start_time": "2022-12-03T16:28:30.616Z"
      },
      {
        "duration": 8,
        "start_time": "2022-12-03T16:28:31.919Z"
      },
      {
        "duration": 322,
        "start_time": "2022-12-03T16:28:34.885Z"
      },
      {
        "duration": 383,
        "start_time": "2022-12-03T16:30:40.454Z"
      },
      {
        "duration": 310,
        "start_time": "2022-12-03T16:30:41.450Z"
      },
      {
        "duration": 21,
        "start_time": "2022-12-03T16:30:42.986Z"
      },
      {
        "duration": 68,
        "start_time": "2022-12-03T16:31:21.322Z"
      },
      {
        "duration": 5,
        "start_time": "2022-12-03T16:31:22.386Z"
      },
      {
        "duration": 277,
        "start_time": "2022-12-03T16:31:23.231Z"
      },
      {
        "duration": 336,
        "start_time": "2022-12-03T16:31:24.133Z"
      },
      {
        "duration": 20,
        "start_time": "2022-12-03T16:31:25.429Z"
      },
      {
        "duration": 60,
        "start_time": "2022-12-03T16:31:25.794Z"
      },
      {
        "duration": 66,
        "start_time": "2022-12-03T16:31:57.509Z"
      },
      {
        "duration": 75,
        "start_time": "2022-12-03T16:54:04.331Z"
      },
      {
        "duration": 57,
        "start_time": "2022-12-03T16:54:06.599Z"
      },
      {
        "duration": 3,
        "start_time": "2022-12-03T16:54:10.756Z"
      },
      {
        "duration": 68,
        "start_time": "2022-12-03T16:54:12.744Z"
      },
      {
        "duration": 472,
        "start_time": "2022-12-03T16:54:15.157Z"
      },
      {
        "duration": 106,
        "start_time": "2022-12-03T16:54:24.460Z"
      },
      {
        "duration": 107,
        "start_time": "2022-12-03T16:55:09.922Z"
      },
      {
        "duration": 121,
        "start_time": "2022-12-03T17:07:52.234Z"
      },
      {
        "duration": 67,
        "start_time": "2022-12-03T17:10:30.408Z"
      },
      {
        "duration": 64,
        "start_time": "2022-12-03T17:10:41.583Z"
      },
      {
        "duration": 3,
        "start_time": "2022-12-03T17:10:48.991Z"
      },
      {
        "duration": 134,
        "start_time": "2022-12-03T17:10:57.736Z"
      },
      {
        "duration": 74,
        "start_time": "2022-12-03T17:12:17.073Z"
      },
      {
        "duration": 474,
        "start_time": "2022-12-03T17:12:26.669Z"
      },
      {
        "duration": 57,
        "start_time": "2022-12-03T17:12:28.213Z"
      },
      {
        "duration": 505,
        "start_time": "2022-12-03T17:12:54.333Z"
      },
      {
        "duration": 64,
        "start_time": "2022-12-03T17:13:26.492Z"
      },
      {
        "duration": 467,
        "start_time": "2022-12-03T18:25:18.673Z"
      },
      {
        "duration": 60,
        "start_time": "2022-12-03T18:25:20.836Z"
      },
      {
        "duration": 2,
        "start_time": "2022-12-03T18:25:22.759Z"
      },
      {
        "duration": 63,
        "start_time": "2022-12-03T18:25:24.410Z"
      },
      {
        "duration": 14,
        "start_time": "2022-12-03T18:25:39.930Z"
      },
      {
        "duration": 487,
        "start_time": "2022-12-03T18:34:51.032Z"
      },
      {
        "duration": 10,
        "start_time": "2022-12-03T18:34:53.866Z"
      },
      {
        "duration": 884,
        "start_time": "2022-12-03T18:42:35.657Z"
      },
      {
        "duration": 97,
        "start_time": "2022-12-03T18:43:28.942Z"
      },
      {
        "duration": 495,
        "start_time": "2022-12-03T18:43:33.918Z"
      },
      {
        "duration": 471,
        "start_time": "2022-12-03T18:43:57.322Z"
      },
      {
        "duration": 352,
        "start_time": "2022-12-03T18:44:00.981Z"
      },
      {
        "duration": 4,
        "start_time": "2022-12-03T18:44:28.371Z"
      },
      {
        "duration": 15163,
        "start_time": "2022-12-03T18:45:00.834Z"
      },
      {
        "duration": 20624,
        "start_time": "2022-12-03T18:45:15.999Z"
      },
      {
        "duration": 96,
        "start_time": "2022-12-03T18:50:28.518Z"
      },
      {
        "duration": 26790,
        "start_time": "2022-12-03T18:50:45.240Z"
      },
      {
        "duration": 26396,
        "start_time": "2022-12-03T18:52:03.189Z"
      },
      {
        "duration": 5,
        "start_time": "2022-12-03T18:54:25.052Z"
      },
      {
        "duration": 34547,
        "start_time": "2022-12-03T18:54:38.918Z"
      },
      {
        "duration": 95749,
        "start_time": "2022-12-03T18:57:16.883Z"
      },
      {
        "duration": 34587,
        "start_time": "2022-12-03T18:59:35.583Z"
      },
      {
        "duration": 30277,
        "start_time": "2022-12-03T19:02:18.162Z"
      },
      {
        "duration": 32502,
        "start_time": "2022-12-03T19:04:05.466Z"
      },
      {
        "duration": 3,
        "start_time": "2022-12-03T19:05:39.572Z"
      },
      {
        "duration": 102347,
        "start_time": "2022-12-03T19:05:41.583Z"
      },
      {
        "duration": 31632,
        "start_time": "2022-12-03T19:11:00.396Z"
      },
      {
        "duration": 82395,
        "start_time": "2022-12-03T19:15:05.741Z"
      },
      {
        "duration": 155177,
        "start_time": "2022-12-03T19:18:08.446Z"
      },
      {
        "duration": 89,
        "start_time": "2022-12-03T19:20:43.637Z"
      },
      {
        "duration": 144531,
        "start_time": "2022-12-03T19:21:25.899Z"
      },
      {
        "duration": 89,
        "start_time": "2022-12-03T19:28:20.706Z"
      },
      {
        "duration": 110569,
        "start_time": "2022-12-03T19:51:58.466Z"
      },
      {
        "duration": 109569,
        "start_time": "2022-12-03T19:54:22.961Z"
      },
      {
        "duration": 3,
        "start_time": "2022-12-03T19:58:26.941Z"
      },
      {
        "duration": 104140,
        "start_time": "2022-12-03T19:58:31.493Z"
      },
      {
        "duration": 74266,
        "start_time": "2022-12-03T23:39:46.283Z"
      },
      {
        "duration": 1989,
        "start_time": "2022-12-03T23:41:59.659Z"
      },
      {
        "duration": 2,
        "start_time": "2022-12-03T23:42:08.115Z"
      },
      {
        "duration": 73845,
        "start_time": "2022-12-03T23:42:09.781Z"
      },
      {
        "duration": 14,
        "start_time": "2022-12-03T23:48:24.458Z"
      },
      {
        "duration": 83,
        "start_time": "2022-12-03T23:48:57.641Z"
      },
      {
        "duration": 1007,
        "start_time": "2022-12-03T23:49:10.392Z"
      },
      {
        "duration": 44,
        "start_time": "2022-12-03T23:49:13.610Z"
      },
      {
        "duration": 69,
        "start_time": "2022-12-03T23:52:08.452Z"
      },
      {
        "duration": 2083,
        "start_time": "2022-12-03T23:58:22.447Z"
      },
      {
        "duration": 71,
        "start_time": "2022-12-03T23:59:24.337Z"
      },
      {
        "duration": 338465,
        "start_time": "2022-12-04T00:00:36.047Z"
      },
      {
        "duration": 4,
        "start_time": "2022-12-04T00:08:21.385Z"
      },
      {
        "duration": 15,
        "start_time": "2022-12-04T00:08:38.872Z"
      },
      {
        "duration": 9,
        "start_time": "2022-12-04T00:09:04.842Z"
      },
      {
        "duration": 378741,
        "start_time": "2022-12-04T00:10:43.056Z"
      },
      {
        "duration": 0,
        "start_time": "2022-12-04T00:20:53.526Z"
      },
      {
        "duration": 0,
        "start_time": "2022-12-04T00:20:53.527Z"
      },
      {
        "duration": 4597,
        "start_time": "2022-12-04T00:20:59.380Z"
      },
      {
        "duration": 4731,
        "start_time": "2022-12-04T00:21:19.664Z"
      },
      {
        "duration": 2131,
        "start_time": "2022-12-04T00:21:26.576Z"
      },
      {
        "duration": 5174,
        "start_time": "2022-12-04T00:21:28.966Z"
      },
      {
        "duration": 3,
        "start_time": "2022-12-04T00:21:34.142Z"
      },
      {
        "duration": 51,
        "start_time": "2022-12-04T13:28:22.882Z"
      },
      {
        "duration": 1639,
        "start_time": "2022-12-04T13:28:28.609Z"
      },
      {
        "duration": 1253,
        "start_time": "2022-12-04T13:28:30.250Z"
      },
      {
        "duration": 20,
        "start_time": "2022-12-04T13:28:31.504Z"
      },
      {
        "duration": 3,
        "start_time": "2022-12-04T13:28:31.526Z"
      },
      {
        "duration": 459,
        "start_time": "2022-12-04T13:28:31.530Z"
      },
      {
        "duration": 2,
        "start_time": "2022-12-04T13:28:31.991Z"
      },
      {
        "duration": 97,
        "start_time": "2022-12-04T13:28:32.021Z"
      },
      {
        "duration": 416,
        "start_time": "2022-12-04T13:28:32.528Z"
      },
      {
        "duration": 916,
        "start_time": "2022-12-04T13:28:33.380Z"
      },
      {
        "duration": 91,
        "start_time": "2022-12-04T13:28:34.298Z"
      },
      {
        "duration": 68,
        "start_time": "2022-12-04T13:28:36.118Z"
      },
      {
        "duration": 113,
        "start_time": "2022-12-04T13:28:39.674Z"
      },
      {
        "duration": 9,
        "start_time": "2022-12-04T13:28:40.144Z"
      },
      {
        "duration": 329,
        "start_time": "2022-12-04T13:28:40.548Z"
      },
      {
        "duration": 422,
        "start_time": "2022-12-04T13:28:40.880Z"
      },
      {
        "duration": 26,
        "start_time": "2022-12-04T13:28:41.305Z"
      },
      {
        "duration": 50,
        "start_time": "2022-12-04T13:28:41.532Z"
      },
      {
        "duration": 2,
        "start_time": "2022-12-04T13:28:44.803Z"
      },
      {
        "duration": 428,
        "start_time": "2022-12-04T13:28:47.079Z"
      },
      {
        "duration": 352,
        "start_time": "2022-12-04T13:28:47.801Z"
      },
      {
        "duration": 4,
        "start_time": "2022-12-04T13:28:51.489Z"
      },
      {
        "duration": 15082,
        "start_time": "2022-12-04T13:28:54.699Z"
      },
      {
        "duration": 3,
        "start_time": "2022-12-04T13:29:48.458Z"
      },
      {
        "duration": 85479,
        "start_time": "2022-12-04T13:29:49.479Z"
      },
      {
        "duration": 1045,
        "start_time": "2022-12-04T14:11:50.501Z"
      },
      {
        "duration": 52,
        "start_time": "2022-12-04T14:11:51.548Z"
      },
      {
        "duration": 855467,
        "start_time": "2022-12-04T14:11:58.930Z"
      },
      {
        "duration": 291604,
        "start_time": "2022-12-04T14:26:14.398Z"
      },
      {
        "duration": 16951,
        "start_time": "2022-12-04T15:06:04.408Z"
      },
      {
        "duration": 195,
        "start_time": "2022-12-04T15:06:21.361Z"
      },
      {
        "duration": 349,
        "start_time": "2022-12-04T15:06:53.928Z"
      },
      {
        "duration": 114676,
        "start_time": "2022-12-04T15:09:07.052Z"
      },
      {
        "duration": 6513,
        "start_time": "2022-12-04T15:15:12.167Z"
      },
      {
        "duration": 122,
        "start_time": "2022-12-04T15:15:25.641Z"
      },
      {
        "duration": 2591,
        "start_time": "2022-12-04T15:16:01.662Z"
      },
      {
        "duration": 125373,
        "start_time": "2022-12-04T15:16:07.989Z"
      },
      {
        "duration": 5242,
        "start_time": "2022-12-04T15:18:13.364Z"
      },
      {
        "duration": 232,
        "start_time": "2022-12-04T15:19:18.863Z"
      },
      {
        "duration": 1925,
        "start_time": "2022-12-05T15:09:40.912Z"
      },
      {
        "duration": 3128,
        "start_time": "2022-12-05T15:09:43.465Z"
      },
      {
        "duration": 23,
        "start_time": "2022-12-05T15:09:46.596Z"
      },
      {
        "duration": 4,
        "start_time": "2022-12-05T15:09:46.620Z"
      },
      {
        "duration": 483,
        "start_time": "2022-12-05T15:09:46.625Z"
      },
      {
        "duration": 2,
        "start_time": "2022-12-05T15:09:47.525Z"
      },
      {
        "duration": 97,
        "start_time": "2022-12-05T15:09:48.363Z"
      },
      {
        "duration": 542,
        "start_time": "2022-12-05T15:09:48.833Z"
      },
      {
        "duration": 1123,
        "start_time": "2022-12-05T15:09:49.377Z"
      },
      {
        "duration": 100,
        "start_time": "2022-12-05T15:09:50.502Z"
      },
      {
        "duration": 100,
        "start_time": "2022-12-05T15:09:50.604Z"
      },
      {
        "duration": 123,
        "start_time": "2022-12-05T15:09:53.215Z"
      },
      {
        "duration": 8,
        "start_time": "2022-12-05T15:09:54.225Z"
      },
      {
        "duration": 357,
        "start_time": "2022-12-05T15:09:55.215Z"
      },
      {
        "duration": 427,
        "start_time": "2022-12-05T15:09:56.322Z"
      },
      {
        "duration": 23,
        "start_time": "2022-12-05T15:09:57.823Z"
      },
      {
        "duration": 56,
        "start_time": "2022-12-05T15:09:58.177Z"
      },
      {
        "duration": 16,
        "start_time": "2022-12-05T15:11:36.025Z"
      },
      {
        "duration": 27,
        "start_time": "2022-12-05T15:11:53.315Z"
      },
      {
        "duration": 50,
        "start_time": "2022-12-06T19:47:23.399Z"
      },
      {
        "duration": 6,
        "start_time": "2022-12-06T19:47:35.514Z"
      },
      {
        "duration": 1585,
        "start_time": "2022-12-06T19:47:41.609Z"
      },
      {
        "duration": 1273,
        "start_time": "2022-12-06T19:47:43.196Z"
      },
      {
        "duration": 29,
        "start_time": "2022-12-06T19:47:44.471Z"
      },
      {
        "duration": 5,
        "start_time": "2022-12-06T19:47:44.502Z"
      },
      {
        "duration": 479,
        "start_time": "2022-12-06T19:47:44.509Z"
      },
      {
        "duration": 5,
        "start_time": "2022-12-06T19:47:44.991Z"
      },
      {
        "duration": 96,
        "start_time": "2022-12-06T19:47:46.377Z"
      },
      {
        "duration": 434,
        "start_time": "2022-12-06T19:47:49.432Z"
      },
      {
        "duration": 865,
        "start_time": "2022-12-06T19:47:50.359Z"
      },
      {
        "duration": 87,
        "start_time": "2022-12-06T19:47:51.226Z"
      },
      {
        "duration": 70,
        "start_time": "2022-12-06T19:47:51.641Z"
      },
      {
        "duration": 117,
        "start_time": "2022-12-06T19:47:52.487Z"
      },
      {
        "duration": 9,
        "start_time": "2022-12-06T19:47:53.929Z"
      },
      {
        "duration": 416,
        "start_time": "2022-12-06T19:47:54.482Z"
      },
      {
        "duration": 396,
        "start_time": "2022-12-06T19:47:54.901Z"
      },
      {
        "duration": 22,
        "start_time": "2022-12-06T19:47:55.816Z"
      },
      {
        "duration": 54,
        "start_time": "2022-12-06T19:47:56.313Z"
      },
      {
        "duration": 1184,
        "start_time": "2022-12-06T19:48:02.593Z"
      },
      {
        "duration": 4,
        "start_time": "2022-12-06T19:54:57.930Z"
      },
      {
        "duration": 25,
        "start_time": "2022-12-06T19:56:20.673Z"
      },
      {
        "duration": 96,
        "start_time": "2022-12-06T19:56:59.095Z"
      },
      {
        "duration": 5,
        "start_time": "2022-12-06T19:56:59.800Z"
      },
      {
        "duration": 359,
        "start_time": "2022-12-06T19:57:00.839Z"
      },
      {
        "duration": 335,
        "start_time": "2022-12-06T19:57:02.353Z"
      },
      {
        "duration": 27,
        "start_time": "2022-12-06T19:57:03.746Z"
      },
      {
        "duration": 57,
        "start_time": "2022-12-06T19:57:04.313Z"
      },
      {
        "duration": 27,
        "start_time": "2022-12-06T19:57:09.209Z"
      },
      {
        "duration": 3,
        "start_time": "2022-12-06T19:57:14.519Z"
      },
      {
        "duration": 489,
        "start_time": "2022-12-06T19:57:16.407Z"
      },
      {
        "duration": 353,
        "start_time": "2022-12-06T20:02:16.313Z"
      },
      {
        "duration": 12,
        "start_time": "2022-12-06T20:02:19.370Z"
      },
      {
        "duration": 11,
        "start_time": "2022-12-06T20:02:30.071Z"
      },
      {
        "duration": 14,
        "start_time": "2022-12-06T20:24:47.415Z"
      },
      {
        "duration": 2930,
        "start_time": "2022-12-06T20:25:03.648Z"
      },
      {
        "duration": 2552,
        "start_time": "2022-12-06T20:29:32.165Z"
      },
      {
        "duration": 4,
        "start_time": "2022-12-06T20:29:53.179Z"
      },
      {
        "duration": 3,
        "start_time": "2022-12-06T20:29:54.585Z"
      },
      {
        "duration": 4,
        "start_time": "2022-12-06T20:29:56.935Z"
      },
      {
        "duration": 59,
        "start_time": "2022-12-06T20:33:30.855Z"
      },
      {
        "duration": 66,
        "start_time": "2022-12-06T20:35:23.624Z"
      },
      {
        "duration": 110860,
        "start_time": "2022-12-06T20:35:35.909Z"
      },
      {
        "duration": 4,
        "start_time": "2022-12-06T20:42:45.783Z"
      },
      {
        "duration": 103977,
        "start_time": "2022-12-06T20:47:17.090Z"
      },
      {
        "duration": 67,
        "start_time": "2022-12-06T20:53:41.681Z"
      },
      {
        "duration": 153727,
        "start_time": "2022-12-06T20:54:32.140Z"
      },
      {
        "duration": 82,
        "start_time": "2022-12-06T20:59:08.564Z"
      },
      {
        "duration": 6,
        "start_time": "2022-12-06T20:59:13.289Z"
      },
      {
        "duration": 564,
        "start_time": "2022-12-06T20:59:23.117Z"
      },
      {
        "duration": 6,
        "start_time": "2022-12-06T20:59:27.326Z"
      },
      {
        "duration": 1316,
        "start_time": "2022-12-06T20:59:58.957Z"
      },
      {
        "duration": 630,
        "start_time": "2022-12-06T21:01:52.811Z"
      },
      {
        "duration": 563,
        "start_time": "2022-12-06T21:02:22.831Z"
      },
      {
        "duration": 3,
        "start_time": "2022-12-06T21:02:24.335Z"
      },
      {
        "duration": 1320,
        "start_time": "2022-12-06T21:03:40.811Z"
      },
      {
        "duration": 64,
        "start_time": "2022-12-06T21:05:44.480Z"
      },
      {
        "duration": 2251,
        "start_time": "2022-12-06T21:06:47.954Z"
      },
      {
        "duration": 3,
        "start_time": "2022-12-06T21:06:51.428Z"
      },
      {
        "duration": 6,
        "start_time": "2022-12-06T21:06:51.619Z"
      },
      {
        "duration": 3,
        "start_time": "2022-12-06T21:06:51.987Z"
      },
      {
        "duration": 231923,
        "start_time": "2022-12-06T21:07:07.935Z"
      },
      {
        "duration": 674,
        "start_time": "2022-12-06T21:10:59.861Z"
      },
      {
        "duration": 5,
        "start_time": "2022-12-06T21:22:31.100Z"
      },
      {
        "duration": 6,
        "start_time": "2022-12-06T21:22:38.022Z"
      },
      {
        "duration": 12701,
        "start_time": "2022-12-06T21:23:00.658Z"
      },
      {
        "duration": 22778,
        "start_time": "2022-12-06T21:23:30.490Z"
      },
      {
        "duration": 14538,
        "start_time": "2022-12-06T21:24:40.021Z"
      },
      {
        "duration": 7,
        "start_time": "2022-12-06T21:26:04.660Z"
      },
      {
        "duration": 137,
        "start_time": "2022-12-06T21:27:45.913Z"
      },
      {
        "duration": 63,
        "start_time": "2022-12-06T21:27:58.441Z"
      },
      {
        "duration": 130,
        "start_time": "2022-12-06T21:28:18.520Z"
      },
      {
        "duration": 59,
        "start_time": "2022-12-06T21:28:22.634Z"
      },
      {
        "duration": 1761,
        "start_time": "2022-12-08T01:58:12.129Z"
      },
      {
        "duration": 3062,
        "start_time": "2022-12-08T01:58:13.891Z"
      },
      {
        "duration": 18,
        "start_time": "2022-12-08T01:58:16.955Z"
      },
      {
        "duration": 4,
        "start_time": "2022-12-08T01:58:16.975Z"
      },
      {
        "duration": 389,
        "start_time": "2022-12-08T01:58:16.980Z"
      },
      {
        "duration": 2,
        "start_time": "2022-12-08T01:58:18.977Z"
      },
      {
        "duration": 85,
        "start_time": "2022-12-08T01:58:21.149Z"
      },
      {
        "duration": 477,
        "start_time": "2022-12-08T01:58:25.384Z"
      },
      {
        "duration": 929,
        "start_time": "2022-12-08T01:58:25.863Z"
      },
      {
        "duration": 93,
        "start_time": "2022-12-08T01:58:26.794Z"
      },
      {
        "duration": 68,
        "start_time": "2022-12-08T01:58:27.681Z"
      },
      {
        "duration": 107,
        "start_time": "2022-12-08T01:58:28.846Z"
      },
      {
        "duration": 8,
        "start_time": "2022-12-08T01:58:29.760Z"
      },
      {
        "duration": 328,
        "start_time": "2022-12-08T01:58:31.365Z"
      },
      {
        "duration": 379,
        "start_time": "2022-12-08T01:58:31.695Z"
      },
      {
        "duration": 26,
        "start_time": "2022-12-08T01:58:33.435Z"
      },
      {
        "duration": 48,
        "start_time": "2022-12-08T01:58:33.647Z"
      },
      {
        "duration": 19,
        "start_time": "2022-12-08T01:58:34.452Z"
      },
      {
        "duration": 2,
        "start_time": "2022-12-08T01:58:37.077Z"
      },
      {
        "duration": 2,
        "start_time": "2022-12-08T01:58:38.901Z"
      },
      {
        "duration": 69,
        "start_time": "2022-12-08T01:58:39.673Z"
      },
      {
        "duration": 444,
        "start_time": "2022-12-08T01:58:41.916Z"
      },
      {
        "duration": 64,
        "start_time": "2022-12-08T01:58:59.112Z"
      },
      {
        "duration": 354,
        "start_time": "2022-12-08T01:59:08.390Z"
      },
      {
        "duration": 45,
        "start_time": "2022-12-08T02:00:13.566Z"
      },
      {
        "duration": 338,
        "start_time": "2022-12-08T02:00:18.609Z"
      },
      {
        "duration": 3021,
        "start_time": "2022-12-08T02:00:32.094Z"
      },
      {
        "duration": 65,
        "start_time": "2022-12-08T02:01:06.190Z"
      },
      {
        "duration": 4,
        "start_time": "2022-12-08T02:01:08.281Z"
      },
      {
        "duration": 408,
        "start_time": "2022-12-08T02:01:16.064Z"
      },
      {
        "duration": 13,
        "start_time": "2022-12-08T02:01:30.281Z"
      },
      {
        "duration": 10,
        "start_time": "2022-12-08T02:01:35.199Z"
      },
      {
        "duration": 14,
        "start_time": "2022-12-08T02:01:53.261Z"
      },
      {
        "duration": 1606,
        "start_time": "2022-12-08T19:01:51.242Z"
      },
      {
        "duration": 1298,
        "start_time": "2022-12-08T19:01:52.851Z"
      },
      {
        "duration": 20,
        "start_time": "2022-12-08T19:01:54.151Z"
      },
      {
        "duration": 3,
        "start_time": "2022-12-08T19:01:54.173Z"
      },
      {
        "duration": 523,
        "start_time": "2022-12-08T19:01:54.178Z"
      },
      {
        "duration": 2,
        "start_time": "2022-12-08T19:01:54.703Z"
      },
      {
        "duration": 117,
        "start_time": "2022-12-08T19:01:54.715Z"
      },
      {
        "duration": 546,
        "start_time": "2022-12-08T19:01:54.835Z"
      },
      {
        "duration": 1165,
        "start_time": "2022-12-08T19:01:55.383Z"
      },
      {
        "duration": 103,
        "start_time": "2022-12-08T19:01:56.550Z"
      },
      {
        "duration": 82,
        "start_time": "2022-12-08T19:01:56.678Z"
      },
      {
        "duration": 133,
        "start_time": "2022-12-08T19:01:57.445Z"
      },
      {
        "duration": 9,
        "start_time": "2022-12-08T19:01:57.989Z"
      },
      {
        "duration": 341,
        "start_time": "2022-12-08T19:01:58.448Z"
      },
      {
        "duration": 426,
        "start_time": "2022-12-08T19:01:58.825Z"
      },
      {
        "duration": 28,
        "start_time": "2022-12-08T19:01:59.506Z"
      },
      {
        "duration": 50,
        "start_time": "2022-12-08T19:01:59.668Z"
      },
      {
        "duration": 25,
        "start_time": "2022-12-08T19:02:00.755Z"
      },
      {
        "duration": 3,
        "start_time": "2022-12-08T19:02:02.047Z"
      },
      {
        "duration": 3,
        "start_time": "2022-12-08T19:02:02.865Z"
      },
      {
        "duration": 73,
        "start_time": "2022-12-08T19:02:03.694Z"
      },
      {
        "duration": 3378,
        "start_time": "2022-12-08T19:02:06.179Z"
      },
      {
        "duration": 2,
        "start_time": "2022-12-08T19:02:09.559Z"
      },
      {
        "duration": 8,
        "start_time": "2022-12-08T19:02:09.563Z"
      },
      {
        "duration": 8,
        "start_time": "2022-12-08T19:02:09.573Z"
      },
      {
        "duration": 3,
        "start_time": "2022-12-08T19:02:18.948Z"
      },
      {
        "duration": 76,
        "start_time": "2022-12-08T19:02:21.094Z"
      },
      {
        "duration": 3,
        "start_time": "2022-12-08T19:02:24.197Z"
      },
      {
        "duration": 676,
        "start_time": "2022-12-08T19:02:28.507Z"
      },
      {
        "duration": 3,
        "start_time": "2022-12-08T19:02:29.995Z"
      },
      {
        "duration": 5498,
        "start_time": "2022-12-08T19:02:31.290Z"
      },
      {
        "duration": 12,
        "start_time": "2022-12-08T19:02:43.874Z"
      },
      {
        "duration": 5,
        "start_time": "2022-12-08T19:02:47.806Z"
      },
      {
        "duration": 125,
        "start_time": "2022-12-08T19:02:53.656Z"
      },
      {
        "duration": 888335,
        "start_time": "2022-12-08T19:03:11.613Z"
      },
      {
        "duration": 2630,
        "start_time": "2022-12-08T19:17:59.950Z"
      },
      {
        "duration": 4,
        "start_time": "2022-12-08T19:18:02.582Z"
      },
      {
        "duration": 47,
        "start_time": "2022-12-08T19:18:02.588Z"
      },
      {
        "duration": 4,
        "start_time": "2022-12-08T20:28:25.163Z"
      },
      {
        "duration": 984,
        "start_time": "2022-12-08T20:28:25.169Z"
      },
      {
        "duration": 16,
        "start_time": "2022-12-08T20:28:26.154Z"
      },
      {
        "duration": 9,
        "start_time": "2022-12-08T20:28:26.172Z"
      },
      {
        "duration": 537,
        "start_time": "2022-12-08T20:28:26.183Z"
      },
      {
        "duration": 15,
        "start_time": "2022-12-08T20:28:26.722Z"
      },
      {
        "duration": 116,
        "start_time": "2022-12-08T20:28:26.739Z"
      },
      {
        "duration": 397,
        "start_time": "2022-12-08T20:28:26.857Z"
      },
      {
        "duration": 879,
        "start_time": "2022-12-08T20:28:27.256Z"
      },
      {
        "duration": 111,
        "start_time": "2022-12-08T20:28:28.138Z"
      },
      {
        "duration": 80,
        "start_time": "2022-12-08T20:28:28.250Z"
      },
      {
        "duration": 126,
        "start_time": "2022-12-08T20:28:28.335Z"
      },
      {
        "duration": 7,
        "start_time": "2022-12-08T20:28:28.462Z"
      },
      {
        "duration": 349,
        "start_time": "2022-12-08T20:28:28.472Z"
      },
      {
        "duration": 302,
        "start_time": "2022-12-08T20:28:28.822Z"
      },
      {
        "duration": 22,
        "start_time": "2022-12-08T20:28:29.126Z"
      },
      {
        "duration": 67,
        "start_time": "2022-12-08T20:28:29.150Z"
      },
      {
        "duration": 39,
        "start_time": "2022-12-08T20:28:29.227Z"
      },
      {
        "duration": 11,
        "start_time": "2022-12-08T20:28:29.268Z"
      },
      {
        "duration": 5,
        "start_time": "2022-12-08T20:28:29.280Z"
      },
      {
        "duration": 64,
        "start_time": "2022-12-08T20:28:29.286Z"
      },
      {
        "duration": 2924,
        "start_time": "2022-12-08T20:28:29.352Z"
      },
      {
        "duration": 2,
        "start_time": "2022-12-08T20:28:32.278Z"
      },
      {
        "duration": 14,
        "start_time": "2022-12-08T20:28:32.282Z"
      },
      {
        "duration": 7,
        "start_time": "2022-12-08T20:28:32.298Z"
      },
      {
        "duration": 176512,
        "start_time": "2022-12-08T20:28:32.307Z"
      },
      {
        "duration": 3,
        "start_time": "2022-12-08T20:31:28.825Z"
      },
      {
        "duration": 137,
        "start_time": "2022-12-08T20:31:28.835Z"
      },
      {
        "duration": 5,
        "start_time": "2022-12-08T20:31:28.973Z"
      },
      {
        "duration": 46,
        "start_time": "2022-12-08T20:31:28.979Z"
      },
      {
        "duration": 0,
        "start_time": "2022-12-08T20:31:29.027Z"
      },
      {
        "duration": 0,
        "start_time": "2022-12-08T20:31:29.028Z"
      },
      {
        "duration": 0,
        "start_time": "2022-12-08T20:31:29.029Z"
      },
      {
        "duration": 0,
        "start_time": "2022-12-08T20:31:29.030Z"
      },
      {
        "duration": 0,
        "start_time": "2022-12-08T20:31:29.031Z"
      },
      {
        "duration": 0,
        "start_time": "2022-12-08T20:31:29.032Z"
      },
      {
        "duration": 0,
        "start_time": "2022-12-08T20:31:29.033Z"
      },
      {
        "duration": 0,
        "start_time": "2022-12-08T20:31:29.035Z"
      },
      {
        "duration": 0,
        "start_time": "2022-12-08T20:31:29.036Z"
      },
      {
        "duration": 0,
        "start_time": "2022-12-08T20:31:29.038Z"
      },
      {
        "duration": 0,
        "start_time": "2022-12-08T20:31:29.039Z"
      },
      {
        "duration": 0,
        "start_time": "2022-12-08T20:31:29.041Z"
      },
      {
        "duration": 0,
        "start_time": "2022-12-08T20:31:29.042Z"
      },
      {
        "duration": 0,
        "start_time": "2022-12-08T20:31:29.043Z"
      },
      {
        "duration": 0,
        "start_time": "2022-12-08T20:31:29.044Z"
      },
      {
        "duration": 0,
        "start_time": "2022-12-08T20:31:29.045Z"
      },
      {
        "duration": 0,
        "start_time": "2022-12-08T20:31:29.046Z"
      },
      {
        "duration": 1,
        "start_time": "2022-12-08T20:31:29.047Z"
      },
      {
        "duration": 0,
        "start_time": "2022-12-08T20:31:29.048Z"
      },
      {
        "duration": 0,
        "start_time": "2022-12-08T20:31:29.049Z"
      },
      {
        "duration": 829,
        "start_time": "2022-12-08T20:33:05.807Z"
      },
      {
        "duration": 2,
        "start_time": "2022-12-08T20:33:06.639Z"
      },
      {
        "duration": 5291,
        "start_time": "2022-12-08T20:33:07.296Z"
      },
      {
        "duration": 33,
        "start_time": "2022-12-08T20:33:12.590Z"
      },
      {
        "duration": 12,
        "start_time": "2022-12-08T20:33:12.624Z"
      },
      {
        "duration": 828377,
        "start_time": "2022-12-08T20:33:15.253Z"
      },
      {
        "duration": 2292,
        "start_time": "2022-12-08T20:48:06.996Z"
      },
      {
        "duration": 3,
        "start_time": "2022-12-08T20:48:14.878Z"
      },
      {
        "duration": 4,
        "start_time": "2022-12-08T20:48:15.455Z"
      },
      {
        "duration": 730702,
        "start_time": "2022-12-08T20:48:16.136Z"
      },
      {
        "duration": 19989,
        "start_time": "2022-12-08T23:06:29.328Z"
      },
      {
        "duration": 6,
        "start_time": "2022-12-08T23:08:00.141Z"
      },
      {
        "duration": 307,
        "start_time": "2022-12-08T23:08:02.900Z"
      },
      {
        "duration": 28,
        "start_time": "2022-12-08T23:08:06.191Z"
      },
      {
        "duration": 103054,
        "start_time": "2022-12-08T23:08:20.398Z"
      },
      {
        "duration": 6039,
        "start_time": "2022-12-08T23:10:03.454Z"
      },
      {
        "duration": 396,
        "start_time": "2022-12-08T23:10:09.495Z"
      },
      {
        "duration": 27,
        "start_time": "2022-12-08T23:11:43.388Z"
      },
      {
        "duration": 46409343,
        "start_time": "2022-12-08T23:22:06.283Z"
      },
      {
        "duration": 18604,
        "start_time": "2022-12-09T21:21:22.321Z"
      },
      {
        "duration": 98,
        "start_time": "2022-12-09T21:21:41.017Z"
      },
      {
        "duration": 380,
        "start_time": "2022-12-09T21:24:29.474Z"
      },
      {
        "duration": 29,
        "start_time": "2022-12-09T21:24:36.709Z"
      },
      {
        "duration": 104051,
        "start_time": "2022-12-09T21:26:12.413Z"
      },
      {
        "duration": 5994,
        "start_time": "2022-12-09T21:27:56.466Z"
      },
      {
        "duration": 43164,
        "start_time": "2022-12-09T21:28:02.463Z"
      },
      {
        "duration": 20112,
        "start_time": "2022-12-09T21:28:45.629Z"
      },
      {
        "duration": 6773,
        "start_time": "2022-12-09T21:29:05.743Z"
      },
      {
        "duration": 167,
        "start_time": "2022-12-09T21:31:10.350Z"
      },
      {
        "duration": 10,
        "start_time": "2022-12-09T21:36:30.069Z"
      },
      {
        "duration": 9,
        "start_time": "2022-12-09T21:44:25.623Z"
      },
      {
        "duration": 6698,
        "start_time": "2022-12-09T21:47:16.440Z"
      },
      {
        "duration": 6733,
        "start_time": "2022-12-09T21:48:31.221Z"
      },
      {
        "duration": 8,
        "start_time": "2022-12-09T21:49:17.471Z"
      },
      {
        "duration": 45,
        "start_time": "2023-02-25T17:15:15.775Z"
      },
      {
        "duration": 1407,
        "start_time": "2023-02-25T17:15:19.118Z"
      },
      {
        "duration": 3370,
        "start_time": "2023-02-25T17:15:20.527Z"
      },
      {
        "duration": 18,
        "start_time": "2023-02-25T17:15:23.898Z"
      },
      {
        "duration": 3,
        "start_time": "2023-02-25T17:15:23.918Z"
      },
      {
        "duration": 601,
        "start_time": "2023-02-25T17:15:23.922Z"
      },
      {
        "duration": 2,
        "start_time": "2023-02-25T17:15:24.524Z"
      },
      {
        "duration": 215,
        "start_time": "2023-02-25T17:15:24.528Z"
      },
      {
        "duration": 364,
        "start_time": "2023-02-25T17:15:24.745Z"
      },
      {
        "duration": 844,
        "start_time": "2023-02-25T17:15:25.111Z"
      },
      {
        "duration": 61,
        "start_time": "2023-02-25T17:15:25.957Z"
      },
      {
        "duration": 65,
        "start_time": "2023-02-25T17:15:26.019Z"
      },
      {
        "duration": 111,
        "start_time": "2023-02-25T17:15:26.092Z"
      },
      {
        "duration": 4,
        "start_time": "2023-02-25T17:15:26.205Z"
      },
      {
        "duration": 468,
        "start_time": "2023-02-25T17:15:26.211Z"
      },
      {
        "duration": 289,
        "start_time": "2023-02-25T17:15:26.681Z"
      },
      {
        "duration": 30,
        "start_time": "2023-02-25T17:15:26.972Z"
      },
      {
        "duration": 46,
        "start_time": "2023-02-25T17:15:27.004Z"
      },
      {
        "duration": 24,
        "start_time": "2023-02-25T17:15:27.051Z"
      },
      {
        "duration": 2,
        "start_time": "2023-02-25T17:15:27.091Z"
      },
      {
        "duration": 22,
        "start_time": "2023-02-25T17:15:27.094Z"
      },
      {
        "duration": 62,
        "start_time": "2023-02-25T17:15:27.118Z"
      },
      {
        "duration": 2270,
        "start_time": "2023-02-25T17:15:27.182Z"
      },
      {
        "duration": 2,
        "start_time": "2023-02-25T17:15:29.454Z"
      },
      {
        "duration": 5,
        "start_time": "2023-02-25T17:15:29.458Z"
      },
      {
        "duration": 4,
        "start_time": "2023-02-25T17:15:29.464Z"
      },
      {
        "duration": 69781,
        "start_time": "2023-02-25T17:15:29.470Z"
      },
      {
        "duration": 5,
        "start_time": "2023-02-25T17:16:39.253Z"
      },
      {
        "duration": 66,
        "start_time": "2023-02-25T17:16:39.260Z"
      },
      {
        "duration": 3,
        "start_time": "2023-02-25T17:16:39.328Z"
      },
      {
        "duration": 59,
        "start_time": "2023-02-25T17:16:39.333Z"
      },
      {
        "duration": 0,
        "start_time": "2023-02-25T17:16:39.394Z"
      },
      {
        "duration": 46,
        "start_time": "2023-02-27T20:44:34.035Z"
      },
      {
        "duration": 5,
        "start_time": "2023-02-27T20:44:38.811Z"
      },
      {
        "duration": 15,
        "start_time": "2023-02-27T20:44:44.697Z"
      },
      {
        "duration": 9,
        "start_time": "2023-02-27T20:45:18.308Z"
      },
      {
        "duration": 19,
        "start_time": "2023-02-27T20:45:25.252Z"
      },
      {
        "duration": 9,
        "start_time": "2023-02-27T20:45:31.697Z"
      },
      {
        "duration": 4,
        "start_time": "2023-02-27T20:45:34.337Z"
      },
      {
        "duration": 21,
        "start_time": "2023-02-27T20:45:54.482Z"
      }
    ],
    "toc": {
      "base_numbering": 1,
      "nav_menu": {},
      "number_sections": true,
      "sideBar": true,
      "skip_h1_title": true,
      "title_cell": "Table of Contents",
      "title_sidebar": "Contents",
      "toc_cell": false,
      "toc_position": {},
      "toc_section_display": true,
      "toc_window_display": false
    },
    "kernelspec": {
      "name": "python",
      "display_name": "Python (Pyodide)",
      "language": "python"
    },
    "language_info": {
      "codemirror_mode": {
        "name": "ipython",
        "version": 3
      },
      "file_extension": ".py",
      "mimetype": "text/x-python",
      "name": "python",
      "nbconvert_exporter": "python",
      "pygments_lexer": "ipython3",
      "version": "3.9.5"
    }
  },
  "nbformat_minor": 4,
  "nbformat": 4,
  "cells": [
    {
      "cell_type": "markdown",
      "source": "# Определение стоимости автомобилей",
      "metadata": {}
    },
    {
      "cell_type": "markdown",
      "source": "Сервис по продаже автомобилей с пробегом «Не бит, не крашен» разрабатывает приложение для привлечения новых клиентов. В нём можно быстро узнать рыночную стоимость своего автомобиля. Требуется построить модель для определения стоимости. \n\nЗаказчику важны:\n\n- качество предсказания;\n- скорость предсказания;\n- время обучения.",
      "metadata": {}
    },
    {
      "cell_type": "markdown",
      "source": "## Подготовка данных",
      "metadata": {}
    },
    {
      "cell_type": "code",
      "source": "import pandas as pd\nimport numpy as np\nfrom matplotlib import pyplot as plt\nimport seaborn as sns\nfrom sklearn.linear_model import LinearRegression\nfrom sklearn.ensemble import RandomForestRegressor\nfrom sklearn.dummy import DummyRegressor\nfrom sklearn.model_selection import train_test_split\nfrom sklearn.preprocessing import StandardScaler\nfrom sklearn.metrics import mean_squared_error\nfrom sklearn.preprocessing import OrdinalEncoder\nfrom sklearn.tree import DecisionTreeRegressor\nfrom sklearn.ensemble import RandomForestRegressor\nimport lightgbm as lgb\nfrom sklearn.model_selection import cross_val_score, GridSearchCV , train_test_split \nfrom sklearn.metrics import make_scorer, mean_squared_error",
      "metadata": {},
      "execution_count": 2,
      "outputs": []
    },
    {
      "cell_type": "code",
      "source": "df_auto = pd.read_csv('/datasets/autos.csv')\n\ndf_auto.info()",
      "metadata": {},
      "execution_count": 3,
      "outputs": [
        {
          "name": "stdout",
          "output_type": "stream",
          "text": "<class 'pandas.core.frame.DataFrame'>\n\nRangeIndex: 354369 entries, 0 to 354368\n\nData columns (total 16 columns):\n\n #   Column             Non-Null Count   Dtype \n\n---  ------             --------------   ----- \n\n 0   DateCrawled        354369 non-null  object\n\n 1   Price              354369 non-null  int64 \n\n 2   VehicleType        316879 non-null  object\n\n 3   RegistrationYear   354369 non-null  int64 \n\n 4   Gearbox            334536 non-null  object\n\n 5   Power              354369 non-null  int64 \n\n 6   Model              334664 non-null  object\n\n 7   Kilometer          354369 non-null  int64 \n\n 8   RegistrationMonth  354369 non-null  int64 \n\n 9   FuelType           321474 non-null  object\n\n 10  Brand              354369 non-null  object\n\n 11  Repaired           283215 non-null  object\n\n 12  DateCreated        354369 non-null  object\n\n 13  NumberOfPictures   354369 non-null  int64 \n\n 14  PostalCode         354369 non-null  int64 \n\n 15  LastSeen           354369 non-null  object\n\ndtypes: int64(7), object(9)\n\nmemory usage: 43.3+ MB\n"
        }
      ]
    },
    {
      "cell_type": "code",
      "source": "df_auto.head(20)",
      "metadata": {},
      "execution_count": 4,
      "outputs": [
        {
          "execution_count": 4,
          "output_type": "execute_result",
          "data": {
            "text/html": [
              "<div>\n",
              "<style scoped>\n",
              "    .dataframe tbody tr th:only-of-type {\n",
              "        vertical-align: middle;\n",
              "    }\n",
              "\n",
              "    .dataframe tbody tr th {\n",
              "        vertical-align: top;\n",
              "    }\n",
              "\n",
              "    .dataframe thead th {\n",
              "        text-align: right;\n",
              "    }\n",
              "</style>\n",
              "<table border=\"1\" class=\"dataframe\">\n",
              "  <thead>\n",
              "    <tr style=\"text-align: right;\">\n",
              "      <th></th>\n",
              "      <th>DateCrawled</th>\n",
              "      <th>Price</th>\n",
              "      <th>VehicleType</th>\n",
              "      <th>RegistrationYear</th>\n",
              "      <th>Gearbox</th>\n",
              "      <th>Power</th>\n",
              "      <th>Model</th>\n",
              "      <th>Kilometer</th>\n",
              "      <th>RegistrationMonth</th>\n",
              "      <th>FuelType</th>\n",
              "      <th>Brand</th>\n",
              "      <th>Repaired</th>\n",
              "      <th>DateCreated</th>\n",
              "      <th>NumberOfPictures</th>\n",
              "      <th>PostalCode</th>\n",
              "      <th>LastSeen</th>\n",
              "    </tr>\n",
              "  </thead>\n",
              "  <tbody>\n",
              "    <tr>\n",
              "      <th>0</th>\n",
              "      <td>2016-03-24 11:52:17</td>\n",
              "      <td>480</td>\n",
              "      <td>NaN</td>\n",
              "      <td>1993</td>\n",
              "      <td>manual</td>\n",
              "      <td>0</td>\n",
              "      <td>golf</td>\n",
              "      <td>150000</td>\n",
              "      <td>0</td>\n",
              "      <td>petrol</td>\n",
              "      <td>volkswagen</td>\n",
              "      <td>NaN</td>\n",
              "      <td>2016-03-24 00:00:00</td>\n",
              "      <td>0</td>\n",
              "      <td>70435</td>\n",
              "      <td>2016-04-07 03:16:57</td>\n",
              "    </tr>\n",
              "    <tr>\n",
              "      <th>1</th>\n",
              "      <td>2016-03-24 10:58:45</td>\n",
              "      <td>18300</td>\n",
              "      <td>coupe</td>\n",
              "      <td>2011</td>\n",
              "      <td>manual</td>\n",
              "      <td>190</td>\n",
              "      <td>NaN</td>\n",
              "      <td>125000</td>\n",
              "      <td>5</td>\n",
              "      <td>gasoline</td>\n",
              "      <td>audi</td>\n",
              "      <td>yes</td>\n",
              "      <td>2016-03-24 00:00:00</td>\n",
              "      <td>0</td>\n",
              "      <td>66954</td>\n",
              "      <td>2016-04-07 01:46:50</td>\n",
              "    </tr>\n",
              "    <tr>\n",
              "      <th>2</th>\n",
              "      <td>2016-03-14 12:52:21</td>\n",
              "      <td>9800</td>\n",
              "      <td>suv</td>\n",
              "      <td>2004</td>\n",
              "      <td>auto</td>\n",
              "      <td>163</td>\n",
              "      <td>grand</td>\n",
              "      <td>125000</td>\n",
              "      <td>8</td>\n",
              "      <td>gasoline</td>\n",
              "      <td>jeep</td>\n",
              "      <td>NaN</td>\n",
              "      <td>2016-03-14 00:00:00</td>\n",
              "      <td>0</td>\n",
              "      <td>90480</td>\n",
              "      <td>2016-04-05 12:47:46</td>\n",
              "    </tr>\n",
              "    <tr>\n",
              "      <th>3</th>\n",
              "      <td>2016-03-17 16:54:04</td>\n",
              "      <td>1500</td>\n",
              "      <td>small</td>\n",
              "      <td>2001</td>\n",
              "      <td>manual</td>\n",
              "      <td>75</td>\n",
              "      <td>golf</td>\n",
              "      <td>150000</td>\n",
              "      <td>6</td>\n",
              "      <td>petrol</td>\n",
              "      <td>volkswagen</td>\n",
              "      <td>no</td>\n",
              "      <td>2016-03-17 00:00:00</td>\n",
              "      <td>0</td>\n",
              "      <td>91074</td>\n",
              "      <td>2016-03-17 17:40:17</td>\n",
              "    </tr>\n",
              "    <tr>\n",
              "      <th>4</th>\n",
              "      <td>2016-03-31 17:25:20</td>\n",
              "      <td>3600</td>\n",
              "      <td>small</td>\n",
              "      <td>2008</td>\n",
              "      <td>manual</td>\n",
              "      <td>69</td>\n",
              "      <td>fabia</td>\n",
              "      <td>90000</td>\n",
              "      <td>7</td>\n",
              "      <td>gasoline</td>\n",
              "      <td>skoda</td>\n",
              "      <td>no</td>\n",
              "      <td>2016-03-31 00:00:00</td>\n",
              "      <td>0</td>\n",
              "      <td>60437</td>\n",
              "      <td>2016-04-06 10:17:21</td>\n",
              "    </tr>\n",
              "    <tr>\n",
              "      <th>5</th>\n",
              "      <td>2016-04-04 17:36:23</td>\n",
              "      <td>650</td>\n",
              "      <td>sedan</td>\n",
              "      <td>1995</td>\n",
              "      <td>manual</td>\n",
              "      <td>102</td>\n",
              "      <td>3er</td>\n",
              "      <td>150000</td>\n",
              "      <td>10</td>\n",
              "      <td>petrol</td>\n",
              "      <td>bmw</td>\n",
              "      <td>yes</td>\n",
              "      <td>2016-04-04 00:00:00</td>\n",
              "      <td>0</td>\n",
              "      <td>33775</td>\n",
              "      <td>2016-04-06 19:17:07</td>\n",
              "    </tr>\n",
              "    <tr>\n",
              "      <th>6</th>\n",
              "      <td>2016-04-01 20:48:51</td>\n",
              "      <td>2200</td>\n",
              "      <td>convertible</td>\n",
              "      <td>2004</td>\n",
              "      <td>manual</td>\n",
              "      <td>109</td>\n",
              "      <td>2_reihe</td>\n",
              "      <td>150000</td>\n",
              "      <td>8</td>\n",
              "      <td>petrol</td>\n",
              "      <td>peugeot</td>\n",
              "      <td>no</td>\n",
              "      <td>2016-04-01 00:00:00</td>\n",
              "      <td>0</td>\n",
              "      <td>67112</td>\n",
              "      <td>2016-04-05 18:18:39</td>\n",
              "    </tr>\n",
              "    <tr>\n",
              "      <th>7</th>\n",
              "      <td>2016-03-21 18:54:38</td>\n",
              "      <td>0</td>\n",
              "      <td>sedan</td>\n",
              "      <td>1980</td>\n",
              "      <td>manual</td>\n",
              "      <td>50</td>\n",
              "      <td>other</td>\n",
              "      <td>40000</td>\n",
              "      <td>7</td>\n",
              "      <td>petrol</td>\n",
              "      <td>volkswagen</td>\n",
              "      <td>no</td>\n",
              "      <td>2016-03-21 00:00:00</td>\n",
              "      <td>0</td>\n",
              "      <td>19348</td>\n",
              "      <td>2016-03-25 16:47:58</td>\n",
              "    </tr>\n",
              "    <tr>\n",
              "      <th>8</th>\n",
              "      <td>2016-04-04 23:42:13</td>\n",
              "      <td>14500</td>\n",
              "      <td>bus</td>\n",
              "      <td>2014</td>\n",
              "      <td>manual</td>\n",
              "      <td>125</td>\n",
              "      <td>c_max</td>\n",
              "      <td>30000</td>\n",
              "      <td>8</td>\n",
              "      <td>petrol</td>\n",
              "      <td>ford</td>\n",
              "      <td>NaN</td>\n",
              "      <td>2016-04-04 00:00:00</td>\n",
              "      <td>0</td>\n",
              "      <td>94505</td>\n",
              "      <td>2016-04-04 23:42:13</td>\n",
              "    </tr>\n",
              "    <tr>\n",
              "      <th>9</th>\n",
              "      <td>2016-03-17 10:53:50</td>\n",
              "      <td>999</td>\n",
              "      <td>small</td>\n",
              "      <td>1998</td>\n",
              "      <td>manual</td>\n",
              "      <td>101</td>\n",
              "      <td>golf</td>\n",
              "      <td>150000</td>\n",
              "      <td>0</td>\n",
              "      <td>NaN</td>\n",
              "      <td>volkswagen</td>\n",
              "      <td>NaN</td>\n",
              "      <td>2016-03-17 00:00:00</td>\n",
              "      <td>0</td>\n",
              "      <td>27472</td>\n",
              "      <td>2016-03-31 17:17:06</td>\n",
              "    </tr>\n",
              "    <tr>\n",
              "      <th>10</th>\n",
              "      <td>2016-03-26 19:54:18</td>\n",
              "      <td>2000</td>\n",
              "      <td>sedan</td>\n",
              "      <td>2004</td>\n",
              "      <td>manual</td>\n",
              "      <td>105</td>\n",
              "      <td>3_reihe</td>\n",
              "      <td>150000</td>\n",
              "      <td>12</td>\n",
              "      <td>petrol</td>\n",
              "      <td>mazda</td>\n",
              "      <td>no</td>\n",
              "      <td>2016-03-26 00:00:00</td>\n",
              "      <td>0</td>\n",
              "      <td>96224</td>\n",
              "      <td>2016-04-06 10:45:34</td>\n",
              "    </tr>\n",
              "    <tr>\n",
              "      <th>11</th>\n",
              "      <td>2016-04-07 10:06:22</td>\n",
              "      <td>2799</td>\n",
              "      <td>wagon</td>\n",
              "      <td>2005</td>\n",
              "      <td>manual</td>\n",
              "      <td>140</td>\n",
              "      <td>passat</td>\n",
              "      <td>150000</td>\n",
              "      <td>12</td>\n",
              "      <td>gasoline</td>\n",
              "      <td>volkswagen</td>\n",
              "      <td>yes</td>\n",
              "      <td>2016-04-07 00:00:00</td>\n",
              "      <td>0</td>\n",
              "      <td>57290</td>\n",
              "      <td>2016-04-07 10:25:17</td>\n",
              "    </tr>\n",
              "    <tr>\n",
              "      <th>12</th>\n",
              "      <td>2016-03-15 22:49:09</td>\n",
              "      <td>999</td>\n",
              "      <td>wagon</td>\n",
              "      <td>1995</td>\n",
              "      <td>manual</td>\n",
              "      <td>115</td>\n",
              "      <td>passat</td>\n",
              "      <td>150000</td>\n",
              "      <td>11</td>\n",
              "      <td>petrol</td>\n",
              "      <td>volkswagen</td>\n",
              "      <td>NaN</td>\n",
              "      <td>2016-03-15 00:00:00</td>\n",
              "      <td>0</td>\n",
              "      <td>37269</td>\n",
              "      <td>2016-04-01 13:16:16</td>\n",
              "    </tr>\n",
              "    <tr>\n",
              "      <th>13</th>\n",
              "      <td>2016-03-21 21:37:40</td>\n",
              "      <td>2500</td>\n",
              "      <td>wagon</td>\n",
              "      <td>2004</td>\n",
              "      <td>manual</td>\n",
              "      <td>131</td>\n",
              "      <td>passat</td>\n",
              "      <td>150000</td>\n",
              "      <td>2</td>\n",
              "      <td>NaN</td>\n",
              "      <td>volkswagen</td>\n",
              "      <td>no</td>\n",
              "      <td>2016-03-21 00:00:00</td>\n",
              "      <td>0</td>\n",
              "      <td>90762</td>\n",
              "      <td>2016-03-23 02:50:54</td>\n",
              "    </tr>\n",
              "    <tr>\n",
              "      <th>14</th>\n",
              "      <td>2016-03-21 12:57:01</td>\n",
              "      <td>17999</td>\n",
              "      <td>suv</td>\n",
              "      <td>2011</td>\n",
              "      <td>manual</td>\n",
              "      <td>190</td>\n",
              "      <td>navara</td>\n",
              "      <td>70000</td>\n",
              "      <td>3</td>\n",
              "      <td>gasoline</td>\n",
              "      <td>nissan</td>\n",
              "      <td>no</td>\n",
              "      <td>2016-03-21 00:00:00</td>\n",
              "      <td>0</td>\n",
              "      <td>4177</td>\n",
              "      <td>2016-04-06 07:45:42</td>\n",
              "    </tr>\n",
              "    <tr>\n",
              "      <th>15</th>\n",
              "      <td>2016-03-11 21:39:15</td>\n",
              "      <td>450</td>\n",
              "      <td>small</td>\n",
              "      <td>1910</td>\n",
              "      <td>NaN</td>\n",
              "      <td>0</td>\n",
              "      <td>ka</td>\n",
              "      <td>5000</td>\n",
              "      <td>0</td>\n",
              "      <td>petrol</td>\n",
              "      <td>ford</td>\n",
              "      <td>NaN</td>\n",
              "      <td>2016-03-11 00:00:00</td>\n",
              "      <td>0</td>\n",
              "      <td>24148</td>\n",
              "      <td>2016-03-19 08:46:47</td>\n",
              "    </tr>\n",
              "    <tr>\n",
              "      <th>16</th>\n",
              "      <td>2016-04-01 12:46:46</td>\n",
              "      <td>300</td>\n",
              "      <td>NaN</td>\n",
              "      <td>2016</td>\n",
              "      <td>NaN</td>\n",
              "      <td>60</td>\n",
              "      <td>polo</td>\n",
              "      <td>150000</td>\n",
              "      <td>0</td>\n",
              "      <td>petrol</td>\n",
              "      <td>volkswagen</td>\n",
              "      <td>NaN</td>\n",
              "      <td>2016-04-01 00:00:00</td>\n",
              "      <td>0</td>\n",
              "      <td>38871</td>\n",
              "      <td>2016-04-01 12:46:46</td>\n",
              "    </tr>\n",
              "    <tr>\n",
              "      <th>17</th>\n",
              "      <td>2016-03-20 10:25:19</td>\n",
              "      <td>1750</td>\n",
              "      <td>small</td>\n",
              "      <td>2004</td>\n",
              "      <td>auto</td>\n",
              "      <td>75</td>\n",
              "      <td>twingo</td>\n",
              "      <td>150000</td>\n",
              "      <td>2</td>\n",
              "      <td>petrol</td>\n",
              "      <td>renault</td>\n",
              "      <td>no</td>\n",
              "      <td>2016-03-20 00:00:00</td>\n",
              "      <td>0</td>\n",
              "      <td>65599</td>\n",
              "      <td>2016-04-06 13:16:07</td>\n",
              "    </tr>\n",
              "    <tr>\n",
              "      <th>18</th>\n",
              "      <td>2016-03-23 15:48:05</td>\n",
              "      <td>7550</td>\n",
              "      <td>bus</td>\n",
              "      <td>2007</td>\n",
              "      <td>manual</td>\n",
              "      <td>136</td>\n",
              "      <td>c_max</td>\n",
              "      <td>150000</td>\n",
              "      <td>6</td>\n",
              "      <td>gasoline</td>\n",
              "      <td>ford</td>\n",
              "      <td>no</td>\n",
              "      <td>2016-03-23 00:00:00</td>\n",
              "      <td>0</td>\n",
              "      <td>88361</td>\n",
              "      <td>2016-04-05 18:45:11</td>\n",
              "    </tr>\n",
              "    <tr>\n",
              "      <th>19</th>\n",
              "      <td>2016-04-01 22:55:47</td>\n",
              "      <td>1850</td>\n",
              "      <td>bus</td>\n",
              "      <td>2004</td>\n",
              "      <td>manual</td>\n",
              "      <td>102</td>\n",
              "      <td>a_klasse</td>\n",
              "      <td>150000</td>\n",
              "      <td>1</td>\n",
              "      <td>petrol</td>\n",
              "      <td>mercedes_benz</td>\n",
              "      <td>no</td>\n",
              "      <td>2016-04-01 00:00:00</td>\n",
              "      <td>0</td>\n",
              "      <td>49565</td>\n",
              "      <td>2016-04-05 22:46:05</td>\n",
              "    </tr>\n",
              "  </tbody>\n",
              "</table>\n",
              "</div>"
            ],
            "text/plain": [
              "            DateCrawled  Price  VehicleType  RegistrationYear Gearbox  Power  \\\n",
              "0   2016-03-24 11:52:17    480          NaN              1993  manual      0   \n",
              "1   2016-03-24 10:58:45  18300        coupe              2011  manual    190   \n",
              "2   2016-03-14 12:52:21   9800          suv              2004    auto    163   \n",
              "3   2016-03-17 16:54:04   1500        small              2001  manual     75   \n",
              "4   2016-03-31 17:25:20   3600        small              2008  manual     69   \n",
              "5   2016-04-04 17:36:23    650        sedan              1995  manual    102   \n",
              "6   2016-04-01 20:48:51   2200  convertible              2004  manual    109   \n",
              "7   2016-03-21 18:54:38      0        sedan              1980  manual     50   \n",
              "8   2016-04-04 23:42:13  14500          bus              2014  manual    125   \n",
              "9   2016-03-17 10:53:50    999        small              1998  manual    101   \n",
              "10  2016-03-26 19:54:18   2000        sedan              2004  manual    105   \n",
              "11  2016-04-07 10:06:22   2799        wagon              2005  manual    140   \n",
              "12  2016-03-15 22:49:09    999        wagon              1995  manual    115   \n",
              "13  2016-03-21 21:37:40   2500        wagon              2004  manual    131   \n",
              "14  2016-03-21 12:57:01  17999          suv              2011  manual    190   \n",
              "15  2016-03-11 21:39:15    450        small              1910     NaN      0   \n",
              "16  2016-04-01 12:46:46    300          NaN              2016     NaN     60   \n",
              "17  2016-03-20 10:25:19   1750        small              2004    auto     75   \n",
              "18  2016-03-23 15:48:05   7550          bus              2007  manual    136   \n",
              "19  2016-04-01 22:55:47   1850          bus              2004  manual    102   \n",
              "\n",
              "       Model  Kilometer  RegistrationMonth  FuelType          Brand Repaired  \\\n",
              "0       golf     150000                  0    petrol     volkswagen      NaN   \n",
              "1        NaN     125000                  5  gasoline           audi      yes   \n",
              "2      grand     125000                  8  gasoline           jeep      NaN   \n",
              "3       golf     150000                  6    petrol     volkswagen       no   \n",
              "4      fabia      90000                  7  gasoline          skoda       no   \n",
              "5        3er     150000                 10    petrol            bmw      yes   \n",
              "6    2_reihe     150000                  8    petrol        peugeot       no   \n",
              "7      other      40000                  7    petrol     volkswagen       no   \n",
              "8      c_max      30000                  8    petrol           ford      NaN   \n",
              "9       golf     150000                  0       NaN     volkswagen      NaN   \n",
              "10   3_reihe     150000                 12    petrol          mazda       no   \n",
              "11    passat     150000                 12  gasoline     volkswagen      yes   \n",
              "12    passat     150000                 11    petrol     volkswagen      NaN   \n",
              "13    passat     150000                  2       NaN     volkswagen       no   \n",
              "14    navara      70000                  3  gasoline         nissan       no   \n",
              "15        ka       5000                  0    petrol           ford      NaN   \n",
              "16      polo     150000                  0    petrol     volkswagen      NaN   \n",
              "17    twingo     150000                  2    petrol        renault       no   \n",
              "18     c_max     150000                  6  gasoline           ford       no   \n",
              "19  a_klasse     150000                  1    petrol  mercedes_benz       no   \n",
              "\n",
              "            DateCreated  NumberOfPictures  PostalCode             LastSeen  \n",
              "0   2016-03-24 00:00:00                 0       70435  2016-04-07 03:16:57  \n",
              "1   2016-03-24 00:00:00                 0       66954  2016-04-07 01:46:50  \n",
              "2   2016-03-14 00:00:00                 0       90480  2016-04-05 12:47:46  \n",
              "3   2016-03-17 00:00:00                 0       91074  2016-03-17 17:40:17  \n",
              "4   2016-03-31 00:00:00                 0       60437  2016-04-06 10:17:21  \n",
              "5   2016-04-04 00:00:00                 0       33775  2016-04-06 19:17:07  \n",
              "6   2016-04-01 00:00:00                 0       67112  2016-04-05 18:18:39  \n",
              "7   2016-03-21 00:00:00                 0       19348  2016-03-25 16:47:58  \n",
              "8   2016-04-04 00:00:00                 0       94505  2016-04-04 23:42:13  \n",
              "9   2016-03-17 00:00:00                 0       27472  2016-03-31 17:17:06  \n",
              "10  2016-03-26 00:00:00                 0       96224  2016-04-06 10:45:34  \n",
              "11  2016-04-07 00:00:00                 0       57290  2016-04-07 10:25:17  \n",
              "12  2016-03-15 00:00:00                 0       37269  2016-04-01 13:16:16  \n",
              "13  2016-03-21 00:00:00                 0       90762  2016-03-23 02:50:54  \n",
              "14  2016-03-21 00:00:00                 0        4177  2016-04-06 07:45:42  \n",
              "15  2016-03-11 00:00:00                 0       24148  2016-03-19 08:46:47  \n",
              "16  2016-04-01 00:00:00                 0       38871  2016-04-01 12:46:46  \n",
              "17  2016-03-20 00:00:00                 0       65599  2016-04-06 13:16:07  \n",
              "18  2016-03-23 00:00:00                 0       88361  2016-04-05 18:45:11  \n",
              "19  2016-04-01 00:00:00                 0       49565  2016-04-05 22:46:05  "
            ]
          },
          "metadata": {}
        }
      ]
    },
    {
      "cell_type": "code",
      "source": "def rows_check(df_auto):\n    for column in df_auto.columns:\n        print('Уникальные значения столбца', column)\n        print(df_auto[column].unique())\n    print('Количество пропусков в каждом столбце')    \n    print(df_auto.isna().mean())",
      "metadata": {},
      "execution_count": 5,
      "outputs": []
    },
    {
      "cell_type": "code",
      "source": "print(rows_check(df_auto))",
      "metadata": {},
      "execution_count": 6,
      "outputs": [
        {
          "name": "stdout",
          "output_type": "stream",
          "text": "Уникальные значения столбца DateCrawled\n\n['2016-03-24 11:52:17' '2016-03-24 10:58:45' '2016-03-14 12:52:21' ...\n\n '2016-03-21 09:50:58' '2016-03-14 17:48:27' '2016-03-19 18:57:12']\n\nУникальные значения столбца Price\n\n[  480 18300  9800 ... 12395 18429 10985]\n\nУникальные значения столбца VehicleType\n\n[nan 'coupe' 'suv' 'small' 'sedan' 'convertible' 'bus' 'wagon' 'other']\n\nУникальные значения столбца RegistrationYear\n\n[1993 2011 2004 2001 2008 1995 1980 2014 1998 2005 1910 2016 2007 2009\n\n 2002 2018 1997 1990 2017 1981 2003 1994 1991 1984 2006 1999 2012 2010\n\n 2000 1992 2013 1996 1985 1989 2015 1982 1976 1983 1973 1111 1969 1971\n\n 1987 1986 1988 1970 1965 1945 1925 1974 1979 1955 1978 1972 1968 1977\n\n 1961 1960 1966 1975 1963 1964 5000 1954 1958 1967 1959 9999 1956 3200\n\n 1000 1941 8888 1500 2200 4100 1962 1929 1957 1940 3000 2066 1949 2019\n\n 1937 1951 1800 1953 1234 8000 5300 9000 2900 6000 5900 5911 1933 1400\n\n 1950 4000 1948 1952 1200 8500 1932 1255 3700 3800 4800 1942 7000 1935\n\n 1936 6500 1923 2290 2500 1930 1001 9450 1944 1943 1934 1938 1688 2800\n\n 1253 1928 1919 5555 5600 1600 2222 1039 9996 1300 8455 1931 1915 4500\n\n 1920 1602 7800 9229 1947 1927 7100 8200 1946 7500 3500]\n\nУникальные значения столбца Gearbox\n\n['manual' 'auto' nan]\n\nУникальные значения столбца Power\n\n[    0   190   163    75    69   102   109    50   125   101   105   140\n\n   115   131    60   136   160   231    90   118   193    99   113   218\n\n   122   129    70   306    95    61   177    80   170    55   143    64\n\n   286   232   150   156    82   155    54   185    87   180    86    84\n\n   224   235   200   178   265    77   110   144   120   116   184   126\n\n   204    88   194   305   197   179   250    45   313    41   165    98\n\n   130   114   211    56   201   213    58   107    83   174   100   220\n\n    85    73   192    68    66   299    74    52   147    65   310    71\n\n    97   239   203     5   300   103   258   320    63    81   148    44\n\n   145   230   280   260   104   188   333   186   117   141    59   132\n\n   234   158    39    92    51   135    53   209    43   146    67   106\n\n   166   276   344    72   249   237   245   111   326   279    23   138\n\n   175    96   226    26    37   301   334   128   133   124    33   219\n\n   241   167    94   182   196   238  1398   228   112    48   272   139\n\n  1799    40   240    79   256   360   243   375   252   396   340   108\n\n   121   345   187   289   222   198   284   450   233   387   152   347\n\n   172    57   137   212   476   314    30     7    47   173   290   207\n\n   205   171   750    78    91    89   349   325    76   151   350   953\n\n    93   142   500   343   199   119   164    16   264   367   208   210\n\n    46   435  1001   225   127   176   161   603   307   354    35   206\n\n   771   355   273   223   255   123   154   149  7515  1400   268   620\n\n   169   400   275    34     2   242  1779   285   162   328  1753   329\n\n   134   420   247   168 10317   215    18   330   283    62    10   214\n\n   183   254    15   321   322   315   952   600   181   426   599   379\n\n   999    22   157    42   195   553     4   309   507   381   271   440\n\n   189   401  1111  2729    21   236  1240  1704   521     1  1900   270\n\n    24   159   292   808   515  1200   303    29    38  1993    14   216\n\n   610   504    49   267   331   363   261   385  1011   253   696 10520\n\n   376   227   311    27   217    20  1999    11  1056    25   394    12\n\n   298   296  1659   294   551  6920   246    17  1800  1625   368   390\n\n   221  1367   259   606   327  2017  1597   266   374   392     9   405\n\n    13   262   601   430   295     8   411   900   541  7512   382 10218\n\n  7544  1102   287    19   751   297  1090   457   282   602   388     6\n\n  1000  5411   335  1360   202  3750   805  1062  1024 11530   364  1796\n\n  5000   269   460  1002   288  1780 12012 17932   316  2005  1399   191\n\n   278  1300   380   257   449  1256   153  1653   520   560   281 12510\n\n     3  1500   386    32  1202  2016  1436  1405   671   274  1288  1055\n\n 10912 15016  6226  1115   277  1105   341  1223  2340  8404  1968   338\n\n   445  1920   370   517  4400 10710 10522  9010   431  1164 11509   371\n\n  1501   428 11635    36   304   348  1703  1910  1995   579 10000   580\n\n   408    31  1005   358  1403   489  5575 19211   585   960   365   353\n\n   490   352  1801   346   550  3199   800  7508  1312   357  1937   950\n\n  4700  1600  3454 19208   251   850   337   700  8011  2331  2789   487\n\n   519  2461  6006  3500  5815  6018  1781  1503   612  1596   229  1506\n\n  5809 15020  5867  2172  1598 17410  1363   584  1054   851  1339   318\n\n   510   525  1700    28  1151   685  6011   317   703  1771 15001   514\n\n   362   332   324  6045   530   425   308  6010   475   903   640  2000\n\n   248   651  2799 17011   505  1103  1521   351 16051   398  9000  1998\n\n 10311   409  1230 17019 12684  8259  1895   901  1317   871   909  2201\n\n  1595   776 17700 11011  1199   459  1162  1120 15033  1896   339   361\n\n   574  6512   454   650 13616   604   607 16312  1082   336 20000   416\n\n   678  6012  1401  1021  1870 13636  1250  9710   323  1158  2009   902\n\n  6062  1275   572   244   399  1016   743  1221  2402 16011  1362   544\n\n   645   907   702 12512  1986  1003  1432  9013  9011   442  1017  1394\n\n 15017 10910  1992   540  2018 11025  1433  1701  2792  1502  1239  1390\n\n 14009  1160  1351 11111  1783  9007   923  1149   754  1988   402  2004\n\n  5420  1793  1324   356  7511  1299   293 19312  1079  1689   998  1100\n\n  9012  1933   508 16311   682  1252  1922  7529   732  2389  2200  1707\n\n  1416  8500  1012   485  3000 10110   421  4507  1631  7518   377  1004\n\n  2007  2598  1548  1241]\n\nУникальные значения столбца Model\n\n['golf' nan 'grand' 'fabia' '3er' '2_reihe' 'other' 'c_max' '3_reihe'\n\n 'passat' 'navara' 'ka' 'polo' 'twingo' 'a_klasse' 'scirocco' '5er'\n\n 'meriva' 'arosa' 'c4' 'civic' 'transporter' 'punto' 'e_klasse' 'clio'\n\n 'kadett' 'kangoo' 'corsa' 'one' 'fortwo' '1er' 'b_klasse' 'signum'\n\n 'astra' 'a8' 'jetta' 'fiesta' 'c_klasse' 'micra' 'vito' 'sprinter' '156'\n\n 'escort' 'forester' 'xc_reihe' 'scenic' 'a4' 'a1' 'insignia' 'combo'\n\n 'focus' 'tt' 'a6' 'jazz' 'omega' 'slk' '7er' '80' '147' '100' 'z_reihe'\n\n 'sportage' 'sorento' 'v40' 'ibiza' 'mustang' 'eos' 'touran' 'getz' 'a3'\n\n 'almera' 'megane' 'lupo' 'r19' 'zafira' 'caddy' 'mondeo' 'cordoba' 'colt'\n\n 'impreza' 'vectra' 'berlingo' 'tiguan' 'i_reihe' 'espace' 'sharan'\n\n '6_reihe' 'panda' 'up' 'seicento' 'ceed' '5_reihe' 'yeti' 'octavia' 'mii'\n\n 'rx_reihe' '6er' 'modus' 'fox' 'matiz' 'beetle' 'c1' 'rio' 'touareg'\n\n 'logan' 'spider' 'cuore' 's_max' 'a2' 'galaxy' 'c3' 'viano' 's_klasse'\n\n '1_reihe' 'avensis' 'roomster' 'sl' 'kaefer' 'santa' 'cooper' 'leon'\n\n '4_reihe' 'a5' '500' 'laguna' 'ptcruiser' 'clk' 'primera' 'x_reihe'\n\n 'exeo' '159' 'transit' 'juke' 'qashqai' 'carisma' 'accord' 'corolla'\n\n 'lanos' 'phaeton' 'verso' 'swift' 'rav' 'picanto' 'boxster' 'kalos'\n\n 'superb' 'stilo' 'alhambra' 'mx_reihe' 'roadster' 'ypsilon' 'cayenne'\n\n 'galant' 'justy' '90' 'sirion' 'crossfire' 'agila' 'duster' 'cr_reihe'\n\n 'v50' 'c_reihe' 'v_klasse' 'm_klasse' 'yaris' 'c5' 'aygo' 'cc' 'carnival'\n\n 'fusion' '911' 'bora' 'forfour' 'm_reihe' 'cl' 'tigra' '300c' 'spark'\n\n 'v70' 'kuga' 'x_type' 'ducato' 's_type' 'x_trail' 'toledo' 'altea'\n\n 'voyager' 'calibra' 'bravo' 'antara' 'tucson' 'citigo' 'jimny' 'wrangler'\n\n 'lybra' 'q7' 'lancer' 'captiva' 'c2' 'discovery' 'freelander' 'sandero'\n\n 'note' '900' 'cherokee' 'clubman' 'samara' 'defender' '601' 'cx_reihe'\n\n 'legacy' 'pajero' 'auris' 'niva' 's60' 'nubira' 'vivaro' 'g_klasse'\n\n 'lodgy' '850' 'range_rover' 'q3' 'serie_2' 'glk' 'charade' 'croma'\n\n 'outlander' 'doblo' 'musa' 'move' '9000' 'v60' '145' 'aveo' '200' 'b_max'\n\n 'range_rover_sport' 'terios' 'rangerover' 'q5' 'range_rover_evoque'\n\n 'materia' 'delta' 'gl' 'kalina' 'amarok' 'elefantino' 'i3' 'kappa'\n\n 'serie_3' 'serie_1']\n\nУникальные значения столбца Kilometer\n\n[150000 125000  90000  40000  30000  70000   5000 100000  60000  20000\n\n  80000  50000  10000]\n\nУникальные значения столбца RegistrationMonth\n\n[ 0  5  8  6  7 10 12 11  2  3  1  4  9]\n\nУникальные значения столбца FuelType\n\n['petrol' 'gasoline' nan 'lpg' 'other' 'hybrid' 'cng' 'electric']\n\nУникальные значения столбца Brand\n\n['volkswagen' 'audi' 'jeep' 'skoda' 'bmw' 'peugeot' 'ford' 'mazda'\n\n 'nissan' 'renault' 'mercedes_benz' 'opel' 'seat' 'citroen' 'honda' 'fiat'\n\n 'mini' 'smart' 'hyundai' 'sonstige_autos' 'alfa_romeo' 'subaru' 'volvo'\n\n 'mitsubishi' 'kia' 'suzuki' 'lancia' 'toyota' 'chevrolet' 'dacia'\n\n 'daihatsu' 'trabant' 'saab' 'chrysler' 'jaguar' 'daewoo' 'porsche'\n\n 'rover' 'land_rover' 'lada']\n\nУникальные значения столбца Repaired\n\n[nan 'yes' 'no']\n\nУникальные значения столбца DateCreated\n\n['2016-03-24 00:00:00' '2016-03-14 00:00:00' '2016-03-17 00:00:00'\n\n '2016-03-31 00:00:00' '2016-04-04 00:00:00' '2016-04-01 00:00:00'\n\n '2016-03-21 00:00:00' '2016-03-26 00:00:00' '2016-04-07 00:00:00'\n\n '2016-03-15 00:00:00' '2016-03-11 00:00:00' '2016-03-20 00:00:00'\n\n '2016-03-23 00:00:00' '2016-03-27 00:00:00' '2016-03-12 00:00:00'\n\n '2016-03-13 00:00:00' '2016-03-18 00:00:00' '2016-03-10 00:00:00'\n\n '2016-03-07 00:00:00' '2016-03-09 00:00:00' '2016-03-08 00:00:00'\n\n '2016-04-03 00:00:00' '2016-03-29 00:00:00' '2016-03-25 00:00:00'\n\n '2016-03-28 00:00:00' '2016-03-30 00:00:00' '2016-03-22 00:00:00'\n\n '2016-02-09 00:00:00' '2016-03-05 00:00:00' '2016-04-02 00:00:00'\n\n '2016-03-16 00:00:00' '2016-03-19 00:00:00' '2016-04-05 00:00:00'\n\n '2016-03-06 00:00:00' '2016-02-12 00:00:00' '2016-03-03 00:00:00'\n\n '2016-03-01 00:00:00' '2016-03-04 00:00:00' '2016-04-06 00:00:00'\n\n '2016-02-15 00:00:00' '2016-02-24 00:00:00' '2016-02-27 00:00:00'\n\n '2015-03-20 00:00:00' '2016-02-28 00:00:00' '2016-02-17 00:00:00'\n\n '2016-01-27 00:00:00' '2016-02-20 00:00:00' '2016-02-29 00:00:00'\n\n '2016-02-10 00:00:00' '2016-02-23 00:00:00' '2016-02-21 00:00:00'\n\n '2015-11-02 00:00:00' '2016-02-19 00:00:00' '2016-02-26 00:00:00'\n\n '2016-02-11 00:00:00' '2016-01-10 00:00:00' '2016-02-06 00:00:00'\n\n '2016-02-18 00:00:00' '2016-01-29 00:00:00' '2016-03-02 00:00:00'\n\n '2015-12-06 00:00:00' '2016-01-24 00:00:00' '2016-01-30 00:00:00'\n\n '2016-02-02 00:00:00' '2016-02-16 00:00:00' '2016-02-13 00:00:00'\n\n '2016-02-05 00:00:00' '2016-02-22 00:00:00' '2015-11-17 00:00:00'\n\n '2014-03-10 00:00:00' '2016-02-07 00:00:00' '2016-01-23 00:00:00'\n\n '2016-02-25 00:00:00' '2016-02-14 00:00:00' '2016-01-02 00:00:00'\n\n '2015-09-04 00:00:00' '2015-11-12 00:00:00' '2015-12-27 00:00:00'\n\n '2015-11-24 00:00:00' '2016-01-20 00:00:00' '2016-02-03 00:00:00'\n\n '2015-12-05 00:00:00' '2015-08-07 00:00:00' '2016-01-28 00:00:00'\n\n '2016-01-31 00:00:00' '2016-02-08 00:00:00' '2016-01-07 00:00:00'\n\n '2016-01-22 00:00:00' '2016-01-18 00:00:00' '2016-01-08 00:00:00'\n\n '2015-11-23 00:00:00' '2016-01-13 00:00:00' '2016-01-17 00:00:00'\n\n '2016-01-15 00:00:00' '2015-11-08 00:00:00' '2016-01-26 00:00:00'\n\n '2016-02-04 00:00:00' '2016-01-25 00:00:00' '2016-01-16 00:00:00'\n\n '2015-08-10 00:00:00' '2016-01-03 00:00:00' '2016-01-19 00:00:00'\n\n '2015-12-30 00:00:00' '2016-02-01 00:00:00' '2015-12-17 00:00:00'\n\n '2015-11-10 00:00:00' '2016-01-06 00:00:00' '2015-09-09 00:00:00'\n\n '2015-06-18 00:00:00']\n\nУникальные значения столбца NumberOfPictures\n\n[0]\n\nУникальные значения столбца PostalCode\n\n[70435 66954 90480 ... 38528 38325 31096]\n\nУникальные значения столбца LastSeen\n\n['2016-04-07 03:16:57' '2016-04-07 01:46:50' '2016-04-05 12:47:46' ...\n\n '2016-03-19 20:44:43' '2016-03-29 10:17:23' '2016-03-21 10:42:49']\n\nКоличество пропусков в каждом столбце\n\nDateCrawled          0.000000\n\nPrice                0.000000\n\nVehicleType          0.105794\n\nRegistrationYear     0.000000\n\nGearbox              0.055967\n\nPower                0.000000\n\nModel                0.055606\n\nKilometer            0.000000\n\nRegistrationMonth    0.000000\n\nFuelType             0.092827\n\nBrand                0.000000\n\nRepaired             0.200791\n\nDateCreated          0.000000\n\nNumberOfPictures     0.000000\n\nPostalCode           0.000000\n\nLastSeen             0.000000\n\ndtype: float64\n\nNone\n"
        }
      ]
    },
    {
      "cell_type": "markdown",
      "source": "Видя количество пропусков, нужно решить, удалить их или заменить на наиболее часто встречающееся значение. Если заменить все пропуски в столбце Vehicle Type - то мы потеряем около 10 процентов данных, что достаточно заметно. Поэтому, заменим пропущенные названия моделей автомобилей на самые распространенные в датафрейме.",
      "metadata": {}
    },
    {
      "cell_type": "code",
      "source": "df_auto['VehicleType'] = df_auto['VehicleType'].fillna('other')\ndf_auto[\"Gearbox\"] = df_auto[\"Gearbox\"].fillna('other')\ndf_auto[\"Model\"] = df_auto[\"Model\"].fillna('other')\ndf_auto[\"FuelType\"] = df_auto[\"FuelType\"].fillna('other')\ndf_auto[\"Repaired\"] = df_auto[\"Repaired\"].fillna('other')",
      "metadata": {},
      "execution_count": 8,
      "outputs": []
    },
    {
      "cell_type": "markdown",
      "source": "Проверим данные на наличие дубликатов",
      "metadata": {}
    },
    {
      "cell_type": "code",
      "source": "df_auto.duplicated().sum()",
      "metadata": {},
      "execution_count": 9,
      "outputs": [
        {
          "execution_count": 9,
          "output_type": "execute_result",
          "data": {
            "text/plain": [
              "4"
            ]
          },
          "metadata": {}
        }
      ]
    },
    {
      "cell_type": "code",
      "source": "df_auto = df_auto.drop_duplicates()\ndf_auto.duplicated().sum()",
      "metadata": {},
      "execution_count": 10,
      "outputs": [
        {
          "execution_count": 10,
          "output_type": "execute_result",
          "data": {
            "text/plain": [
              "0"
            ]
          },
          "metadata": {}
        }
      ]
    },
    {
      "cell_type": "markdown",
      "source": "Удалим ненужные столбцы из датафрейма",
      "metadata": {}
    },
    {
      "cell_type": "code",
      "source": "df_with_date = df_auto.copy()\ndf_auto = df_auto.drop([\"DateCrawled\",\"DateCreated\",\"LastSeen\",\"NumberOfPictures\",\"PostalCode\"],axis = 1)",
      "metadata": {},
      "execution_count": 11,
      "outputs": []
    },
    {
      "cell_type": "code",
      "source": "df_auto.describe()",
      "metadata": {},
      "execution_count": 12,
      "outputs": [
        {
          "execution_count": 12,
          "output_type": "execute_result",
          "data": {
            "text/html": [
              "<div>\n",
              "<style scoped>\n",
              "    .dataframe tbody tr th:only-of-type {\n",
              "        vertical-align: middle;\n",
              "    }\n",
              "\n",
              "    .dataframe tbody tr th {\n",
              "        vertical-align: top;\n",
              "    }\n",
              "\n",
              "    .dataframe thead th {\n",
              "        text-align: right;\n",
              "    }\n",
              "</style>\n",
              "<table border=\"1\" class=\"dataframe\">\n",
              "  <thead>\n",
              "    <tr style=\"text-align: right;\">\n",
              "      <th></th>\n",
              "      <th>Price</th>\n",
              "      <th>RegistrationYear</th>\n",
              "      <th>Power</th>\n",
              "      <th>Kilometer</th>\n",
              "      <th>RegistrationMonth</th>\n",
              "    </tr>\n",
              "  </thead>\n",
              "  <tbody>\n",
              "    <tr>\n",
              "      <th>count</th>\n",
              "      <td>354365.000000</td>\n",
              "      <td>354365.000000</td>\n",
              "      <td>354365.000000</td>\n",
              "      <td>354365.000000</td>\n",
              "      <td>354365.000000</td>\n",
              "    </tr>\n",
              "    <tr>\n",
              "      <th>mean</th>\n",
              "      <td>4416.679830</td>\n",
              "      <td>2004.234481</td>\n",
              "      <td>110.093816</td>\n",
              "      <td>128211.363989</td>\n",
              "      <td>5.714650</td>\n",
              "    </tr>\n",
              "    <tr>\n",
              "      <th>std</th>\n",
              "      <td>4514.176349</td>\n",
              "      <td>90.228466</td>\n",
              "      <td>189.851330</td>\n",
              "      <td>37905.083858</td>\n",
              "      <td>3.726432</td>\n",
              "    </tr>\n",
              "    <tr>\n",
              "      <th>min</th>\n",
              "      <td>0.000000</td>\n",
              "      <td>1000.000000</td>\n",
              "      <td>0.000000</td>\n",
              "      <td>5000.000000</td>\n",
              "      <td>0.000000</td>\n",
              "    </tr>\n",
              "    <tr>\n",
              "      <th>25%</th>\n",
              "      <td>1050.000000</td>\n",
              "      <td>1999.000000</td>\n",
              "      <td>69.000000</td>\n",
              "      <td>125000.000000</td>\n",
              "      <td>3.000000</td>\n",
              "    </tr>\n",
              "    <tr>\n",
              "      <th>50%</th>\n",
              "      <td>2700.000000</td>\n",
              "      <td>2003.000000</td>\n",
              "      <td>105.000000</td>\n",
              "      <td>150000.000000</td>\n",
              "      <td>6.000000</td>\n",
              "    </tr>\n",
              "    <tr>\n",
              "      <th>75%</th>\n",
              "      <td>6400.000000</td>\n",
              "      <td>2008.000000</td>\n",
              "      <td>143.000000</td>\n",
              "      <td>150000.000000</td>\n",
              "      <td>9.000000</td>\n",
              "    </tr>\n",
              "    <tr>\n",
              "      <th>max</th>\n",
              "      <td>20000.000000</td>\n",
              "      <td>9999.000000</td>\n",
              "      <td>20000.000000</td>\n",
              "      <td>150000.000000</td>\n",
              "      <td>12.000000</td>\n",
              "    </tr>\n",
              "  </tbody>\n",
              "</table>\n",
              "</div>"
            ],
            "text/plain": [
              "               Price  RegistrationYear          Power      Kilometer  \\\n",
              "count  354365.000000     354365.000000  354365.000000  354365.000000   \n",
              "mean     4416.679830       2004.234481     110.093816  128211.363989   \n",
              "std      4514.176349         90.228466     189.851330   37905.083858   \n",
              "min         0.000000       1000.000000       0.000000    5000.000000   \n",
              "25%      1050.000000       1999.000000      69.000000  125000.000000   \n",
              "50%      2700.000000       2003.000000     105.000000  150000.000000   \n",
              "75%      6400.000000       2008.000000     143.000000  150000.000000   \n",
              "max     20000.000000       9999.000000   20000.000000  150000.000000   \n",
              "\n",
              "       RegistrationMonth  \n",
              "count      354365.000000  \n",
              "mean            5.714650  \n",
              "std             3.726432  \n",
              "min             0.000000  \n",
              "25%             3.000000  \n",
              "50%             6.000000  \n",
              "75%             9.000000  \n",
              "max            12.000000  "
            ]
          },
          "metadata": {}
        }
      ]
    },
    {
      "cell_type": "markdown",
      "source": "Займемся поиском аномалий. \n\nВидно, что в столбце Price - минимальное значение равно нулю.\n\nМинимальное значение в столбце RegistrationYear - 1000й год, а максимальное - 9999.\n\nМинимальное значение в столбце Power - 0 л.с., а максимальное - 20000. \n\nВ столбце RegistrationMonth встречается значение \"0\". \n\nСтолбцы индекса (PostalCode) и количества фотографий (NumberOfPictures) - не информативны, их можно удалить.",
      "metadata": {}
    },
    {
      "cell_type": "markdown",
      "source": "Ограничим значения в столбце RegistrationYear",
      "metadata": {}
    },
    {
      "cell_type": "code",
      "source": "def balance_RegistrationYear(value):\n    if value > 2016:\n        return 2016\n    elif value < 1930:\n        return 1930\n    else:\n        return value\ndf_auto[\"RegistrationYear\"] = df_auto[\"RegistrationYear\"].apply(balance_RegistrationYear)",
      "metadata": {},
      "execution_count": 13,
      "outputs": []
    },
    {
      "cell_type": "markdown",
      "source": "Изменим нулевые значения в столбце RegistrationMonth",
      "metadata": {}
    },
    {
      "cell_type": "code",
      "source": "df_auto.loc[df_auto['RegistrationMonth'] == 0, 'RegistrationMonth'] = 1",
      "metadata": {},
      "execution_count": 14,
      "outputs": []
    },
    {
      "cell_type": "markdown",
      "source": "Изменим аномальные значения столбца Power",
      "metadata": {}
    },
    {
      "cell_type": "code",
      "source": "df_auto = df_auto.query('Power<1000')\ndf_auto['Power'].hist(bins=100, figsize=(12,9))\ndf_auto['Power'].describe()",
      "metadata": {},
      "execution_count": 15,
      "outputs": [
        {
          "execution_count": 15,
          "output_type": "execute_result",
          "data": {
            "text/plain": [
              "count    354055.000000\n",
              "mean        106.614676\n",
              "std          64.206449\n",
              "min           0.000000\n",
              "25%          69.000000\n",
              "50%         105.000000\n",
              "75%         141.000000\n",
              "max         999.000000\n",
              "Name: Power, dtype: float64"
            ]
          },
          "metadata": {}
        },
        {
          "output_type": "display_data",
          "data": {
            "image/png": "[encoded data removed]",
            "text/plain": [
              "<Figure size 864x648 with 1 Axes>"
            ]
          },
          "metadata": {
            "needs_background": "light"
          }
        }
      ]
    },
    {
      "cell_type": "code",
      "source": "df_auto = df_auto.query('40<Power<1000')\ndf_auto['Power'].hist(bins=100, figsize=(12,9))\ndf_auto['Power'].describe()",
      "metadata": {},
      "execution_count": 16,
      "outputs": [
        {
          "execution_count": 16,
          "output_type": "execute_result",
          "data": {
            "text/plain": [
              "count    312079.000000\n",
              "mean        120.801932\n",
              "std          54.538633\n",
              "min          41.000000\n",
              "25%          75.000000\n",
              "50%         110.000000\n",
              "75%         150.000000\n",
              "max         999.000000\n",
              "Name: Power, dtype: float64"
            ]
          },
          "metadata": {}
        },
        {
          "output_type": "display_data",
          "data": {
            "image/png": "[encoded data removed]",
            "text/plain": [
              "<Figure size 864x648 with 1 Axes>"
            ]
          },
          "metadata": {
            "needs_background": "light"
          }
        }
      ]
    },
    {
      "cell_type": "markdown",
      "source": "Ограничим столбец Price",
      "metadata": {}
    },
    {
      "cell_type": "code",
      "source": "df_auto = df_auto.query('350 <= Price <= 8000')",
      "metadata": {},
      "execution_count": 17,
      "outputs": []
    },
    {
      "cell_type": "code",
      "source": "#КОД РЕВЬЮЕРА\n\ndf_auto.describe()",
      "metadata": {},
      "execution_count": 18,
      "outputs": [
        {
          "execution_count": 18,
          "output_type": "execute_result",
          "data": {
            "text/html": [
              "<div>\n",
              "<style scoped>\n",
              "    .dataframe tbody tr th:only-of-type {\n",
              "        vertical-align: middle;\n",
              "    }\n",
              "\n",
              "    .dataframe tbody tr th {\n",
              "        vertical-align: top;\n",
              "    }\n",
              "\n",
              "    .dataframe thead th {\n",
              "        text-align: right;\n",
              "    }\n",
              "</style>\n",
              "<table border=\"1\" class=\"dataframe\">\n",
              "  <thead>\n",
              "    <tr style=\"text-align: right;\">\n",
              "      <th></th>\n",
              "      <th>Price</th>\n",
              "      <th>RegistrationYear</th>\n",
              "      <th>Power</th>\n",
              "      <th>Kilometer</th>\n",
              "      <th>RegistrationMonth</th>\n",
              "    </tr>\n",
              "  </thead>\n",
              "  <tbody>\n",
              "    <tr>\n",
              "      <th>count</th>\n",
              "      <td>233854.000000</td>\n",
              "      <td>233854.00000</td>\n",
              "      <td>233854.000000</td>\n",
              "      <td>233854.000000</td>\n",
              "      <td>233854.000000</td>\n",
              "    </tr>\n",
              "    <tr>\n",
              "      <th>mean</th>\n",
              "      <td>2978.676546</td>\n",
              "      <td>2002.31349</td>\n",
              "      <td>110.853071</td>\n",
              "      <td>134603.213971</td>\n",
              "      <td>6.008061</td>\n",
              "    </tr>\n",
              "    <tr>\n",
              "      <th>std</th>\n",
              "      <td>2109.514450</td>\n",
              "      <td>6.20078</td>\n",
              "      <td>45.846289</td>\n",
              "      <td>31020.498193</td>\n",
              "      <td>3.506289</td>\n",
              "    </tr>\n",
              "    <tr>\n",
              "      <th>min</th>\n",
              "      <td>350.000000</td>\n",
              "      <td>1930.00000</td>\n",
              "      <td>41.000000</td>\n",
              "      <td>5000.000000</td>\n",
              "      <td>1.000000</td>\n",
              "    </tr>\n",
              "    <tr>\n",
              "      <th>25%</th>\n",
              "      <td>1200.000000</td>\n",
              "      <td>1999.00000</td>\n",
              "      <td>75.000000</td>\n",
              "      <td>125000.000000</td>\n",
              "      <td>3.000000</td>\n",
              "    </tr>\n",
              "    <tr>\n",
              "      <th>50%</th>\n",
              "      <td>2400.000000</td>\n",
              "      <td>2002.00000</td>\n",
              "      <td>105.000000</td>\n",
              "      <td>150000.000000</td>\n",
              "      <td>6.000000</td>\n",
              "    </tr>\n",
              "    <tr>\n",
              "      <th>75%</th>\n",
              "      <td>4450.000000</td>\n",
              "      <td>2006.00000</td>\n",
              "      <td>136.000000</td>\n",
              "      <td>150000.000000</td>\n",
              "      <td>9.000000</td>\n",
              "    </tr>\n",
              "    <tr>\n",
              "      <th>max</th>\n",
              "      <td>8000.000000</td>\n",
              "      <td>2016.00000</td>\n",
              "      <td>999.000000</td>\n",
              "      <td>150000.000000</td>\n",
              "      <td>12.000000</td>\n",
              "    </tr>\n",
              "  </tbody>\n",
              "</table>\n",
              "</div>"
            ],
            "text/plain": [
              "               Price  RegistrationYear          Power      Kilometer  \\\n",
              "count  233854.000000      233854.00000  233854.000000  233854.000000   \n",
              "mean     2978.676546        2002.31349     110.853071  134603.213971   \n",
              "std      2109.514450           6.20078      45.846289   31020.498193   \n",
              "min       350.000000        1930.00000      41.000000    5000.000000   \n",
              "25%      1200.000000        1999.00000      75.000000  125000.000000   \n",
              "50%      2400.000000        2002.00000     105.000000  150000.000000   \n",
              "75%      4450.000000        2006.00000     136.000000  150000.000000   \n",
              "max      8000.000000        2016.00000     999.000000  150000.000000   \n",
              "\n",
              "       RegistrationMonth  \n",
              "count      233854.000000  \n",
              "mean            6.008061  \n",
              "std             3.506289  \n",
              "min             1.000000  \n",
              "25%             3.000000  \n",
              "50%             6.000000  \n",
              "75%             9.000000  \n",
              "max            12.000000  "
            ]
          },
          "metadata": {}
        }
      ]
    },
    {
      "cell_type": "markdown",
      "source": "## Обучение моделей",
      "metadata": {}
    },
    {
      "cell_type": "markdown",
      "source": "Разделим данные и закодируем выборки",
      "metadata": {}
    },
    {
      "cell_type": "code",
      "source": "#разделим выборки на обучающую и тестовую\ntarget = df_auto['Price']\nfeatures = df_auto.drop('Price', axis=1)\nfeatures_train, features_test, target_train, target_test = train_test_split(features, target, test_size=0.25, random_state=12345) \n\n\nprint(features_train.shape)\nprint(features_test.shape)",
      "metadata": {},
      "execution_count": 22,
      "outputs": [
        {
          "name": "stdout",
          "output_type": "stream",
          "text": "(175390, 10)\n\n(58464, 10)\n"
        }
      ]
    },
    {
      "cell_type": "markdown",
      "source": "# Кодирование данных",
      "metadata": {}
    },
    {
      "cell_type": "code",
      "source": "from sklearn.preprocessing import OneHotEncoder\n\ncat = list(features_train.select_dtypes('object').columns) #категориальные признаки\nnum = list(features_train.select_dtypes(exclude='object').columns) #количественные признаки\n\nscaler = StandardScaler()\n\nfeatures_train_scaled = pd.DataFrame(scaler.fit_transform(features_train[num]), columns=[num], index=features_train.index)\nfeatures_test_scaled = pd.DataFrame(scaler.transform(features_test[num]), columns=[num], index=features_test.index)\n\nenc = OneHotEncoder(handle_unknown='ignore')\n\nX_train_ohe = enc.fit_transform(features_train[cat])\nX_test_ohe = enc.transform(features_test[cat])\n\nX_train_lr = pd.concat([features_train_scaled, pd.DataFrame(X_train_ohe.toarray(), index=features_train.index)], axis=1)\nX_test_lr = pd.concat([features_test_scaled, pd.DataFrame(X_test_ohe.toarray(), index=features_test.index)], axis=1)",
      "metadata": {},
      "execution_count": 23,
      "outputs": []
    },
    {
      "cell_type": "code",
      "source": "X_train_lr.head(5)",
      "metadata": {},
      "execution_count": 39,
      "outputs": [
        {
          "execution_count": 39,
          "output_type": "execute_result",
          "data": {
            "text/html": [
              "<div>\n",
              "<style scoped>\n",
              "    .dataframe tbody tr th:only-of-type {\n",
              "        vertical-align: middle;\n",
              "    }\n",
              "\n",
              "    .dataframe tbody tr th {\n",
              "        vertical-align: top;\n",
              "    }\n",
              "\n",
              "    .dataframe thead th {\n",
              "        text-align: right;\n",
              "    }\n",
              "</style>\n",
              "<table border=\"1\" class=\"dataframe\">\n",
              "  <thead>\n",
              "    <tr style=\"text-align: right;\">\n",
              "      <th></th>\n",
              "      <th>(RegistrationYear,)</th>\n",
              "      <th>(Power,)</th>\n",
              "      <th>(Kilometer,)</th>\n",
              "      <th>(RegistrationMonth,)</th>\n",
              "      <th>0</th>\n",
              "      <th>1</th>\n",
              "      <th>2</th>\n",
              "      <th>3</th>\n",
              "      <th>4</th>\n",
              "      <th>5</th>\n",
              "      <th>...</th>\n",
              "      <th>295</th>\n",
              "      <th>296</th>\n",
              "      <th>297</th>\n",
              "      <th>298</th>\n",
              "      <th>299</th>\n",
              "      <th>300</th>\n",
              "      <th>301</th>\n",
              "      <th>302</th>\n",
              "      <th>303</th>\n",
              "      <th>304</th>\n",
              "    </tr>\n",
              "  </thead>\n",
              "  <tbody>\n",
              "    <tr>\n",
              "      <th>277177</th>\n",
              "      <td>-0.373820</td>\n",
              "      <td>-1.238602</td>\n",
              "      <td>0.496121</td>\n",
              "      <td>0.851658</td>\n",
              "      <td>0.0</td>\n",
              "      <td>0.0</td>\n",
              "      <td>0.0</td>\n",
              "      <td>0.0</td>\n",
              "      <td>0.0</td>\n",
              "      <td>1.0</td>\n",
              "      <td>...</td>\n",
              "      <td>0.0</td>\n",
              "      <td>0.0</td>\n",
              "      <td>0.0</td>\n",
              "      <td>0.0</td>\n",
              "      <td>0.0</td>\n",
              "      <td>0.0</td>\n",
              "      <td>0.0</td>\n",
              "      <td>1.0</td>\n",
              "      <td>0.0</td>\n",
              "      <td>0.0</td>\n",
              "    </tr>\n",
              "    <tr>\n",
              "      <th>279357</th>\n",
              "      <td>-0.051539</td>\n",
              "      <td>0.702791</td>\n",
              "      <td>0.496121</td>\n",
              "      <td>1.136659</td>\n",
              "      <td>0.0</td>\n",
              "      <td>0.0</td>\n",
              "      <td>1.0</td>\n",
              "      <td>0.0</td>\n",
              "      <td>0.0</td>\n",
              "      <td>0.0</td>\n",
              "      <td>...</td>\n",
              "      <td>0.0</td>\n",
              "      <td>0.0</td>\n",
              "      <td>0.0</td>\n",
              "      <td>0.0</td>\n",
              "      <td>0.0</td>\n",
              "      <td>0.0</td>\n",
              "      <td>0.0</td>\n",
              "      <td>1.0</td>\n",
              "      <td>0.0</td>\n",
              "      <td>0.0</td>\n",
              "    </tr>\n",
              "    <tr>\n",
              "      <th>299864</th>\n",
              "      <td>-1.662943</td>\n",
              "      <td>-1.238602</td>\n",
              "      <td>0.496121</td>\n",
              "      <td>1.136659</td>\n",
              "      <td>0.0</td>\n",
              "      <td>0.0</td>\n",
              "      <td>0.0</td>\n",
              "      <td>0.0</td>\n",
              "      <td>0.0</td>\n",
              "      <td>1.0</td>\n",
              "      <td>...</td>\n",
              "      <td>0.0</td>\n",
              "      <td>0.0</td>\n",
              "      <td>0.0</td>\n",
              "      <td>0.0</td>\n",
              "      <td>0.0</td>\n",
              "      <td>0.0</td>\n",
              "      <td>0.0</td>\n",
              "      <td>1.0</td>\n",
              "      <td>0.0</td>\n",
              "      <td>0.0</td>\n",
              "    </tr>\n",
              "    <tr>\n",
              "      <th>309444</th>\n",
              "      <td>-0.212680</td>\n",
              "      <td>-0.213372</td>\n",
              "      <td>0.496121</td>\n",
              "      <td>1.421661</td>\n",
              "      <td>0.0</td>\n",
              "      <td>0.0</td>\n",
              "      <td>0.0</td>\n",
              "      <td>0.0</td>\n",
              "      <td>1.0</td>\n",
              "      <td>0.0</td>\n",
              "      <td>...</td>\n",
              "      <td>0.0</td>\n",
              "      <td>0.0</td>\n",
              "      <td>0.0</td>\n",
              "      <td>0.0</td>\n",
              "      <td>0.0</td>\n",
              "      <td>0.0</td>\n",
              "      <td>0.0</td>\n",
              "      <td>0.0</td>\n",
              "      <td>1.0</td>\n",
              "      <td>0.0</td>\n",
              "    </tr>\n",
              "    <tr>\n",
              "      <th>273146</th>\n",
              "      <td>0.109601</td>\n",
              "      <td>0.855485</td>\n",
              "      <td>0.496121</td>\n",
              "      <td>1.421661</td>\n",
              "      <td>0.0</td>\n",
              "      <td>0.0</td>\n",
              "      <td>0.0</td>\n",
              "      <td>0.0</td>\n",
              "      <td>1.0</td>\n",
              "      <td>0.0</td>\n",
              "      <td>...</td>\n",
              "      <td>0.0</td>\n",
              "      <td>0.0</td>\n",
              "      <td>0.0</td>\n",
              "      <td>0.0</td>\n",
              "      <td>0.0</td>\n",
              "      <td>0.0</td>\n",
              "      <td>0.0</td>\n",
              "      <td>0.0</td>\n",
              "      <td>1.0</td>\n",
              "      <td>0.0</td>\n",
              "    </tr>\n",
              "  </tbody>\n",
              "</table>\n",
              "<p>5 rows × 309 columns</p>\n",
              "</div>"
            ],
            "text/plain": [
              "        (RegistrationYear,)  (Power,)  (Kilometer,)  (RegistrationMonth,)  \\\n",
              "277177            -0.373820 -1.238602      0.496121              0.851658   \n",
              "279357            -0.051539  0.702791      0.496121              1.136659   \n",
              "299864            -1.662943 -1.238602      0.496121              1.136659   \n",
              "309444            -0.212680 -0.213372      0.496121              1.421661   \n",
              "273146             0.109601  0.855485      0.496121              1.421661   \n",
              "\n",
              "          0    1    2    3    4    5  ...  295  296  297  298  299  300  301  \\\n",
              "277177  0.0  0.0  0.0  0.0  0.0  1.0  ...  0.0  0.0  0.0  0.0  0.0  0.0  0.0   \n",
              "279357  0.0  0.0  1.0  0.0  0.0  0.0  ...  0.0  0.0  0.0  0.0  0.0  0.0  0.0   \n",
              "299864  0.0  0.0  0.0  0.0  0.0  1.0  ...  0.0  0.0  0.0  0.0  0.0  0.0  0.0   \n",
              "309444  0.0  0.0  0.0  0.0  1.0  0.0  ...  0.0  0.0  0.0  0.0  0.0  0.0  0.0   \n",
              "273146  0.0  0.0  0.0  0.0  1.0  0.0  ...  0.0  0.0  0.0  0.0  0.0  0.0  0.0   \n",
              "\n",
              "        302  303  304  \n",
              "277177  1.0  0.0  0.0  \n",
              "279357  1.0  0.0  0.0  \n",
              "299864  1.0  0.0  0.0  \n",
              "309444  0.0  1.0  0.0  \n",
              "273146  0.0  1.0  0.0  \n",
              "\n",
              "[5 rows x 309 columns]"
            ]
          },
          "metadata": {}
        }
      ]
    },
    {
      "cell_type": "markdown",
      "source": "# Модель Linear Regression",
      "metadata": {}
    },
    {
      "cell_type": "code",
      "source": "%%time\n\nmodel = LinearRegression()\n\n#определяю RMSE модели с помощью кросс-валидации\nregression_cv_score = (cross_val_score(model, X_train_lr, target_train,cv=5, \n                                                scoring='neg_root_mean_squared_error').mean()*-1)\nprint('Среднее качество модели линейной регрессии на кросс-валидации:', regression_cv_score)",
      "metadata": {},
      "execution_count": 27,
      "outputs": [
        {
          "ename": "KeyboardInterrupt",
          "evalue": "",
          "output_type": "error",
          "traceback": [
            "\u001b[0;31m---------------------------------------------------------------------------\u001b[0m",
            "\u001b[0;31mKeyboardInterrupt\u001b[0m                         Traceback (most recent call last)",
            "\u001b[0;32m<timed exec>\u001b[0m in \u001b[0;36m<module>\u001b[0;34m\u001b[0m\n",
            "\u001b[0;32m/opt/conda/lib/python3.9/site-packages/sklearn/model_selection/_validation.py\u001b[0m in \u001b[0;36mcross_val_score\u001b[0;34m(estimator, X, y, groups, scoring, cv, n_jobs, verbose, fit_params, pre_dispatch, error_score)\u001b[0m\n\u001b[1;32m    513\u001b[0m     \u001b[0mscorer\u001b[0m \u001b[0;34m=\u001b[0m \u001b[0mcheck_scoring\u001b[0m\u001b[0;34m(\u001b[0m\u001b[0mestimator\u001b[0m\u001b[0;34m,\u001b[0m \u001b[0mscoring\u001b[0m\u001b[0;34m=\u001b[0m\u001b[0mscoring\u001b[0m\u001b[0;34m)\u001b[0m\u001b[0;34m\u001b[0m\u001b[0;34m\u001b[0m\u001b[0m\n\u001b[1;32m    514\u001b[0m \u001b[0;34m\u001b[0m\u001b[0m\n\u001b[0;32m--> 515\u001b[0;31m     cv_results = cross_validate(\n\u001b[0m\u001b[1;32m    516\u001b[0m         \u001b[0mestimator\u001b[0m\u001b[0;34m=\u001b[0m\u001b[0mestimator\u001b[0m\u001b[0;34m,\u001b[0m\u001b[0;34m\u001b[0m\u001b[0;34m\u001b[0m\u001b[0m\n\u001b[1;32m    517\u001b[0m         \u001b[0mX\u001b[0m\u001b[0;34m=\u001b[0m\u001b[0mX\u001b[0m\u001b[0;34m,\u001b[0m\u001b[0;34m\u001b[0m\u001b[0;34m\u001b[0m\u001b[0m\n",
            "\u001b[0;32m/opt/conda/lib/python3.9/site-packages/sklearn/model_selection/_validation.py\u001b[0m in \u001b[0;36mcross_validate\u001b[0;34m(estimator, X, y, groups, scoring, cv, n_jobs, verbose, fit_params, pre_dispatch, return_train_score, return_estimator, error_score)\u001b[0m\n\u001b[1;32m    264\u001b[0m     \u001b[0;31m# independent, and that it is pickle-able.\u001b[0m\u001b[0;34m\u001b[0m\u001b[0;34m\u001b[0m\u001b[0;34m\u001b[0m\u001b[0m\n\u001b[1;32m    265\u001b[0m     \u001b[0mparallel\u001b[0m \u001b[0;34m=\u001b[0m \u001b[0mParallel\u001b[0m\u001b[0;34m(\u001b[0m\u001b[0mn_jobs\u001b[0m\u001b[0;34m=\u001b[0m\u001b[0mn_jobs\u001b[0m\u001b[0;34m,\u001b[0m \u001b[0mverbose\u001b[0m\u001b[0;34m=\u001b[0m\u001b[0mverbose\u001b[0m\u001b[0;34m,\u001b[0m \u001b[0mpre_dispatch\u001b[0m\u001b[0;34m=\u001b[0m\u001b[0mpre_dispatch\u001b[0m\u001b[0;34m)\u001b[0m\u001b[0;34m\u001b[0m\u001b[0;34m\u001b[0m\u001b[0m\n\u001b[0;32m--> 266\u001b[0;31m     results = parallel(\n\u001b[0m\u001b[1;32m    267\u001b[0m         delayed(_fit_and_score)(\n\u001b[1;32m    268\u001b[0m             \u001b[0mclone\u001b[0m\u001b[0;34m(\u001b[0m\u001b[0mestimator\u001b[0m\u001b[0;34m)\u001b[0m\u001b[0;34m,\u001b[0m\u001b[0;34m\u001b[0m\u001b[0;34m\u001b[0m\u001b[0m\n",
            "\u001b[0;32m/opt/conda/lib/python3.9/site-packages/sklearn/utils/parallel.py\u001b[0m in \u001b[0;36m__call__\u001b[0;34m(self, iterable)\u001b[0m\n\u001b[1;32m     61\u001b[0m             \u001b[0;32mfor\u001b[0m \u001b[0mdelayed_func\u001b[0m\u001b[0;34m,\u001b[0m \u001b[0margs\u001b[0m\u001b[0;34m,\u001b[0m \u001b[0mkwargs\u001b[0m \u001b[0;32min\u001b[0m \u001b[0miterable\u001b[0m\u001b[0;34m\u001b[0m\u001b[0;34m\u001b[0m\u001b[0m\n\u001b[1;32m     62\u001b[0m         )\n\u001b[0;32m---> 63\u001b[0;31m         \u001b[0;32mreturn\u001b[0m \u001b[0msuper\u001b[0m\u001b[0;34m(\u001b[0m\u001b[0;34m)\u001b[0m\u001b[0;34m.\u001b[0m\u001b[0m__call__\u001b[0m\u001b[0;34m(\u001b[0m\u001b[0miterable_with_config\u001b[0m\u001b[0;34m)\u001b[0m\u001b[0;34m\u001b[0m\u001b[0;34m\u001b[0m\u001b[0m\n\u001b[0m\u001b[1;32m     64\u001b[0m \u001b[0;34m\u001b[0m\u001b[0m\n\u001b[1;32m     65\u001b[0m \u001b[0;34m\u001b[0m\u001b[0m\n",
            "\u001b[0;32m/opt/conda/lib/python3.9/site-packages/joblib/parallel.py\u001b[0m in \u001b[0;36m__call__\u001b[0;34m(self, iterable)\u001b[0m\n\u001b[1;32m   1086\u001b[0m                 \u001b[0mself\u001b[0m\u001b[0;34m.\u001b[0m\u001b[0m_iterating\u001b[0m \u001b[0;34m=\u001b[0m \u001b[0mself\u001b[0m\u001b[0;34m.\u001b[0m\u001b[0m_original_iterator\u001b[0m \u001b[0;32mis\u001b[0m \u001b[0;32mnot\u001b[0m \u001b[0;32mNone\u001b[0m\u001b[0;34m\u001b[0m\u001b[0;34m\u001b[0m\u001b[0m\n\u001b[1;32m   1087\u001b[0m \u001b[0;34m\u001b[0m\u001b[0m\n\u001b[0;32m-> 1088\u001b[0;31m             \u001b[0;32mwhile\u001b[0m \u001b[0mself\u001b[0m\u001b[0;34m.\u001b[0m\u001b[0mdispatch_one_batch\u001b[0m\u001b[0;34m(\u001b[0m\u001b[0miterator\u001b[0m\u001b[0;34m)\u001b[0m\u001b[0;34m:\u001b[0m\u001b[0;34m\u001b[0m\u001b[0;34m\u001b[0m\u001b[0m\n\u001b[0m\u001b[1;32m   1089\u001b[0m                 \u001b[0;32mpass\u001b[0m\u001b[0;34m\u001b[0m\u001b[0;34m\u001b[0m\u001b[0m\n\u001b[1;32m   1090\u001b[0m \u001b[0;34m\u001b[0m\u001b[0m\n",
            "\u001b[0;32m/opt/conda/lib/python3.9/site-packages/joblib/parallel.py\u001b[0m in \u001b[0;36mdispatch_one_batch\u001b[0;34m(self, iterator)\u001b[0m\n\u001b[1;32m    899\u001b[0m                 \u001b[0;32mreturn\u001b[0m \u001b[0;32mFalse\u001b[0m\u001b[0;34m\u001b[0m\u001b[0;34m\u001b[0m\u001b[0m\n\u001b[1;32m    900\u001b[0m             \u001b[0;32melse\u001b[0m\u001b[0;34m:\u001b[0m\u001b[0;34m\u001b[0m\u001b[0;34m\u001b[0m\u001b[0m\n\u001b[0;32m--> 901\u001b[0;31m                 \u001b[0mself\u001b[0m\u001b[0;34m.\u001b[0m\u001b[0m_dispatch\u001b[0m\u001b[0;34m(\u001b[0m\u001b[0mtasks\u001b[0m\u001b[0;34m)\u001b[0m\u001b[0;34m\u001b[0m\u001b[0;34m\u001b[0m\u001b[0m\n\u001b[0m\u001b[1;32m    902\u001b[0m                 \u001b[0;32mreturn\u001b[0m \u001b[0;32mTrue\u001b[0m\u001b[0;34m\u001b[0m\u001b[0;34m\u001b[0m\u001b[0m\n\u001b[1;32m    903\u001b[0m \u001b[0;34m\u001b[0m\u001b[0m\n",
            "\u001b[0;32m/opt/conda/lib/python3.9/site-packages/joblib/parallel.py\u001b[0m in \u001b[0;36m_dispatch\u001b[0;34m(self, batch)\u001b[0m\n\u001b[1;32m    817\u001b[0m         \u001b[0;32mwith\u001b[0m \u001b[0mself\u001b[0m\u001b[0;34m.\u001b[0m\u001b[0m_lock\u001b[0m\u001b[0;34m:\u001b[0m\u001b[0;34m\u001b[0m\u001b[0;34m\u001b[0m\u001b[0m\n\u001b[1;32m    818\u001b[0m             \u001b[0mjob_idx\u001b[0m \u001b[0;34m=\u001b[0m \u001b[0mlen\u001b[0m\u001b[0;34m(\u001b[0m\u001b[0mself\u001b[0m\u001b[0;34m.\u001b[0m\u001b[0m_jobs\u001b[0m\u001b[0;34m)\u001b[0m\u001b[0;34m\u001b[0m\u001b[0;34m\u001b[0m\u001b[0m\n\u001b[0;32m--> 819\u001b[0;31m             \u001b[0mjob\u001b[0m \u001b[0;34m=\u001b[0m \u001b[0mself\u001b[0m\u001b[0;34m.\u001b[0m\u001b[0m_backend\u001b[0m\u001b[0;34m.\u001b[0m\u001b[0mapply_async\u001b[0m\u001b[0;34m(\u001b[0m\u001b[0mbatch\u001b[0m\u001b[0;34m,\u001b[0m \u001b[0mcallback\u001b[0m\u001b[0;34m=\u001b[0m\u001b[0mcb\u001b[0m\u001b[0;34m)\u001b[0m\u001b[0;34m\u001b[0m\u001b[0;34m\u001b[0m\u001b[0m\n\u001b[0m\u001b[1;32m    820\u001b[0m             \u001b[0;31m# A job can complete so quickly than its callback is\u001b[0m\u001b[0;34m\u001b[0m\u001b[0;34m\u001b[0m\u001b[0;34m\u001b[0m\u001b[0m\n\u001b[1;32m    821\u001b[0m             \u001b[0;31m# called before we get here, causing self._jobs to\u001b[0m\u001b[0;34m\u001b[0m\u001b[0;34m\u001b[0m\u001b[0;34m\u001b[0m\u001b[0m\n",
            "\u001b[0;32m/opt/conda/lib/python3.9/site-packages/joblib/_parallel_backends.py\u001b[0m in \u001b[0;36mapply_async\u001b[0;34m(self, func, callback)\u001b[0m\n\u001b[1;32m    206\u001b[0m     \u001b[0;32mdef\u001b[0m \u001b[0mapply_async\u001b[0m\u001b[0;34m(\u001b[0m\u001b[0mself\u001b[0m\u001b[0;34m,\u001b[0m \u001b[0mfunc\u001b[0m\u001b[0;34m,\u001b[0m \u001b[0mcallback\u001b[0m\u001b[0;34m=\u001b[0m\u001b[0;32mNone\u001b[0m\u001b[0;34m)\u001b[0m\u001b[0;34m:\u001b[0m\u001b[0;34m\u001b[0m\u001b[0;34m\u001b[0m\u001b[0m\n\u001b[1;32m    207\u001b[0m         \u001b[0;34m\"\"\"Schedule a func to be run\"\"\"\u001b[0m\u001b[0;34m\u001b[0m\u001b[0;34m\u001b[0m\u001b[0m\n\u001b[0;32m--> 208\u001b[0;31m         \u001b[0mresult\u001b[0m \u001b[0;34m=\u001b[0m \u001b[0mImmediateResult\u001b[0m\u001b[0;34m(\u001b[0m\u001b[0mfunc\u001b[0m\u001b[0;34m)\u001b[0m\u001b[0;34m\u001b[0m\u001b[0;34m\u001b[0m\u001b[0m\n\u001b[0m\u001b[1;32m    209\u001b[0m         \u001b[0;32mif\u001b[0m \u001b[0mcallback\u001b[0m\u001b[0;34m:\u001b[0m\u001b[0;34m\u001b[0m\u001b[0;34m\u001b[0m\u001b[0m\n\u001b[1;32m    210\u001b[0m             \u001b[0mcallback\u001b[0m\u001b[0;34m(\u001b[0m\u001b[0mresult\u001b[0m\u001b[0;34m)\u001b[0m\u001b[0;34m\u001b[0m\u001b[0;34m\u001b[0m\u001b[0m\n",
            "\u001b[0;32m/opt/conda/lib/python3.9/site-packages/joblib/_parallel_backends.py\u001b[0m in \u001b[0;36m__init__\u001b[0;34m(self, batch)\u001b[0m\n\u001b[1;32m    595\u001b[0m         \u001b[0;31m# Don't delay the application, to avoid keeping the input\u001b[0m\u001b[0;34m\u001b[0m\u001b[0;34m\u001b[0m\u001b[0;34m\u001b[0m\u001b[0m\n\u001b[1;32m    596\u001b[0m         \u001b[0;31m# arguments in memory\u001b[0m\u001b[0;34m\u001b[0m\u001b[0;34m\u001b[0m\u001b[0;34m\u001b[0m\u001b[0m\n\u001b[0;32m--> 597\u001b[0;31m         \u001b[0mself\u001b[0m\u001b[0;34m.\u001b[0m\u001b[0mresults\u001b[0m \u001b[0;34m=\u001b[0m \u001b[0mbatch\u001b[0m\u001b[0;34m(\u001b[0m\u001b[0;34m)\u001b[0m\u001b[0;34m\u001b[0m\u001b[0;34m\u001b[0m\u001b[0m\n\u001b[0m\u001b[1;32m    598\u001b[0m \u001b[0;34m\u001b[0m\u001b[0m\n\u001b[1;32m    599\u001b[0m     \u001b[0;32mdef\u001b[0m \u001b[0mget\u001b[0m\u001b[0;34m(\u001b[0m\u001b[0mself\u001b[0m\u001b[0;34m)\u001b[0m\u001b[0;34m:\u001b[0m\u001b[0;34m\u001b[0m\u001b[0;34m\u001b[0m\u001b[0m\n",
            "\u001b[0;32m/opt/conda/lib/python3.9/site-packages/joblib/parallel.py\u001b[0m in \u001b[0;36m__call__\u001b[0;34m(self)\u001b[0m\n\u001b[1;32m    286\u001b[0m         \u001b[0;31m# change the default number of processes to -1\u001b[0m\u001b[0;34m\u001b[0m\u001b[0;34m\u001b[0m\u001b[0;34m\u001b[0m\u001b[0m\n\u001b[1;32m    287\u001b[0m         \u001b[0;32mwith\u001b[0m \u001b[0mparallel_backend\u001b[0m\u001b[0;34m(\u001b[0m\u001b[0mself\u001b[0m\u001b[0;34m.\u001b[0m\u001b[0m_backend\u001b[0m\u001b[0;34m,\u001b[0m \u001b[0mn_jobs\u001b[0m\u001b[0;34m=\u001b[0m\u001b[0mself\u001b[0m\u001b[0;34m.\u001b[0m\u001b[0m_n_jobs\u001b[0m\u001b[0;34m)\u001b[0m\u001b[0;34m:\u001b[0m\u001b[0;34m\u001b[0m\u001b[0;34m\u001b[0m\u001b[0m\n\u001b[0;32m--> 288\u001b[0;31m             return [func(*args, **kwargs)\n\u001b[0m\u001b[1;32m    289\u001b[0m                     for func, args, kwargs in self.items]\n\u001b[1;32m    290\u001b[0m \u001b[0;34m\u001b[0m\u001b[0m\n",
            "\u001b[0;32m/opt/conda/lib/python3.9/site-packages/joblib/parallel.py\u001b[0m in \u001b[0;36m<listcomp>\u001b[0;34m(.0)\u001b[0m\n\u001b[1;32m    286\u001b[0m         \u001b[0;31m# change the default number of processes to -1\u001b[0m\u001b[0;34m\u001b[0m\u001b[0;34m\u001b[0m\u001b[0;34m\u001b[0m\u001b[0m\n\u001b[1;32m    287\u001b[0m         \u001b[0;32mwith\u001b[0m \u001b[0mparallel_backend\u001b[0m\u001b[0;34m(\u001b[0m\u001b[0mself\u001b[0m\u001b[0;34m.\u001b[0m\u001b[0m_backend\u001b[0m\u001b[0;34m,\u001b[0m \u001b[0mn_jobs\u001b[0m\u001b[0;34m=\u001b[0m\u001b[0mself\u001b[0m\u001b[0;34m.\u001b[0m\u001b[0m_n_jobs\u001b[0m\u001b[0;34m)\u001b[0m\u001b[0;34m:\u001b[0m\u001b[0;34m\u001b[0m\u001b[0;34m\u001b[0m\u001b[0m\n\u001b[0;32m--> 288\u001b[0;31m             return [func(*args, **kwargs)\n\u001b[0m\u001b[1;32m    289\u001b[0m                     for func, args, kwargs in self.items]\n\u001b[1;32m    290\u001b[0m \u001b[0;34m\u001b[0m\u001b[0m\n",
            "\u001b[0;32m/opt/conda/lib/python3.9/site-packages/sklearn/utils/parallel.py\u001b[0m in \u001b[0;36m__call__\u001b[0;34m(self, *args, **kwargs)\u001b[0m\n\u001b[1;32m    121\u001b[0m             \u001b[0mconfig\u001b[0m \u001b[0;34m=\u001b[0m \u001b[0;34m{\u001b[0m\u001b[0;34m}\u001b[0m\u001b[0;34m\u001b[0m\u001b[0;34m\u001b[0m\u001b[0m\n\u001b[1;32m    122\u001b[0m         \u001b[0;32mwith\u001b[0m \u001b[0mconfig_context\u001b[0m\u001b[0;34m(\u001b[0m\u001b[0;34m**\u001b[0m\u001b[0mconfig\u001b[0m\u001b[0;34m)\u001b[0m\u001b[0;34m:\u001b[0m\u001b[0;34m\u001b[0m\u001b[0;34m\u001b[0m\u001b[0m\n\u001b[0;32m--> 123\u001b[0;31m             \u001b[0;32mreturn\u001b[0m \u001b[0mself\u001b[0m\u001b[0;34m.\u001b[0m\u001b[0mfunction\u001b[0m\u001b[0;34m(\u001b[0m\u001b[0;34m*\u001b[0m\u001b[0margs\u001b[0m\u001b[0;34m,\u001b[0m \u001b[0;34m**\u001b[0m\u001b[0mkwargs\u001b[0m\u001b[0;34m)\u001b[0m\u001b[0;34m\u001b[0m\u001b[0;34m\u001b[0m\u001b[0m\n\u001b[0m",
            "\u001b[0;32m/opt/conda/lib/python3.9/site-packages/sklearn/model_selection/_validation.py\u001b[0m in \u001b[0;36m_fit_and_score\u001b[0;34m(estimator, X, y, scorer, train, test, verbose, parameters, fit_params, return_train_score, return_parameters, return_n_test_samples, return_times, return_estimator, split_progress, candidate_progress, error_score)\u001b[0m\n\u001b[1;32m    684\u001b[0m             \u001b[0mestimator\u001b[0m\u001b[0;34m.\u001b[0m\u001b[0mfit\u001b[0m\u001b[0;34m(\u001b[0m\u001b[0mX_train\u001b[0m\u001b[0;34m,\u001b[0m \u001b[0;34m**\u001b[0m\u001b[0mfit_params\u001b[0m\u001b[0;34m)\u001b[0m\u001b[0;34m\u001b[0m\u001b[0;34m\u001b[0m\u001b[0m\n\u001b[1;32m    685\u001b[0m         \u001b[0;32melse\u001b[0m\u001b[0;34m:\u001b[0m\u001b[0;34m\u001b[0m\u001b[0;34m\u001b[0m\u001b[0m\n\u001b[0;32m--> 686\u001b[0;31m             \u001b[0mestimator\u001b[0m\u001b[0;34m.\u001b[0m\u001b[0mfit\u001b[0m\u001b[0;34m(\u001b[0m\u001b[0mX_train\u001b[0m\u001b[0;34m,\u001b[0m \u001b[0my_train\u001b[0m\u001b[0;34m,\u001b[0m \u001b[0;34m**\u001b[0m\u001b[0mfit_params\u001b[0m\u001b[0;34m)\u001b[0m\u001b[0;34m\u001b[0m\u001b[0;34m\u001b[0m\u001b[0m\n\u001b[0m\u001b[1;32m    687\u001b[0m \u001b[0;34m\u001b[0m\u001b[0m\n\u001b[1;32m    688\u001b[0m     \u001b[0;32mexcept\u001b[0m \u001b[0mException\u001b[0m\u001b[0;34m:\u001b[0m\u001b[0;34m\u001b[0m\u001b[0;34m\u001b[0m\u001b[0m\n",
            "\u001b[0;32m/opt/conda/lib/python3.9/site-packages/sklearn/linear_model/_base.py\u001b[0m in \u001b[0;36mfit\u001b[0;34m(self, X, y, sample_weight)\u001b[0m\n\u001b[1;32m    697\u001b[0m                 \u001b[0mself\u001b[0m\u001b[0;34m.\u001b[0m\u001b[0mcoef_\u001b[0m \u001b[0;34m=\u001b[0m \u001b[0mnp\u001b[0m\u001b[0;34m.\u001b[0m\u001b[0mvstack\u001b[0m\u001b[0;34m(\u001b[0m\u001b[0;34m[\u001b[0m\u001b[0mout\u001b[0m\u001b[0;34m[\u001b[0m\u001b[0;36m0\u001b[0m\u001b[0;34m]\u001b[0m \u001b[0;32mfor\u001b[0m \u001b[0mout\u001b[0m \u001b[0;32min\u001b[0m \u001b[0mouts\u001b[0m\u001b[0;34m]\u001b[0m\u001b[0;34m)\u001b[0m\u001b[0;34m\u001b[0m\u001b[0;34m\u001b[0m\u001b[0m\n\u001b[1;32m    698\u001b[0m         \u001b[0;32melse\u001b[0m\u001b[0;34m:\u001b[0m\u001b[0;34m\u001b[0m\u001b[0;34m\u001b[0m\u001b[0m\n\u001b[0;32m--> 699\u001b[0;31m             \u001b[0mself\u001b[0m\u001b[0;34m.\u001b[0m\u001b[0mcoef_\u001b[0m\u001b[0;34m,\u001b[0m \u001b[0m_\u001b[0m\u001b[0;34m,\u001b[0m \u001b[0mself\u001b[0m\u001b[0;34m.\u001b[0m\u001b[0mrank_\u001b[0m\u001b[0;34m,\u001b[0m \u001b[0mself\u001b[0m\u001b[0;34m.\u001b[0m\u001b[0msingular_\u001b[0m \u001b[0;34m=\u001b[0m \u001b[0mlinalg\u001b[0m\u001b[0;34m.\u001b[0m\u001b[0mlstsq\u001b[0m\u001b[0;34m(\u001b[0m\u001b[0mX\u001b[0m\u001b[0;34m,\u001b[0m \u001b[0my\u001b[0m\u001b[0;34m)\u001b[0m\u001b[0;34m\u001b[0m\u001b[0;34m\u001b[0m\u001b[0m\n\u001b[0m\u001b[1;32m    700\u001b[0m             \u001b[0mself\u001b[0m\u001b[0;34m.\u001b[0m\u001b[0mcoef_\u001b[0m \u001b[0;34m=\u001b[0m \u001b[0mself\u001b[0m\u001b[0;34m.\u001b[0m\u001b[0mcoef_\u001b[0m\u001b[0;34m.\u001b[0m\u001b[0mT\u001b[0m\u001b[0;34m\u001b[0m\u001b[0;34m\u001b[0m\u001b[0m\n\u001b[1;32m    701\u001b[0m \u001b[0;34m\u001b[0m\u001b[0m\n",
            "\u001b[0;32m/opt/conda/lib/python3.9/site-packages/scipy/linalg/_basic.py\u001b[0m in \u001b[0;36mlstsq\u001b[0;34m(a, b, cond, overwrite_a, overwrite_b, check_finite, lapack_driver)\u001b[0m\n\u001b[1;32m   1190\u001b[0m             \u001b[0;32mif\u001b[0m \u001b[0mreal_data\u001b[0m\u001b[0;34m:\u001b[0m\u001b[0;34m\u001b[0m\u001b[0;34m\u001b[0m\u001b[0m\n\u001b[1;32m   1191\u001b[0m                 \u001b[0mlwork\u001b[0m\u001b[0;34m,\u001b[0m \u001b[0miwork\u001b[0m \u001b[0;34m=\u001b[0m \u001b[0m_compute_lwork\u001b[0m\u001b[0;34m(\u001b[0m\u001b[0mlapack_lwork\u001b[0m\u001b[0;34m,\u001b[0m \u001b[0mm\u001b[0m\u001b[0;34m,\u001b[0m \u001b[0mn\u001b[0m\u001b[0;34m,\u001b[0m \u001b[0mnrhs\u001b[0m\u001b[0;34m,\u001b[0m \u001b[0mcond\u001b[0m\u001b[0;34m)\u001b[0m\u001b[0;34m\u001b[0m\u001b[0;34m\u001b[0m\u001b[0m\n\u001b[0;32m-> 1192\u001b[0;31m                 x, s, rank, info = lapack_func(a1, b1, lwork,\n\u001b[0m\u001b[1;32m   1193\u001b[0m                                                iwork, cond, False, False)\n\u001b[1;32m   1194\u001b[0m             \u001b[0;32melse\u001b[0m\u001b[0;34m:\u001b[0m  \u001b[0;31m# complex data\u001b[0m\u001b[0;34m\u001b[0m\u001b[0;34m\u001b[0m\u001b[0m\n",
            "\u001b[0;31mKeyboardInterrupt\u001b[0m: "
          ]
        }
      ]
    },
    {
      "cell_type": "markdown",
      "source": "# Модель решающего дерева",
      "metadata": {}
    },
    {
      "cell_type": "code",
      "source": "target = df_auto['Price']\nfeatures = df_auto.drop('Price', axis=1)\nfeatures_train, features_test, target_train, target_test = train_test_split(features, target, test_size=0.25, random_state=12345) \n\n\nprint(features_train.shape)\nprint(features_test.shape)",
      "metadata": {},
      "execution_count": 29,
      "outputs": [
        {
          "name": "stdout",
          "output_type": "stream",
          "text": "(175390, 10)\n\n(58464, 10)\n"
        }
      ]
    },
    {
      "cell_type": "code",
      "source": "df_auto.columns",
      "metadata": {},
      "execution_count": 30,
      "outputs": [
        {
          "execution_count": 30,
          "output_type": "execute_result",
          "data": {
            "text/plain": [
              "Index(['Price', 'VehicleType', 'RegistrationYear', 'Gearbox', 'Power', 'Model',\n",
              "       'Kilometer', 'RegistrationMonth', 'FuelType', 'Brand', 'Repaired'],\n",
              "      dtype='object')"
            ]
          },
          "metadata": {}
        }
      ]
    },
    {
      "cell_type": "markdown",
      "source": "# Приступим к кодированию признаков",
      "metadata": {}
    },
    {
      "cell_type": "code",
      "source": "from sklearn.preprocessing import OrdinalEncoder\n\nencoder = OrdinalEncoder(handle_unknown='ignore')\n\ncat_columns = ['VehicleType','FuelType','Brand','Model', 'Gearbox', 'Repaired']\n\nfeatures_train_oe = features_train.copy()\nfeatures_test_oe = features_test.copy()\n\nfeatures_train_oe[cat_columns] = encoder.fit_transform(features_train[cat_columns])\nfeatures_test_oe[cat_columns] = encoder.transform(features_test[cat_columns])\n",
      "metadata": {},
      "execution_count": 31,
      "outputs": [
        {
          "ename": "InvalidParameterError",
          "evalue": "The 'handle_unknown' parameter of OrdinalEncoder must be a str among {'use_encoded_value', 'error'}. Got 'ignore' instead.",
          "output_type": "error",
          "traceback": [
            "\u001b[0;31m---------------------------------------------------------------------------\u001b[0m",
            "\u001b[0;31mInvalidParameterError\u001b[0m                     Traceback (most recent call last)",
            "\u001b[0;32m/tmp/ipykernel_63/3118567953.py\u001b[0m in \u001b[0;36m<module>\u001b[0;34m\u001b[0m\n\u001b[1;32m      8\u001b[0m \u001b[0mfeatures_test_oe\u001b[0m \u001b[0;34m=\u001b[0m \u001b[0mfeatures_test\u001b[0m\u001b[0;34m.\u001b[0m\u001b[0mcopy\u001b[0m\u001b[0;34m(\u001b[0m\u001b[0;34m)\u001b[0m\u001b[0;34m\u001b[0m\u001b[0;34m\u001b[0m\u001b[0m\n\u001b[1;32m      9\u001b[0m \u001b[0;34m\u001b[0m\u001b[0m\n\u001b[0;32m---> 10\u001b[0;31m \u001b[0mfeatures_train_oe\u001b[0m\u001b[0;34m[\u001b[0m\u001b[0mcat_columns\u001b[0m\u001b[0;34m]\u001b[0m \u001b[0;34m=\u001b[0m \u001b[0mencoder\u001b[0m\u001b[0;34m.\u001b[0m\u001b[0mfit_transform\u001b[0m\u001b[0;34m(\u001b[0m\u001b[0mfeatures_train\u001b[0m\u001b[0;34m[\u001b[0m\u001b[0mcat_columns\u001b[0m\u001b[0;34m]\u001b[0m\u001b[0;34m)\u001b[0m\u001b[0;34m\u001b[0m\u001b[0;34m\u001b[0m\u001b[0m\n\u001b[0m\u001b[1;32m     11\u001b[0m \u001b[0mfeatures_test_oe\u001b[0m\u001b[0;34m[\u001b[0m\u001b[0mcat_columns\u001b[0m\u001b[0;34m]\u001b[0m \u001b[0;34m=\u001b[0m \u001b[0mencoder\u001b[0m\u001b[0;34m.\u001b[0m\u001b[0mtransform\u001b[0m\u001b[0;34m(\u001b[0m\u001b[0mfeatures_test\u001b[0m\u001b[0;34m[\u001b[0m\u001b[0mcat_columns\u001b[0m\u001b[0;34m]\u001b[0m\u001b[0;34m)\u001b[0m\u001b[0;34m\u001b[0m\u001b[0;34m\u001b[0m\u001b[0m\n",
            "\u001b[0;32m/opt/conda/lib/python3.9/site-packages/sklearn/utils/_set_output.py\u001b[0m in \u001b[0;36mwrapped\u001b[0;34m(self, X, *args, **kwargs)\u001b[0m\n\u001b[1;32m    140\u001b[0m     \u001b[0;34m@\u001b[0m\u001b[0mwraps\u001b[0m\u001b[0;34m(\u001b[0m\u001b[0mf\u001b[0m\u001b[0;34m)\u001b[0m\u001b[0;34m\u001b[0m\u001b[0;34m\u001b[0m\u001b[0m\n\u001b[1;32m    141\u001b[0m     \u001b[0;32mdef\u001b[0m \u001b[0mwrapped\u001b[0m\u001b[0;34m(\u001b[0m\u001b[0mself\u001b[0m\u001b[0;34m,\u001b[0m \u001b[0mX\u001b[0m\u001b[0;34m,\u001b[0m \u001b[0;34m*\u001b[0m\u001b[0margs\u001b[0m\u001b[0;34m,\u001b[0m \u001b[0;34m**\u001b[0m\u001b[0mkwargs\u001b[0m\u001b[0;34m)\u001b[0m\u001b[0;34m:\u001b[0m\u001b[0;34m\u001b[0m\u001b[0;34m\u001b[0m\u001b[0m\n\u001b[0;32m--> 142\u001b[0;31m         \u001b[0mdata_to_wrap\u001b[0m \u001b[0;34m=\u001b[0m \u001b[0mf\u001b[0m\u001b[0;34m(\u001b[0m\u001b[0mself\u001b[0m\u001b[0;34m,\u001b[0m \u001b[0mX\u001b[0m\u001b[0;34m,\u001b[0m \u001b[0;34m*\u001b[0m\u001b[0margs\u001b[0m\u001b[0;34m,\u001b[0m \u001b[0;34m**\u001b[0m\u001b[0mkwargs\u001b[0m\u001b[0;34m)\u001b[0m\u001b[0;34m\u001b[0m\u001b[0;34m\u001b[0m\u001b[0m\n\u001b[0m\u001b[1;32m    143\u001b[0m         \u001b[0;32mif\u001b[0m \u001b[0misinstance\u001b[0m\u001b[0;34m(\u001b[0m\u001b[0mdata_to_wrap\u001b[0m\u001b[0;34m,\u001b[0m \u001b[0mtuple\u001b[0m\u001b[0;34m)\u001b[0m\u001b[0;34m:\u001b[0m\u001b[0;34m\u001b[0m\u001b[0;34m\u001b[0m\u001b[0m\n\u001b[1;32m    144\u001b[0m             \u001b[0;31m# only wrap the first output for cross decomposition\u001b[0m\u001b[0;34m\u001b[0m\u001b[0;34m\u001b[0m\u001b[0;34m\u001b[0m\u001b[0m\n",
            "\u001b[0;32m/opt/conda/lib/python3.9/site-packages/sklearn/base.py\u001b[0m in \u001b[0;36mfit_transform\u001b[0;34m(self, X, y, **fit_params)\u001b[0m\n\u001b[1;32m    857\u001b[0m         \u001b[0;32mif\u001b[0m \u001b[0my\u001b[0m \u001b[0;32mis\u001b[0m \u001b[0;32mNone\u001b[0m\u001b[0;34m:\u001b[0m\u001b[0;34m\u001b[0m\u001b[0;34m\u001b[0m\u001b[0m\n\u001b[1;32m    858\u001b[0m             \u001b[0;31m# fit method of arity 1 (unsupervised transformation)\u001b[0m\u001b[0;34m\u001b[0m\u001b[0;34m\u001b[0m\u001b[0;34m\u001b[0m\u001b[0m\n\u001b[0;32m--> 859\u001b[0;31m             \u001b[0;32mreturn\u001b[0m \u001b[0mself\u001b[0m\u001b[0;34m.\u001b[0m\u001b[0mfit\u001b[0m\u001b[0;34m(\u001b[0m\u001b[0mX\u001b[0m\u001b[0;34m,\u001b[0m \u001b[0;34m**\u001b[0m\u001b[0mfit_params\u001b[0m\u001b[0;34m)\u001b[0m\u001b[0;34m.\u001b[0m\u001b[0mtransform\u001b[0m\u001b[0;34m(\u001b[0m\u001b[0mX\u001b[0m\u001b[0;34m)\u001b[0m\u001b[0;34m\u001b[0m\u001b[0;34m\u001b[0m\u001b[0m\n\u001b[0m\u001b[1;32m    860\u001b[0m         \u001b[0;32melse\u001b[0m\u001b[0;34m:\u001b[0m\u001b[0;34m\u001b[0m\u001b[0;34m\u001b[0m\u001b[0m\n\u001b[1;32m    861\u001b[0m             \u001b[0;31m# fit method of arity 2 (supervised transformation)\u001b[0m\u001b[0;34m\u001b[0m\u001b[0;34m\u001b[0m\u001b[0;34m\u001b[0m\u001b[0m\n",
            "\u001b[0;32m/opt/conda/lib/python3.9/site-packages/sklearn/preprocessing/_encoders.py\u001b[0m in \u001b[0;36mfit\u001b[0;34m(self, X, y)\u001b[0m\n\u001b[1;32m   1231\u001b[0m             \u001b[0mFitted\u001b[0m \u001b[0mencoder\u001b[0m\u001b[0;34m.\u001b[0m\u001b[0;34m\u001b[0m\u001b[0;34m\u001b[0m\u001b[0m\n\u001b[1;32m   1232\u001b[0m         \"\"\"\n\u001b[0;32m-> 1233\u001b[0;31m         \u001b[0mself\u001b[0m\u001b[0;34m.\u001b[0m\u001b[0m_validate_params\u001b[0m\u001b[0;34m(\u001b[0m\u001b[0;34m)\u001b[0m\u001b[0;34m\u001b[0m\u001b[0;34m\u001b[0m\u001b[0m\n\u001b[0m\u001b[1;32m   1234\u001b[0m \u001b[0;34m\u001b[0m\u001b[0m\n\u001b[1;32m   1235\u001b[0m         \u001b[0;32mif\u001b[0m \u001b[0mself\u001b[0m\u001b[0;34m.\u001b[0m\u001b[0mhandle_unknown\u001b[0m \u001b[0;34m==\u001b[0m \u001b[0;34m\"use_encoded_value\"\u001b[0m\u001b[0;34m:\u001b[0m\u001b[0;34m\u001b[0m\u001b[0;34m\u001b[0m\u001b[0m\n",
            "\u001b[0;32m/opt/conda/lib/python3.9/site-packages/sklearn/base.py\u001b[0m in \u001b[0;36m_validate_params\u001b[0;34m(self)\u001b[0m\n\u001b[1;32m    579\u001b[0m         \u001b[0maccepted\u001b[0m \u001b[0mconstraints\u001b[0m\u001b[0;34m.\u001b[0m\u001b[0;34m\u001b[0m\u001b[0;34m\u001b[0m\u001b[0m\n\u001b[1;32m    580\u001b[0m         \"\"\"\n\u001b[0;32m--> 581\u001b[0;31m         validate_parameter_constraints(\n\u001b[0m\u001b[1;32m    582\u001b[0m             \u001b[0mself\u001b[0m\u001b[0;34m.\u001b[0m\u001b[0m_parameter_constraints\u001b[0m\u001b[0;34m,\u001b[0m\u001b[0;34m\u001b[0m\u001b[0;34m\u001b[0m\u001b[0m\n\u001b[1;32m    583\u001b[0m             \u001b[0mself\u001b[0m\u001b[0;34m.\u001b[0m\u001b[0mget_params\u001b[0m\u001b[0;34m(\u001b[0m\u001b[0mdeep\u001b[0m\u001b[0;34m=\u001b[0m\u001b[0;32mFalse\u001b[0m\u001b[0;34m)\u001b[0m\u001b[0;34m,\u001b[0m\u001b[0;34m\u001b[0m\u001b[0;34m\u001b[0m\u001b[0m\n",
            "\u001b[0;32m/opt/conda/lib/python3.9/site-packages/sklearn/utils/_param_validation.py\u001b[0m in \u001b[0;36mvalidate_parameter_constraints\u001b[0;34m(parameter_constraints, params, caller_name)\u001b[0m\n\u001b[1;32m     95\u001b[0m                 )\n\u001b[1;32m     96\u001b[0m \u001b[0;34m\u001b[0m\u001b[0m\n\u001b[0;32m---> 97\u001b[0;31m             raise InvalidParameterError(\n\u001b[0m\u001b[1;32m     98\u001b[0m                 \u001b[0;34mf\"The {param_name!r} parameter of {caller_name} must be\"\u001b[0m\u001b[0;34m\u001b[0m\u001b[0;34m\u001b[0m\u001b[0m\n\u001b[1;32m     99\u001b[0m                 \u001b[0;34mf\" {constraints_str}. Got {param_val!r} instead.\"\u001b[0m\u001b[0;34m\u001b[0m\u001b[0;34m\u001b[0m\u001b[0m\n",
            "\u001b[0;31mInvalidParameterError\u001b[0m: The 'handle_unknown' parameter of OrdinalEncoder must be a str among {'use_encoded_value', 'error'}. Got 'ignore' instead."
          ]
        }
      ]
    },
    {
      "cell_type": "code",
      "source": "features_train.shape",
      "metadata": {},
      "execution_count": null,
      "outputs": []
    },
    {
      "cell_type": "code",
      "source": "model =  DecisionTreeRegressor()\nparam_grid = {'max_depth': [3,6,9,12,15,18], 'random_state':[1234]}\ntesting_model=GridSearchCV(estimator=model,\n                          param_grid = param_grid,\n                          scoring='neg_root_mean_squared_error',\n                          cv=3,\n                          verbose=3)\n\ntesting_model.fit(features_train_oe, target_train)\ndisplay(testing_model.best_params_)\ndisplay(testing_model.best_score_*-1)",
      "metadata": {},
      "execution_count": 72,
      "outputs": [
        {
          "name": "stdout",
          "output_type": "stream",
          "text": "Fitting 3 folds for each of 6 candidates, totalling 18 fits\n\n[CV 1/3] END .................max_depth=3, random_state=1234; total time=   0.1s\n\n[CV 2/3] END .................max_depth=3, random_state=1234; total time=   0.1s\n\n[CV 3/3] END .................max_depth=3, random_state=1234; total time=   0.1s\n\n[CV 1/3] END .................max_depth=6, random_state=1234; total time=   0.2s\n\n[CV 2/3] END .................max_depth=6, random_state=1234; total time=   0.2s\n\n[CV 3/3] END .................max_depth=6, random_state=1234; total time=   0.2s\n\n[CV 1/3] END .................max_depth=9, random_state=1234; total time=   0.2s\n\n[CV 2/3] END .................max_depth=9, random_state=1234; total time=   0.2s\n\n[CV 3/3] END .................max_depth=9, random_state=1234; total time=   0.3s\n\n[CV 1/3] END ................max_depth=12, random_state=1234; total time=   0.3s\n\n[CV 2/3] END ................max_depth=12, random_state=1234; total time=   0.3s\n\n[CV 3/3] END ................max_depth=12, random_state=1234; total time=   0.3s\n\n[CV 1/3] END ................max_depth=15, random_state=1234; total time=   0.4s\n\n[CV 2/3] END ................max_depth=15, random_state=1234; total time=   0.4s\n\n[CV 3/3] END ................max_depth=15, random_state=1234; total time=   0.4s\n\n[CV 1/3] END ................max_depth=18, random_state=1234; total time=   0.4s\n\n[CV 2/3] END ................max_depth=18, random_state=1234; total time=   0.4s\n\n[CV 3/3] END ................max_depth=18, random_state=1234; total time=   0.4s\n"
        },
        {
          "output_type": "display_data",
          "data": {
            "text/plain": [
              "{'max_depth': 12, 'random_state': 1234}"
            ]
          },
          "metadata": {}
        },
        {
          "output_type": "display_data",
          "data": {
            "text/plain": [
              "1127.2894045018536"
            ]
          },
          "metadata": {}
        }
      ]
    },
    {
      "cell_type": "markdown",
      "source": "# Модель случайного леса",
      "metadata": {}
    },
    {
      "cell_type": "code",
      "source": "model =  RandomForestRegressor()\nparam_grid = {'n_estimators': [100,500,1000], 'max_depth': [9],'random_state': [12345]}\ntesting_model=GridSearchCV(estimator=model,\n                          param_grid = param_grid,\n                          scoring='neg_root_mean_squared_error',\n                          cv=3,\n                          verbose=3)\n\ntesting_model.fit(features_train_oe, target_train)\ndisplay(testing_model.best_params_)\ndisplay(testing_model.best_score_*-1)",
      "metadata": {},
      "execution_count": 75,
      "outputs": [
        {
          "name": "stdout",
          "output_type": "stream",
          "text": "Fitting 3 folds for each of 3 candidates, totalling 9 fits\n\n[CV 1/3] END max_depth=9, n_estimators=100, random_state=12345; total time=  15.2s\n\n[CV 2/3] END max_depth=9, n_estimators=100, random_state=12345; total time=  15.1s\n\n[CV 3/3] END max_depth=9, n_estimators=100, random_state=12345; total time=  15.6s\n\n[CV 1/3] END max_depth=9, n_estimators=500, random_state=12345; total time= 1.2min\n\n[CV 2/3] END max_depth=9, n_estimators=500, random_state=12345; total time= 1.2min\n\n[CV 3/3] END max_depth=9, n_estimators=500, random_state=12345; total time= 1.3min\n\n[CV 1/3] END max_depth=9, n_estimators=1000, random_state=12345; total time= 2.5min\n\n[CV 2/3] END max_depth=9, n_estimators=1000, random_state=12345; total time= 2.5min\n\n[CV 3/3] END max_depth=9, n_estimators=1000, random_state=12345; total time= 2.5min\n"
        },
        {
          "output_type": "display_data",
          "data": {
            "text/plain": [
              "{'max_depth': 9, 'n_estimators': 500, 'random_state': 12345}"
            ]
          },
          "metadata": {}
        },
        {
          "output_type": "display_data",
          "data": {
            "text/plain": [
              "1126.1085642682933"
            ]
          },
          "metadata": {}
        }
      ]
    },
    {
      "cell_type": "markdown",
      "source": "# LightGBM",
      "metadata": {}
    },
    {
      "cell_type": "code",
      "source": "!pip install lightgbm\nimport lightgbm\nprint(lightgbm.__version__)\n\n\ntarget = df_auto['Price']\nfeatures = df_auto.drop('Price', axis=1)\n\n# переведем категориальные признаки в тип category\nfor c in features.columns:\n    col_type = features[c].dtype\n    if col_type == 'object':\n        features[c] = features[c].astype('category')\n\n#разделим выборки на обучающую и тестовую\nfeatures_train, features_test, target_train, target_test = train_test_split(features, target, test_size=0.25, random_state=12345) \n\n# проверим размер выборок\nprint(features_train.shape)\nprint(features_test.shape)",
      "metadata": {},
      "execution_count": 76,
      "outputs": [
        {
          "name": "stdout",
          "output_type": "stream",
          "text": "Requirement already satisfied: lightgbm in /opt/conda/lib/python3.9/site-packages (3.3.1)\n\nRequirement already satisfied: scikit-learn!=0.22.0 in /opt/conda/lib/python3.9/site-packages (from lightgbm) (0.24.1)\n\nRequirement already satisfied: wheel in /opt/conda/lib/python3.9/site-packages (from lightgbm) (0.36.2)\n\nRequirement already satisfied: scipy in /opt/conda/lib/python3.9/site-packages (from lightgbm) (1.9.1)\n\nRequirement already satisfied: numpy in /opt/conda/lib/python3.9/site-packages (from lightgbm) (1.21.1)\n\nRequirement already satisfied: threadpoolctl>=2.0.0 in /opt/conda/lib/python3.9/site-packages (from scikit-learn!=0.22.0->lightgbm) (3.1.0)\n\nRequirement already satisfied: joblib>=0.11 in /opt/conda/lib/python3.9/site-packages (from scikit-learn!=0.22.0->lightgbm) (1.1.0)\n\n3.3.1\n\n(175390, 10)\n\n(58464, 10)\n"
        }
      ]
    },
    {
      "cell_type": "code",
      "source": "param_grid = {'n_estimators': [100, 500, 1000], 'num_leaves': [n for n in range(20, 300, 20)]}",
      "metadata": {},
      "execution_count": 78,
      "outputs": []
    },
    {
      "cell_type": "code",
      "source": "model = lgb.LGBMRegressor(random_state=12345)\n\ntesting_model=GridSearchCV(estimator=model,\n                          param_grid = param_grid,\n                          scoring='neg_root_mean_squared_error',\n                          cv=3,\n                          verbose=3)\n\ntesting_model.fit(features_train, target_train)\ndisplay(testing_model.best_params_)\ndisplay(testing_model.best_score_*-1)",
      "metadata": {},
      "execution_count": 89,
      "outputs": [
        {
          "name": "stdout",
          "output_type": "stream",
          "text": "Fitting 3 folds for each of 42 candidates, totalling 126 fits\n\n[CV 1/3] END ................n_estimators=100, num_leaves=20; total time=   4.0s\n\n[CV 2/3] END ................n_estimators=100, num_leaves=20; total time=   4.1s\n\n[CV 3/3] END ................n_estimators=100, num_leaves=20; total time=   4.8s\n\n[CV 1/3] END ................n_estimators=100, num_leaves=40; total time=   4.7s\n\n[CV 2/3] END ................n_estimators=100, num_leaves=40; total time=   5.0s\n\n[CV 3/3] END ................n_estimators=100, num_leaves=40; total time=   4.7s\n\n[CV 1/3] END ................n_estimators=100, num_leaves=60; total time=   6.3s\n\n[CV 2/3] END ................n_estimators=100, num_leaves=60; total time=   5.8s\n\n[CV 3/3] END ................n_estimators=100, num_leaves=60; total time=   5.8s\n\n[CV 1/3] END ................n_estimators=100, num_leaves=80; total time=   7.3s\n\n[CV 2/3] END ................n_estimators=100, num_leaves=80; total time=   7.6s\n\n[CV 3/3] END ................n_estimators=100, num_leaves=80; total time=   6.8s\n\n[CV 1/3] END ...............n_estimators=100, num_leaves=100; total time=   7.3s\n\n[CV 2/3] END ...............n_estimators=100, num_leaves=100; total time=   8.4s\n\n[CV 3/3] END ...............n_estimators=100, num_leaves=100; total time=   8.7s\n\n[CV 1/3] END ...............n_estimators=100, num_leaves=120; total time=   8.0s\n\n[CV 2/3] END ...............n_estimators=100, num_leaves=120; total time=  10.3s\n\n[CV 3/3] END ...............n_estimators=100, num_leaves=120; total time=  10.0s\n\n[CV 1/3] END ...............n_estimators=100, num_leaves=140; total time=   9.7s\n\n[CV 2/3] END ...............n_estimators=100, num_leaves=140; total time=  10.5s\n\n[CV 3/3] END ...............n_estimators=100, num_leaves=140; total time=  11.0s\n\n[CV 1/3] END ...............n_estimators=100, num_leaves=160; total time=  12.4s\n\n[CV 2/3] END ...............n_estimators=100, num_leaves=160; total time=  10.7s\n\n[CV 3/3] END ...............n_estimators=100, num_leaves=160; total time=  11.9s\n\n[CV 1/3] END ...............n_estimators=100, num_leaves=180; total time=  29.4s\n\n[CV 2/3] END ...............n_estimators=100, num_leaves=180; total time=  18.6s\n\n[CV 3/3] END ...............n_estimators=100, num_leaves=180; total time=  12.1s\n\n[CV 1/3] END ...............n_estimators=100, num_leaves=200; total time=  12.0s\n\n[CV 2/3] END ...............n_estimators=100, num_leaves=200; total time=  13.2s\n\n[CV 3/3] END ...............n_estimators=100, num_leaves=200; total time=  12.8s\n\n[CV 1/3] END ...............n_estimators=100, num_leaves=220; total time=10.5min\n\n[CV 2/3] END ...............n_estimators=100, num_leaves=220; total time=  13.2s\n\n[CV 3/3] END ...............n_estimators=100, num_leaves=220; total time=  15.8s\n\n[CV 1/3] END ...............n_estimators=100, num_leaves=240; total time=  13.6s\n\n[CV 2/3] END ...............n_estimators=100, num_leaves=240; total time=  55.9s\n\n[CV 3/3] END ...............n_estimators=100, num_leaves=240; total time=45.2min\n\n[CV 1/3] END ...............n_estimators=100, num_leaves=260; total time=58.6min\n\n[CV 2/3] END ...............n_estimators=100, num_leaves=260; total time=50.0min\n\n[CV 3/3] END ...............n_estimators=100, num_leaves=260; total time= 1.8min\n\n[CV 1/3] END ...............n_estimators=100, num_leaves=280; total time=  14.8s\n\n[CV 2/3] END ...............n_estimators=100, num_leaves=280; total time=  21.1s\n\n[CV 3/3] END ...............n_estimators=100, num_leaves=280; total time=  20.5s\n\n[CV 1/3] END ................n_estimators=500, num_leaves=20; total time=  13.4s\n\n[CV 2/3] END ................n_estimators=500, num_leaves=20; total time=  15.8s\n\n[CV 3/3] END ................n_estimators=500, num_leaves=20; total time=  21.0s\n\n[CV 1/3] END ................n_estimators=500, num_leaves=40; total time=  17.2s\n\n[CV 2/3] END ................n_estimators=500, num_leaves=40; total time=  17.4s\n\n[CV 3/3] END ................n_estimators=500, num_leaves=40; total time=  17.4s\n\n[CV 1/3] END ................n_estimators=500, num_leaves=60; total time=  29.3s\n\n[CV 2/3] END ................n_estimators=500, num_leaves=60; total time=  22.5s\n\n[CV 3/3] END ................n_estimators=500, num_leaves=60; total time=  21.9s\n\n[CV 1/3] END ................n_estimators=500, num_leaves=80; total time=  24.5s\n\n[CV 2/3] END ................n_estimators=500, num_leaves=80; total time=  31.0s\n\n[CV 3/3] END ................n_estimators=500, num_leaves=80; total time=  36.0s\n\n[CV 1/3] END ...............n_estimators=500, num_leaves=100; total time=  30.4s\n\n[CV 2/3] END ...............n_estimators=500, num_leaves=100; total time=  36.5s\n\n[CV 3/3] END ...............n_estimators=500, num_leaves=100; total time=  31.0s\n\n[CV 1/3] END ...............n_estimators=500, num_leaves=120; total time=  33.7s\n\n[CV 2/3] END ...............n_estimators=500, num_leaves=120; total time=  36.7s\n\n[CV 3/3] END ...............n_estimators=500, num_leaves=120; total time=  35.2s\n\n[CV 1/3] END ...............n_estimators=500, num_leaves=140; total time=  38.5s\n\n[CV 2/3] END ...............n_estimators=500, num_leaves=140; total time=  41.9s\n\n[CV 3/3] END ...............n_estimators=500, num_leaves=140; total time=  40.2s\n\n[CV 1/3] END ...............n_estimators=500, num_leaves=160; total time=  45.6s\n\n[CV 2/3] END ...............n_estimators=500, num_leaves=160; total time=  45.6s\n\n[CV 3/3] END ...............n_estimators=500, num_leaves=160; total time=  50.8s\n\n[CV 1/3] END ...............n_estimators=500, num_leaves=180; total time=  54.7s\n\n[CV 2/3] END ...............n_estimators=500, num_leaves=180; total time=  50.2s\n\n[CV 3/3] END ...............n_estimators=500, num_leaves=180; total time=  47.3s\n\n[CV 1/3] END ...............n_estimators=500, num_leaves=200; total time=  51.6s\n\n[CV 2/3] END ...............n_estimators=500, num_leaves=200; total time=  52.5s\n\n[CV 3/3] END ...............n_estimators=500, num_leaves=200; total time=  51.0s\n\n[CV 1/3] END ...............n_estimators=500, num_leaves=220; total time=  55.3s\n\n[CV 2/3] END ...............n_estimators=500, num_leaves=220; total time= 1.0min\n\n[CV 3/3] END ...............n_estimators=500, num_leaves=220; total time=  59.5s\n\n[CV 1/3] END ...............n_estimators=500, num_leaves=240; total time= 1.0min\n\n[CV 2/3] END ...............n_estimators=500, num_leaves=240; total time= 1.1min\n\n[CV 3/3] END ...............n_estimators=500, num_leaves=240; total time=  58.7s\n\n[CV 1/3] END ...............n_estimators=500, num_leaves=260; total time= 1.0min\n\n[CV 2/3] END ...............n_estimators=500, num_leaves=260; total time= 1.2min\n\n[CV 3/3] END ...............n_estimators=500, num_leaves=260; total time= 1.1min\n\n[CV 1/3] END ...............n_estimators=500, num_leaves=280; total time= 1.1min\n\n[CV 2/3] END ...............n_estimators=500, num_leaves=280; total time= 1.2min\n\n[CV 3/3] END ...............n_estimators=500, num_leaves=280; total time= 1.1min\n\n[CV 1/3] END ...............n_estimators=1000, num_leaves=20; total time=  27.0s\n\n[CV 2/3] END ...............n_estimators=1000, num_leaves=20; total time=  25.8s\n\n[CV 3/3] END ...............n_estimators=1000, num_leaves=20; total time=  25.4s\n\n[CV 1/3] END ...............n_estimators=1000, num_leaves=40; total time= 1.3min\n\n[CV 2/3] END ...............n_estimators=1000, num_leaves=40; total time=  35.9s\n\n[CV 3/3] END ...............n_estimators=1000, num_leaves=40; total time=  36.8s\n\n[CV 1/3] END ...............n_estimators=1000, num_leaves=60; total time=  42.7s\n\n[CV 2/3] END ...............n_estimators=1000, num_leaves=60; total time=  52.5s\n\n[CV 3/3] END ...............n_estimators=1000, num_leaves=60; total time=  43.9s\n\n[CV 1/3] END ...............n_estimators=1000, num_leaves=80; total time=  50.3s\n\n[CV 2/3] END ...............n_estimators=1000, num_leaves=80; total time=  54.1s\n\n[CV 3/3] END ...............n_estimators=1000, num_leaves=80; total time= 2.0min\n\n[CV 1/3] END ..............n_estimators=1000, num_leaves=100; total time=  57.8s\n\n[CV 2/3] END ..............n_estimators=1000, num_leaves=100; total time= 1.2min\n\n[CV 3/3] END ..............n_estimators=1000, num_leaves=100; total time=  59.2s\n\n[CV 1/3] END ..............n_estimators=1000, num_leaves=120; total time= 1.3min\n\n[CV 2/3] END ..............n_estimators=1000, num_leaves=120; total time= 4.4min\n\n[CV 3/3] END ..............n_estimators=1000, num_leaves=120; total time= 2.7min\n\n[CV 1/3] END ..............n_estimators=1000, num_leaves=140; total time=39.8min\n\n[CV 2/3] END ..............n_estimators=1000, num_leaves=140; total time= 3.4min\n\n[CV 3/3] END ..............n_estimators=1000, num_leaves=140; total time= 1.3min\n\n[CV 1/3] END ..............n_estimators=1000, num_leaves=160; total time= 1.5min\n\n[CV 2/3] END ..............n_estimators=1000, num_leaves=160; total time=13.8min\n\n[CV 3/3] END ..............n_estimators=1000, num_leaves=160; total time= 1.5min\n\n[CV 1/3] END ..............n_estimators=1000, num_leaves=180; total time= 1.6min\n\n[CV 2/3] END ..............n_estimators=1000, num_leaves=180; total time=14.8min\n\n[CV 3/3] END ..............n_estimators=1000, num_leaves=180; total time=59.2min\n\n[CV 1/3] END ..............n_estimators=1000, num_leaves=200; total time=29.0min\n\n[CV 2/3] END ..............n_estimators=1000, num_leaves=200; total time=12.7min\n\n[CV 3/3] END ..............n_estimators=1000, num_leaves=200; total time= 7.0min\n\n[CV 1/3] END ..............n_estimators=1000, num_leaves=220; total time=16.4min\n\n[CV 2/3] END .............n_estimators=1000, num_leaves=220; total time=241.5min\n\n[CV 3/3] END ..............n_estimators=1000, num_leaves=220; total time= 5.6min\n\n[CV 1/3] END ..............n_estimators=1000, num_leaves=240; total time= 2.3min\n\n[CV 2/3] END ..............n_estimators=1000, num_leaves=240; total time= 2.3min\n\n[CV 3/3] END ..............n_estimators=1000, num_leaves=240; total time=76.4min\n\n[CV 1/3] END ..............n_estimators=1000, num_leaves=260; total time= 2.2min\n\n[CV 2/3] END ..............n_estimators=1000, num_leaves=260; total time= 2.4min\n\n[CV 3/3] END ..............n_estimators=1000, num_leaves=260; total time= 2.4min\n\n[CV 1/3] END ..............n_estimators=1000, num_leaves=280; total time= 5.5min\n\n[CV 2/3] END ..............n_estimators=1000, num_leaves=280; total time= 2.7min\n\n[CV 3/3] END ..............n_estimators=1000, num_leaves=280; total time= 2.3min\n"
        },
        {
          "output_type": "display_data",
          "data": {
            "text/plain": [
              "{'n_estimators': 500, 'num_leaves': 160}"
            ]
          },
          "metadata": {}
        },
        {
          "output_type": "display_data",
          "data": {
            "text/plain": [
              "931.8355125358025"
            ]
          },
          "metadata": {}
        }
      ]
    },
    {
      "cell_type": "markdown",
      "source": "# Итог второго этапа\n\nБыли обучены модели линейной регрессии, решающего дерева, случайного леса и LGBM. Лучшие гиперпараметры для LGBM: 'n_estimators' = 500, 'num_leaves' = 160 , дает RMSE = 931.835",
      "metadata": {}
    },
    {
      "cell_type": "markdown",
      "source": "## Анализ моделей",
      "metadata": {}
    },
    {
      "cell_type": "markdown",
      "source": "# Модель линейной регрессии\n",
      "metadata": {}
    },
    {
      "cell_type": "code",
      "source": "%%time\n\n# найдем время обучения модели линейной регрессии\nmodel = LinearRegression()\nmodel.fit(X_train_ohe, target_train)",
      "metadata": {},
      "execution_count": 90,
      "outputs": [
        {
          "name": "stdout",
          "output_type": "stream",
          "text": "CPU times: user 10 s, sys: 8.43 s, total: 18.5 s\n\nWall time: 18.6 s\n"
        },
        {
          "execution_count": 90,
          "output_type": "execute_result",
          "data": {
            "text/plain": [
              "LinearRegression()"
            ]
          },
          "metadata": {}
        }
      ]
    },
    {
      "cell_type": "code",
      "source": "%%time\n\n#построим предсказания на тренировочной выборке и найдем скорость\n\npredictions_train_ohe = model.predict(X_train_ohe)",
      "metadata": {},
      "execution_count": 91,
      "outputs": [
        {
          "name": "stdout",
          "output_type": "stream",
          "text": "CPU times: user 15.1 ms, sys: 16.8 ms, total: 31.9 ms\n\nWall time: 4.35 ms\n"
        }
      ]
    },
    {
      "cell_type": "markdown",
      "source": "# Модель решающего дерева",
      "metadata": {}
    },
    {
      "cell_type": "code",
      "source": "%%time\n\n# найдем время обучения модели решающего дерева\nmodel = DecisionTreeRegressor(random_state=1234, max_depth=12)\nmodel.fit(features_train_oe, target_train)",
      "metadata": {},
      "execution_count": 92,
      "outputs": [
        {
          "name": "stdout",
          "output_type": "stream",
          "text": "CPU times: user 377 ms, sys: 0 ns, total: 377 ms\n\nWall time: 375 ms\n"
        },
        {
          "execution_count": 92,
          "output_type": "execute_result",
          "data": {
            "text/plain": [
              "DecisionTreeRegressor(max_depth=12, random_state=1234)"
            ]
          },
          "metadata": {}
        }
      ]
    },
    {
      "cell_type": "code",
      "source": "%%time\n#построим предсказания на тренировочной выборке и найдем скорость\npredictions_train_oe = model.predict(features_train_oe)",
      "metadata": {},
      "execution_count": 93,
      "outputs": [
        {
          "name": "stdout",
          "output_type": "stream",
          "text": "CPU times: user 28.1 ms, sys: 0 ns, total: 28.1 ms\n\nWall time: 26.1 ms\n"
        }
      ]
    },
    {
      "cell_type": "markdown",
      "source": "# Модель случайного леса",
      "metadata": {}
    },
    {
      "cell_type": "code",
      "source": "%%time\n\n# обучим модель случайного леса\nmodel = RandomForestRegressor(random_state=12345, max_depth=9, n_estimators=500)\nmodel.fit(features_train_oe, target_train)",
      "metadata": {},
      "execution_count": 94,
      "outputs": [
        {
          "name": "stdout",
          "output_type": "stream",
          "text": "CPU times: user 1min 43s, sys: 122 ms, total: 1min 43s\n\nWall time: 1min 44s\n"
        },
        {
          "execution_count": 94,
          "output_type": "execute_result",
          "data": {
            "text/plain": [
              "RandomForestRegressor(max_depth=9, n_estimators=500, random_state=12345)"
            ]
          },
          "metadata": {}
        }
      ]
    },
    {
      "cell_type": "code",
      "source": "%%time\n#построим предсказания на тренировочной выборке\npredictions_train_oe = model.predict(features_train_oe)",
      "metadata": {},
      "execution_count": 95,
      "outputs": [
        {
          "name": "stdout",
          "output_type": "stream",
          "text": "CPU times: user 5.98 s, sys: 0 ns, total: 5.98 s\n\nWall time: 5.99 s\n"
        }
      ]
    },
    {
      "cell_type": "markdown",
      "source": "# Модель LightGBM",
      "metadata": {}
    },
    {
      "cell_type": "code",
      "source": "%%time\n# найдем время обучения LightGBM\n\nmodel = lgb.LGBMRegressor(random_state=12345,\n                          n_estimators=500,\n                          num_leaves=160)\nmodel.fit(features_train, target_train)",
      "metadata": {},
      "execution_count": 96,
      "outputs": [
        {
          "name": "stdout",
          "output_type": "stream",
          "text": "CPU times: user 42.4 s, sys: 167 ms, total: 42.6 s\n\nWall time: 43.2 s\n"
        },
        {
          "execution_count": 96,
          "output_type": "execute_result",
          "data": {
            "text/plain": [
              "LGBMRegressor(n_estimators=500, num_leaves=160, random_state=12345)"
            ]
          },
          "metadata": {}
        }
      ]
    },
    {
      "cell_type": "code",
      "source": "%%time\n#построим предсказания на тренировочной выборке и найдем скорость\npredictions_train = model.predict(features_train)",
      "metadata": {},
      "execution_count": 97,
      "outputs": [
        {
          "name": "stdout",
          "output_type": "stream",
          "text": "CPU times: user 20.1 s, sys: 6.04 ms, total: 20.1 s\n\nWall time: 20.1 s\n"
        }
      ]
    },
    {
      "cell_type": "code",
      "source": "lgb.plot_importance(model, height=.5)",
      "metadata": {},
      "execution_count": 99,
      "outputs": [
        {
          "execution_count": 99,
          "output_type": "execute_result",
          "data": {
            "text/plain": [
              "<AxesSubplot:title={'center':'Feature importance'}, xlabel='Feature importance', ylabel='Features'>"
            ]
          },
          "metadata": {}
        },
        {
          "output_type": "display_data",
          "data": {
            "image/png": "[encoded data removed]",
            "text/plain": [
              "<Figure size 432x288 with 1 Axes>"
            ]
          },
          "metadata": {
            "needs_background": "light"
          }
        }
      ]
    },
    {
      "cell_type": "markdown",
      "source": "# Таблица времени обучения и предсказания",
      "metadata": {}
    },
    {
      "cell_type": "code",
      "source": "tabledata = [[\"Линейная регрессия: обучение\", \"18,5 s\", \"18,6 s\"],\n             [\"Линейная регрессия: предсказание\", \"31,9 ms\", \"435 ms\"],\n         [\"Решающее дерево: обучение\", \"377 ms\", \" 375 ms\"],\n         [\"Решающее дерево: предсказание\", \"28,1 ms\", \"26,1 ms\"],\n         [\"Случайный лес: обучение\", \"1 min 43s\", \"1 min 44s\"],\n         [\"Случайный лес: предсказание\", \"5,98 s\", \"5,99 s\"],\n         [\"LightGBM: обучение\", \"42,6 s\", \"43,2 s\"],\n         [\"LightGBM: предсказание\", \"20,1 s\", \"20,1 s\"]]\ndf_table= pd.DataFrame(tabledata, columns=[\"модель\",\"CPU-times\", \"Wall time\"])\ndf_table = df_table.set_index('модель')\ndf_table.index.names = [None]\ndisplay(df_table)",
      "metadata": {
        "scrolled": true
      },
      "execution_count": 100,
      "outputs": [
        {
          "output_type": "display_data",
          "data": {
            "text/html": [
              "<div>\n",
              "<style scoped>\n",
              "    .dataframe tbody tr th:only-of-type {\n",
              "        vertical-align: middle;\n",
              "    }\n",
              "\n",
              "    .dataframe tbody tr th {\n",
              "        vertical-align: top;\n",
              "    }\n",
              "\n",
              "    .dataframe thead th {\n",
              "        text-align: right;\n",
              "    }\n",
              "</style>\n",
              "<table border=\"1\" class=\"dataframe\">\n",
              "  <thead>\n",
              "    <tr style=\"text-align: right;\">\n",
              "      <th></th>\n",
              "      <th>CPU-times</th>\n",
              "      <th>Wall time</th>\n",
              "    </tr>\n",
              "  </thead>\n",
              "  <tbody>\n",
              "    <tr>\n",
              "      <th>Линейная регрессия: обучение</th>\n",
              "      <td>18,5 s</td>\n",
              "      <td>18,6 s</td>\n",
              "    </tr>\n",
              "    <tr>\n",
              "      <th>Линейная регрессия: предсказание</th>\n",
              "      <td>31,9 ms</td>\n",
              "      <td>435 ms</td>\n",
              "    </tr>\n",
              "    <tr>\n",
              "      <th>Решающее дерево: обучение</th>\n",
              "      <td>377 ms</td>\n",
              "      <td>375 ms</td>\n",
              "    </tr>\n",
              "    <tr>\n",
              "      <th>Решающее дерево: предсказание</th>\n",
              "      <td>28,1 ms</td>\n",
              "      <td>26,1 ms</td>\n",
              "    </tr>\n",
              "    <tr>\n",
              "      <th>Случайный лес: обучение</th>\n",
              "      <td>1 min 43s</td>\n",
              "      <td>1 min 44s</td>\n",
              "    </tr>\n",
              "    <tr>\n",
              "      <th>Случайный лес: предсказание</th>\n",
              "      <td>5,98 s</td>\n",
              "      <td>5,99 s</td>\n",
              "    </tr>\n",
              "    <tr>\n",
              "      <th>LightGBM: обучение</th>\n",
              "      <td>42,6 s</td>\n",
              "      <td>43,2 s</td>\n",
              "    </tr>\n",
              "    <tr>\n",
              "      <th>LightGBM: предсказание</th>\n",
              "      <td>20,1 s</td>\n",
              "      <td>20,1 s</td>\n",
              "    </tr>\n",
              "  </tbody>\n",
              "</table>\n",
              "</div>"
            ],
            "text/plain": [
              "                                  CPU-times  Wall time\n",
              "Линейная регрессия: обучение         18,5 s     18,6 s\n",
              "Линейная регрессия: предсказание    31,9 ms     435 ms\n",
              "Решающее дерево: обучение            377 ms     375 ms\n",
              "Решающее дерево: предсказание       28,1 ms    26,1 ms\n",
              "Случайный лес: обучение           1 min 43s  1 min 44s\n",
              "Случайный лес: предсказание          5,98 s     5,99 s\n",
              "LightGBM: обучение                   42,6 s     43,2 s\n",
              "LightGBM: предсказание               20,1 s     20,1 s"
            ]
          },
          "metadata": {}
        }
      ]
    },
    {
      "cell_type": "code",
      "source": "tabledata = [[\"Линейная регрессия: RMSE\", \"55862078329.03\"],\n         [\"Решающее дерево: RMSE\", \"1127.28\"],\n         [\"Случайный лес: RMSE\", \"1126.10\"],\n         [\"LightGBM: RMSE\", \"919.38\"]]\n\n\ndf_table= pd.DataFrame(tabledata, columns=[\"модель\",\"RMSE\"])\ndf_table = df_table.set_index('модель')\ndf_table.index.names = [None]\ndisplay(df_table)",
      "metadata": {},
      "execution_count": 104,
      "outputs": [
        {
          "output_type": "display_data",
          "data": {
            "text/html": [
              "<div>\n",
              "<style scoped>\n",
              "    .dataframe tbody tr th:only-of-type {\n",
              "        vertical-align: middle;\n",
              "    }\n",
              "\n",
              "    .dataframe tbody tr th {\n",
              "        vertical-align: top;\n",
              "    }\n",
              "\n",
              "    .dataframe thead th {\n",
              "        text-align: right;\n",
              "    }\n",
              "</style>\n",
              "<table border=\"1\" class=\"dataframe\">\n",
              "  <thead>\n",
              "    <tr style=\"text-align: right;\">\n",
              "      <th></th>\n",
              "      <th>RMSE</th>\n",
              "    </tr>\n",
              "  </thead>\n",
              "  <tbody>\n",
              "    <tr>\n",
              "      <th>Линейная регрессия: RMSE</th>\n",
              "      <td>55862078329.03</td>\n",
              "    </tr>\n",
              "    <tr>\n",
              "      <th>Решающее дерево: RMSE</th>\n",
              "      <td>1127.28</td>\n",
              "    </tr>\n",
              "    <tr>\n",
              "      <th>Случайный лес: RMSE</th>\n",
              "      <td>1126.10</td>\n",
              "    </tr>\n",
              "    <tr>\n",
              "      <th>LightGBM: RMSE</th>\n",
              "      <td>919.38</td>\n",
              "    </tr>\n",
              "  </tbody>\n",
              "</table>\n",
              "</div>"
            ],
            "text/plain": [
              "                                    RMSE\n",
              "Линейная регрессия: RMSE  55862078329.03\n",
              "Решающее дерево: RMSE            1127.28\n",
              "Случайный лес: RMSE              1126.10\n",
              "LightGBM: RMSE                    919.38"
            ]
          },
          "metadata": {}
        }
      ]
    },
    {
      "cell_type": "markdown",
      "source": "# Проверка лучшей модели на тестовой выборке",
      "metadata": {}
    },
    {
      "cell_type": "code",
      "source": "predictions_test = model.predict(features_test)\nrmse = mean_squared_error(target_test, predictions_test)**0.5\nprint(rmse)",
      "metadata": {},
      "execution_count": 103,
      "outputs": [
        {
          "name": "stdout",
          "output_type": "stream",
          "text": "919.3880024084755\n"
        }
      ]
    },
    {
      "cell_type": "markdown",
      "source": "# Вывод по этапу 3\n\n\nСамое долгое время обучения - у модели случайного леса. Модель LightGBM имеет подходящую скорость обучения и предсказания, около 40 секунд на обучение и около 20 секунд на предсказание. При этой скорости данная модель также показывает RMSE = 919.38. ",
      "metadata": {}
    },
    {
      "cell_type": "markdown",
      "source": "# Общий вывод\n\n1) В первую очередь мы ознакомились с данными, обработали пропуски, удалили неинформативные столбцы и избавились от дубликатов и аномалий.\n\n\n2) На данном этапе мы закодировали данные и сравнили эффективность различных моделей. Обучили разные модели, подобрали гиперпараметры для них, выяснилось, что лучшие гиперпараметры для LGBM: 'n_estimators' = 500, 'num_leaves' = 160 , дает RMSE = 919.38. \n\n\n3) В заключительном этапе мы провели сравнение в времени обучения всех используемых моделей. Самое долгое время обучения - у модели случайного леса. Модель LightGBM имеет подходящую скорость обучения и предсказания, около 40 секунд на обучение и около 20 секунд на предсказание. При этой скорости данная модель также показывает RMSE = 919.38. ",
      "metadata": {}
    }
  ]
}