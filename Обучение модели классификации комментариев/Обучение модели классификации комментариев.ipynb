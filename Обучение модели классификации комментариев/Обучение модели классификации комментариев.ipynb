{
  "metadata": {
    "ExecuteTimeLog": [
      {
        "duration": 1711,
        "start_time": "2022-12-24T12:49:47.415Z"
      },
      {
        "duration": 608,
        "start_time": "2022-12-24T12:50:01.146Z"
      },
      {
        "duration": 2726,
        "start_time": "2022-12-24T12:51:07.086Z"
      },
      {
        "duration": 12,
        "start_time": "2022-12-24T12:52:10.578Z"
      },
      {
        "duration": 227,
        "start_time": "2022-12-24T12:53:09.028Z"
      },
      {
        "duration": 2568,
        "start_time": "2022-12-24T12:55:02.249Z"
      },
      {
        "duration": 4,
        "start_time": "2022-12-24T12:55:23.120Z"
      },
      {
        "duration": 4,
        "start_time": "2022-12-24T12:55:34.859Z"
      },
      {
        "duration": 2018,
        "start_time": "2022-12-24T12:57:00.515Z"
      },
      {
        "duration": 19,
        "start_time": "2022-12-24T12:57:56.511Z"
      },
      {
        "duration": 9,
        "start_time": "2022-12-24T12:58:08.684Z"
      },
      {
        "duration": 746,
        "start_time": "2022-12-24T12:58:08.872Z"
      },
      {
        "duration": 7,
        "start_time": "2022-12-24T12:58:09.620Z"
      },
      {
        "duration": 225,
        "start_time": "2022-12-24T12:58:09.629Z"
      },
      {
        "duration": 2528,
        "start_time": "2022-12-24T12:58:09.856Z"
      },
      {
        "duration": 4,
        "start_time": "2022-12-24T12:58:12.386Z"
      },
      {
        "duration": 2062,
        "start_time": "2022-12-24T12:58:29.057Z"
      },
      {
        "duration": 2471,
        "start_time": "2022-12-24T12:58:31.121Z"
      },
      {
        "duration": 19,
        "start_time": "2022-12-24T12:58:33.594Z"
      },
      {
        "duration": 225,
        "start_time": "2022-12-24T12:58:33.615Z"
      },
      {
        "duration": 2618,
        "start_time": "2022-12-24T12:58:34.427Z"
      },
      {
        "duration": 3,
        "start_time": "2022-12-24T12:58:37.047Z"
      },
      {
        "duration": 2681,
        "start_time": "2022-12-24T12:58:38.372Z"
      },
      {
        "duration": 7,
        "start_time": "2022-12-24T13:01:05.813Z"
      },
      {
        "duration": 1802,
        "start_time": "2022-12-24T21:59:35.889Z"
      },
      {
        "duration": 4,
        "start_time": "2022-12-24T21:59:37.693Z"
      },
      {
        "duration": 1958,
        "start_time": "2022-12-24T22:02:36.693Z"
      },
      {
        "duration": 2350,
        "start_time": "2022-12-24T22:02:38.653Z"
      },
      {
        "duration": 12,
        "start_time": "2022-12-24T22:02:41.005Z"
      },
      {
        "duration": 249,
        "start_time": "2022-12-24T22:02:41.019Z"
      },
      {
        "duration": 2434,
        "start_time": "2022-12-24T22:02:41.270Z"
      },
      {
        "duration": 4,
        "start_time": "2022-12-24T22:02:43.706Z"
      },
      {
        "duration": 2682,
        "start_time": "2022-12-24T22:02:43.712Z"
      },
      {
        "duration": 13,
        "start_time": "2022-12-24T22:11:59.294Z"
      },
      {
        "duration": 780,
        "start_time": "2022-12-24T22:16:13.739Z"
      },
      {
        "duration": 592,
        "start_time": "2022-12-24T22:16:49.081Z"
      },
      {
        "duration": 808,
        "start_time": "2022-12-24T22:16:56.702Z"
      },
      {
        "duration": 8,
        "start_time": "2022-12-24T22:16:57.512Z"
      },
      {
        "duration": 238,
        "start_time": "2022-12-24T22:16:57.522Z"
      },
      {
        "duration": 2501,
        "start_time": "2022-12-24T22:16:58.201Z"
      },
      {
        "duration": 4,
        "start_time": "2022-12-24T22:17:00.704Z"
      },
      {
        "duration": 1863,
        "start_time": "2022-12-24T22:17:34.501Z"
      },
      {
        "duration": 2271,
        "start_time": "2022-12-24T22:17:36.366Z"
      },
      {
        "duration": 12,
        "start_time": "2022-12-24T22:17:38.639Z"
      },
      {
        "duration": 248,
        "start_time": "2022-12-24T22:17:38.654Z"
      },
      {
        "duration": 2463,
        "start_time": "2022-12-24T22:17:38.903Z"
      },
      {
        "duration": 4,
        "start_time": "2022-12-24T22:17:41.368Z"
      },
      {
        "duration": 2692,
        "start_time": "2022-12-24T22:17:41.373Z"
      },
      {
        "duration": 16,
        "start_time": "2022-12-24T22:23:24.949Z"
      },
      {
        "duration": 746,
        "start_time": "2022-12-24T22:23:25.989Z"
      },
      {
        "duration": 4,
        "start_time": "2022-12-24T22:23:44.788Z"
      },
      {
        "duration": 3,
        "start_time": "2022-12-24T22:23:52.872Z"
      },
      {
        "duration": 10,
        "start_time": "2022-12-24T22:24:02.750Z"
      },
      {
        "duration": 9,
        "start_time": "2022-12-24T22:24:12.470Z"
      },
      {
        "duration": 21,
        "start_time": "2022-12-24T22:26:14.269Z"
      },
      {
        "duration": 72084,
        "start_time": "2022-12-24T22:26:20.069Z"
      },
      {
        "duration": 913,
        "start_time": "2022-12-24T22:27:32.155Z"
      },
      {
        "duration": 702,
        "start_time": "2022-12-24T22:28:23.804Z"
      },
      {
        "duration": 627,
        "start_time": "2022-12-24T22:28:36.046Z"
      },
      {
        "duration": 774,
        "start_time": "2022-12-24T22:28:45.916Z"
      },
      {
        "duration": 35,
        "start_time": "2022-12-24T22:29:03.874Z"
      },
      {
        "duration": 7,
        "start_time": "2022-12-24T22:29:54.644Z"
      },
      {
        "duration": 810,
        "start_time": "2022-12-24T22:29:54.828Z"
      },
      {
        "duration": 8,
        "start_time": "2022-12-24T22:29:55.640Z"
      },
      {
        "duration": 252,
        "start_time": "2022-12-24T22:29:55.649Z"
      },
      {
        "duration": 2409,
        "start_time": "2022-12-24T22:29:55.903Z"
      },
      {
        "duration": 4,
        "start_time": "2022-12-24T22:29:58.314Z"
      },
      {
        "duration": 67402,
        "start_time": "2022-12-24T22:29:58.320Z"
      },
      {
        "duration": 10,
        "start_time": "2022-12-24T22:31:05.725Z"
      },
      {
        "duration": 613,
        "start_time": "2022-12-24T22:31:26.002Z"
      },
      {
        "duration": 34,
        "start_time": "2022-12-24T22:31:50.330Z"
      },
      {
        "duration": 32,
        "start_time": "2022-12-24T22:32:02.531Z"
      },
      {
        "duration": 7,
        "start_time": "2022-12-24T22:32:58.863Z"
      },
      {
        "duration": 832,
        "start_time": "2022-12-24T22:32:59.333Z"
      },
      {
        "duration": 12,
        "start_time": "2022-12-24T22:33:00.167Z"
      },
      {
        "duration": 264,
        "start_time": "2022-12-24T22:33:00.181Z"
      },
      {
        "duration": 113460,
        "start_time": "2022-12-24T22:33:02.688Z"
      },
      {
        "duration": 15,
        "start_time": "2022-12-24T22:36:51.743Z"
      },
      {
        "duration": 6,
        "start_time": "2022-12-24T22:36:59.457Z"
      },
      {
        "duration": 12,
        "start_time": "2022-12-24T22:37:27.708Z"
      },
      {
        "duration": 646,
        "start_time": "2022-12-24T22:37:30.036Z"
      },
      {
        "duration": 1923,
        "start_time": "2022-12-24T22:38:41.517Z"
      },
      {
        "duration": 2433,
        "start_time": "2022-12-24T22:38:43.442Z"
      },
      {
        "duration": 11,
        "start_time": "2022-12-24T22:38:45.878Z"
      },
      {
        "duration": 290,
        "start_time": "2022-12-24T22:38:45.891Z"
      },
      {
        "duration": 116113,
        "start_time": "2022-12-24T22:38:46.183Z"
      },
      {
        "duration": 6,
        "start_time": "2022-12-24T22:40:42.298Z"
      },
      {
        "duration": 24,
        "start_time": "2022-12-24T22:40:42.306Z"
      },
      {
        "duration": 11545,
        "start_time": "2022-12-24T22:40:42.332Z"
      },
      {
        "duration": 5,
        "start_time": "2022-12-24T22:50:57.512Z"
      },
      {
        "duration": 32,
        "start_time": "2022-12-24T22:53:17.990Z"
      },
      {
        "duration": 127,
        "start_time": "2022-12-24T22:53:34.679Z"
      },
      {
        "duration": 11124,
        "start_time": "2022-12-24T22:54:07.586Z"
      },
      {
        "duration": 3,
        "start_time": "2022-12-24T22:55:06.994Z"
      },
      {
        "duration": 37,
        "start_time": "2022-12-24T22:55:07.632Z"
      },
      {
        "duration": 17,
        "start_time": "2022-12-24T22:55:13.508Z"
      },
      {
        "duration": 9,
        "start_time": "2022-12-24T22:55:36.058Z"
      },
      {
        "duration": 1312,
        "start_time": "2022-12-24T22:55:39.843Z"
      },
      {
        "duration": 12,
        "start_time": "2022-12-24T22:57:00.534Z"
      },
      {
        "duration": 7,
        "start_time": "2022-12-24T22:57:25.223Z"
      },
      {
        "duration": 34917,
        "start_time": "2022-12-24T22:57:30.188Z"
      },
      {
        "duration": 53,
        "start_time": "2022-12-24T23:12:07.466Z"
      },
      {
        "duration": 8,
        "start_time": "2022-12-24T23:12:22.226Z"
      },
      {
        "duration": 33017,
        "start_time": "2022-12-24T23:12:25.980Z"
      },
      {
        "duration": 9086,
        "start_time": "2022-12-24T23:16:10.675Z"
      },
      {
        "duration": 10892,
        "start_time": "2022-12-24T23:16:47.414Z"
      },
      {
        "duration": 52,
        "start_time": "2022-12-24T23:19:56.838Z"
      },
      {
        "duration": 138,
        "start_time": "2022-12-24T23:20:14.434Z"
      },
      {
        "duration": 1712109,
        "start_time": "2022-12-24T23:20:18.968Z"
      },
      {
        "duration": 97292,
        "start_time": "2022-12-24T23:48:51.079Z"
      },
      {
        "duration": 24,
        "start_time": "2022-12-24T23:50:28.373Z"
      },
      {
        "duration": 0,
        "start_time": "2022-12-24T23:50:28.399Z"
      },
      {
        "duration": 211,
        "start_time": "2022-12-24T23:56:59.367Z"
      },
      {
        "duration": 1494,
        "start_time": "2022-12-24T23:57:56.690Z"
      },
      {
        "duration": 1496,
        "start_time": "2022-12-24T23:58:24.203Z"
      },
      {
        "duration": 149735,
        "start_time": "2022-12-24T23:59:33.949Z"
      },
      {
        "duration": 24794,
        "start_time": "2022-12-25T00:02:03.686Z"
      },
      {
        "duration": 217,
        "start_time": "2022-12-25T00:19:31.722Z"
      },
      {
        "duration": 2345,
        "start_time": "2022-12-25T00:20:10.634Z"
      },
      {
        "duration": 1589,
        "start_time": "2022-12-25T00:22:00.906Z"
      },
      {
        "duration": 195,
        "start_time": "2022-12-25T00:43:07.779Z"
      },
      {
        "duration": 302740,
        "start_time": "2022-12-25T00:43:18.400Z"
      },
      {
        "duration": 28047,
        "start_time": "2022-12-25T00:48:21.143Z"
      },
      {
        "duration": 12,
        "start_time": "2022-12-25T11:06:07.167Z"
      },
      {
        "duration": 266,
        "start_time": "2022-12-25T11:06:16.124Z"
      },
      {
        "duration": 754,
        "start_time": "2022-12-25T11:06:16.392Z"
      },
      {
        "duration": 8,
        "start_time": "2022-12-25T11:06:17.148Z"
      },
      {
        "duration": 229,
        "start_time": "2022-12-25T11:06:17.158Z"
      },
      {
        "duration": 96512,
        "start_time": "2022-12-25T11:06:17.389Z"
      },
      {
        "duration": 5,
        "start_time": "2022-12-25T11:07:53.904Z"
      },
      {
        "duration": 32,
        "start_time": "2022-12-25T11:07:53.912Z"
      },
      {
        "duration": 10751,
        "start_time": "2022-12-25T11:07:53.946Z"
      },
      {
        "duration": 4,
        "start_time": "2022-12-25T11:08:04.699Z"
      },
      {
        "duration": 26,
        "start_time": "2022-12-25T11:08:04.705Z"
      },
      {
        "duration": 1230,
        "start_time": "2022-12-25T11:08:04.733Z"
      },
      {
        "duration": 27940,
        "start_time": "2022-12-25T11:08:05.965Z"
      },
      {
        "duration": 14,
        "start_time": "2022-12-25T11:08:33.995Z"
      },
      {
        "duration": 4411,
        "start_time": "2022-12-25T11:09:04.699Z"
      },
      {
        "duration": 220,
        "start_time": "2022-12-25T11:13:22.301Z"
      },
      {
        "duration": 232,
        "start_time": "2022-12-25T11:13:37.896Z"
      },
      {
        "duration": 2131,
        "start_time": "2022-12-26T18:32:39.472Z"
      },
      {
        "duration": 2334,
        "start_time": "2022-12-26T18:32:41.606Z"
      },
      {
        "duration": 13,
        "start_time": "2022-12-26T18:32:45.435Z"
      },
      {
        "duration": 256,
        "start_time": "2022-12-26T18:32:46.096Z"
      },
      {
        "duration": 127,
        "start_time": "2022-12-26T18:42:11.294Z"
      },
      {
        "duration": 3344,
        "start_time": "2022-12-26T18:42:28.729Z"
      },
      {
        "duration": 655,
        "start_time": "2022-12-26T18:42:47.031Z"
      },
      {
        "duration": 835,
        "start_time": "2022-12-26T18:43:08.088Z"
      },
      {
        "duration": 692,
        "start_time": "2022-12-26T18:44:03.795Z"
      },
      {
        "duration": 645,
        "start_time": "2022-12-26T18:44:20.305Z"
      },
      {
        "duration": 680,
        "start_time": "2022-12-26T18:45:14.919Z"
      },
      {
        "duration": 156568,
        "start_time": "2022-12-26T18:46:35.946Z"
      },
      {
        "duration": 433,
        "start_time": "2022-12-26T18:50:47.034Z"
      },
      {
        "duration": 244300,
        "start_time": "2022-12-26T18:50:53.679Z"
      },
      {
        "duration": 5,
        "start_time": "2022-12-26T18:57:17.073Z"
      },
      {
        "duration": 1965,
        "start_time": "2022-12-26T19:08:34.669Z"
      },
      {
        "duration": 798,
        "start_time": "2022-12-26T19:08:36.636Z"
      },
      {
        "duration": 11,
        "start_time": "2022-12-26T19:08:37.436Z"
      },
      {
        "duration": 247,
        "start_time": "2022-12-26T19:08:37.449Z"
      },
      {
        "duration": 45,
        "start_time": "2022-12-26T19:08:53.743Z"
      },
      {
        "duration": 3068,
        "start_time": "2022-12-26T19:09:26.182Z"
      },
      {
        "duration": 0,
        "start_time": "2022-12-26T19:10:42.207Z"
      },
      {
        "duration": 5048,
        "start_time": "2022-12-26T19:10:42.353Z"
      },
      {
        "duration": 0,
        "start_time": "2022-12-26T19:14:03.563Z"
      },
      {
        "duration": 39005,
        "start_time": "2022-12-26T19:14:05.569Z"
      },
      {
        "duration": 53,
        "start_time": "2022-12-26T19:19:01.890Z"
      },
      {
        "duration": 901,
        "start_time": "2022-12-26T19:20:16.890Z"
      },
      {
        "duration": 5,
        "start_time": "2022-12-26T19:20:28.179Z"
      },
      {
        "duration": 7,
        "start_time": "2022-12-26T19:20:31.750Z"
      },
      {
        "duration": 742,
        "start_time": "2022-12-26T19:22:36.472Z"
      },
      {
        "duration": 5,
        "start_time": "2022-12-26T19:22:47.463Z"
      },
      {
        "duration": 1204,
        "start_time": "2022-12-26T19:23:32.839Z"
      },
      {
        "duration": 1510,
        "start_time": "2022-12-26T19:23:49.501Z"
      },
      {
        "duration": 1827,
        "start_time": "2022-12-26T19:24:47.055Z"
      },
      {
        "duration": 774,
        "start_time": "2022-12-26T19:24:48.884Z"
      },
      {
        "duration": 11,
        "start_time": "2022-12-26T19:24:49.660Z"
      },
      {
        "duration": 1145052,
        "start_time": "2022-12-26T19:24:54.345Z"
      },
      {
        "duration": 5,
        "start_time": "2022-12-26T19:54:25.381Z"
      },
      {
        "duration": 1776,
        "start_time": "2022-12-26T19:57:33.289Z"
      },
      {
        "duration": 1284,
        "start_time": "2022-12-26T20:01:22.869Z"
      },
      {
        "duration": 1932,
        "start_time": "2022-12-26T20:01:54.868Z"
      },
      {
        "duration": 825,
        "start_time": "2022-12-26T20:01:56.802Z"
      },
      {
        "duration": 13,
        "start_time": "2022-12-26T20:01:57.629Z"
      },
      {
        "duration": 260,
        "start_time": "2022-12-26T20:01:57.644Z"
      },
      {
        "duration": 1097188,
        "start_time": "2022-12-26T20:01:57.907Z"
      },
      {
        "duration": 2,
        "start_time": "2022-12-26T20:20:15.097Z"
      },
      {
        "duration": 4885,
        "start_time": "2022-12-26T20:33:04.150Z"
      },
      {
        "duration": 26,
        "start_time": "2022-12-26T20:35:05.712Z"
      },
      {
        "duration": 69,
        "start_time": "2022-12-26T20:36:23.166Z"
      },
      {
        "duration": 259,
        "start_time": "2022-12-26T20:36:29.322Z"
      },
      {
        "duration": 266,
        "start_time": "2022-12-26T20:37:43.280Z"
      },
      {
        "duration": 283,
        "start_time": "2022-12-26T20:38:08.844Z"
      },
      {
        "duration": 271,
        "start_time": "2022-12-26T20:38:27.213Z"
      },
      {
        "duration": 1511476,
        "start_time": "2022-12-26T20:38:30.331Z"
      },
      {
        "duration": 18,
        "start_time": "2022-12-26T21:03:41.809Z"
      },
      {
        "duration": 0,
        "start_time": "2022-12-26T21:03:41.829Z"
      },
      {
        "duration": 5,
        "start_time": "2022-12-26T21:11:41.302Z"
      },
      {
        "duration": 1296,
        "start_time": "2022-12-26T21:12:38.730Z"
      },
      {
        "duration": 1763,
        "start_time": "2022-12-26T21:13:40.835Z"
      },
      {
        "duration": 796,
        "start_time": "2022-12-26T21:13:42.600Z"
      },
      {
        "duration": 10,
        "start_time": "2022-12-26T21:13:43.398Z"
      },
      {
        "duration": 246,
        "start_time": "2022-12-26T21:13:43.410Z"
      },
      {
        "duration": 270,
        "start_time": "2022-12-26T21:13:43.995Z"
      },
      {
        "duration": 1473503,
        "start_time": "2022-12-26T21:13:45.354Z"
      },
      {
        "duration": 1146,
        "start_time": "2022-12-26T23:04:54.841Z"
      },
      {
        "duration": 168,
        "start_time": "2022-12-26T23:05:24.253Z"
      },
      {
        "duration": 767,
        "start_time": "2022-12-26T23:05:26.285Z"
      },
      {
        "duration": 7,
        "start_time": "2022-12-26T23:05:27.054Z"
      },
      {
        "duration": 228,
        "start_time": "2022-12-26T23:05:27.649Z"
      },
      {
        "duration": 7704,
        "start_time": "2022-12-26T23:05:29.345Z"
      },
      {
        "duration": 30428,
        "start_time": "2022-12-26T23:05:44.478Z"
      },
      {
        "duration": 7251,
        "start_time": "2022-12-26T23:06:21.219Z"
      },
      {
        "duration": 7770,
        "start_time": "2022-12-26T23:07:00.551Z"
      },
      {
        "duration": 7579,
        "start_time": "2022-12-26T23:07:26.993Z"
      },
      {
        "duration": 155,
        "start_time": "2022-12-26T23:11:01.557Z"
      },
      {
        "duration": 156,
        "start_time": "2022-12-26T23:11:18.090Z"
      },
      {
        "duration": 2,
        "start_time": "2022-12-26T23:11:29.614Z"
      },
      {
        "duration": 5,
        "start_time": "2022-12-26T23:11:37.493Z"
      },
      {
        "duration": 7559,
        "start_time": "2022-12-26T23:12:04.561Z"
      },
      {
        "duration": 7,
        "start_time": "2022-12-26T23:13:03.468Z"
      },
      {
        "duration": 760,
        "start_time": "2022-12-26T23:13:05.597Z"
      },
      {
        "duration": 8,
        "start_time": "2022-12-26T23:13:07.242Z"
      },
      {
        "duration": 213,
        "start_time": "2022-12-26T23:13:08.580Z"
      },
      {
        "duration": 223,
        "start_time": "2022-12-26T23:13:21.337Z"
      },
      {
        "duration": 2350,
        "start_time": "2022-12-26T23:15:06.070Z"
      },
      {
        "duration": 957819,
        "start_time": "2022-12-26T23:15:20.982Z"
      },
      {
        "duration": 5,
        "start_time": "2022-12-26T23:50:35.418Z"
      },
      {
        "duration": 11,
        "start_time": "2022-12-26T23:50:39.597Z"
      },
      {
        "duration": 4573,
        "start_time": "2022-12-26T23:50:56.389Z"
      },
      {
        "duration": 107326,
        "start_time": "2022-12-26T23:51:16.777Z"
      },
      {
        "duration": 144,
        "start_time": "2022-12-27T01:04:43.531Z"
      },
      {
        "duration": 301504,
        "start_time": "2022-12-27T12:43:25.043Z"
      },
      {
        "duration": 2,
        "start_time": "2022-12-27T12:48:26.549Z"
      },
      {
        "duration": 1966206,
        "start_time": "2022-12-27T12:48:26.553Z"
      },
      {
        "duration": 558326,
        "start_time": "2022-12-27T13:21:12.762Z"
      },
      {
        "duration": 511410,
        "start_time": "2022-12-27T18:32:21.169Z"
      },
      {
        "duration": 88,
        "start_time": "2022-12-27T19:16:52.105Z"
      },
      {
        "duration": 20,
        "start_time": "2022-12-27T19:23:53.958Z"
      },
      {
        "duration": 24055,
        "start_time": "2022-12-27T19:27:07.634Z"
      },
      {
        "duration": 66255,
        "start_time": "2022-12-27T19:27:53.280Z"
      }
    ],
    "toc": {
      "base_numbering": 1,
      "nav_menu": {},
      "number_sections": true,
      "sideBar": true,
      "skip_h1_title": true,
      "title_cell": "Содержание",
      "title_sidebar": "Contents",
      "toc_cell": true,
      "toc_position": {
        "height": "calc(100% - 180px)",
        "left": "10px",
        "top": "150px",
        "width": "302.391px"
      },
      "toc_section_display": true,
      "toc_window_display": false
    },
    "kernelspec": {
      "name": "python",
      "display_name": "Python (Pyodide)",
      "language": "python"
    },
    "language_info": {
      "codemirror_mode": {
        "name": "ipython",
        "version": 3
      },
      "file_extension": ".py",
      "mimetype": "text/x-python",
      "name": "python",
      "nbconvert_exporter": "python",
      "pygments_lexer": "ipython3",
      "version": "3.9.5"
    }
  },
  "nbformat_minor": 4,
  "nbformat": 4,
  "cells": [
    {
      "cell_type": "markdown",
      "source": "<h1>Содержание<span class=\"tocSkip\"></span></h1>\n<div class=\"toc\"><ul class=\"toc-item\"><li><span><a href=\"#Подготовка\" data-toc-modified-id=\"Подготовка-1\"><span class=\"toc-item-num\">1&nbsp;&nbsp;</span>Подготовка</a></span></li><li><span><a href=\"#Обучение\" data-toc-modified-id=\"Обучение-2\"><span class=\"toc-item-num\">2&nbsp;&nbsp;</span>Обучение</a></span></li><li><span><a href=\"#Выводы\" data-toc-modified-id=\"Выводы-3\"><span class=\"toc-item-num\">3&nbsp;&nbsp;</span>Выводы</a></span></li><li><span><a href=\"#Чек-лист-проверки\" data-toc-modified-id=\"Чек-лист-проверки-4\"><span class=\"toc-item-num\">4&nbsp;&nbsp;</span>Чек-лист проверки</a></span></li></ul></div>",
      "metadata": {
        "toc": true
      }
    },
    {
      "cell_type": "markdown",
      "source": "# Проект для «Викишоп»",
      "metadata": {}
    },
    {
      "cell_type": "markdown",
      "source": "Интернет-магазин «Викишоп» запускает новый сервис. Теперь пользователи могут редактировать и дополнять описания товаров, как в вики-сообществах. То есть клиенты предлагают свои правки и комментируют изменения других. Магазину нужен инструмент, который будет искать токсичные комментарии и отправлять их на модерацию. \n\nОбучим модель классифицировать комментарии на позитивные и негативные. В нашем распоряжении набор данных с разметкой о токсичности правок.\n\nПостроим модель со значением метрики качества *F1* не меньше 0.75. ",
      "metadata": {}
    },
    {
      "cell_type": "markdown",
      "source": "## Подготовка",
      "metadata": {}
    },
    {
      "cell_type": "code",
      "source": "import pandas as pd\nimport numpy as np\nimport nltk\nimport re\nimport matplotlib.pyplot as plt\nfrom tqdm import tqdm\n\nfrom sklearn.metrics import f1_score\nfrom sklearn.model_selection import train_test_split, cross_val_score, GridSearchCV\nfrom sklearn.linear_model import LogisticRegression\nfrom sklearn.ensemble import RandomForestClassifier\nfrom sklearn.svm import SVC\nfrom sklearn.feature_extraction.text import TfidfVectorizer\nfrom sklearn.feature_extraction.text import CountVectorizer \nfrom sklearn.utils import shuffle\nfrom sklearn.pipeline import Pipeline\nfrom catboost import CatBoostClassifier\n\nfrom pymystem3 import Mystem\nfrom nltk.corpus import stopwords\nfrom nltk.stem import WordNetLemmatizer \nnltk.download('stopwords')\nnltk.download('wordnet')\nnltk.download('punkt')\nstopwords = stopwords.words('english')",
      "metadata": {},
      "execution_count": 22,
      "outputs": [
        {
          "name": "stderr",
          "output_type": "stream",
          "text": "[nltk_data] Downloading package stopwords to /home/jovyan/nltk_data...\n\n[nltk_data]   Package stopwords is already up-to-date!\n\n[nltk_data] Downloading package wordnet to /home/jovyan/nltk_data...\n\n[nltk_data]   Package wordnet is already up-to-date!\n\n[nltk_data] Downloading package punkt to /home/jovyan/nltk_data...\n\n[nltk_data]   Package punkt is already up-to-date!\n"
        }
      ]
    },
    {
      "cell_type": "code",
      "source": "df_comm = pd.read_csv('/datasets/toxic_comments.csv')\ndf_comm.info()",
      "metadata": {},
      "execution_count": 23,
      "outputs": [
        {
          "name": "stdout",
          "output_type": "stream",
          "text": "<class 'pandas.core.frame.DataFrame'>\n\nRangeIndex: 159292 entries, 0 to 159291\n\nData columns (total 3 columns):\n\n #   Column      Non-Null Count   Dtype \n\n---  ------      --------------   ----- \n\n 0   Unnamed: 0  159292 non-null  int64 \n\n 1   text        159292 non-null  object\n\n 2   toxic       159292 non-null  int64 \n\ndtypes: int64(2), object(1)\n\nmemory usage: 3.6+ MB\n"
        }
      ]
    },
    {
      "cell_type": "code",
      "source": "df_comm.head(10)",
      "metadata": {},
      "execution_count": 24,
      "outputs": [
        {
          "execution_count": 24,
          "output_type": "execute_result",
          "data": {
            "text/html": [
              "<div>\n",
              "<style scoped>\n",
              "    .dataframe tbody tr th:only-of-type {\n",
              "        vertical-align: middle;\n",
              "    }\n",
              "\n",
              "    .dataframe tbody tr th {\n",
              "        vertical-align: top;\n",
              "    }\n",
              "\n",
              "    .dataframe thead th {\n",
              "        text-align: right;\n",
              "    }\n",
              "</style>\n",
              "<table border=\"1\" class=\"dataframe\">\n",
              "  <thead>\n",
              "    <tr style=\"text-align: right;\">\n",
              "      <th></th>\n",
              "      <th>Unnamed: 0</th>\n",
              "      <th>text</th>\n",
              "      <th>toxic</th>\n",
              "    </tr>\n",
              "  </thead>\n",
              "  <tbody>\n",
              "    <tr>\n",
              "      <th>0</th>\n",
              "      <td>0</td>\n",
              "      <td>Explanation\\nWhy the edits made under my usern...</td>\n",
              "      <td>0</td>\n",
              "    </tr>\n",
              "    <tr>\n",
              "      <th>1</th>\n",
              "      <td>1</td>\n",
              "      <td>D'aww! He matches this background colour I'm s...</td>\n",
              "      <td>0</td>\n",
              "    </tr>\n",
              "    <tr>\n",
              "      <th>2</th>\n",
              "      <td>2</td>\n",
              "      <td>Hey man, I'm really not trying to edit war. It...</td>\n",
              "      <td>0</td>\n",
              "    </tr>\n",
              "    <tr>\n",
              "      <th>3</th>\n",
              "      <td>3</td>\n",
              "      <td>\"\\nMore\\nI can't make any real suggestions on ...</td>\n",
              "      <td>0</td>\n",
              "    </tr>\n",
              "    <tr>\n",
              "      <th>4</th>\n",
              "      <td>4</td>\n",
              "      <td>You, sir, are my hero. Any chance you remember...</td>\n",
              "      <td>0</td>\n",
              "    </tr>\n",
              "    <tr>\n",
              "      <th>5</th>\n",
              "      <td>5</td>\n",
              "      <td>\"\\n\\nCongratulations from me as well, use the ...</td>\n",
              "      <td>0</td>\n",
              "    </tr>\n",
              "    <tr>\n",
              "      <th>6</th>\n",
              "      <td>6</td>\n",
              "      <td>COCKSUCKER BEFORE YOU PISS AROUND ON MY WORK</td>\n",
              "      <td>1</td>\n",
              "    </tr>\n",
              "    <tr>\n",
              "      <th>7</th>\n",
              "      <td>7</td>\n",
              "      <td>Your vandalism to the Matt Shirvington article...</td>\n",
              "      <td>0</td>\n",
              "    </tr>\n",
              "    <tr>\n",
              "      <th>8</th>\n",
              "      <td>8</td>\n",
              "      <td>Sorry if the word 'nonsense' was offensive to ...</td>\n",
              "      <td>0</td>\n",
              "    </tr>\n",
              "    <tr>\n",
              "      <th>9</th>\n",
              "      <td>9</td>\n",
              "      <td>alignment on this subject and which are contra...</td>\n",
              "      <td>0</td>\n",
              "    </tr>\n",
              "  </tbody>\n",
              "</table>\n",
              "</div>"
            ],
            "text/plain": [
              "   Unnamed: 0                                               text  toxic\n",
              "0           0  Explanation\\nWhy the edits made under my usern...      0\n",
              "1           1  D'aww! He matches this background colour I'm s...      0\n",
              "2           2  Hey man, I'm really not trying to edit war. It...      0\n",
              "3           3  \"\\nMore\\nI can't make any real suggestions on ...      0\n",
              "4           4  You, sir, are my hero. Any chance you remember...      0\n",
              "5           5  \"\\n\\nCongratulations from me as well, use the ...      0\n",
              "6           6       COCKSUCKER BEFORE YOU PISS AROUND ON MY WORK      1\n",
              "7           7  Your vandalism to the Matt Shirvington article...      0\n",
              "8           8  Sorry if the word 'nonsense' was offensive to ...      0\n",
              "9           9  alignment on this subject and which are contra...      0"
            ]
          },
          "metadata": {}
        }
      ]
    },
    {
      "cell_type": "code",
      "source": "print(f\"Количество дубликатов: {df_comm.duplicated().sum()}\")",
      "metadata": {
        "scrolled": true
      },
      "execution_count": 25,
      "outputs": [
        {
          "name": "stdout",
          "output_type": "stream",
          "text": "Количество дубликатов: 0\n"
        }
      ]
    },
    {
      "cell_type": "markdown",
      "source": "Очистим датафрейм от специальных символов, заглавных букв и разделителей строк",
      "metadata": {}
    },
    {
      "cell_type": "code",
      "source": "def cleaning(text):\n    text = re.sub(r\"(?:\\n|\\r)\", \" \", text)\n    text = re.sub(r\"[^a-zA-Z ]+\", \"\", text).strip()\n    text = text.lower()\n    return text\n\ndf_comm['text'] = df_comm['text'].apply(cleaning)\nprint(df_comm.head(20))",
      "metadata": {},
      "execution_count": 27,
      "outputs": [
        {
          "name": "stdout",
          "output_type": "stream",
          "text": "    Unnamed: 0                                               text  toxic\n\n0            0  explanation why the edits made under my userna...      0\n\n1            1  daww he matches this background colour im seem...      0\n\n2            2  hey man im really not trying to edit war its j...      0\n\n3            3  more i cant make any real suggestions on impro...      0\n\n4            4  you sir are my hero any chance you remember wh...      0\n\n5            5  congratulations from me as well use the tools ...      0\n\n6            6       cocksucker before you piss around on my work      1\n\n7            7  your vandalism to the matt shirvington article...      0\n\n8            8  sorry if the word nonsense was offensive to yo...      0\n\n9            9  alignment on this subject and which are contra...      0\n\n10          10  fair use rationale for imagewonjujpg  thanks f...      0\n\n11          11  bbq   be a man and lets discuss itmaybe over t...      0\n\n12          12  hey what is it   talk  what is it an exclusive...      1\n\n13          13  before you start throwing accusations and warn...      0\n\n14          14  oh and the girl above started her arguments wi...      0\n\n15          15  juelz santanas age  in  juelz santana was  yea...      0\n\n16          16  bye   dont look come or think of comming back ...      1\n\n17          17     redirect talkvoydan pop georgiev chernodrinski      0\n\n18          18  the mitsurugi point made no sense  why not arg...      0\n\n19          19  dont mean to bother you   i see that youre wri...      0\n"
        }
      ]
    },
    {
      "cell_type": "code",
      "source": "%%time\nimport sys\nimport spacy\n\nnlp = spacy.load(\"en_core_web_sm\", disable = ['parser','ner'])\ndef normalize(row):\n    doc = nlp(row)\n    lem_doc = ' '.join([token.lemma_ for token in doc if not (token.is_stop or token.is_punct)])\n    return lem_doc\n\n\ndf_comm['lemm_text'] = df_comm['text'].apply(normalize)\ndf_comm = df_comm.drop(['text'], axis = 1)\n\ndf_comm.head(10)",
      "metadata": {},
      "execution_count": 28,
      "outputs": [
        {
          "name": "stdout",
          "output_type": "stream",
          "text": "CPU times: user 15min 56s, sys: 751 ms, total: 15min 57s\n\nWall time: 15min 57s\n"
        },
        {
          "execution_count": 28,
          "output_type": "execute_result",
          "data": {
            "text/html": [
              "<div>\n",
              "<style scoped>\n",
              "    .dataframe tbody tr th:only-of-type {\n",
              "        vertical-align: middle;\n",
              "    }\n",
              "\n",
              "    .dataframe tbody tr th {\n",
              "        vertical-align: top;\n",
              "    }\n",
              "\n",
              "    .dataframe thead th {\n",
              "        text-align: right;\n",
              "    }\n",
              "</style>\n",
              "<table border=\"1\" class=\"dataframe\">\n",
              "  <thead>\n",
              "    <tr style=\"text-align: right;\">\n",
              "      <th></th>\n",
              "      <th>Unnamed: 0</th>\n",
              "      <th>toxic</th>\n",
              "      <th>lemm_text</th>\n",
              "    </tr>\n",
              "  </thead>\n",
              "  <tbody>\n",
              "    <tr>\n",
              "      <th>0</th>\n",
              "      <td>0</td>\n",
              "      <td>0</td>\n",
              "      <td>explanation edit username hardcore metallica f...</td>\n",
              "    </tr>\n",
              "    <tr>\n",
              "      <th>1</th>\n",
              "      <td>1</td>\n",
              "      <td>0</td>\n",
              "      <td>daww match background colour m seemingly stuck...</td>\n",
              "    </tr>\n",
              "    <tr>\n",
              "      <th>2</th>\n",
              "      <td>2</td>\n",
              "      <td>0</td>\n",
              "      <td>hey man m try edit war guy constantly remove r...</td>\n",
              "    </tr>\n",
              "    <tr>\n",
              "      <th>3</th>\n",
              "      <td>3</td>\n",
              "      <td>0</td>\n",
              "      <td>not real suggestion improvement   wonder secti...</td>\n",
              "    </tr>\n",
              "    <tr>\n",
              "      <th>4</th>\n",
              "      <td>4</td>\n",
              "      <td>0</td>\n",
              "      <td>sir hero chance remember page s</td>\n",
              "    </tr>\n",
              "    <tr>\n",
              "      <th>5</th>\n",
              "      <td>5</td>\n",
              "      <td>0</td>\n",
              "      <td>congratulation use tool   talk</td>\n",
              "    </tr>\n",
              "    <tr>\n",
              "      <th>6</th>\n",
              "      <td>6</td>\n",
              "      <td>1</td>\n",
              "      <td>cocksucker piss work</td>\n",
              "    </tr>\n",
              "    <tr>\n",
              "      <th>7</th>\n",
              "      <td>7</td>\n",
              "      <td>0</td>\n",
              "      <td>vandalism matt shirvington article revert   no...</td>\n",
              "    </tr>\n",
              "    <tr>\n",
              "      <th>8</th>\n",
              "      <td>8</td>\n",
              "      <td>0</td>\n",
              "      <td>sorry word nonsense offensive m intend write a...</td>\n",
              "    </tr>\n",
              "    <tr>\n",
              "      <th>9</th>\n",
              "      <td>9</td>\n",
              "      <td>0</td>\n",
              "      <td>alignment subject contrary dulithgow</td>\n",
              "    </tr>\n",
              "  </tbody>\n",
              "</table>\n",
              "</div>"
            ],
            "text/plain": [
              "   Unnamed: 0  toxic                                          lemm_text\n",
              "0           0      0  explanation edit username hardcore metallica f...\n",
              "1           1      0  daww match background colour m seemingly stuck...\n",
              "2           2      0  hey man m try edit war guy constantly remove r...\n",
              "3           3      0  not real suggestion improvement   wonder secti...\n",
              "4           4      0                    sir hero chance remember page s\n",
              "5           5      0                     congratulation use tool   talk\n",
              "6           6      1                               cocksucker piss work\n",
              "7           7      0  vandalism matt shirvington article revert   no...\n",
              "8           8      0  sorry word nonsense offensive m intend write a...\n",
              "9           9      0               alignment subject contrary dulithgow"
            ]
          },
          "metadata": {}
        }
      ]
    },
    {
      "cell_type": "code",
      "source": "print(df_comm.head(10))",
      "metadata": {},
      "execution_count": 29,
      "outputs": [
        {
          "name": "stdout",
          "output_type": "stream",
          "text": "   Unnamed: 0  toxic                                          lemm_text\n\n0           0      0  explanation edit username hardcore metallica f...\n\n1           1      0  daww match background colour m seemingly stuck...\n\n2           2      0  hey man m try edit war guy constantly remove r...\n\n3           3      0  not real suggestion improvement   wonder secti...\n\n4           4      0                    sir hero chance remember page s\n\n5           5      0                     congratulation use tool   talk\n\n6           6      1                               cocksucker piss work\n\n7           7      0  vandalism matt shirvington article revert   no...\n\n8           8      0  sorry word nonsense offensive m intend write a...\n\n9           9      0               alignment subject contrary dulithgow\n"
        }
      ]
    },
    {
      "cell_type": "markdown",
      "source": "Проверим сбалансированность классов",
      "metadata": {}
    },
    {
      "cell_type": "code",
      "source": "display(df_comm['toxic'].value_counts())\nclass_ratio = df_comm['toxic'].value_counts()[0] / df_comm['toxic'].value_counts()[1]\nprint(class_ratio)",
      "metadata": {},
      "execution_count": 30,
      "outputs": [
        {
          "output_type": "display_data",
          "data": {
            "text/plain": [
              "0    143106\n",
              "1     16186\n",
              "Name: toxic, dtype: int64"
            ]
          },
          "metadata": {}
        },
        {
          "name": "stdout",
          "output_type": "stream",
          "text": "8.841344371679229\n"
        }
      ]
    },
    {
      "cell_type": "markdown",
      "source": "Видим сильный  дисбаланс классов, избавимся от него",
      "metadata": {}
    },
    {
      "cell_type": "code",
      "source": "target = df_comm['toxic']\nfeatures = df_comm.drop(['toxic'], axis=1)\n\n\nfeatures_train, features_test, target_train, target_test=train_test_split(df_comm, target,test_size=0.1,random_state=42)\n\ncount_tf_idf = TfidfVectorizer(stop_words=stopwords)\n\nfeatures_train = count_tf_idf.fit_transform(features_train['lemm_text'])\nfeatures_test = count_tf_idf.transform(features_test['lemm_text'])\n\nprint(features_train.shape)\nprint(features_test.shape)",
      "metadata": {},
      "execution_count": 31,
      "outputs": [
        {
          "name": "stdout",
          "output_type": "stream",
          "text": "(143362, 190254)\n\n(15930, 190254)\n"
        }
      ]
    },
    {
      "cell_type": "code",
      "source": "cv_counts = 3\nmodel = LogisticRegression(class_weight='balanced')\ntrain_f1_balanced = cross_val_score(model, \n                                    features_train, \n                                    target_train, \n                                    cv=cv_counts, \n                                    scoring='f1').mean()\nprint('F1 на CV с балансированными классами', train_f1_balanced)",
      "metadata": {},
      "execution_count": 32,
      "outputs": [
        {
          "name": "stdout",
          "output_type": "stream",
          "text": "F1 на CV с балансированными классами 0.7525527042612357\n"
        }
      ]
    },
    {
      "cell_type": "markdown",
      "source": "# Итог первого этапа\n\nНа данном этапе мы ознакомились с данными, узнали их тип, общее количество строк. Проверили на дубликаты, очистили данные от специальных символов, заглавных букв и разделителей строк, а затем провели лемматизацию текста. Выявили сильный дисбаланс классов, ресемплировали данные и высчитали предварительную F1 меру с помощью кроссвалидации. ",
      "metadata": {}
    },
    {
      "cell_type": "markdown",
      "source": "## Обучение",
      "metadata": {}
    },
    {
      "cell_type": "markdown",
      "source": "Подберем параметры через Pipeline для Logistic Regression",
      "metadata": {}
    },
    {
      "cell_type": "code",
      "source": "%%time\npipe = Pipeline([\n    (\n    ('model', LogisticRegression(random_state=1234, solver='liblinear', max_iter=200))\n    )\n    ])\n\n\nparam_grid = [\n        {\n\n            'model': [LogisticRegression(random_state=1234, solver='liblinear')],\n            'model__penalty' : ['l1', 'l2'],\n            'model__C': list(range(1,15,3))\n        }\n]\ngrid = GridSearchCV(pipe, param_grid=param_grid, scoring='f1', cv = cv_counts, verbose=True, n_jobs=-1)\nbest_grid = grid.fit(features_train, target_train)\nprint('Лучшие параметры:', grid.best_params_)\nprint('Лучшая метрика:', grid.best_score_)",
      "metadata": {},
      "execution_count": 34,
      "outputs": [
        {
          "name": "stdout",
          "output_type": "stream",
          "text": "Fitting 3 folds for each of 10 candidates, totalling 30 fits\n\nЛучшие параметры: {'model': LogisticRegression(C=4, penalty='l1', random_state=1234, solver='liblinear'), 'model__C': 4, 'model__penalty': 'l1'}\n\nЛучшая метрика: 0.772752891688528\n\nCPU times: user 2min 56s, sys: 2min 4s, total: 5min\n\nWall time: 5min 1s\n"
        }
      ]
    },
    {
      "cell_type": "markdown",
      "source": "Проверим классификатор RandomForestClassifier ",
      "metadata": {}
    },
    {
      "cell_type": "code",
      "source": "%%time\nparams_forest = {\n    'n_estimators': list(range(50,300,50)),\n    'max_depth':[5,15],\n    'max_features' : list(range(1,20, 2))\n}\n\n\nmodel = RandomForestClassifier(random_state=12345)\n                                 \ngrid = GridSearchCV(model, param_grid=params_forest, scoring='f1', cv=3, verbose=True, n_jobs=-1)\nbest_grid = grid.fit(features_train, target_train)\nprint('Лучшие параметры:', grid.best_params_)\nprint('Лучшая метрика:', grid.best_score_)",
      "metadata": {
        "scrolled": true
      },
      "execution_count": 36,
      "outputs": [
        {
          "name": "stdout",
          "output_type": "stream",
          "text": "Fitting 3 folds for each of 100 candidates, totalling 300 fits\n\nЛучшие параметры: {'max_depth': 5, 'max_features': 1, 'n_estimators': 50}\n\nЛучшая метрика: 0.0\n\nCPU times: user 32min 40s, sys: 4.53 s, total: 32min 44s\n\nWall time: 32min 46s\n"
        }
      ]
    },
    {
      "cell_type": "markdown",
      "source": "Проверим классификатор CatBoostClassifier",
      "metadata": {}
    },
    {
      "cell_type": "code",
      "source": "%%time\n\nmodel = CatBoostClassifier(verbose=False, iterations=200)\nmodel.fit(features_train, target_train)\ntarget_predict = model.predict(features_test)\ncv_f1_CBC = cross_val_score(model,\n                                         features_train, \n                                         target_train, \n                                         cv=cv_counts, \n                                         scoring='f1').mean()\n\nprint('F1 на cv', cv_f1_CBC)\n",
      "metadata": {},
      "execution_count": 45,
      "outputs": [
        {
          "ename": "KeyboardInterrupt",
          "evalue": "",
          "output_type": "error",
          "traceback": [
            "\u001b[0;31m---------------------------------------------------------------------------\u001b[0m",
            "\u001b[0;31mKeyboardInterrupt\u001b[0m                         Traceback (most recent call last)",
            "\u001b[0;32m<timed exec>\u001b[0m in \u001b[0;36m<module>\u001b[0;34m\u001b[0m\n",
            "\u001b[0;32m/opt/conda/lib/python3.9/site-packages/catboost/core.py\u001b[0m in \u001b[0;36mfit\u001b[0;34m(self, X, y, cat_features, text_features, embedding_features, sample_weight, baseline, use_best_model, eval_set, verbose, logging_level, plot, column_description, verbose_eval, metric_period, silent, early_stopping_rounds, save_snapshot, snapshot_file, snapshot_interval, init_model, callbacks, log_cout, log_cerr)\u001b[0m\n\u001b[1;32m   4714\u001b[0m             \u001b[0mCatBoostClassifier\u001b[0m\u001b[0;34m.\u001b[0m\u001b[0m_check_is_compatible_loss\u001b[0m\u001b[0;34m(\u001b[0m\u001b[0mparams\u001b[0m\u001b[0;34m[\u001b[0m\u001b[0;34m'loss_function'\u001b[0m\u001b[0;34m]\u001b[0m\u001b[0;34m)\u001b[0m\u001b[0;34m\u001b[0m\u001b[0;34m\u001b[0m\u001b[0m\n\u001b[1;32m   4715\u001b[0m \u001b[0;34m\u001b[0m\u001b[0m\n\u001b[0;32m-> 4716\u001b[0;31m         self._fit(X, y, cat_features, text_features, embedding_features, None, sample_weight, None, None, None, None, baseline, use_best_model,\n\u001b[0m\u001b[1;32m   4717\u001b[0m                   \u001b[0meval_set\u001b[0m\u001b[0;34m,\u001b[0m \u001b[0mverbose\u001b[0m\u001b[0;34m,\u001b[0m \u001b[0mlogging_level\u001b[0m\u001b[0;34m,\u001b[0m \u001b[0mplot\u001b[0m\u001b[0;34m,\u001b[0m \u001b[0mcolumn_description\u001b[0m\u001b[0;34m,\u001b[0m \u001b[0mverbose_eval\u001b[0m\u001b[0;34m,\u001b[0m \u001b[0mmetric_period\u001b[0m\u001b[0;34m,\u001b[0m\u001b[0;34m\u001b[0m\u001b[0;34m\u001b[0m\u001b[0m\n\u001b[1;32m   4718\u001b[0m                   silent, early_stopping_rounds, save_snapshot, snapshot_file, snapshot_interval, init_model, callbacks, log_cout, log_cerr)\n",
            "\u001b[0;32m/opt/conda/lib/python3.9/site-packages/catboost/core.py\u001b[0m in \u001b[0;36m_fit\u001b[0;34m(self, X, y, cat_features, text_features, embedding_features, pairs, sample_weight, group_id, group_weight, subgroup_id, pairs_weight, baseline, use_best_model, eval_set, verbose, logging_level, plot, column_description, verbose_eval, metric_period, silent, early_stopping_rounds, save_snapshot, snapshot_file, snapshot_interval, init_model, callbacks, log_cout, log_cerr)\u001b[0m\n\u001b[1;32m   2035\u001b[0m         \u001b[0;32mwith\u001b[0m \u001b[0mlog_fixup\u001b[0m\u001b[0;34m(\u001b[0m\u001b[0mlog_cout\u001b[0m\u001b[0;34m,\u001b[0m \u001b[0mlog_cerr\u001b[0m\u001b[0;34m)\u001b[0m\u001b[0;34m,\u001b[0m\u001b[0;31m \u001b[0m\u001b[0;31m\\\u001b[0m\u001b[0;34m\u001b[0m\u001b[0;34m\u001b[0m\u001b[0m\n\u001b[1;32m   2036\u001b[0m             \u001b[0mplot_wrapper\u001b[0m\u001b[0;34m(\u001b[0m\u001b[0mplot\u001b[0m\u001b[0;34m,\u001b[0m \u001b[0;34m[\u001b[0m\u001b[0m_get_train_dir\u001b[0m\u001b[0;34m(\u001b[0m\u001b[0mself\u001b[0m\u001b[0;34m.\u001b[0m\u001b[0mget_params\u001b[0m\u001b[0;34m(\u001b[0m\u001b[0;34m)\u001b[0m\u001b[0;34m)\u001b[0m\u001b[0;34m]\u001b[0m\u001b[0;34m)\u001b[0m\u001b[0;34m:\u001b[0m\u001b[0;34m\u001b[0m\u001b[0;34m\u001b[0m\u001b[0m\n\u001b[0;32m-> 2037\u001b[0;31m             self._train(\n\u001b[0m\u001b[1;32m   2038\u001b[0m                 \u001b[0mtrain_pool\u001b[0m\u001b[0;34m,\u001b[0m\u001b[0;34m\u001b[0m\u001b[0;34m\u001b[0m\u001b[0m\n\u001b[1;32m   2039\u001b[0m                 \u001b[0mtrain_params\u001b[0m\u001b[0;34m[\u001b[0m\u001b[0;34m\"eval_sets\"\u001b[0m\u001b[0;34m]\u001b[0m\u001b[0;34m,\u001b[0m\u001b[0;34m\u001b[0m\u001b[0;34m\u001b[0m\u001b[0m\n",
            "\u001b[0;32m/opt/conda/lib/python3.9/site-packages/catboost/core.py\u001b[0m in \u001b[0;36m_train\u001b[0;34m(self, train_pool, test_pool, params, allow_clear_pool, init_model)\u001b[0m\n\u001b[1;32m   1462\u001b[0m \u001b[0;34m\u001b[0m\u001b[0m\n\u001b[1;32m   1463\u001b[0m     \u001b[0;32mdef\u001b[0m \u001b[0m_train\u001b[0m\u001b[0;34m(\u001b[0m\u001b[0mself\u001b[0m\u001b[0;34m,\u001b[0m \u001b[0mtrain_pool\u001b[0m\u001b[0;34m,\u001b[0m \u001b[0mtest_pool\u001b[0m\u001b[0;34m,\u001b[0m \u001b[0mparams\u001b[0m\u001b[0;34m,\u001b[0m \u001b[0mallow_clear_pool\u001b[0m\u001b[0;34m,\u001b[0m \u001b[0minit_model\u001b[0m\u001b[0;34m)\u001b[0m\u001b[0;34m:\u001b[0m\u001b[0;34m\u001b[0m\u001b[0;34m\u001b[0m\u001b[0m\n\u001b[0;32m-> 1464\u001b[0;31m         \u001b[0mself\u001b[0m\u001b[0;34m.\u001b[0m\u001b[0m_object\u001b[0m\u001b[0;34m.\u001b[0m\u001b[0m_train\u001b[0m\u001b[0;34m(\u001b[0m\u001b[0mtrain_pool\u001b[0m\u001b[0;34m,\u001b[0m \u001b[0mtest_pool\u001b[0m\u001b[0;34m,\u001b[0m \u001b[0mparams\u001b[0m\u001b[0;34m,\u001b[0m \u001b[0mallow_clear_pool\u001b[0m\u001b[0;34m,\u001b[0m \u001b[0minit_model\u001b[0m\u001b[0;34m.\u001b[0m\u001b[0m_object\u001b[0m \u001b[0;32mif\u001b[0m \u001b[0minit_model\u001b[0m \u001b[0;32melse\u001b[0m \u001b[0;32mNone\u001b[0m\u001b[0;34m)\u001b[0m\u001b[0;34m\u001b[0m\u001b[0;34m\u001b[0m\u001b[0m\n\u001b[0m\u001b[1;32m   1465\u001b[0m         \u001b[0mself\u001b[0m\u001b[0;34m.\u001b[0m\u001b[0m_set_trained_model_attributes\u001b[0m\u001b[0;34m(\u001b[0m\u001b[0;34m)\u001b[0m\u001b[0;34m\u001b[0m\u001b[0;34m\u001b[0m\u001b[0m\n\u001b[1;32m   1466\u001b[0m \u001b[0;34m\u001b[0m\u001b[0m\n",
            "\u001b[0;32m_catboost.pyx\u001b[0m in \u001b[0;36m_catboost._CatBoost._train\u001b[0;34m()\u001b[0m\n",
            "\u001b[0;32m_catboost.pyx\u001b[0m in \u001b[0;36m_catboost._CatBoost._train\u001b[0;34m()\u001b[0m\n",
            "\u001b[0;31mKeyboardInterrupt\u001b[0m: "
          ]
        }
      ]
    },
    {
      "cell_type": "markdown",
      "source": "Протестируем лучшую модель по оценкам на кросс-валидации и оценим ее с помощью тестовой выборки",
      "metadata": {}
    },
    {
      "cell_type": "code",
      "source": "model = LogisticRegression(random_state=1234, C = 4, penalty = 'l1', solver='liblinear', max_iter=200)\nmodel.fit(features_train, target_train)\npred_test = model.predict(features_test)\nf1_score(target_test, pred_test)",
      "metadata": {},
      "execution_count": 44,
      "outputs": [
        {
          "execution_count": 44,
          "output_type": "execute_result",
          "data": {
            "text/plain": [
              "0.7904312668463612"
            ]
          },
          "metadata": {}
        }
      ]
    },
    {
      "cell_type": "markdown",
      "source": "## Выводы",
      "metadata": {}
    },
    {
      "cell_type": "markdown",
      "source": "Лучший результат показала Logistic Regression c F1 мерой 0.79",
      "metadata": {}
    }
  ]
}