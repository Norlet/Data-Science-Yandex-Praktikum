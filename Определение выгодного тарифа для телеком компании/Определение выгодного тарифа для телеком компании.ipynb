{
  "metadata": {
    "ExecuteTimeLog": [
      {
        "duration": 423,
        "start_time": "2022-09-08T18:21:02.448Z"
      },
      {
        "duration": 131,
        "start_time": "2022-09-08T18:21:03.004Z"
      },
      {
        "duration": 40,
        "start_time": "2022-09-08T18:21:12.619Z"
      },
      {
        "duration": 13,
        "start_time": "2022-09-14T15:50:22.877Z"
      },
      {
        "duration": 11,
        "start_time": "2022-09-14T16:07:11.001Z"
      },
      {
        "duration": 1300,
        "start_time": "2022-09-14T16:08:21.835Z"
      },
      {
        "duration": 5,
        "start_time": "2022-09-14T16:08:31.309Z"
      },
      {
        "duration": 48,
        "start_time": "2022-09-14T16:09:07.240Z"
      },
      {
        "duration": 29,
        "start_time": "2022-09-14T16:14:36.266Z"
      },
      {
        "duration": 7,
        "start_time": "2022-09-14T16:15:12.872Z"
      },
      {
        "duration": 23,
        "start_time": "2022-09-14T16:15:35.123Z"
      },
      {
        "duration": 8,
        "start_time": "2022-09-14T16:15:36.010Z"
      },
      {
        "duration": 722,
        "start_time": "2022-09-14T16:15:52.869Z"
      },
      {
        "duration": 36,
        "start_time": "2022-09-14T16:15:53.593Z"
      },
      {
        "duration": 13,
        "start_time": "2022-09-14T16:15:53.631Z"
      },
      {
        "duration": 7,
        "start_time": "2022-09-14T16:15:53.858Z"
      },
      {
        "duration": 22,
        "start_time": "2022-09-14T16:15:54.015Z"
      },
      {
        "duration": 5,
        "start_time": "2022-09-14T16:15:54.360Z"
      },
      {
        "duration": 4,
        "start_time": "2022-09-14T16:22:14.434Z"
      },
      {
        "duration": 4,
        "start_time": "2022-09-14T16:24:22.912Z"
      },
      {
        "duration": 3,
        "start_time": "2022-09-14T16:25:10.002Z"
      },
      {
        "duration": 4,
        "start_time": "2022-09-14T16:25:23.460Z"
      },
      {
        "duration": 49,
        "start_time": "2022-09-14T16:57:02.357Z"
      },
      {
        "duration": 3,
        "start_time": "2022-09-14T16:57:32.582Z"
      },
      {
        "duration": 39,
        "start_time": "2022-09-14T16:57:34.178Z"
      },
      {
        "duration": 18,
        "start_time": "2022-09-14T16:57:34.645Z"
      },
      {
        "duration": 7,
        "start_time": "2022-09-14T16:57:35.107Z"
      },
      {
        "duration": 22,
        "start_time": "2022-09-14T16:57:35.274Z"
      },
      {
        "duration": 4,
        "start_time": "2022-09-14T16:57:35.843Z"
      },
      {
        "duration": 5,
        "start_time": "2022-09-14T16:57:36.047Z"
      },
      {
        "duration": 7,
        "start_time": "2022-09-14T16:57:36.398Z"
      },
      {
        "duration": 4,
        "start_time": "2022-09-14T16:57:36.827Z"
      },
      {
        "duration": 4,
        "start_time": "2022-09-14T16:57:37.011Z"
      },
      {
        "duration": 33,
        "start_time": "2022-09-14T16:57:38.125Z"
      },
      {
        "duration": 47,
        "start_time": "2022-09-14T17:03:08.824Z"
      },
      {
        "duration": 71,
        "start_time": "2022-09-14T17:04:12.937Z"
      },
      {
        "duration": 22,
        "start_time": "2022-09-14T17:05:12.252Z"
      },
      {
        "duration": 15834,
        "start_time": "2022-09-14T17:05:25.895Z"
      },
      {
        "duration": 15,
        "start_time": "2022-09-14T17:16:41.734Z"
      },
      {
        "duration": 134,
        "start_time": "2022-09-14T17:17:16.021Z"
      },
      {
        "duration": 130,
        "start_time": "2022-09-14T17:17:42.692Z"
      },
      {
        "duration": 144,
        "start_time": "2022-09-14T17:18:15.590Z"
      },
      {
        "duration": 124,
        "start_time": "2022-09-14T17:18:31.778Z"
      },
      {
        "duration": 1368,
        "start_time": "2022-09-14T17:35:33.813Z"
      },
      {
        "duration": 38,
        "start_time": "2022-09-14T17:35:35.182Z"
      },
      {
        "duration": 13,
        "start_time": "2022-09-14T17:35:35.221Z"
      },
      {
        "duration": 17,
        "start_time": "2022-09-14T17:35:35.236Z"
      },
      {
        "duration": 38,
        "start_time": "2022-09-14T17:35:35.254Z"
      },
      {
        "duration": 17,
        "start_time": "2022-09-14T17:35:35.294Z"
      },
      {
        "duration": 21,
        "start_time": "2022-09-14T17:35:35.313Z"
      },
      {
        "duration": 36,
        "start_time": "2022-09-14T17:35:35.336Z"
      },
      {
        "duration": 13,
        "start_time": "2022-09-14T17:35:35.374Z"
      },
      {
        "duration": 22,
        "start_time": "2022-09-14T17:35:35.389Z"
      },
      {
        "duration": 53,
        "start_time": "2022-09-14T17:35:35.412Z"
      },
      {
        "duration": 55,
        "start_time": "2022-09-14T17:35:35.467Z"
      },
      {
        "duration": 15913,
        "start_time": "2022-09-14T17:35:35.613Z"
      },
      {
        "duration": 14,
        "start_time": "2022-09-14T17:35:51.528Z"
      },
      {
        "duration": 83,
        "start_time": "2022-09-14T17:35:51.544Z"
      },
      {
        "duration": 218,
        "start_time": "2022-09-14T17:35:51.708Z"
      },
      {
        "duration": 108,
        "start_time": "2022-09-14T17:39:56.847Z"
      },
      {
        "duration": 4,
        "start_time": "2022-09-14T17:40:27.245Z"
      },
      {
        "duration": 4,
        "start_time": "2022-09-14T17:40:39.628Z"
      },
      {
        "duration": 9,
        "start_time": "2022-09-14T17:41:40.941Z"
      },
      {
        "duration": 13,
        "start_time": "2022-09-14T17:42:08.901Z"
      },
      {
        "duration": 13,
        "start_time": "2022-09-14T17:42:24.962Z"
      },
      {
        "duration": 5,
        "start_time": "2022-09-14T17:42:31.843Z"
      },
      {
        "duration": 1302,
        "start_time": "2022-09-14T17:47:50.069Z"
      },
      {
        "duration": 37,
        "start_time": "2022-09-14T17:47:51.372Z"
      },
      {
        "duration": 11,
        "start_time": "2022-09-14T17:47:51.411Z"
      },
      {
        "duration": 12,
        "start_time": "2022-09-14T17:47:51.424Z"
      },
      {
        "duration": 37,
        "start_time": "2022-09-14T17:47:51.438Z"
      },
      {
        "duration": 4,
        "start_time": "2022-09-14T17:47:51.477Z"
      },
      {
        "duration": 25,
        "start_time": "2022-09-14T17:47:51.483Z"
      },
      {
        "duration": 26,
        "start_time": "2022-09-14T17:47:51.509Z"
      },
      {
        "duration": 18,
        "start_time": "2022-09-14T17:47:51.537Z"
      },
      {
        "duration": 22,
        "start_time": "2022-09-14T17:47:51.557Z"
      },
      {
        "duration": 60,
        "start_time": "2022-09-14T17:47:51.580Z"
      },
      {
        "duration": 77,
        "start_time": "2022-09-14T17:47:51.641Z"
      },
      {
        "duration": 16195,
        "start_time": "2022-09-14T17:47:51.719Z"
      },
      {
        "duration": 13,
        "start_time": "2022-09-14T17:48:07.916Z"
      },
      {
        "duration": 92,
        "start_time": "2022-09-14T17:48:07.930Z"
      },
      {
        "duration": 220,
        "start_time": "2022-09-14T17:48:08.108Z"
      },
      {
        "duration": 43,
        "start_time": "2022-09-14T18:04:18.334Z"
      }
    ],
    "toc": {
      "base_numbering": 1,
      "nav_menu": {},
      "number_sections": true,
      "sideBar": true,
      "skip_h1_title": true,
      "title_cell": "Table of Contents",
      "title_sidebar": "Contents",
      "toc_cell": false,
      "toc_position": {},
      "toc_section_display": true,
      "toc_window_display": false
    },
    "kernelspec": {
      "name": "python",
      "display_name": "Python (Pyodide)",
      "language": "python"
    },
    "language_info": {
      "codemirror_mode": {
        "name": "ipython",
        "version": 3
      },
      "file_extension": ".py",
      "mimetype": "text/x-python",
      "name": "python",
      "nbconvert_exporter": "python",
      "pygments_lexer": "ipython3",
      "version": "3.9.5"
    }
  },
  "nbformat_minor": 4,
  "nbformat": 4,
  "cells": [
    {
      "cell_type": "markdown",
      "source": "# Определение выгодного тарифа для телеком компании",
      "metadata": {
        "tags": []
      }
    },
    {
      "cell_type": "markdown",
      "source": "В вашем распоряжении данные о поведении клиентов, которые уже перешли на эти тарифы (из проекта курса «Статистический анализ данных»). Нужно построить модель для задачи классификации, которая выберет подходящий тариф. Предобработка данных не понадобится — вы её уже сделали.\n\nПостройте модель с максимально большим значением *accuracy*. Чтобы сдать проект успешно, нужно довести долю правильных ответов по крайней мере до 0.75. Проверьте *accuracy* на тестовой выборке самостоятельно.",
      "metadata": {}
    },
    {
      "cell_type": "markdown",
      "source": "## Откроем и изучим файл",
      "metadata": {}
    },
    {
      "cell_type": "code",
      "source": "import pandas as pd\nfrom sklearn.model_selection import train_test_split\nfrom sklearn.tree import DecisionTreeClassifier\nfrom sklearn.linear_model import LogisticRegression\nfrom sklearn.ensemble import RandomForestClassifier\nfrom sklearn.dummy import DummyClassifier\nfrom sklearn.metrics import accuracy_score",
      "metadata": {},
      "execution_count": 1,
      "outputs": []
    },
    {
      "cell_type": "code",
      "source": "df = pd.read_csv(\"/datasets/users_behavior.csv\")\n\ndisplay(df.shape)\ndisplay(df.head(30)) ",
      "metadata": {},
      "execution_count": 44,
      "outputs": [
        {
          "output_type": "display_data",
          "data": {
            "text/plain": [
              "(3214, 5)"
            ]
          },
          "metadata": {}
        },
        {
          "output_type": "display_data",
          "data": {
            "text/html": [
              "<div>\n",
              "<style scoped>\n",
              "    .dataframe tbody tr th:only-of-type {\n",
              "        vertical-align: middle;\n",
              "    }\n",
              "\n",
              "    .dataframe tbody tr th {\n",
              "        vertical-align: top;\n",
              "    }\n",
              "\n",
              "    .dataframe thead th {\n",
              "        text-align: right;\n",
              "    }\n",
              "</style>\n",
              "<table border=\"1\" class=\"dataframe\">\n",
              "  <thead>\n",
              "    <tr style=\"text-align: right;\">\n",
              "      <th></th>\n",
              "      <th>calls</th>\n",
              "      <th>minutes</th>\n",
              "      <th>messages</th>\n",
              "      <th>mb_used</th>\n",
              "      <th>is_ultra</th>\n",
              "    </tr>\n",
              "  </thead>\n",
              "  <tbody>\n",
              "    <tr>\n",
              "      <th>0</th>\n",
              "      <td>40.0</td>\n",
              "      <td>311.90</td>\n",
              "      <td>83.0</td>\n",
              "      <td>19915.42</td>\n",
              "      <td>0</td>\n",
              "    </tr>\n",
              "    <tr>\n",
              "      <th>1</th>\n",
              "      <td>85.0</td>\n",
              "      <td>516.75</td>\n",
              "      <td>56.0</td>\n",
              "      <td>22696.96</td>\n",
              "      <td>0</td>\n",
              "    </tr>\n",
              "    <tr>\n",
              "      <th>2</th>\n",
              "      <td>77.0</td>\n",
              "      <td>467.66</td>\n",
              "      <td>86.0</td>\n",
              "      <td>21060.45</td>\n",
              "      <td>0</td>\n",
              "    </tr>\n",
              "    <tr>\n",
              "      <th>3</th>\n",
              "      <td>106.0</td>\n",
              "      <td>745.53</td>\n",
              "      <td>81.0</td>\n",
              "      <td>8437.39</td>\n",
              "      <td>1</td>\n",
              "    </tr>\n",
              "    <tr>\n",
              "      <th>4</th>\n",
              "      <td>66.0</td>\n",
              "      <td>418.74</td>\n",
              "      <td>1.0</td>\n",
              "      <td>14502.75</td>\n",
              "      <td>0</td>\n",
              "    </tr>\n",
              "    <tr>\n",
              "      <th>5</th>\n",
              "      <td>58.0</td>\n",
              "      <td>344.56</td>\n",
              "      <td>21.0</td>\n",
              "      <td>15823.37</td>\n",
              "      <td>0</td>\n",
              "    </tr>\n",
              "    <tr>\n",
              "      <th>6</th>\n",
              "      <td>57.0</td>\n",
              "      <td>431.64</td>\n",
              "      <td>20.0</td>\n",
              "      <td>3738.90</td>\n",
              "      <td>1</td>\n",
              "    </tr>\n",
              "    <tr>\n",
              "      <th>7</th>\n",
              "      <td>15.0</td>\n",
              "      <td>132.40</td>\n",
              "      <td>6.0</td>\n",
              "      <td>21911.60</td>\n",
              "      <td>0</td>\n",
              "    </tr>\n",
              "    <tr>\n",
              "      <th>8</th>\n",
              "      <td>7.0</td>\n",
              "      <td>43.39</td>\n",
              "      <td>3.0</td>\n",
              "      <td>2538.67</td>\n",
              "      <td>1</td>\n",
              "    </tr>\n",
              "    <tr>\n",
              "      <th>9</th>\n",
              "      <td>90.0</td>\n",
              "      <td>665.41</td>\n",
              "      <td>38.0</td>\n",
              "      <td>17358.61</td>\n",
              "      <td>0</td>\n",
              "    </tr>\n",
              "    <tr>\n",
              "      <th>10</th>\n",
              "      <td>82.0</td>\n",
              "      <td>560.51</td>\n",
              "      <td>20.0</td>\n",
              "      <td>9619.53</td>\n",
              "      <td>1</td>\n",
              "    </tr>\n",
              "    <tr>\n",
              "      <th>11</th>\n",
              "      <td>45.0</td>\n",
              "      <td>344.32</td>\n",
              "      <td>13.0</td>\n",
              "      <td>19898.81</td>\n",
              "      <td>0</td>\n",
              "    </tr>\n",
              "    <tr>\n",
              "      <th>12</th>\n",
              "      <td>51.0</td>\n",
              "      <td>437.13</td>\n",
              "      <td>61.0</td>\n",
              "      <td>21523.58</td>\n",
              "      <td>0</td>\n",
              "    </tr>\n",
              "    <tr>\n",
              "      <th>13</th>\n",
              "      <td>56.0</td>\n",
              "      <td>433.07</td>\n",
              "      <td>16.0</td>\n",
              "      <td>16702.36</td>\n",
              "      <td>0</td>\n",
              "    </tr>\n",
              "    <tr>\n",
              "      <th>14</th>\n",
              "      <td>108.0</td>\n",
              "      <td>587.90</td>\n",
              "      <td>0.0</td>\n",
              "      <td>14406.50</td>\n",
              "      <td>1</td>\n",
              "    </tr>\n",
              "    <tr>\n",
              "      <th>15</th>\n",
              "      <td>6.0</td>\n",
              "      <td>22.13</td>\n",
              "      <td>0.0</td>\n",
              "      <td>2710.09</td>\n",
              "      <td>0</td>\n",
              "    </tr>\n",
              "    <tr>\n",
              "      <th>16</th>\n",
              "      <td>2.0</td>\n",
              "      <td>18.73</td>\n",
              "      <td>0.0</td>\n",
              "      <td>588.89</td>\n",
              "      <td>0</td>\n",
              "    </tr>\n",
              "    <tr>\n",
              "      <th>17</th>\n",
              "      <td>26.0</td>\n",
              "      <td>163.62</td>\n",
              "      <td>4.0</td>\n",
              "      <td>16870.34</td>\n",
              "      <td>0</td>\n",
              "    </tr>\n",
              "    <tr>\n",
              "      <th>18</th>\n",
              "      <td>79.0</td>\n",
              "      <td>532.62</td>\n",
              "      <td>90.0</td>\n",
              "      <td>19908.31</td>\n",
              "      <td>0</td>\n",
              "    </tr>\n",
              "    <tr>\n",
              "      <th>19</th>\n",
              "      <td>49.0</td>\n",
              "      <td>341.67</td>\n",
              "      <td>81.0</td>\n",
              "      <td>11770.28</td>\n",
              "      <td>1</td>\n",
              "    </tr>\n",
              "    <tr>\n",
              "      <th>20</th>\n",
              "      <td>93.0</td>\n",
              "      <td>691.37</td>\n",
              "      <td>31.0</td>\n",
              "      <td>25950.28</td>\n",
              "      <td>1</td>\n",
              "    </tr>\n",
              "    <tr>\n",
              "      <th>21</th>\n",
              "      <td>56.0</td>\n",
              "      <td>411.46</td>\n",
              "      <td>97.0</td>\n",
              "      <td>15393.91</td>\n",
              "      <td>0</td>\n",
              "    </tr>\n",
              "    <tr>\n",
              "      <th>22</th>\n",
              "      <td>48.0</td>\n",
              "      <td>351.60</td>\n",
              "      <td>66.0</td>\n",
              "      <td>16469.90</td>\n",
              "      <td>1</td>\n",
              "    </tr>\n",
              "    <tr>\n",
              "      <th>23</th>\n",
              "      <td>11.0</td>\n",
              "      <td>96.05</td>\n",
              "      <td>19.0</td>\n",
              "      <td>2305.74</td>\n",
              "      <td>0</td>\n",
              "    </tr>\n",
              "    <tr>\n",
              "      <th>24</th>\n",
              "      <td>56.0</td>\n",
              "      <td>360.30</td>\n",
              "      <td>30.0</td>\n",
              "      <td>13560.15</td>\n",
              "      <td>0</td>\n",
              "    </tr>\n",
              "    <tr>\n",
              "      <th>25</th>\n",
              "      <td>53.0</td>\n",
              "      <td>356.22</td>\n",
              "      <td>52.0</td>\n",
              "      <td>22471.77</td>\n",
              "      <td>0</td>\n",
              "    </tr>\n",
              "    <tr>\n",
              "      <th>26</th>\n",
              "      <td>81.0</td>\n",
              "      <td>624.71</td>\n",
              "      <td>38.0</td>\n",
              "      <td>8644.66</td>\n",
              "      <td>1</td>\n",
              "    </tr>\n",
              "    <tr>\n",
              "      <th>27</th>\n",
              "      <td>154.0</td>\n",
              "      <td>1078.64</td>\n",
              "      <td>48.0</td>\n",
              "      <td>29335.15</td>\n",
              "      <td>1</td>\n",
              "    </tr>\n",
              "    <tr>\n",
              "      <th>28</th>\n",
              "      <td>37.0</td>\n",
              "      <td>286.68</td>\n",
              "      <td>44.0</td>\n",
              "      <td>19542.45</td>\n",
              "      <td>0</td>\n",
              "    </tr>\n",
              "    <tr>\n",
              "      <th>29</th>\n",
              "      <td>50.0</td>\n",
              "      <td>358.01</td>\n",
              "      <td>44.0</td>\n",
              "      <td>9998.83</td>\n",
              "      <td>1</td>\n",
              "    </tr>\n",
              "  </tbody>\n",
              "</table>\n",
              "</div>"
            ],
            "text/plain": [
              "    calls  minutes  messages   mb_used  is_ultra\n",
              "0    40.0   311.90      83.0  19915.42         0\n",
              "1    85.0   516.75      56.0  22696.96         0\n",
              "2    77.0   467.66      86.0  21060.45         0\n",
              "3   106.0   745.53      81.0   8437.39         1\n",
              "4    66.0   418.74       1.0  14502.75         0\n",
              "5    58.0   344.56      21.0  15823.37         0\n",
              "6    57.0   431.64      20.0   3738.90         1\n",
              "7    15.0   132.40       6.0  21911.60         0\n",
              "8     7.0    43.39       3.0   2538.67         1\n",
              "9    90.0   665.41      38.0  17358.61         0\n",
              "10   82.0   560.51      20.0   9619.53         1\n",
              "11   45.0   344.32      13.0  19898.81         0\n",
              "12   51.0   437.13      61.0  21523.58         0\n",
              "13   56.0   433.07      16.0  16702.36         0\n",
              "14  108.0   587.90       0.0  14406.50         1\n",
              "15    6.0    22.13       0.0   2710.09         0\n",
              "16    2.0    18.73       0.0    588.89         0\n",
              "17   26.0   163.62       4.0  16870.34         0\n",
              "18   79.0   532.62      90.0  19908.31         0\n",
              "19   49.0   341.67      81.0  11770.28         1\n",
              "20   93.0   691.37      31.0  25950.28         1\n",
              "21   56.0   411.46      97.0  15393.91         0\n",
              "22   48.0   351.60      66.0  16469.90         1\n",
              "23   11.0    96.05      19.0   2305.74         0\n",
              "24   56.0   360.30      30.0  13560.15         0\n",
              "25   53.0   356.22      52.0  22471.77         0\n",
              "26   81.0   624.71      38.0   8644.66         1\n",
              "27  154.0  1078.64      48.0  29335.15         1\n",
              "28   37.0   286.68      44.0  19542.45         0\n",
              "29   50.0   358.01      44.0   9998.83         1"
            ]
          },
          "metadata": {}
        }
      ]
    },
    {
      "cell_type": "markdown",
      "source": "Столбцы содержат следующую информацию: \n    \nсalls — количество звонков,\n\nminutes — суммарная длительность звонков в минутах,\n\nmessages — количество sms-сообщений,\n\nmb_used — израсходованный интернет-трафик в Мб,\n\nis_ultra — каким тарифом пользовался в течение месяца («Ультра» — 1, «Смарт» — 0).",
      "metadata": {}
    },
    {
      "cell_type": "markdown",
      "source": "Посмотрим на типы столбцов",
      "metadata": {}
    },
    {
      "cell_type": "code",
      "source": "df.info()\nprint('')\nprint('Количество полных дубликатов:', df.duplicated().sum())",
      "metadata": {
        "scrolled": true
      },
      "execution_count": 3,
      "outputs": [
        {
          "name": "stdout",
          "output_type": "stream",
          "text": "<class 'pandas.core.frame.DataFrame'>\n\nRangeIndex: 3214 entries, 0 to 3213\n\nData columns (total 5 columns):\n\n #   Column    Non-Null Count  Dtype  \n\n---  ------    --------------  -----  \n\n 0   calls     3214 non-null   float64\n\n 1   minutes   3214 non-null   float64\n\n 2   messages  3214 non-null   float64\n\n 3   mb_used   3214 non-null   float64\n\n 4   is_ultra  3214 non-null   int64  \n\ndtypes: float64(4), int64(1)\n\nmemory usage: 125.7 KB\n\n\n\nКоличество полных дубликатов: 0\n"
        }
      ]
    },
    {
      "cell_type": "markdown",
      "source": "Посчитаем количество пропусков в наборе данных",
      "metadata": {}
    },
    {
      "cell_type": "code",
      "source": "df.isna().sum()",
      "metadata": {},
      "execution_count": 4,
      "outputs": [
        {
          "execution_count": 4,
          "output_type": "execute_result",
          "data": {
            "text/plain": [
              "calls       0\n",
              "minutes     0\n",
              "messages    0\n",
              "mb_used     0\n",
              "is_ultra    0\n",
              "dtype: int64"
            ]
          },
          "metadata": {}
        }
      ]
    },
    {
      "cell_type": "code",
      "source": "df.describe()",
      "metadata": {
        "scrolled": true
      },
      "execution_count": 5,
      "outputs": [
        {
          "execution_count": 5,
          "output_type": "execute_result",
          "data": {
            "text/html": [
              "<div>\n",
              "<style scoped>\n",
              "    .dataframe tbody tr th:only-of-type {\n",
              "        vertical-align: middle;\n",
              "    }\n",
              "\n",
              "    .dataframe tbody tr th {\n",
              "        vertical-align: top;\n",
              "    }\n",
              "\n",
              "    .dataframe thead th {\n",
              "        text-align: right;\n",
              "    }\n",
              "</style>\n",
              "<table border=\"1\" class=\"dataframe\">\n",
              "  <thead>\n",
              "    <tr style=\"text-align: right;\">\n",
              "      <th></th>\n",
              "      <th>calls</th>\n",
              "      <th>minutes</th>\n",
              "      <th>messages</th>\n",
              "      <th>mb_used</th>\n",
              "      <th>is_ultra</th>\n",
              "    </tr>\n",
              "  </thead>\n",
              "  <tbody>\n",
              "    <tr>\n",
              "      <th>count</th>\n",
              "      <td>3214.000000</td>\n",
              "      <td>3214.000000</td>\n",
              "      <td>3214.000000</td>\n",
              "      <td>3214.000000</td>\n",
              "      <td>3214.000000</td>\n",
              "    </tr>\n",
              "    <tr>\n",
              "      <th>mean</th>\n",
              "      <td>63.038892</td>\n",
              "      <td>438.208787</td>\n",
              "      <td>38.281269</td>\n",
              "      <td>17207.673836</td>\n",
              "      <td>0.306472</td>\n",
              "    </tr>\n",
              "    <tr>\n",
              "      <th>std</th>\n",
              "      <td>33.236368</td>\n",
              "      <td>234.569872</td>\n",
              "      <td>36.148326</td>\n",
              "      <td>7570.968246</td>\n",
              "      <td>0.461100</td>\n",
              "    </tr>\n",
              "    <tr>\n",
              "      <th>min</th>\n",
              "      <td>0.000000</td>\n",
              "      <td>0.000000</td>\n",
              "      <td>0.000000</td>\n",
              "      <td>0.000000</td>\n",
              "      <td>0.000000</td>\n",
              "    </tr>\n",
              "    <tr>\n",
              "      <th>25%</th>\n",
              "      <td>40.000000</td>\n",
              "      <td>274.575000</td>\n",
              "      <td>9.000000</td>\n",
              "      <td>12491.902500</td>\n",
              "      <td>0.000000</td>\n",
              "    </tr>\n",
              "    <tr>\n",
              "      <th>50%</th>\n",
              "      <td>62.000000</td>\n",
              "      <td>430.600000</td>\n",
              "      <td>30.000000</td>\n",
              "      <td>16943.235000</td>\n",
              "      <td>0.000000</td>\n",
              "    </tr>\n",
              "    <tr>\n",
              "      <th>75%</th>\n",
              "      <td>82.000000</td>\n",
              "      <td>571.927500</td>\n",
              "      <td>57.000000</td>\n",
              "      <td>21424.700000</td>\n",
              "      <td>1.000000</td>\n",
              "    </tr>\n",
              "    <tr>\n",
              "      <th>max</th>\n",
              "      <td>244.000000</td>\n",
              "      <td>1632.060000</td>\n",
              "      <td>224.000000</td>\n",
              "      <td>49745.730000</td>\n",
              "      <td>1.000000</td>\n",
              "    </tr>\n",
              "  </tbody>\n",
              "</table>\n",
              "</div>"
            ],
            "text/plain": [
              "             calls      minutes     messages       mb_used     is_ultra\n",
              "count  3214.000000  3214.000000  3214.000000   3214.000000  3214.000000\n",
              "mean     63.038892   438.208787    38.281269  17207.673836     0.306472\n",
              "std      33.236368   234.569872    36.148326   7570.968246     0.461100\n",
              "min       0.000000     0.000000     0.000000      0.000000     0.000000\n",
              "25%      40.000000   274.575000     9.000000  12491.902500     0.000000\n",
              "50%      62.000000   430.600000    30.000000  16943.235000     0.000000\n",
              "75%      82.000000   571.927500    57.000000  21424.700000     1.000000\n",
              "max     244.000000  1632.060000   224.000000  49745.730000     1.000000"
            ]
          },
          "metadata": {}
        }
      ]
    },
    {
      "cell_type": "markdown",
      "source": "## Разобьем данные на выборки",
      "metadata": {}
    },
    {
      "cell_type": "markdown",
      "source": "Разделим датасет на обучающую и тестовую выборки",
      "metadata": {}
    },
    {
      "cell_type": "code",
      "source": "train, test = train_test_split(df, test_size=0.25, random_state=12345)",
      "metadata": {},
      "execution_count": 6,
      "outputs": []
    },
    {
      "cell_type": "code",
      "source": "features_one = test.drop('is_ultra', axis=1)\ntarget_one = test['is_ultra']",
      "metadata": {},
      "execution_count": 7,
      "outputs": []
    },
    {
      "cell_type": "markdown",
      "source": "Создадим переменные для признаков и целевого признака",
      "metadata": {}
    },
    {
      "cell_type": "code",
      "source": "features_valid, features_test, target_valid, target_test = train_test_split(features_one, target_one, test_size=0.5, random_state=12345)",
      "metadata": {},
      "execution_count": 8,
      "outputs": []
    },
    {
      "cell_type": "code",
      "source": "features_train = train.drop('is_ultra', axis=1)\ntarget_train = train['is_ultra']",
      "metadata": {},
      "execution_count": 9,
      "outputs": []
    },
    {
      "cell_type": "code",
      "source": "print(features_train.shape)\nprint(target_train.shape)\nprint(features_valid.shape)\nprint(target_valid.shape)",
      "metadata": {},
      "execution_count": 10,
      "outputs": [
        {
          "name": "stdout",
          "output_type": "stream",
          "text": "(2410, 4)\n\n(2410,)\n\n(402, 4)\n\n(402,)\n"
        }
      ]
    },
    {
      "cell_type": "markdown",
      "source": "## Исследуем модели",
      "metadata": {}
    },
    {
      "cell_type": "markdown",
      "source": "Перебем гиперпараметры в дереве решений через цикл Tree Classifier ",
      "metadata": {}
    },
    {
      "cell_type": "code",
      "source": "for depth in range(1, 6):\n    model = DecisionTreeClassifier(random_state=12345, max_depth = depth)\n\n    model.fit(features_train, target_train)\n    predictions_valid = model.predict(features_valid) \n\n    print(\"max_depth =\", depth, \": \", end='')\n    print(accuracy_score(target_valid, predictions_valid))",
      "metadata": {},
      "execution_count": 11,
      "outputs": [
        {
          "name": "stdout",
          "output_type": "stream",
          "text": "max_depth = 1 : 0.763681592039801\n\nmax_depth = 2 : 0.7935323383084577\n\nmax_depth = 3 : 0.7985074626865671\n\nmax_depth = 4 : 0.7985074626865671\n\nmax_depth = 5 : 0.7985074626865671\n"
        }
      ]
    },
    {
      "cell_type": "markdown",
      "source": "Подходящая max_depth = 3\n\nКачество = 0.7985074626865671",
      "metadata": {}
    },
    {
      "cell_type": "markdown",
      "source": "Проверим качество с помощью логистической регрессии ",
      "metadata": {}
    },
    {
      "cell_type": "code",
      "source": "model = LogisticRegression()\nmodel.fit(features_train, target_train)\naccuracy = model.score(features_valid, target_valid)\nprint(\"Качество:\", accuracy)",
      "metadata": {},
      "execution_count": 12,
      "outputs": [
        {
          "name": "stdout",
          "output_type": "stream",
          "text": "Качество: 0.7039800995024875\n"
        }
      ]
    },
    {
      "cell_type": "markdown",
      "source": "Проверим качество с помощью Random Forest ",
      "metadata": {}
    },
    {
      "cell_type": "code",
      "source": "best_accuracy = 0\nbest_depth = 0\nfor depth in range(1,10):\n    for est in range(5,50,5):\n        for sample in range(2,5):\n            model = RandomForestClassifier(max_depth=depth, n_estimators=est, min_samples_leaf=sample, random_state=412)\n            model.fit(features_train, target_train)\n            accuracy = model.score(features_valid, target_valid)\n            if accuracy > best_accuracy:\n                best_accuracy = accuracy\n                best_depth = depth\n                best_est = est\n                best_sample = sample\nprint(\"Глубина дерева:\", best_depth, \"    Количество деревьев:\", best_est, \"   минимальное количество объектов в узле:\", best_sample, \"  Качество:\", best_accuracy)",
      "metadata": {},
      "execution_count": 13,
      "outputs": [
        {
          "name": "stdout",
          "output_type": "stream",
          "text": "Глубина дерева: 6     Количество деревьев: 20    минимальное количество объектов в узле: 3   Качество: 0.8109452736318408\n"
        }
      ]
    },
    {
      "cell_type": "markdown",
      "source": "Проверены три модели: деревья решений, логистическая регрессия и случайный лес.\n\nСамое высокое качество модели (0.810) достигается при использовании Random Forest с гиперпараметрами max_depth=7 , n_estimators=20 и min_samples_leaf=3",
      "metadata": {}
    },
    {
      "cell_type": "markdown",
      "source": "## Проверим модель на тестовой выборке",
      "metadata": {}
    },
    {
      "cell_type": "markdown",
      "source": "Проверим качество с помощью Tree Classifier",
      "metadata": {}
    },
    {
      "cell_type": "code",
      "source": "model = DecisionTreeClassifier(max_depth=8, random_state=412)\nmodel.fit(features_train, target_train)\naccuracy = model.score(features_test, target_test)\nprint(\"Качество:\", accuracy)",
      "metadata": {},
      "execution_count": 14,
      "outputs": [
        {
          "name": "stdout",
          "output_type": "stream",
          "text": "Качество: 0.7960199004975125\n"
        }
      ]
    },
    {
      "cell_type": "markdown",
      "source": "Проверим качество с помощью логистической регрессии",
      "metadata": {}
    },
    {
      "cell_type": "code",
      "source": "model = LogisticRegression()\nmodel.fit(features_train, target_train)\naccuracy = model.score(features_test, target_test)\nprint(\"Качество:\", accuracy)",
      "metadata": {},
      "execution_count": 15,
      "outputs": [
        {
          "name": "stdout",
          "output_type": "stream",
          "text": "Качество: 0.7039800995024875\n"
        }
      ]
    },
    {
      "cell_type": "markdown",
      "source": "Проверим качество с помощью Random Forest",
      "metadata": {}
    },
    {
      "cell_type": "code",
      "source": "model = RandomForestClassifier(max_depth=7, n_estimators=40, min_samples_leaf=3, random_state=228)\nmodel.fit(features_train, target_train)\naccuracy = model.score(features_test, target_test)\nprint(\"Качество:\", accuracy)",
      "metadata": {},
      "execution_count": 16,
      "outputs": [
        {
          "name": "stdout",
          "output_type": "stream",
          "text": "Качество: 0.8084577114427861\n"
        }
      ]
    },
    {
      "cell_type": "markdown",
      "source": "Самое высокое качество модели (0.808) достигается при использовании Random Forest с гиперпараметрами max_depth=7 , n_estimators=40 и min_samples_leaf=3",
      "metadata": {}
    },
    {
      "cell_type": "markdown",
      "source": "## Вывод",
      "metadata": {}
    },
    {
      "cell_type": "markdown",
      "source": "Проверены три модели: деревья решений, логистическая регрессия и случайный лес.\n\n\nСамое высокое качество модели (0.808) достигается при использовании Random Forest с гиперпараметрами max_depth=7 , n_estimators=40 и min_samples_leaf=3",
      "metadata": {}
    }
  ]
}