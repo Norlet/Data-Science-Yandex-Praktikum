{
  "metadata": {
    "ExecuteTimeLog": [
      {
        "duration": 47,
        "start_time": "2022-11-13T11:54:12.720Z"
      },
      {
        "duration": 1123,
        "start_time": "2022-11-13T11:54:14.985Z"
      },
      {
        "duration": 92,
        "start_time": "2022-11-13T11:54:16.110Z"
      },
      {
        "duration": 16,
        "start_time": "2022-11-13T11:55:27.379Z"
      },
      {
        "duration": 4,
        "start_time": "2022-11-13T11:58:19.880Z"
      },
      {
        "duration": 11,
        "start_time": "2022-11-13T11:58:20.228Z"
      },
      {
        "duration": 69,
        "start_time": "2022-11-13T11:59:48.986Z"
      },
      {
        "duration": 6,
        "start_time": "2022-11-13T11:59:55.682Z"
      },
      {
        "duration": 4,
        "start_time": "2022-11-13T16:23:53.615Z"
      },
      {
        "duration": 3,
        "start_time": "2022-11-13T16:23:59.556Z"
      },
      {
        "duration": 4,
        "start_time": "2022-11-13T16:24:06.626Z"
      },
      {
        "duration": 4,
        "start_time": "2022-11-13T16:24:11.773Z"
      },
      {
        "duration": 41,
        "start_time": "2022-11-13T16:27:01.384Z"
      },
      {
        "duration": 2,
        "start_time": "2022-11-13T16:27:28.919Z"
      },
      {
        "duration": 5,
        "start_time": "2022-11-13T16:31:06.587Z"
      },
      {
        "duration": 16,
        "start_time": "2022-11-13T16:33:26.458Z"
      },
      {
        "duration": 77,
        "start_time": "2022-11-13T16:36:06.353Z"
      },
      {
        "duration": 17,
        "start_time": "2022-11-13T16:38:01.799Z"
      },
      {
        "duration": 3,
        "start_time": "2022-11-13T16:38:18.759Z"
      },
      {
        "duration": 32,
        "start_time": "2022-11-13T16:38:18.920Z"
      },
      {
        "duration": 12,
        "start_time": "2022-11-13T16:38:19.056Z"
      },
      {
        "duration": 4,
        "start_time": "2022-11-13T16:38:19.209Z"
      },
      {
        "duration": 13,
        "start_time": "2022-11-13T16:38:19.342Z"
      },
      {
        "duration": 7,
        "start_time": "2022-11-13T16:38:20.407Z"
      },
      {
        "duration": 5,
        "start_time": "2022-11-13T16:38:23.601Z"
      },
      {
        "duration": 5,
        "start_time": "2022-11-13T16:38:23.765Z"
      },
      {
        "duration": 16,
        "start_time": "2022-11-13T16:38:24.479Z"
      },
      {
        "duration": 14,
        "start_time": "2022-11-13T16:38:26.046Z"
      },
      {
        "duration": 9,
        "start_time": "2022-11-13T16:39:07.709Z"
      },
      {
        "duration": 1600,
        "start_time": "2022-11-13T17:47:58.702Z"
      },
      {
        "duration": 97,
        "start_time": "2022-11-13T17:48:00.304Z"
      },
      {
        "duration": 21,
        "start_time": "2022-11-13T17:48:00.403Z"
      },
      {
        "duration": 4,
        "start_time": "2022-11-13T17:48:00.426Z"
      },
      {
        "duration": 29,
        "start_time": "2022-11-13T17:48:00.432Z"
      },
      {
        "duration": 14,
        "start_time": "2022-11-13T17:48:00.463Z"
      },
      {
        "duration": 18,
        "start_time": "2022-11-13T17:48:00.479Z"
      },
      {
        "duration": 11,
        "start_time": "2022-11-13T17:48:00.498Z"
      },
      {
        "duration": 146,
        "start_time": "2022-11-13T17:48:00.513Z"
      },
      {
        "duration": 102,
        "start_time": "2022-11-13T17:48:00.662Z"
      },
      {
        "duration": 116,
        "start_time": "2022-11-13T17:48:00.852Z"
      },
      {
        "duration": 49,
        "start_time": "2022-11-13T23:04:24.778Z"
      },
      {
        "duration": 42,
        "start_time": "2022-11-13T23:08:50.511Z"
      }
    ],
    "toc": {
      "base_numbering": 1,
      "nav_menu": {},
      "number_sections": true,
      "sideBar": true,
      "skip_h1_title": true,
      "title_cell": "Содержание",
      "title_sidebar": "Contents",
      "toc_cell": true,
      "toc_position": {
        "height": "calc(100% - 180px)",
        "left": "10px",
        "top": "150px",
        "width": "192.083px"
      },
      "toc_section_display": true,
      "toc_window_display": true
    },
    "kernelspec": {
      "name": "python",
      "display_name": "Python (Pyodide)",
      "language": "python"
    },
    "language_info": {
      "codemirror_mode": {
        "name": "ipython",
        "version": 3
      },
      "file_extension": ".py",
      "mimetype": "text/x-python",
      "name": "python",
      "nbconvert_exporter": "python",
      "pygments_lexer": "ipython3",
      "version": "3.9.5"
    }
  },
  "nbformat_minor": 4,
  "nbformat": 4,
  "cells": [
    {
      "cell_type": "markdown",
      "source": "<h1>Содержание<span class=\"tocSkip\"></span></h1>\n<div class=\"toc\"><ul class=\"toc-item\"><li><span><a href=\"#Загрузка-данных\" data-toc-modified-id=\"Загрузка-данных-1\"><span class=\"toc-item-num\">1&nbsp;&nbsp;</span>Загрузка данных</a></span></li><li><span><a href=\"#Умножение-матриц\" data-toc-modified-id=\"Умножение-матриц-2\"><span class=\"toc-item-num\">2&nbsp;&nbsp;</span>Умножение матриц</a></span></li><li><span><a href=\"#Алгоритм-преобразования\" data-toc-modified-id=\"Алгоритм-преобразования-3\"><span class=\"toc-item-num\">3&nbsp;&nbsp;</span>Алгоритм преобразования</a></span></li><li><span><a href=\"#Проверка-алгоритма\" data-toc-modified-id=\"Проверка-алгоритма-4\"><span class=\"toc-item-num\">4&nbsp;&nbsp;</span>Проверка алгоритма</a></span></li><li><span><a href=\"#Чек-лист-проверки\" data-toc-modified-id=\"Чек-лист-проверки-5\"><span class=\"toc-item-num\">5&nbsp;&nbsp;</span>Чек-лист проверки</a></span></li></ul></div>",
      "metadata": {
        "toc": true
      }
    },
    {
      "cell_type": "markdown",
      "source": "# Защита персональных данных клиентов",
      "metadata": {}
    },
    {
      "cell_type": "markdown",
      "source": "Необходимо защитить данные клиентов страховой компании. Нужно разработать такой метод преобразования данных, чтобы по ним было сложно восстановить персональную информацию.",
      "metadata": {}
    },
    {
      "cell_type": "markdown",
      "source": "## Загрузка данных",
      "metadata": {}
    },
    {
      "cell_type": "code",
      "source": "import pandas as pd\nimport numpy as np\nfrom sklearn.model_selection import train_test_split\nfrom sklearn.preprocessing import StandardScaler\nfrom sklearn.pipeline import Pipeline\nfrom sklearn.linear_model import LinearRegression\nfrom sklearn.metrics import r2_score\nfrom sklearn.preprocessing import StandardScaler\nfrom sklearn.metrics import r2_score, mean_squared_error",
      "metadata": {},
      "execution_count": 1,
      "outputs": []
    },
    {
      "cell_type": "code",
      "source": "insurance_df = pd.read_csv('/datasets/insurance.csv')\n\ninsurance_df.info()",
      "metadata": {},
      "execution_count": 2,
      "outputs": [
        {
          "name": "stdout",
          "output_type": "stream",
          "text": "<class 'pandas.core.frame.DataFrame'>\n\nRangeIndex: 5000 entries, 0 to 4999\n\nData columns (total 5 columns):\n\n #   Column             Non-Null Count  Dtype  \n\n---  ------             --------------  -----  \n\n 0   Пол                5000 non-null   int64  \n\n 1   Возраст            5000 non-null   float64\n\n 2   Зарплата           5000 non-null   float64\n\n 3   Члены семьи        5000 non-null   int64  \n\n 4   Страховые выплаты  5000 non-null   int64  \n\ndtypes: float64(2), int64(3)\n\nmemory usage: 195.4 KB\n"
        }
      ]
    },
    {
      "cell_type": "code",
      "source": "insurance_df.head(20)",
      "metadata": {},
      "execution_count": 3,
      "outputs": [
        {
          "execution_count": 3,
          "output_type": "execute_result",
          "data": {
            "text/html": [
              "<div>\n",
              "<style scoped>\n",
              "    .dataframe tbody tr th:only-of-type {\n",
              "        vertical-align: middle;\n",
              "    }\n",
              "\n",
              "    .dataframe tbody tr th {\n",
              "        vertical-align: top;\n",
              "    }\n",
              "\n",
              "    .dataframe thead th {\n",
              "        text-align: right;\n",
              "    }\n",
              "</style>\n",
              "<table border=\"1\" class=\"dataframe\">\n",
              "  <thead>\n",
              "    <tr style=\"text-align: right;\">\n",
              "      <th></th>\n",
              "      <th>Пол</th>\n",
              "      <th>Возраст</th>\n",
              "      <th>Зарплата</th>\n",
              "      <th>Члены семьи</th>\n",
              "      <th>Страховые выплаты</th>\n",
              "    </tr>\n",
              "  </thead>\n",
              "  <tbody>\n",
              "    <tr>\n",
              "      <th>0</th>\n",
              "      <td>1</td>\n",
              "      <td>41.0</td>\n",
              "      <td>49600.0</td>\n",
              "      <td>1</td>\n",
              "      <td>0</td>\n",
              "    </tr>\n",
              "    <tr>\n",
              "      <th>1</th>\n",
              "      <td>0</td>\n",
              "      <td>46.0</td>\n",
              "      <td>38000.0</td>\n",
              "      <td>1</td>\n",
              "      <td>1</td>\n",
              "    </tr>\n",
              "    <tr>\n",
              "      <th>2</th>\n",
              "      <td>0</td>\n",
              "      <td>29.0</td>\n",
              "      <td>21000.0</td>\n",
              "      <td>0</td>\n",
              "      <td>0</td>\n",
              "    </tr>\n",
              "    <tr>\n",
              "      <th>3</th>\n",
              "      <td>0</td>\n",
              "      <td>21.0</td>\n",
              "      <td>41700.0</td>\n",
              "      <td>2</td>\n",
              "      <td>0</td>\n",
              "    </tr>\n",
              "    <tr>\n",
              "      <th>4</th>\n",
              "      <td>1</td>\n",
              "      <td>28.0</td>\n",
              "      <td>26100.0</td>\n",
              "      <td>0</td>\n",
              "      <td>0</td>\n",
              "    </tr>\n",
              "    <tr>\n",
              "      <th>5</th>\n",
              "      <td>1</td>\n",
              "      <td>43.0</td>\n",
              "      <td>41000.0</td>\n",
              "      <td>2</td>\n",
              "      <td>1</td>\n",
              "    </tr>\n",
              "    <tr>\n",
              "      <th>6</th>\n",
              "      <td>1</td>\n",
              "      <td>39.0</td>\n",
              "      <td>39700.0</td>\n",
              "      <td>2</td>\n",
              "      <td>0</td>\n",
              "    </tr>\n",
              "    <tr>\n",
              "      <th>7</th>\n",
              "      <td>1</td>\n",
              "      <td>25.0</td>\n",
              "      <td>38600.0</td>\n",
              "      <td>4</td>\n",
              "      <td>0</td>\n",
              "    </tr>\n",
              "    <tr>\n",
              "      <th>8</th>\n",
              "      <td>1</td>\n",
              "      <td>36.0</td>\n",
              "      <td>49700.0</td>\n",
              "      <td>1</td>\n",
              "      <td>0</td>\n",
              "    </tr>\n",
              "    <tr>\n",
              "      <th>9</th>\n",
              "      <td>1</td>\n",
              "      <td>32.0</td>\n",
              "      <td>51700.0</td>\n",
              "      <td>1</td>\n",
              "      <td>0</td>\n",
              "    </tr>\n",
              "    <tr>\n",
              "      <th>10</th>\n",
              "      <td>1</td>\n",
              "      <td>25.0</td>\n",
              "      <td>36600.0</td>\n",
              "      <td>1</td>\n",
              "      <td>0</td>\n",
              "    </tr>\n",
              "    <tr>\n",
              "      <th>11</th>\n",
              "      <td>1</td>\n",
              "      <td>38.0</td>\n",
              "      <td>29300.0</td>\n",
              "      <td>0</td>\n",
              "      <td>0</td>\n",
              "    </tr>\n",
              "    <tr>\n",
              "      <th>12</th>\n",
              "      <td>0</td>\n",
              "      <td>23.0</td>\n",
              "      <td>39500.0</td>\n",
              "      <td>3</td>\n",
              "      <td>0</td>\n",
              "    </tr>\n",
              "    <tr>\n",
              "      <th>13</th>\n",
              "      <td>0</td>\n",
              "      <td>21.0</td>\n",
              "      <td>55000.0</td>\n",
              "      <td>0</td>\n",
              "      <td>0</td>\n",
              "    </tr>\n",
              "    <tr>\n",
              "      <th>14</th>\n",
              "      <td>0</td>\n",
              "      <td>40.0</td>\n",
              "      <td>43700.0</td>\n",
              "      <td>1</td>\n",
              "      <td>0</td>\n",
              "    </tr>\n",
              "    <tr>\n",
              "      <th>15</th>\n",
              "      <td>1</td>\n",
              "      <td>34.0</td>\n",
              "      <td>23300.0</td>\n",
              "      <td>0</td>\n",
              "      <td>0</td>\n",
              "    </tr>\n",
              "    <tr>\n",
              "      <th>16</th>\n",
              "      <td>1</td>\n",
              "      <td>26.0</td>\n",
              "      <td>48900.0</td>\n",
              "      <td>2</td>\n",
              "      <td>0</td>\n",
              "    </tr>\n",
              "    <tr>\n",
              "      <th>17</th>\n",
              "      <td>1</td>\n",
              "      <td>41.0</td>\n",
              "      <td>33200.0</td>\n",
              "      <td>2</td>\n",
              "      <td>0</td>\n",
              "    </tr>\n",
              "    <tr>\n",
              "      <th>18</th>\n",
              "      <td>1</td>\n",
              "      <td>42.0</td>\n",
              "      <td>49700.0</td>\n",
              "      <td>0</td>\n",
              "      <td>1</td>\n",
              "    </tr>\n",
              "    <tr>\n",
              "      <th>19</th>\n",
              "      <td>1</td>\n",
              "      <td>27.0</td>\n",
              "      <td>36900.0</td>\n",
              "      <td>0</td>\n",
              "      <td>0</td>\n",
              "    </tr>\n",
              "  </tbody>\n",
              "</table>\n",
              "</div>"
            ],
            "text/plain": [
              "    Пол  Возраст  Зарплата  Члены семьи  Страховые выплаты\n",
              "0     1     41.0   49600.0            1                  0\n",
              "1     0     46.0   38000.0            1                  1\n",
              "2     0     29.0   21000.0            0                  0\n",
              "3     0     21.0   41700.0            2                  0\n",
              "4     1     28.0   26100.0            0                  0\n",
              "5     1     43.0   41000.0            2                  1\n",
              "6     1     39.0   39700.0            2                  0\n",
              "7     1     25.0   38600.0            4                  0\n",
              "8     1     36.0   49700.0            1                  0\n",
              "9     1     32.0   51700.0            1                  0\n",
              "10    1     25.0   36600.0            1                  0\n",
              "11    1     38.0   29300.0            0                  0\n",
              "12    0     23.0   39500.0            3                  0\n",
              "13    0     21.0   55000.0            0                  0\n",
              "14    0     40.0   43700.0            1                  0\n",
              "15    1     34.0   23300.0            0                  0\n",
              "16    1     26.0   48900.0            2                  0\n",
              "17    1     41.0   33200.0            2                  0\n",
              "18    1     42.0   49700.0            0                  1\n",
              "19    1     27.0   36900.0            0                  0"
            ]
          },
          "metadata": {}
        }
      ]
    },
    {
      "cell_type": "code",
      "source": "def rows_check(df):\n    for column in df.columns:\n        print('Уникальные значения столбца', column)\n        print(df[column].unique())\n    print('Количество пропусков в каждом столбце')    \n    print(df.isna().mean())",
      "metadata": {},
      "execution_count": 4,
      "outputs": []
    },
    {
      "cell_type": "code",
      "source": "print(rows_check(insurance_df))",
      "metadata": {},
      "execution_count": 5,
      "outputs": [
        {
          "name": "stdout",
          "output_type": "stream",
          "text": "Уникальные значения столбца Пол\n\n[1 0]\n\nУникальные значения столбца Возраст\n\n[41. 46. 29. 21. 28. 43. 39. 25. 36. 32. 38. 23. 40. 34. 26. 42. 27. 33.\n\n 47. 30. 19. 31. 22. 20. 24. 18. 37. 48. 45. 44. 52. 49. 35. 56. 65. 55.\n\n 57. 54. 50. 53. 51. 58. 59. 60. 61. 62.]\n\nУникальные значения столбца Зарплата\n\n[49600. 38000. 21000. 41700. 26100. 41000. 39700. 38600. 49700. 51700.\n\n 36600. 29300. 39500. 55000. 43700. 23300. 48900. 33200. 36900. 43500.\n\n 36100. 26600. 48700. 40400. 38400. 34600. 34800. 36800. 42200. 46300.\n\n 30300. 51000. 28100. 64800. 30400. 45300. 38300. 49500. 19400. 40200.\n\n 31700. 69200. 33100. 31600. 34500. 38700. 39600. 42400. 34900. 30500.\n\n 24200. 49900. 14300. 47000. 44800. 43800. 42700. 35400. 57200. 29600.\n\n 37400. 48100. 33700. 61800. 39400. 15600. 52600. 37600. 52500. 32700.\n\n 51600. 60900. 41800. 47400. 26500. 45900. 35700. 34300. 26700. 25700.\n\n 33300. 31100. 31500. 42100. 37300. 42500. 27300. 46800. 33500. 44300.\n\n 41600. 53900. 40100. 44600. 45000. 32000. 38200. 33000. 38500. 51800.\n\n 33800. 46400. 43200. 31800. 50200. 35100. 30700. 45800. 49300. 42800.\n\n 33600. 50300. 34000. 36400. 44900. 43600. 54600. 52800. 29700. 39000.\n\n 44100. 31900. 37700. 35200. 43100. 51300. 47500. 40800. 26800. 64900.\n\n 35900. 31200. 39900. 43300. 33900. 40700. 44700. 53400. 30600. 56000.\n\n 35600. 55200. 40600. 48300. 50800. 41200. 44200. 44400. 40500. 39800.\n\n 16600. 48400. 25100. 23100. 32100. 31000. 42900. 46700. 26000. 55900.\n\n 52000. 41500. 49400. 60300. 45600. 49000. 37500. 21900. 45100. 47900.\n\n 54300. 32400. 41300. 44500. 23200. 37900. 48000. 52100. 45700. 29900.\n\n 42600. 45200. 36000. 46500. 23800. 30200. 24400. 32800. 29000. 43400.\n\n 51500. 61700. 45400. 50700. 36200. 41900. 27900. 47200. 48800. 55100.\n\n 48200. 35500. 35000. 43900. 40000. 22000. 40300. 36300. 49800. 25600.\n\n 42300. 54900. 25500. 32900. 36700. 38900. 24700. 28800. 22900. 47300.\n\n 14500. 28700. 44000. 34100. 53000. 59300. 28500. 47100. 41400. 58900.\n\n 17500. 54200. 43000. 29800. 20000. 13800. 27500. 67700. 28000. 37100.\n\n  8900. 14600. 56200. 38800. 27700. 50500. 58400. 34700. 34400. 49100.\n\n 50900. 28200. 61500. 32500. 25900.  9800. 28300. 41100. 62000. 32600.\n\n 37200. 53800. 24000. 53600. 54800. 59600. 20200. 21700. 29200. 38100.\n\n 20700. 32300. 21200. 62100. 54000. 24500. 51900. 47800. 56100. 55300.\n\n 58100. 28900. 39100. 58000. 27200. 24600. 30100. 57100. 60100. 22200.\n\n 47700. 24900. 37800. 52700. 34200. 18700. 42000. 26300. 22600. 30900.\n\n 35800. 30800. 51100. 53300. 46200. 24100. 54700. 51200. 62300. 51400.\n\n 40900. 23400. 35300. 55800. 33400. 21300. 30000. 56700. 46900.  5300.\n\n 39200. 57500. 31300. 53700. 21600. 50000. 36500. 16400. 15900. 65100.\n\n 59900. 63200. 26200. 61200. 48500. 32200. 29100. 50100. 22700. 28600.\n\n 23500. 23700. 19600. 17800. 50600. 57900. 22500. 22100. 58300. 64100.\n\n 25000. 60400. 59100. 37000. 62400. 29500. 25800. 25400. 26900. 21500.\n\n 52200. 46600. 57300. 46100. 19300. 18900. 31400. 28400. 29400. 17600.\n\n 13900. 52400. 11300. 46000. 60500. 58700. 58200. 24800. 63700. 60600.\n\n 20400. 26400. 55600. 57000. 45500. 48600. 57600. 52900. 62800. 17000.\n\n 56500. 52300. 18400. 63300. 12900. 27000. 55700. 39300. 27800. 18300.\n\n 56300. 59800. 24300. 14400. 13400. 17900. 47600. 54500. 54400. 23900.\n\n 13000. 19900. 55400. 22800. 61000. 57400. 23000. 20500. 53200. 18100.\n\n 25300. 59500. 18200. 50400. 21100. 20900. 27400. 17300. 60700. 70600.\n\n 17700. 19700. 49200. 63100. 59200. 14700. 53100. 21800. 68000. 16500.\n\n 71400. 10000. 55500. 54100. 56400. 20600. 66300. 18800. 11000. 66100.\n\n 27100. 57800. 53500. 19200. 58500. 64000. 63600. 23600. 25200. 19100.\n\n 18600. 57700. 62700. 56600. 21400. 58800. 68400. 17100. 13300. 68500.\n\n 56900. 64400. 27600. 67200. 16200. 58600. 62200. 16000. 79000. 22300.\n\n 11200. 71600. 61300. 70500. 67100. 59000. 13500. 16700. 15700. 60000.\n\n 17400. 63400. 61900. 65200. 62600. 14100. 20100. 63800. 15100. 70000.\n\n 60200. 20300. 65900. 15200. 63500. 13200. 68900. 12200.  6000. 74800.\n\n 59700. 10800. 19000. 10600. 69400. 15000. 75200. 62500. 16300. 20800.\n\n  7400. 65300. 61400. 56800.]\n\nУникальные значения столбца Члены семьи\n\n[1 0 2 4 3 5 6]\n\nУникальные значения столбца Страховые выплаты\n\n[0 1 2 3 5 4]\n\nКоличество пропусков в каждом столбце\n\nПол                  0.0\n\nВозраст              0.0\n\nЗарплата             0.0\n\nЧлены семьи          0.0\n\nСтраховые выплаты    0.0\n\ndtype: float64\n\nNone\n"
        }
      ]
    },
    {
      "cell_type": "markdown",
      "source": "Приведем колонки возраста и зарплаты к целочисленному формату",
      "metadata": {}
    },
    {
      "cell_type": "code",
      "source": "insurance_df['Возраст'] = pd.to_numeric(insurance_df['Возраст'], downcast='integer')\ninsurance_df['Зарплата'] = pd.to_numeric(insurance_df['Зарплата'], downcast='integer')",
      "metadata": {},
      "execution_count": 6,
      "outputs": []
    },
    {
      "cell_type": "markdown",
      "source": "Изучили данные, проверили столбцы на наличие пропусков и изменили формат столбцов возраста и зарплаты. ",
      "metadata": {}
    },
    {
      "cell_type": "markdown",
      "source": "## Умножение матриц",
      "metadata": {}
    },
    {
      "cell_type": "markdown",
      "source": "В этом задании вы можете записывать формулы в *Jupyter Notebook.*\n\nЧтобы записать формулу внутри текста, окружите её символами доллара \\\\$; если снаружи —  двойными символами \\\\$\\\\$. Эти формулы записываются на языке вёрстки *LaTeX.* \n\nДля примера мы записали формулы линейной регрессии. Можете их скопировать и отредактировать, чтобы решить задачу.\n\nРаботать в *LaTeX* необязательно.",
      "metadata": {}
    },
    {
      "cell_type": "markdown",
      "source": "Обозначения:\n\n- $X$ — матрица признаков (нулевой столбец состоит из единиц)\n\n- $y$ — вектор целевого признака\n\n- $P$ — матрица, на которую умножаются признаки\n\n- $w$ — вектор весов линейной регрессии (нулевой элемент равен сдвигу)",
      "metadata": {}
    },
    {
      "cell_type": "markdown",
      "source": "Предсказания:\n\n$$\na = Xw\n$$\n\nЗадача обучения:\n\n$$\nw = \\arg\\min_w MSE(Xw, y)\n$$\n\nФормула обучения:\n\n$$\nw = (X^T X)^{-1} X^T y\n$$",
      "metadata": {}
    },
    {
      "cell_type": "markdown",
      "source": "**Ответ:** качество линейной регрессии не изменится\n\n**Обоснование:** \n\n\nВыпишем основные свойства обратимости матрицы: \n\n$$\n(A*B)^{-1} = B{^-1} * A{^-1}\n$$\n\n\n$$\n(A^-1)^{-1} = A, так как A{^-1} * A = E\n$$\n\n$$\n(A^{T})^{-1} = (A^{-1})^{T}\n$$\n\n\n$$\nA*E = E * A = A\n$$\n\n$$\n(A*B)^T = B^T * A^T\n$$",
      "metadata": {}
    },
    {
      "cell_type": "markdown",
      "source": "Заменим X на Z и подставим в формулу\n\n$$\nZ = X * P\n$$\n\nP - обратимая матрица\n\n$$\na = Z * w\n$$\n\n$$\nw = (Z^T Z)^{-1} Z^T y\n$$",
      "metadata": {}
    },
    {
      "cell_type": "markdown",
      "source": "Получаем уравнение, подставив новое значение Z \n\n\n$$\na = Z(Z^T Z)^{-1} Z^T y\n$$",
      "metadata": {}
    },
    {
      "cell_type": "markdown",
      "source": "Заменим Z в уравнении на X*P\n\n$$\na = XP((XP^T) XP))^{-1} (XP)^T y\n$$",
      "metadata": {}
    },
    {
      "cell_type": "markdown",
      "source": "Раскроем скобки уравнения, пользуясь свойствами, выписанными выше\n\n$$\na = XP((XP^T) XP))^{-1} (XP)^T y = XP(XP)^{-1}((XP^T))^{-1}(XP)^T y = XPP^{-1}X^{-1}((XP^T)^{-1}(XP)^Ty\n$$",
      "metadata": {}
    },
    {
      "cell_type": "markdown",
      "source": "Учтем, что $$ P*P^-1 = E $$\n\nИ продолжим раскрытие скобок\n\n$$\na = XEX^{-1}((XP)^T)^{-1}(XP)^Ty = XX^{-1}(P^T X^T)^{-1}P^T X^T y = XX^{-1}(X^T)^{-1}(P^T)^{-1}P^T X^T y\n$$",
      "metadata": {}
    },
    {
      "cell_type": "markdown",
      "source": "Умножение можно преобразовать: $$ (P^T)^{-1}P^T = E $$\n\nОставшееся уравнение легко сокращается\n\n\n$$\na = XX^{-1}(X^T)^{-1} E X^T y = X(X^T X)^{-1} X^T y = Xw \n$$",
      "metadata": {}
    },
    {
      "cell_type": "markdown",
      "source": "Полученное уравнение: \n$$ Xw = a $$",
      "metadata": {}
    },
    {
      "cell_type": "markdown",
      "source": "Таким образом, можно сделать вывод, что значение предсказания не меняется.",
      "metadata": {}
    },
    {
      "cell_type": "markdown",
      "source": "$$\nw = ((XP^T) XP))^{-1} (XP)^T y\n$$",
      "metadata": {}
    },
    {
      "cell_type": "markdown",
      "source": "$$ \nw = (P^T X^T XP)^{-1} P^T X^T y\n$$",
      "metadata": {}
    },
    {
      "cell_type": "markdown",
      "source": "$$\nw = (P^T(X^T X) P)^{-1} P^T X^T y\n$$",
      "metadata": {}
    },
    {
      "cell_type": "markdown",
      "source": "$$\nw = P^{-1}(X^T X)^{-1} X^T y = P^{-1} w \n$$",
      "metadata": {}
    },
    {
      "cell_type": "markdown",
      "source": "Рассчитаем предсказания по формуле: \n\n$$\na = Xw\n$$",
      "metadata": {}
    },
    {
      "cell_type": "markdown",
      "source": "$$ \na = XPP^{-1}w\n$$",
      "metadata": {}
    },
    {
      "cell_type": "markdown",
      "source": "Матрица P - изначально обратимая, поэтому $$ PP^-1 = E $$",
      "metadata": {}
    },
    {
      "cell_type": "markdown",
      "source": "$$\na = XPP^{-1} w = XEw = Xw = a\n$$",
      "metadata": {}
    },
    {
      "cell_type": "markdown",
      "source": "## Алгоритм преобразования",
      "metadata": {}
    },
    {
      "cell_type": "markdown",
      "source": "**Алгоритм**\n\nДля защиты данных и сохранения качества модели машинного обучения, нужно умножить признаки на обратимую матрицу ",
      "metadata": {}
    },
    {
      "cell_type": "code",
      "source": "# создаем случайную матрицу, такого же размера как и исходная \nrandom_matrix = np.random.randint(100,size = (4, 4))\nprint(random_matrix)",
      "metadata": {
        "scrolled": true
      },
      "execution_count": 7,
      "outputs": [
        {
          "name": "stdout",
          "output_type": "stream",
          "text": "[[95 13 14 49]\n\n [83  1 57 94]\n\n [18 39 79 25]\n\n [85 87 10 30]]\n"
        }
      ]
    },
    {
      "cell_type": "code",
      "source": "# проверяем матрицу на обратимость\nmatrix_inverted = np.linalg.inv(random_matrix)\nprint(matrix_inverted)",
      "metadata": {
        "scrolled": true
      },
      "execution_count": 8,
      "outputs": [
        {
          "name": "stdout",
          "output_type": "stream",
          "text": "[[ 0.02717093 -0.01363677  0.00585013 -0.00652575]\n\n [-0.01719114  0.00477346 -0.00230139  0.01503983]\n\n [ 0.01216454 -0.00793252  0.01743375 -0.00954164]\n\n [-0.03118484  0.02743864 -0.01571259  0.01138799]]\n"
        }
      ]
    },
    {
      "cell_type": "markdown",
      "source": "**Обоснование**\n\n",
      "metadata": {}
    },
    {
      "cell_type": "code",
      "source": "# расчитаем вектора предсказаний и по формулам сравним их между собой\nfeatures = insurance_df.drop('Страховые выплаты', axis=1)\ntarget = insurance_df['Страховые выплаты']\n\nscaler = StandardScaler()\nscaler.fit(features)\nfeatures_scaled = scaler.transform(features)\n\n# расчет по формуле 𝑤=(𝑋𝑇𝑋)−1𝑋𝑇𝑦\n\nw = np.linalg.inv(features_scaled.T.dot(features_scaled)).dot(features_scaled.T).dot(target)\n\n\n# расчет вектора предсказаний по формуле 𝑎=𝑋𝑤\n\na = features_scaled @ w\n\n# преобразуем признаки\n\nfeatures_scaled_p = features_scaled @ random_matrix\n\n# расчет преобразованных признаков по формуле 𝑤=(𝑋𝑇𝑋)−1𝑋𝑇𝑦\n\nw1 = np.linalg.inv(features_scaled_p.T.dot(features_scaled_p)).dot(features_scaled_p.T).dot(target)\n\n# расчет вектора предсказаний по преобразованным признакам по формуле  𝑎=𝑋𝑤\n\na1 = features_scaled_p @ w1\n\n\n# получаем вектор разниц между предсказаниями по a и a1\n\ndiff = a - a1\n\ndiff.sum()",
      "metadata": {},
      "execution_count": 9,
      "outputs": [
        {
          "execution_count": 9,
          "output_type": "execute_result",
          "data": {
            "text/plain": [
              "2.89691976461913e-14"
            ]
          },
          "metadata": {}
        }
      ]
    },
    {
      "cell_type": "markdown",
      "source": "Таким образом, мы доказали, что преобразование не ухудшает качество модели и не меняет предсказания.",
      "metadata": {}
    },
    {
      "cell_type": "markdown",
      "source": "## Проверка алгоритма",
      "metadata": {}
    },
    {
      "cell_type": "code",
      "source": "# создадим модель линейной регресии для исходных данных и посмотрим на ее метрику R2\n\nmodel = LinearRegression(normalize = True)\nmodel.fit(features,target)\npredictions = model.predict(features)\nmse = mean_squared_error(target, predictions)\nprint('MSE Score:', mse)\nprint('R2_Score на исходных данных: ',r2_score(target, predictions))",
      "metadata": {},
      "execution_count": 10,
      "outputs": [
        {
          "name": "stdout",
          "output_type": "stream",
          "text": "MSE Score: 0.12334688941710856\n\nR2_Score на исходных данных:  0.4249455028666802\n"
        }
      ]
    },
    {
      "cell_type": "code",
      "source": "features_matrix = features_scaled @ random_matrix\nmodel.fit(features_matrix, target)\npredictions_matrix = model.predict(features_matrix)\nmse = mean_squared_error(target, predictions)\nprint('MSE Score:', mse)\nprint('R2_Score для преобразованных  признаков: ',r2_score(target, predictions_matrix))",
      "metadata": {
        "scrolled": true
      },
      "execution_count": 11,
      "outputs": [
        {
          "name": "stdout",
          "output_type": "stream",
          "text": "MSE Score: 0.12334688941710856\n\nR2_Score для преобразованных  признаков:  0.4249455028666801\n"
        }
      ]
    },
    {
      "cell_type": "markdown",
      "source": "# Вывод",
      "metadata": {}
    },
    {
      "cell_type": "markdown",
      "source": "**Шаг 1.** \n\nОзнакомился с данными, проверил общую информацию о датасете и изменил формат столбцов возраста и зарплаты.\n\n**Шаг 2.**\n\nНа данном этапе я проверил утверждение о том, что при перемножении признаков на обратимую матрицу качество линейной регрессии не меняется. Как оказалось - значение предсказания не меняется.\n\n**Шаг 3.**\n\nНаписал алгоритм преобразования данных для машинного обучения, в результате чего был сделан вывод, что преобразование не ухудшает качество модели и не меняет предсказания.\n\n**Шаг 4.** \n\nВ заключительном этапе я провел проверку алгоритма, рассчитав MSE и R2_Score для модели. Как итог - данные были защищены и сохранены, не повлияв на качество модели.",
      "metadata": {}
    }
  ]
}