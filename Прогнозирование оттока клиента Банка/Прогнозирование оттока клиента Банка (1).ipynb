{
  "metadata": {
    "ExecuteTimeLog": [
      {
        "duration": 53,
        "start_time": "2022-10-03T14:17:24.578Z"
      },
      {
        "duration": 1215,
        "start_time": "2022-10-03T14:17:26.936Z"
      },
      {
        "duration": 113,
        "start_time": "2022-10-03T14:17:28.153Z"
      },
      {
        "duration": 22,
        "start_time": "2022-10-03T15:39:22.093Z"
      },
      {
        "duration": 9,
        "start_time": "2022-10-03T15:39:30.617Z"
      },
      {
        "duration": 43,
        "start_time": "2022-10-03T15:39:37.788Z"
      },
      {
        "duration": 90,
        "start_time": "2022-10-03T15:43:40.240Z"
      },
      {
        "duration": 81,
        "start_time": "2022-10-03T15:43:56.708Z"
      },
      {
        "duration": 71,
        "start_time": "2022-10-03T15:44:16.390Z"
      },
      {
        "duration": 82,
        "start_time": "2022-10-03T15:45:28.426Z"
      },
      {
        "duration": 87,
        "start_time": "2022-10-03T16:03:25.405Z"
      },
      {
        "duration": 6,
        "start_time": "2022-10-03T16:03:47.418Z"
      },
      {
        "duration": 239,
        "start_time": "2022-10-03T16:13:40.256Z"
      },
      {
        "duration": 1370,
        "start_time": "2022-10-03T16:14:44.236Z"
      },
      {
        "duration": 5,
        "start_time": "2022-10-03T16:16:34.283Z"
      },
      {
        "duration": 5902,
        "start_time": "2022-10-03T16:16:36.612Z"
      },
      {
        "duration": 5,
        "start_time": "2022-10-03T16:16:42.516Z"
      },
      {
        "duration": 75,
        "start_time": "2022-10-03T16:16:42.522Z"
      },
      {
        "duration": 79,
        "start_time": "2022-10-03T16:21:48.678Z"
      },
      {
        "duration": 19,
        "start_time": "2022-10-03T16:21:56.488Z"
      },
      {
        "duration": 20,
        "start_time": "2022-10-03T16:22:00.675Z"
      },
      {
        "duration": 20,
        "start_time": "2022-10-03T16:22:04.979Z"
      },
      {
        "duration": 16,
        "start_time": "2022-10-03T16:22:15.792Z"
      },
      {
        "duration": 17,
        "start_time": "2022-10-03T16:22:17.877Z"
      },
      {
        "duration": 20,
        "start_time": "2022-10-03T16:23:01.203Z"
      },
      {
        "duration": 18,
        "start_time": "2022-10-03T16:23:03.543Z"
      },
      {
        "duration": 13,
        "start_time": "2022-10-03T16:23:43.090Z"
      },
      {
        "duration": 45,
        "start_time": "2022-10-03T16:24:02.072Z"
      },
      {
        "duration": 17,
        "start_time": "2022-10-03T16:24:31.276Z"
      },
      {
        "duration": 51,
        "start_time": "2022-10-03T16:24:33.837Z"
      },
      {
        "duration": 12,
        "start_time": "2022-10-03T16:24:43.363Z"
      },
      {
        "duration": 74,
        "start_time": "2022-10-03T16:24:44.049Z"
      },
      {
        "duration": 21,
        "start_time": "2022-10-03T16:24:46.095Z"
      },
      {
        "duration": 15,
        "start_time": "2022-10-03T16:24:47.195Z"
      },
      {
        "duration": 26,
        "start_time": "2022-10-03T16:25:34.536Z"
      },
      {
        "duration": 11,
        "start_time": "2022-10-03T16:51:34.533Z"
      },
      {
        "duration": 9,
        "start_time": "2022-10-03T17:03:47.234Z"
      },
      {
        "duration": 48,
        "start_time": "2022-10-03T17:09:15.192Z"
      },
      {
        "duration": 21,
        "start_time": "2022-10-04T18:26:23.158Z"
      },
      {
        "duration": 19,
        "start_time": "2022-10-04T18:26:38.370Z"
      },
      {
        "duration": 18,
        "start_time": "2022-10-04T18:27:08.426Z"
      },
      {
        "duration": 3,
        "start_time": "2022-10-04T18:27:54.174Z"
      },
      {
        "duration": 65,
        "start_time": "2022-10-04T18:27:55.446Z"
      },
      {
        "duration": 22,
        "start_time": "2022-10-04T18:27:55.993Z"
      },
      {
        "duration": 14,
        "start_time": "2022-10-04T18:27:56.379Z"
      },
      {
        "duration": 10,
        "start_time": "2022-10-04T18:27:56.800Z"
      },
      {
        "duration": 36,
        "start_time": "2022-10-04T18:27:57.372Z"
      },
      {
        "duration": 6,
        "start_time": "2022-10-04T18:27:57.845Z"
      },
      {
        "duration": 6,
        "start_time": "2022-10-04T18:27:58.224Z"
      },
      {
        "duration": 20,
        "start_time": "2022-10-04T18:27:58.784Z"
      },
      {
        "duration": 11,
        "start_time": "2022-10-04T18:27:59.193Z"
      },
      {
        "duration": 20,
        "start_time": "2022-10-04T18:28:00.436Z"
      },
      {
        "duration": 3,
        "start_time": "2022-10-04T18:28:26.780Z"
      },
      {
        "duration": 63,
        "start_time": "2022-10-04T18:28:28.418Z"
      },
      {
        "duration": 20,
        "start_time": "2022-10-04T18:28:28.711Z"
      },
      {
        "duration": 13,
        "start_time": "2022-10-04T18:28:29.000Z"
      },
      {
        "duration": 7,
        "start_time": "2022-10-04T18:28:29.144Z"
      },
      {
        "duration": 33,
        "start_time": "2022-10-04T18:28:29.446Z"
      },
      {
        "duration": 5,
        "start_time": "2022-10-04T18:28:29.744Z"
      },
      {
        "duration": 6,
        "start_time": "2022-10-04T18:28:30.071Z"
      },
      {
        "duration": 20,
        "start_time": "2022-10-04T18:28:30.773Z"
      },
      {
        "duration": 11,
        "start_time": "2022-10-04T18:28:31.173Z"
      },
      {
        "duration": 18,
        "start_time": "2022-10-04T18:28:31.855Z"
      },
      {
        "duration": 3,
        "start_time": "2022-10-04T18:28:38.495Z"
      },
      {
        "duration": 62,
        "start_time": "2022-10-04T18:28:39.795Z"
      },
      {
        "duration": 19,
        "start_time": "2022-10-04T18:28:40.126Z"
      },
      {
        "duration": 14,
        "start_time": "2022-10-04T18:28:40.487Z"
      },
      {
        "duration": 8,
        "start_time": "2022-10-04T18:28:40.680Z"
      },
      {
        "duration": 38,
        "start_time": "2022-10-04T18:28:41.071Z"
      },
      {
        "duration": 8,
        "start_time": "2022-10-04T18:28:41.424Z"
      },
      {
        "duration": 9,
        "start_time": "2022-10-04T18:28:41.799Z"
      },
      {
        "duration": 18,
        "start_time": "2022-10-04T18:28:42.387Z"
      },
      {
        "duration": 10,
        "start_time": "2022-10-04T18:28:42.749Z"
      },
      {
        "duration": 18,
        "start_time": "2022-10-04T18:28:43.767Z"
      },
      {
        "duration": 10,
        "start_time": "2022-10-04T18:32:05.839Z"
      },
      {
        "duration": 1851,
        "start_time": "2022-10-04T18:32:07.404Z"
      },
      {
        "duration": 3,
        "start_time": "2022-10-04T18:33:02.613Z"
      },
      {
        "duration": 9,
        "start_time": "2022-10-04T18:33:26.345Z"
      },
      {
        "duration": 11,
        "start_time": "2022-10-04T18:34:18.998Z"
      },
      {
        "duration": 13,
        "start_time": "2022-10-04T18:34:25.261Z"
      },
      {
        "duration": 3,
        "start_time": "2022-10-04T18:34:29.167Z"
      },
      {
        "duration": 62,
        "start_time": "2022-10-04T18:34:29.871Z"
      },
      {
        "duration": 30,
        "start_time": "2022-10-04T18:34:31.462Z"
      },
      {
        "duration": 14,
        "start_time": "2022-10-04T18:34:32.877Z"
      },
      {
        "duration": 8,
        "start_time": "2022-10-04T18:34:33.374Z"
      },
      {
        "duration": 35,
        "start_time": "2022-10-04T18:34:34.169Z"
      },
      {
        "duration": 6,
        "start_time": "2022-10-04T18:34:35.005Z"
      },
      {
        "duration": 6,
        "start_time": "2022-10-04T18:34:35.777Z"
      },
      {
        "duration": 19,
        "start_time": "2022-10-04T18:34:36.676Z"
      },
      {
        "duration": 11,
        "start_time": "2022-10-04T18:34:37.580Z"
      },
      {
        "duration": 496,
        "start_time": "2022-10-04T18:34:40.963Z"
      },
      {
        "duration": 3,
        "start_time": "2022-10-04T18:36:40.554Z"
      },
      {
        "duration": 81,
        "start_time": "2022-10-04T18:36:41.743Z"
      },
      {
        "duration": 20,
        "start_time": "2022-10-04T18:36:42.075Z"
      },
      {
        "duration": 13,
        "start_time": "2022-10-04T18:36:42.349Z"
      },
      {
        "duration": 7,
        "start_time": "2022-10-04T18:36:42.490Z"
      },
      {
        "duration": 33,
        "start_time": "2022-10-04T18:36:42.821Z"
      },
      {
        "duration": 6,
        "start_time": "2022-10-04T18:36:43.200Z"
      },
      {
        "duration": 5,
        "start_time": "2022-10-04T18:36:43.536Z"
      },
      {
        "duration": 17,
        "start_time": "2022-10-04T18:36:44.431Z"
      },
      {
        "duration": 10,
        "start_time": "2022-10-04T18:36:46.511Z"
      },
      {
        "duration": 10,
        "start_time": "2022-10-04T18:36:47.870Z"
      },
      {
        "duration": 4,
        "start_time": "2022-10-04T18:37:38.109Z"
      },
      {
        "duration": 75,
        "start_time": "2022-10-04T18:37:41.402Z"
      },
      {
        "duration": 26,
        "start_time": "2022-10-04T18:37:41.732Z"
      },
      {
        "duration": 14,
        "start_time": "2022-10-04T18:37:42.058Z"
      },
      {
        "duration": 7,
        "start_time": "2022-10-04T18:37:42.220Z"
      },
      {
        "duration": 34,
        "start_time": "2022-10-04T18:37:42.558Z"
      },
      {
        "duration": 5,
        "start_time": "2022-10-04T18:37:42.875Z"
      },
      {
        "duration": 6,
        "start_time": "2022-10-04T18:37:43.243Z"
      },
      {
        "duration": 20,
        "start_time": "2022-10-04T18:37:43.994Z"
      },
      {
        "duration": 10,
        "start_time": "2022-10-04T18:37:44.408Z"
      },
      {
        "duration": 26,
        "start_time": "2022-10-04T18:37:44.599Z"
      },
      {
        "duration": 25,
        "start_time": "2022-10-04T18:54:06.665Z"
      },
      {
        "duration": 185,
        "start_time": "2022-10-04T18:54:08.073Z"
      },
      {
        "duration": 31,
        "start_time": "2022-10-04T19:01:38.035Z"
      },
      {
        "duration": 30277,
        "start_time": "2022-10-04T19:01:48.763Z"
      },
      {
        "duration": 57,
        "start_time": "2022-10-04T19:05:46.872Z"
      },
      {
        "duration": 30737,
        "start_time": "2022-10-04T19:06:11.042Z"
      },
      {
        "duration": 4,
        "start_time": "2022-10-04T19:34:19.583Z"
      },
      {
        "duration": 11,
        "start_time": "2022-10-04T19:34:35.703Z"
      },
      {
        "duration": 4,
        "start_time": "2022-10-04T19:40:59.482Z"
      },
      {
        "duration": 31505,
        "start_time": "2022-10-04T19:41:20.687Z"
      },
      {
        "duration": 5,
        "start_time": "2022-10-04T19:43:36.183Z"
      },
      {
        "duration": 31185,
        "start_time": "2022-10-04T19:43:36.620Z"
      },
      {
        "duration": 10,
        "start_time": "2022-10-04T19:44:27.364Z"
      },
      {
        "duration": 546,
        "start_time": "2022-10-04T19:44:29.508Z"
      },
      {
        "duration": 30529,
        "start_time": "2022-10-04T19:44:32.400Z"
      },
      {
        "duration": 27,
        "start_time": "2022-10-04T19:45:12.119Z"
      },
      {
        "duration": 4,
        "start_time": "2022-10-04T19:45:16.701Z"
      },
      {
        "duration": 76,
        "start_time": "2022-10-04T19:45:16.707Z"
      },
      {
        "duration": 22,
        "start_time": "2022-10-04T19:45:16.784Z"
      },
      {
        "duration": 14,
        "start_time": "2022-10-04T19:45:16.808Z"
      },
      {
        "duration": 31,
        "start_time": "2022-10-04T19:45:16.824Z"
      },
      {
        "duration": 38,
        "start_time": "2022-10-04T19:45:16.856Z"
      },
      {
        "duration": 6,
        "start_time": "2022-10-04T19:45:16.895Z"
      },
      {
        "duration": 14,
        "start_time": "2022-10-04T19:45:16.903Z"
      },
      {
        "duration": 41,
        "start_time": "2022-10-04T19:45:16.919Z"
      },
      {
        "duration": 11,
        "start_time": "2022-10-04T19:45:16.962Z"
      },
      {
        "duration": 28,
        "start_time": "2022-10-04T19:45:16.975Z"
      },
      {
        "duration": 257,
        "start_time": "2022-10-04T19:45:17.004Z"
      },
      {
        "duration": 30452,
        "start_time": "2022-10-04T19:45:17.263Z"
      },
      {
        "duration": 4,
        "start_time": "2022-10-04T19:45:47.718Z"
      },
      {
        "duration": 30349,
        "start_time": "2022-10-04T19:45:47.724Z"
      },
      {
        "duration": 93505,
        "start_time": "2022-10-04T19:53:21.473Z"
      },
      {
        "duration": 45,
        "start_time": "2022-10-04T19:58:34.024Z"
      },
      {
        "duration": 5,
        "start_time": "2022-10-04T19:58:41.595Z"
      },
      {
        "duration": 29949,
        "start_time": "2022-10-04T20:01:06.673Z"
      },
      {
        "duration": 38393,
        "start_time": "2022-10-04T20:07:21.906Z"
      },
      {
        "duration": 38261,
        "start_time": "2022-10-04T20:08:17.561Z"
      },
      {
        "duration": 27,
        "start_time": "2022-10-04T20:10:08.015Z"
      },
      {
        "duration": 161,
        "start_time": "2022-10-04T20:10:09.196Z"
      },
      {
        "duration": 93923,
        "start_time": "2022-10-04T20:10:13.334Z"
      },
      {
        "duration": 4,
        "start_time": "2022-10-04T20:18:23.765Z"
      },
      {
        "duration": 70,
        "start_time": "2022-10-04T20:18:23.772Z"
      },
      {
        "duration": 21,
        "start_time": "2022-10-04T20:18:23.844Z"
      },
      {
        "duration": 14,
        "start_time": "2022-10-04T20:18:23.867Z"
      },
      {
        "duration": 12,
        "start_time": "2022-10-04T20:18:23.882Z"
      },
      {
        "duration": 35,
        "start_time": "2022-10-04T20:18:23.896Z"
      },
      {
        "duration": 24,
        "start_time": "2022-10-04T20:18:23.932Z"
      },
      {
        "duration": 11,
        "start_time": "2022-10-04T20:18:23.959Z"
      },
      {
        "duration": 22,
        "start_time": "2022-10-04T20:18:23.971Z"
      },
      {
        "duration": 10,
        "start_time": "2022-10-04T20:18:23.995Z"
      },
      {
        "duration": 52,
        "start_time": "2022-10-04T20:18:24.007Z"
      },
      {
        "duration": 194,
        "start_time": "2022-10-04T20:18:24.061Z"
      },
      {
        "duration": 37414,
        "start_time": "2022-10-04T20:18:24.258Z"
      },
      {
        "duration": 5,
        "start_time": "2022-10-04T20:19:01.674Z"
      },
      {
        "duration": 37478,
        "start_time": "2022-10-04T20:19:01.680Z"
      },
      {
        "duration": 4,
        "start_time": "2022-10-04T20:19:39.160Z"
      },
      {
        "duration": 37355,
        "start_time": "2022-10-04T20:19:39.166Z"
      },
      {
        "duration": 13,
        "start_time": "2022-10-04T20:30:19.591Z"
      },
      {
        "duration": 37307,
        "start_time": "2022-10-04T20:30:20.649Z"
      },
      {
        "duration": 52903,
        "start_time": "2022-10-04T20:50:58.108Z"
      },
      {
        "duration": 13,
        "start_time": "2022-10-04T20:51:56.809Z"
      },
      {
        "duration": 5,
        "start_time": "2022-10-04T20:58:28.498Z"
      },
      {
        "duration": 13,
        "start_time": "2022-10-04T20:58:29.315Z"
      },
      {
        "duration": 4,
        "start_time": "2022-10-04T20:58:34.928Z"
      },
      {
        "duration": 12,
        "start_time": "2022-10-04T20:58:35.545Z"
      },
      {
        "duration": 3,
        "start_time": "2022-10-04T20:58:39.565Z"
      },
      {
        "duration": 67,
        "start_time": "2022-10-04T20:58:39.570Z"
      },
      {
        "duration": 18,
        "start_time": "2022-10-04T20:58:39.639Z"
      },
      {
        "duration": 13,
        "start_time": "2022-10-04T20:58:39.660Z"
      },
      {
        "duration": 25,
        "start_time": "2022-10-04T20:58:39.675Z"
      },
      {
        "duration": 35,
        "start_time": "2022-10-04T20:58:39.702Z"
      },
      {
        "duration": 16,
        "start_time": "2022-10-04T20:58:39.739Z"
      },
      {
        "duration": 10,
        "start_time": "2022-10-04T20:58:39.757Z"
      },
      {
        "duration": 21,
        "start_time": "2022-10-04T20:58:39.769Z"
      },
      {
        "duration": 9,
        "start_time": "2022-10-04T20:58:39.792Z"
      },
      {
        "duration": 33,
        "start_time": "2022-10-04T20:58:39.803Z"
      },
      {
        "duration": 321,
        "start_time": "2022-10-04T20:58:39.838Z"
      },
      {
        "duration": 38833,
        "start_time": "2022-10-04T20:58:40.164Z"
      },
      {
        "duration": 14,
        "start_time": "2022-10-04T20:59:18.999Z"
      },
      {
        "duration": 52955,
        "start_time": "2022-10-04T20:59:19.015Z"
      },
      {
        "duration": 4,
        "start_time": "2022-10-04T21:00:11.972Z"
      },
      {
        "duration": 20,
        "start_time": "2022-10-04T21:00:11.978Z"
      },
      {
        "duration": 11,
        "start_time": "2022-10-05T20:57:57.867Z"
      },
      {
        "duration": 5,
        "start_time": "2022-10-05T20:58:05.348Z"
      },
      {
        "duration": 12,
        "start_time": "2022-10-05T20:58:05.867Z"
      },
      {
        "duration": 13,
        "start_time": "2022-10-05T20:58:39.550Z"
      },
      {
        "duration": 14,
        "start_time": "2022-10-05T20:58:41.633Z"
      },
      {
        "duration": 5,
        "start_time": "2022-10-05T20:58:45.661Z"
      },
      {
        "duration": 12,
        "start_time": "2022-10-05T20:58:46.995Z"
      },
      {
        "duration": 37055,
        "start_time": "2022-10-05T21:08:22.116Z"
      },
      {
        "duration": 4,
        "start_time": "2022-10-05T21:09:32.821Z"
      },
      {
        "duration": 87,
        "start_time": "2022-10-05T21:09:32.828Z"
      },
      {
        "duration": 21,
        "start_time": "2022-10-05T21:09:32.917Z"
      },
      {
        "duration": 19,
        "start_time": "2022-10-05T21:09:32.940Z"
      },
      {
        "duration": 10,
        "start_time": "2022-10-05T21:09:32.962Z"
      },
      {
        "duration": 42,
        "start_time": "2022-10-05T21:09:32.973Z"
      },
      {
        "duration": 5,
        "start_time": "2022-10-05T21:09:33.017Z"
      },
      {
        "duration": 32,
        "start_time": "2022-10-05T21:09:33.024Z"
      },
      {
        "duration": 22,
        "start_time": "2022-10-05T21:09:33.057Z"
      },
      {
        "duration": 12,
        "start_time": "2022-10-05T21:09:33.081Z"
      },
      {
        "duration": 35,
        "start_time": "2022-10-05T21:09:33.095Z"
      },
      {
        "duration": 227,
        "start_time": "2022-10-05T21:09:33.131Z"
      },
      {
        "duration": 39100,
        "start_time": "2022-10-05T21:09:33.362Z"
      },
      {
        "duration": 12,
        "start_time": "2022-10-05T21:10:12.465Z"
      },
      {
        "duration": 52527,
        "start_time": "2022-10-05T21:10:12.479Z"
      },
      {
        "duration": 40058,
        "start_time": "2022-10-05T21:11:05.008Z"
      },
      {
        "duration": 129,
        "start_time": "2022-10-05T21:19:07.497Z"
      },
      {
        "duration": 13,
        "start_time": "2022-10-05T21:19:14.110Z"
      },
      {
        "duration": 281,
        "start_time": "2022-10-05T21:20:08.801Z"
      },
      {
        "duration": 212,
        "start_time": "2022-10-05T21:20:39.400Z"
      },
      {
        "duration": 9,
        "start_time": "2022-10-05T21:23:26.569Z"
      },
      {
        "duration": 3,
        "start_time": "2022-10-05T21:24:07.918Z"
      },
      {
        "duration": 16,
        "start_time": "2022-10-05T21:24:15.996Z"
      },
      {
        "duration": 379,
        "start_time": "2022-10-05T21:24:33.845Z"
      },
      {
        "duration": 64,
        "start_time": "2022-10-05T21:24:35.760Z"
      },
      {
        "duration": 20,
        "start_time": "2022-10-05T21:24:36.273Z"
      },
      {
        "duration": 13,
        "start_time": "2022-10-05T21:24:36.619Z"
      },
      {
        "duration": 8,
        "start_time": "2022-10-05T21:24:36.801Z"
      },
      {
        "duration": 35,
        "start_time": "2022-10-05T21:24:37.160Z"
      },
      {
        "duration": 5,
        "start_time": "2022-10-05T21:24:37.516Z"
      },
      {
        "duration": 5,
        "start_time": "2022-10-05T21:24:38.043Z"
      },
      {
        "duration": 19,
        "start_time": "2022-10-05T21:24:39.084Z"
      },
      {
        "duration": 11,
        "start_time": "2022-10-05T21:24:39.432Z"
      },
      {
        "duration": 32,
        "start_time": "2022-10-05T21:24:39.761Z"
      },
      {
        "duration": 203,
        "start_time": "2022-10-05T21:24:40.457Z"
      },
      {
        "duration": 37273,
        "start_time": "2022-10-05T21:24:40.777Z"
      },
      {
        "duration": 129,
        "start_time": "2022-10-05T21:25:18.055Z"
      },
      {
        "duration": 3,
        "start_time": "2022-10-05T21:27:27.669Z"
      }
    ],
    "toc": {
      "base_numbering": 1,
      "nav_menu": {},
      "number_sections": true,
      "sideBar": true,
      "skip_h1_title": true,
      "title_cell": "Содержание",
      "title_sidebar": "Contents",
      "toc_cell": true,
      "toc_position": {
        "height": "calc(100% - 180px)",
        "left": "10px",
        "top": "150px",
        "width": "366.188px"
      },
      "toc_section_display": true,
      "toc_window_display": true
    },
    "kernelspec": {
      "name": "python",
      "display_name": "Python (Pyodide)",
      "language": "python"
    },
    "language_info": {
      "codemirror_mode": {
        "name": "ipython",
        "version": 3
      },
      "file_extension": ".py",
      "mimetype": "text/x-python",
      "name": "python",
      "nbconvert_exporter": "python",
      "pygments_lexer": "ipython3",
      "version": "3.9.5"
    }
  },
  "nbformat_minor": 4,
  "nbformat": 4,
  "cells": [
    {
      "cell_type": "markdown",
      "source": "<h1>Содержание<span class=\"tocSkip\"></span></h1>\n<div class=\"toc\"><ul class=\"toc-item\"><li><span><a href=\"#Подготовка-данных\" data-toc-modified-id=\"Подготовка-данных-1\"><span class=\"toc-item-num\">1&nbsp;&nbsp;</span>Подготовка данных</a></span></li><li><span><a href=\"#Исследование-задачи\" data-toc-modified-id=\"Исследование-задачи-2\"><span class=\"toc-item-num\">2&nbsp;&nbsp;</span>Исследование задачи</a></span></li><li><span><a href=\"#Борьба-с-дисбалансом\" data-toc-modified-id=\"Борьба-с-дисбалансом-3\"><span class=\"toc-item-num\">3&nbsp;&nbsp;</span>Борьба с дисбалансом</a></span></li><li><span><a href=\"#Тестирование-модели\" data-toc-modified-id=\"Тестирование-модели-4\"><span class=\"toc-item-num\">4&nbsp;&nbsp;</span>Тестирование модели</a></span></li><li><span><a href=\"#Вывод\" data-toc-modified-id=\"Вывод-5\"><span class=\"toc-item-num\">5&nbsp;&nbsp;</span>Вывод</a></span></li><li><span><a href=\"#Чек-лист-готовности-проекта\" data-toc-modified-id=\"Чек-лист-готовности-проекта-6\"><span class=\"toc-item-num\">6&nbsp;&nbsp;</span>Чек-лист готовности проекта</a></span></li></ul></div>",
      "metadata": {
        "toc": true
      }
    },
    {
      "cell_type": "markdown",
      "source": "# Отток клиентов",
      "metadata": {}
    },
    {
      "cell_type": "markdown",
      "source": "Из «Бета-Банка» стали уходить клиенты. Каждый месяц. Немного, но заметно. Банковские маркетологи посчитали: сохранять текущих клиентов дешевле, чем привлекать новых.\n\nНужно спрогнозировать, уйдёт клиент из банка в ближайшее время или нет. Вам предоставлены исторические данные о поведении клиентов и расторжении договоров с банком. \n\nПостройте модель с предельно большим значением *F1*-меры. Чтобы сдать проект успешно, нужно довести метрику до 0.59. Проверьте *F1*-меру на тестовой выборке самостоятельно.\n\nДополнительно измеряйте *AUC-ROC*, сравнивайте её значение с *F1*-мерой.\n\nИсточник данных: [https://www.kaggle.com/barelydedicated/bank-customer-churn-modeling](https://www.kaggle.com/barelydedicated/bank-customer-churn-modeling)",
      "metadata": {}
    },
    {
      "cell_type": "markdown",
      "source": "<div class=\"alert alert-block alert-warning\">\n<b>⚠️ Совет:</b> \n\nВажно чтобы в проектах было подробное описание: когда потенциальные работодатели будут смотреть твой проект в портфолио, им нужно будет понимать задачу, чтобы можно было оценить её решение. Вот что можно добавить:\n    \n* Описание целей и задачи проекта\n* Описание данных\n* План работы\n\nИ рекомендую писать введение от первого лица множественного числа. Так работа выглядит более самостоятельной)\n</div>",
      "metadata": {}
    },
    {
      "cell_type": "markdown",
      "source": "## Подготовка данных",
      "metadata": {}
    },
    {
      "cell_type": "code",
      "source": "import pandas as pd\nimport numpy as np\nimport matplotlib.pyplot as plt\n\nfrom sklearn.model_selection import train_test_split\nfrom sklearn.tree import DecisionTreeClassifier\nfrom sklearn.linear_model import LogisticRegression\nfrom sklearn.ensemble import RandomForestClassifier\nfrom sklearn.dummy import DummyClassifier\nfrom sklearn.preprocessing import StandardScaler\nfrom sklearn.utils import shuffle\nfrom sklearn.metrics import accuracy_score, f1_score\nfrom sklearn.metrics import roc_auc_score\nfrom sklearn.metrics import roc_curve, auc",
      "metadata": {},
      "execution_count": 227,
      "outputs": []
    },
    {
      "cell_type": "code",
      "source": "df = pd.read_csv(\"/datasets/Churn.csv\")\n\ndisplay(df.shape)\ndisplay(df.head(50)) ",
      "metadata": {},
      "execution_count": 228,
      "outputs": [
        {
          "output_type": "display_data",
          "data": {
            "text/plain": [
              "(10000, 14)"
            ]
          },
          "metadata": {}
        },
        {
          "output_type": "display_data",
          "data": {
            "text/html": [
              "<div>\n",
              "<style scoped>\n",
              "    .dataframe tbody tr th:only-of-type {\n",
              "        vertical-align: middle;\n",
              "    }\n",
              "\n",
              "    .dataframe tbody tr th {\n",
              "        vertical-align: top;\n",
              "    }\n",
              "\n",
              "    .dataframe thead th {\n",
              "        text-align: right;\n",
              "    }\n",
              "</style>\n",
              "<table border=\"1\" class=\"dataframe\">\n",
              "  <thead>\n",
              "    <tr style=\"text-align: right;\">\n",
              "      <th></th>\n",
              "      <th>RowNumber</th>\n",
              "      <th>CustomerId</th>\n",
              "      <th>Surname</th>\n",
              "      <th>CreditScore</th>\n",
              "      <th>Geography</th>\n",
              "      <th>Gender</th>\n",
              "      <th>Age</th>\n",
              "      <th>Tenure</th>\n",
              "      <th>Balance</th>\n",
              "      <th>NumOfProducts</th>\n",
              "      <th>HasCrCard</th>\n",
              "      <th>IsActiveMember</th>\n",
              "      <th>EstimatedSalary</th>\n",
              "      <th>Exited</th>\n",
              "    </tr>\n",
              "  </thead>\n",
              "  <tbody>\n",
              "    <tr>\n",
              "      <th>0</th>\n",
              "      <td>1</td>\n",
              "      <td>15634602</td>\n",
              "      <td>Hargrave</td>\n",
              "      <td>619</td>\n",
              "      <td>France</td>\n",
              "      <td>Female</td>\n",
              "      <td>42</td>\n",
              "      <td>2.0</td>\n",
              "      <td>0.00</td>\n",
              "      <td>1</td>\n",
              "      <td>1</td>\n",
              "      <td>1</td>\n",
              "      <td>101348.88</td>\n",
              "      <td>1</td>\n",
              "    </tr>\n",
              "    <tr>\n",
              "      <th>1</th>\n",
              "      <td>2</td>\n",
              "      <td>15647311</td>\n",
              "      <td>Hill</td>\n",
              "      <td>608</td>\n",
              "      <td>Spain</td>\n",
              "      <td>Female</td>\n",
              "      <td>41</td>\n",
              "      <td>1.0</td>\n",
              "      <td>83807.86</td>\n",
              "      <td>1</td>\n",
              "      <td>0</td>\n",
              "      <td>1</td>\n",
              "      <td>112542.58</td>\n",
              "      <td>0</td>\n",
              "    </tr>\n",
              "    <tr>\n",
              "      <th>2</th>\n",
              "      <td>3</td>\n",
              "      <td>15619304</td>\n",
              "      <td>Onio</td>\n",
              "      <td>502</td>\n",
              "      <td>France</td>\n",
              "      <td>Female</td>\n",
              "      <td>42</td>\n",
              "      <td>8.0</td>\n",
              "      <td>159660.80</td>\n",
              "      <td>3</td>\n",
              "      <td>1</td>\n",
              "      <td>0</td>\n",
              "      <td>113931.57</td>\n",
              "      <td>1</td>\n",
              "    </tr>\n",
              "    <tr>\n",
              "      <th>3</th>\n",
              "      <td>4</td>\n",
              "      <td>15701354</td>\n",
              "      <td>Boni</td>\n",
              "      <td>699</td>\n",
              "      <td>France</td>\n",
              "      <td>Female</td>\n",
              "      <td>39</td>\n",
              "      <td>1.0</td>\n",
              "      <td>0.00</td>\n",
              "      <td>2</td>\n",
              "      <td>0</td>\n",
              "      <td>0</td>\n",
              "      <td>93826.63</td>\n",
              "      <td>0</td>\n",
              "    </tr>\n",
              "    <tr>\n",
              "      <th>4</th>\n",
              "      <td>5</td>\n",
              "      <td>15737888</td>\n",
              "      <td>Mitchell</td>\n",
              "      <td>850</td>\n",
              "      <td>Spain</td>\n",
              "      <td>Female</td>\n",
              "      <td>43</td>\n",
              "      <td>2.0</td>\n",
              "      <td>125510.82</td>\n",
              "      <td>1</td>\n",
              "      <td>1</td>\n",
              "      <td>1</td>\n",
              "      <td>79084.10</td>\n",
              "      <td>0</td>\n",
              "    </tr>\n",
              "    <tr>\n",
              "      <th>5</th>\n",
              "      <td>6</td>\n",
              "      <td>15574012</td>\n",
              "      <td>Chu</td>\n",
              "      <td>645</td>\n",
              "      <td>Spain</td>\n",
              "      <td>Male</td>\n",
              "      <td>44</td>\n",
              "      <td>8.0</td>\n",
              "      <td>113755.78</td>\n",
              "      <td>2</td>\n",
              "      <td>1</td>\n",
              "      <td>0</td>\n",
              "      <td>149756.71</td>\n",
              "      <td>1</td>\n",
              "    </tr>\n",
              "    <tr>\n",
              "      <th>6</th>\n",
              "      <td>7</td>\n",
              "      <td>15592531</td>\n",
              "      <td>Bartlett</td>\n",
              "      <td>822</td>\n",
              "      <td>France</td>\n",
              "      <td>Male</td>\n",
              "      <td>50</td>\n",
              "      <td>7.0</td>\n",
              "      <td>0.00</td>\n",
              "      <td>2</td>\n",
              "      <td>1</td>\n",
              "      <td>1</td>\n",
              "      <td>10062.80</td>\n",
              "      <td>0</td>\n",
              "    </tr>\n",
              "    <tr>\n",
              "      <th>7</th>\n",
              "      <td>8</td>\n",
              "      <td>15656148</td>\n",
              "      <td>Obinna</td>\n",
              "      <td>376</td>\n",
              "      <td>Germany</td>\n",
              "      <td>Female</td>\n",
              "      <td>29</td>\n",
              "      <td>4.0</td>\n",
              "      <td>115046.74</td>\n",
              "      <td>4</td>\n",
              "      <td>1</td>\n",
              "      <td>0</td>\n",
              "      <td>119346.88</td>\n",
              "      <td>1</td>\n",
              "    </tr>\n",
              "    <tr>\n",
              "      <th>8</th>\n",
              "      <td>9</td>\n",
              "      <td>15792365</td>\n",
              "      <td>He</td>\n",
              "      <td>501</td>\n",
              "      <td>France</td>\n",
              "      <td>Male</td>\n",
              "      <td>44</td>\n",
              "      <td>4.0</td>\n",
              "      <td>142051.07</td>\n",
              "      <td>2</td>\n",
              "      <td>0</td>\n",
              "      <td>1</td>\n",
              "      <td>74940.50</td>\n",
              "      <td>0</td>\n",
              "    </tr>\n",
              "    <tr>\n",
              "      <th>9</th>\n",
              "      <td>10</td>\n",
              "      <td>15592389</td>\n",
              "      <td>H?</td>\n",
              "      <td>684</td>\n",
              "      <td>France</td>\n",
              "      <td>Male</td>\n",
              "      <td>27</td>\n",
              "      <td>2.0</td>\n",
              "      <td>134603.88</td>\n",
              "      <td>1</td>\n",
              "      <td>1</td>\n",
              "      <td>1</td>\n",
              "      <td>71725.73</td>\n",
              "      <td>0</td>\n",
              "    </tr>\n",
              "    <tr>\n",
              "      <th>10</th>\n",
              "      <td>11</td>\n",
              "      <td>15767821</td>\n",
              "      <td>Bearce</td>\n",
              "      <td>528</td>\n",
              "      <td>France</td>\n",
              "      <td>Male</td>\n",
              "      <td>31</td>\n",
              "      <td>6.0</td>\n",
              "      <td>102016.72</td>\n",
              "      <td>2</td>\n",
              "      <td>0</td>\n",
              "      <td>0</td>\n",
              "      <td>80181.12</td>\n",
              "      <td>0</td>\n",
              "    </tr>\n",
              "    <tr>\n",
              "      <th>11</th>\n",
              "      <td>12</td>\n",
              "      <td>15737173</td>\n",
              "      <td>Andrews</td>\n",
              "      <td>497</td>\n",
              "      <td>Spain</td>\n",
              "      <td>Male</td>\n",
              "      <td>24</td>\n",
              "      <td>3.0</td>\n",
              "      <td>0.00</td>\n",
              "      <td>2</td>\n",
              "      <td>1</td>\n",
              "      <td>0</td>\n",
              "      <td>76390.01</td>\n",
              "      <td>0</td>\n",
              "    </tr>\n",
              "    <tr>\n",
              "      <th>12</th>\n",
              "      <td>13</td>\n",
              "      <td>15632264</td>\n",
              "      <td>Kay</td>\n",
              "      <td>476</td>\n",
              "      <td>France</td>\n",
              "      <td>Female</td>\n",
              "      <td>34</td>\n",
              "      <td>10.0</td>\n",
              "      <td>0.00</td>\n",
              "      <td>2</td>\n",
              "      <td>1</td>\n",
              "      <td>0</td>\n",
              "      <td>26260.98</td>\n",
              "      <td>0</td>\n",
              "    </tr>\n",
              "    <tr>\n",
              "      <th>13</th>\n",
              "      <td>14</td>\n",
              "      <td>15691483</td>\n",
              "      <td>Chin</td>\n",
              "      <td>549</td>\n",
              "      <td>France</td>\n",
              "      <td>Female</td>\n",
              "      <td>25</td>\n",
              "      <td>5.0</td>\n",
              "      <td>0.00</td>\n",
              "      <td>2</td>\n",
              "      <td>0</td>\n",
              "      <td>0</td>\n",
              "      <td>190857.79</td>\n",
              "      <td>0</td>\n",
              "    </tr>\n",
              "    <tr>\n",
              "      <th>14</th>\n",
              "      <td>15</td>\n",
              "      <td>15600882</td>\n",
              "      <td>Scott</td>\n",
              "      <td>635</td>\n",
              "      <td>Spain</td>\n",
              "      <td>Female</td>\n",
              "      <td>35</td>\n",
              "      <td>7.0</td>\n",
              "      <td>0.00</td>\n",
              "      <td>2</td>\n",
              "      <td>1</td>\n",
              "      <td>1</td>\n",
              "      <td>65951.65</td>\n",
              "      <td>0</td>\n",
              "    </tr>\n",
              "    <tr>\n",
              "      <th>15</th>\n",
              "      <td>16</td>\n",
              "      <td>15643966</td>\n",
              "      <td>Goforth</td>\n",
              "      <td>616</td>\n",
              "      <td>Germany</td>\n",
              "      <td>Male</td>\n",
              "      <td>45</td>\n",
              "      <td>3.0</td>\n",
              "      <td>143129.41</td>\n",
              "      <td>2</td>\n",
              "      <td>0</td>\n",
              "      <td>1</td>\n",
              "      <td>64327.26</td>\n",
              "      <td>0</td>\n",
              "    </tr>\n",
              "    <tr>\n",
              "      <th>16</th>\n",
              "      <td>17</td>\n",
              "      <td>15737452</td>\n",
              "      <td>Romeo</td>\n",
              "      <td>653</td>\n",
              "      <td>Germany</td>\n",
              "      <td>Male</td>\n",
              "      <td>58</td>\n",
              "      <td>1.0</td>\n",
              "      <td>132602.88</td>\n",
              "      <td>1</td>\n",
              "      <td>1</td>\n",
              "      <td>0</td>\n",
              "      <td>5097.67</td>\n",
              "      <td>1</td>\n",
              "    </tr>\n",
              "    <tr>\n",
              "      <th>17</th>\n",
              "      <td>18</td>\n",
              "      <td>15788218</td>\n",
              "      <td>Henderson</td>\n",
              "      <td>549</td>\n",
              "      <td>Spain</td>\n",
              "      <td>Female</td>\n",
              "      <td>24</td>\n",
              "      <td>9.0</td>\n",
              "      <td>0.00</td>\n",
              "      <td>2</td>\n",
              "      <td>1</td>\n",
              "      <td>1</td>\n",
              "      <td>14406.41</td>\n",
              "      <td>0</td>\n",
              "    </tr>\n",
              "    <tr>\n",
              "      <th>18</th>\n",
              "      <td>19</td>\n",
              "      <td>15661507</td>\n",
              "      <td>Muldrow</td>\n",
              "      <td>587</td>\n",
              "      <td>Spain</td>\n",
              "      <td>Male</td>\n",
              "      <td>45</td>\n",
              "      <td>6.0</td>\n",
              "      <td>0.00</td>\n",
              "      <td>1</td>\n",
              "      <td>0</td>\n",
              "      <td>0</td>\n",
              "      <td>158684.81</td>\n",
              "      <td>0</td>\n",
              "    </tr>\n",
              "    <tr>\n",
              "      <th>19</th>\n",
              "      <td>20</td>\n",
              "      <td>15568982</td>\n",
              "      <td>Hao</td>\n",
              "      <td>726</td>\n",
              "      <td>France</td>\n",
              "      <td>Female</td>\n",
              "      <td>24</td>\n",
              "      <td>6.0</td>\n",
              "      <td>0.00</td>\n",
              "      <td>2</td>\n",
              "      <td>1</td>\n",
              "      <td>1</td>\n",
              "      <td>54724.03</td>\n",
              "      <td>0</td>\n",
              "    </tr>\n",
              "    <tr>\n",
              "      <th>20</th>\n",
              "      <td>21</td>\n",
              "      <td>15577657</td>\n",
              "      <td>McDonald</td>\n",
              "      <td>732</td>\n",
              "      <td>France</td>\n",
              "      <td>Male</td>\n",
              "      <td>41</td>\n",
              "      <td>8.0</td>\n",
              "      <td>0.00</td>\n",
              "      <td>2</td>\n",
              "      <td>1</td>\n",
              "      <td>1</td>\n",
              "      <td>170886.17</td>\n",
              "      <td>0</td>\n",
              "    </tr>\n",
              "    <tr>\n",
              "      <th>21</th>\n",
              "      <td>22</td>\n",
              "      <td>15597945</td>\n",
              "      <td>Dellucci</td>\n",
              "      <td>636</td>\n",
              "      <td>Spain</td>\n",
              "      <td>Female</td>\n",
              "      <td>32</td>\n",
              "      <td>8.0</td>\n",
              "      <td>0.00</td>\n",
              "      <td>2</td>\n",
              "      <td>1</td>\n",
              "      <td>0</td>\n",
              "      <td>138555.46</td>\n",
              "      <td>0</td>\n",
              "    </tr>\n",
              "    <tr>\n",
              "      <th>22</th>\n",
              "      <td>23</td>\n",
              "      <td>15699309</td>\n",
              "      <td>Gerasimov</td>\n",
              "      <td>510</td>\n",
              "      <td>Spain</td>\n",
              "      <td>Female</td>\n",
              "      <td>38</td>\n",
              "      <td>4.0</td>\n",
              "      <td>0.00</td>\n",
              "      <td>1</td>\n",
              "      <td>1</td>\n",
              "      <td>0</td>\n",
              "      <td>118913.53</td>\n",
              "      <td>1</td>\n",
              "    </tr>\n",
              "    <tr>\n",
              "      <th>23</th>\n",
              "      <td>24</td>\n",
              "      <td>15725737</td>\n",
              "      <td>Mosman</td>\n",
              "      <td>669</td>\n",
              "      <td>France</td>\n",
              "      <td>Male</td>\n",
              "      <td>46</td>\n",
              "      <td>3.0</td>\n",
              "      <td>0.00</td>\n",
              "      <td>2</td>\n",
              "      <td>0</td>\n",
              "      <td>1</td>\n",
              "      <td>8487.75</td>\n",
              "      <td>0</td>\n",
              "    </tr>\n",
              "    <tr>\n",
              "      <th>24</th>\n",
              "      <td>25</td>\n",
              "      <td>15625047</td>\n",
              "      <td>Yen</td>\n",
              "      <td>846</td>\n",
              "      <td>France</td>\n",
              "      <td>Female</td>\n",
              "      <td>38</td>\n",
              "      <td>5.0</td>\n",
              "      <td>0.00</td>\n",
              "      <td>1</td>\n",
              "      <td>1</td>\n",
              "      <td>1</td>\n",
              "      <td>187616.16</td>\n",
              "      <td>0</td>\n",
              "    </tr>\n",
              "    <tr>\n",
              "      <th>25</th>\n",
              "      <td>26</td>\n",
              "      <td>15738191</td>\n",
              "      <td>Maclean</td>\n",
              "      <td>577</td>\n",
              "      <td>France</td>\n",
              "      <td>Male</td>\n",
              "      <td>25</td>\n",
              "      <td>3.0</td>\n",
              "      <td>0.00</td>\n",
              "      <td>2</td>\n",
              "      <td>0</td>\n",
              "      <td>1</td>\n",
              "      <td>124508.29</td>\n",
              "      <td>0</td>\n",
              "    </tr>\n",
              "    <tr>\n",
              "      <th>26</th>\n",
              "      <td>27</td>\n",
              "      <td>15736816</td>\n",
              "      <td>Young</td>\n",
              "      <td>756</td>\n",
              "      <td>Germany</td>\n",
              "      <td>Male</td>\n",
              "      <td>36</td>\n",
              "      <td>2.0</td>\n",
              "      <td>136815.64</td>\n",
              "      <td>1</td>\n",
              "      <td>1</td>\n",
              "      <td>1</td>\n",
              "      <td>170041.95</td>\n",
              "      <td>0</td>\n",
              "    </tr>\n",
              "    <tr>\n",
              "      <th>27</th>\n",
              "      <td>28</td>\n",
              "      <td>15700772</td>\n",
              "      <td>Nebechi</td>\n",
              "      <td>571</td>\n",
              "      <td>France</td>\n",
              "      <td>Male</td>\n",
              "      <td>44</td>\n",
              "      <td>9.0</td>\n",
              "      <td>0.00</td>\n",
              "      <td>2</td>\n",
              "      <td>0</td>\n",
              "      <td>0</td>\n",
              "      <td>38433.35</td>\n",
              "      <td>0</td>\n",
              "    </tr>\n",
              "    <tr>\n",
              "      <th>28</th>\n",
              "      <td>29</td>\n",
              "      <td>15728693</td>\n",
              "      <td>McWilliams</td>\n",
              "      <td>574</td>\n",
              "      <td>Germany</td>\n",
              "      <td>Female</td>\n",
              "      <td>43</td>\n",
              "      <td>3.0</td>\n",
              "      <td>141349.43</td>\n",
              "      <td>1</td>\n",
              "      <td>1</td>\n",
              "      <td>1</td>\n",
              "      <td>100187.43</td>\n",
              "      <td>0</td>\n",
              "    </tr>\n",
              "    <tr>\n",
              "      <th>29</th>\n",
              "      <td>30</td>\n",
              "      <td>15656300</td>\n",
              "      <td>Lucciano</td>\n",
              "      <td>411</td>\n",
              "      <td>France</td>\n",
              "      <td>Male</td>\n",
              "      <td>29</td>\n",
              "      <td>0.0</td>\n",
              "      <td>59697.17</td>\n",
              "      <td>2</td>\n",
              "      <td>1</td>\n",
              "      <td>1</td>\n",
              "      <td>53483.21</td>\n",
              "      <td>0</td>\n",
              "    </tr>\n",
              "    <tr>\n",
              "      <th>30</th>\n",
              "      <td>31</td>\n",
              "      <td>15589475</td>\n",
              "      <td>Azikiwe</td>\n",
              "      <td>591</td>\n",
              "      <td>Spain</td>\n",
              "      <td>Female</td>\n",
              "      <td>39</td>\n",
              "      <td>NaN</td>\n",
              "      <td>0.00</td>\n",
              "      <td>3</td>\n",
              "      <td>1</td>\n",
              "      <td>0</td>\n",
              "      <td>140469.38</td>\n",
              "      <td>1</td>\n",
              "    </tr>\n",
              "    <tr>\n",
              "      <th>31</th>\n",
              "      <td>32</td>\n",
              "      <td>15706552</td>\n",
              "      <td>Odinakachukwu</td>\n",
              "      <td>533</td>\n",
              "      <td>France</td>\n",
              "      <td>Male</td>\n",
              "      <td>36</td>\n",
              "      <td>7.0</td>\n",
              "      <td>85311.70</td>\n",
              "      <td>1</td>\n",
              "      <td>0</td>\n",
              "      <td>1</td>\n",
              "      <td>156731.91</td>\n",
              "      <td>0</td>\n",
              "    </tr>\n",
              "    <tr>\n",
              "      <th>32</th>\n",
              "      <td>33</td>\n",
              "      <td>15750181</td>\n",
              "      <td>Sanderson</td>\n",
              "      <td>553</td>\n",
              "      <td>Germany</td>\n",
              "      <td>Male</td>\n",
              "      <td>41</td>\n",
              "      <td>9.0</td>\n",
              "      <td>110112.54</td>\n",
              "      <td>2</td>\n",
              "      <td>0</td>\n",
              "      <td>0</td>\n",
              "      <td>81898.81</td>\n",
              "      <td>0</td>\n",
              "    </tr>\n",
              "    <tr>\n",
              "      <th>33</th>\n",
              "      <td>34</td>\n",
              "      <td>15659428</td>\n",
              "      <td>Maggard</td>\n",
              "      <td>520</td>\n",
              "      <td>Spain</td>\n",
              "      <td>Female</td>\n",
              "      <td>42</td>\n",
              "      <td>6.0</td>\n",
              "      <td>0.00</td>\n",
              "      <td>2</td>\n",
              "      <td>1</td>\n",
              "      <td>1</td>\n",
              "      <td>34410.55</td>\n",
              "      <td>0</td>\n",
              "    </tr>\n",
              "    <tr>\n",
              "      <th>34</th>\n",
              "      <td>35</td>\n",
              "      <td>15732963</td>\n",
              "      <td>Clements</td>\n",
              "      <td>722</td>\n",
              "      <td>Spain</td>\n",
              "      <td>Female</td>\n",
              "      <td>29</td>\n",
              "      <td>9.0</td>\n",
              "      <td>0.00</td>\n",
              "      <td>2</td>\n",
              "      <td>1</td>\n",
              "      <td>1</td>\n",
              "      <td>142033.07</td>\n",
              "      <td>0</td>\n",
              "    </tr>\n",
              "    <tr>\n",
              "      <th>35</th>\n",
              "      <td>36</td>\n",
              "      <td>15794171</td>\n",
              "      <td>Lombardo</td>\n",
              "      <td>475</td>\n",
              "      <td>France</td>\n",
              "      <td>Female</td>\n",
              "      <td>45</td>\n",
              "      <td>0.0</td>\n",
              "      <td>134264.04</td>\n",
              "      <td>1</td>\n",
              "      <td>1</td>\n",
              "      <td>0</td>\n",
              "      <td>27822.99</td>\n",
              "      <td>1</td>\n",
              "    </tr>\n",
              "    <tr>\n",
              "      <th>36</th>\n",
              "      <td>37</td>\n",
              "      <td>15788448</td>\n",
              "      <td>Watson</td>\n",
              "      <td>490</td>\n",
              "      <td>Spain</td>\n",
              "      <td>Male</td>\n",
              "      <td>31</td>\n",
              "      <td>3.0</td>\n",
              "      <td>145260.23</td>\n",
              "      <td>1</td>\n",
              "      <td>0</td>\n",
              "      <td>1</td>\n",
              "      <td>114066.77</td>\n",
              "      <td>0</td>\n",
              "    </tr>\n",
              "    <tr>\n",
              "      <th>37</th>\n",
              "      <td>38</td>\n",
              "      <td>15729599</td>\n",
              "      <td>Lorenzo</td>\n",
              "      <td>804</td>\n",
              "      <td>Spain</td>\n",
              "      <td>Male</td>\n",
              "      <td>33</td>\n",
              "      <td>7.0</td>\n",
              "      <td>76548.60</td>\n",
              "      <td>1</td>\n",
              "      <td>0</td>\n",
              "      <td>1</td>\n",
              "      <td>98453.45</td>\n",
              "      <td>0</td>\n",
              "    </tr>\n",
              "    <tr>\n",
              "      <th>38</th>\n",
              "      <td>39</td>\n",
              "      <td>15717426</td>\n",
              "      <td>Armstrong</td>\n",
              "      <td>850</td>\n",
              "      <td>France</td>\n",
              "      <td>Male</td>\n",
              "      <td>36</td>\n",
              "      <td>7.0</td>\n",
              "      <td>0.00</td>\n",
              "      <td>1</td>\n",
              "      <td>1</td>\n",
              "      <td>1</td>\n",
              "      <td>40812.90</td>\n",
              "      <td>0</td>\n",
              "    </tr>\n",
              "    <tr>\n",
              "      <th>39</th>\n",
              "      <td>40</td>\n",
              "      <td>15585768</td>\n",
              "      <td>Cameron</td>\n",
              "      <td>582</td>\n",
              "      <td>Germany</td>\n",
              "      <td>Male</td>\n",
              "      <td>41</td>\n",
              "      <td>6.0</td>\n",
              "      <td>70349.48</td>\n",
              "      <td>2</td>\n",
              "      <td>0</td>\n",
              "      <td>1</td>\n",
              "      <td>178074.04</td>\n",
              "      <td>0</td>\n",
              "    </tr>\n",
              "    <tr>\n",
              "      <th>40</th>\n",
              "      <td>41</td>\n",
              "      <td>15619360</td>\n",
              "      <td>Hsiao</td>\n",
              "      <td>472</td>\n",
              "      <td>Spain</td>\n",
              "      <td>Male</td>\n",
              "      <td>40</td>\n",
              "      <td>4.0</td>\n",
              "      <td>0.00</td>\n",
              "      <td>1</td>\n",
              "      <td>1</td>\n",
              "      <td>0</td>\n",
              "      <td>70154.22</td>\n",
              "      <td>0</td>\n",
              "    </tr>\n",
              "    <tr>\n",
              "      <th>41</th>\n",
              "      <td>42</td>\n",
              "      <td>15738148</td>\n",
              "      <td>Clarke</td>\n",
              "      <td>465</td>\n",
              "      <td>France</td>\n",
              "      <td>Female</td>\n",
              "      <td>51</td>\n",
              "      <td>8.0</td>\n",
              "      <td>122522.32</td>\n",
              "      <td>1</td>\n",
              "      <td>0</td>\n",
              "      <td>0</td>\n",
              "      <td>181297.65</td>\n",
              "      <td>1</td>\n",
              "    </tr>\n",
              "    <tr>\n",
              "      <th>42</th>\n",
              "      <td>43</td>\n",
              "      <td>15687946</td>\n",
              "      <td>Osborne</td>\n",
              "      <td>556</td>\n",
              "      <td>France</td>\n",
              "      <td>Female</td>\n",
              "      <td>61</td>\n",
              "      <td>2.0</td>\n",
              "      <td>117419.35</td>\n",
              "      <td>1</td>\n",
              "      <td>1</td>\n",
              "      <td>1</td>\n",
              "      <td>94153.83</td>\n",
              "      <td>0</td>\n",
              "    </tr>\n",
              "    <tr>\n",
              "      <th>43</th>\n",
              "      <td>44</td>\n",
              "      <td>15755196</td>\n",
              "      <td>Lavine</td>\n",
              "      <td>834</td>\n",
              "      <td>France</td>\n",
              "      <td>Female</td>\n",
              "      <td>49</td>\n",
              "      <td>2.0</td>\n",
              "      <td>131394.56</td>\n",
              "      <td>1</td>\n",
              "      <td>0</td>\n",
              "      <td>0</td>\n",
              "      <td>194365.76</td>\n",
              "      <td>1</td>\n",
              "    </tr>\n",
              "    <tr>\n",
              "      <th>44</th>\n",
              "      <td>45</td>\n",
              "      <td>15684171</td>\n",
              "      <td>Bianchi</td>\n",
              "      <td>660</td>\n",
              "      <td>Spain</td>\n",
              "      <td>Female</td>\n",
              "      <td>61</td>\n",
              "      <td>5.0</td>\n",
              "      <td>155931.11</td>\n",
              "      <td>1</td>\n",
              "      <td>1</td>\n",
              "      <td>1</td>\n",
              "      <td>158338.39</td>\n",
              "      <td>0</td>\n",
              "    </tr>\n",
              "    <tr>\n",
              "      <th>45</th>\n",
              "      <td>46</td>\n",
              "      <td>15754849</td>\n",
              "      <td>Tyler</td>\n",
              "      <td>776</td>\n",
              "      <td>Germany</td>\n",
              "      <td>Female</td>\n",
              "      <td>32</td>\n",
              "      <td>4.0</td>\n",
              "      <td>109421.13</td>\n",
              "      <td>2</td>\n",
              "      <td>1</td>\n",
              "      <td>1</td>\n",
              "      <td>126517.46</td>\n",
              "      <td>0</td>\n",
              "    </tr>\n",
              "    <tr>\n",
              "      <th>46</th>\n",
              "      <td>47</td>\n",
              "      <td>15602280</td>\n",
              "      <td>Martin</td>\n",
              "      <td>829</td>\n",
              "      <td>Germany</td>\n",
              "      <td>Female</td>\n",
              "      <td>27</td>\n",
              "      <td>9.0</td>\n",
              "      <td>112045.67</td>\n",
              "      <td>1</td>\n",
              "      <td>1</td>\n",
              "      <td>1</td>\n",
              "      <td>119708.21</td>\n",
              "      <td>1</td>\n",
              "    </tr>\n",
              "    <tr>\n",
              "      <th>47</th>\n",
              "      <td>48</td>\n",
              "      <td>15771573</td>\n",
              "      <td>Okagbue</td>\n",
              "      <td>637</td>\n",
              "      <td>Germany</td>\n",
              "      <td>Female</td>\n",
              "      <td>39</td>\n",
              "      <td>9.0</td>\n",
              "      <td>137843.80</td>\n",
              "      <td>1</td>\n",
              "      <td>1</td>\n",
              "      <td>1</td>\n",
              "      <td>117622.80</td>\n",
              "      <td>1</td>\n",
              "    </tr>\n",
              "    <tr>\n",
              "      <th>48</th>\n",
              "      <td>49</td>\n",
              "      <td>15766205</td>\n",
              "      <td>Yin</td>\n",
              "      <td>550</td>\n",
              "      <td>Germany</td>\n",
              "      <td>Male</td>\n",
              "      <td>38</td>\n",
              "      <td>NaN</td>\n",
              "      <td>103391.38</td>\n",
              "      <td>1</td>\n",
              "      <td>0</td>\n",
              "      <td>1</td>\n",
              "      <td>90878.13</td>\n",
              "      <td>0</td>\n",
              "    </tr>\n",
              "    <tr>\n",
              "      <th>49</th>\n",
              "      <td>50</td>\n",
              "      <td>15771873</td>\n",
              "      <td>Buccho</td>\n",
              "      <td>776</td>\n",
              "      <td>Germany</td>\n",
              "      <td>Female</td>\n",
              "      <td>37</td>\n",
              "      <td>2.0</td>\n",
              "      <td>103769.22</td>\n",
              "      <td>2</td>\n",
              "      <td>1</td>\n",
              "      <td>0</td>\n",
              "      <td>194099.12</td>\n",
              "      <td>0</td>\n",
              "    </tr>\n",
              "  </tbody>\n",
              "</table>\n",
              "</div>"
            ],
            "text/plain": [
              "    RowNumber  CustomerId        Surname  CreditScore Geography  Gender  Age  \\\n",
              "0           1    15634602       Hargrave          619    France  Female   42   \n",
              "1           2    15647311           Hill          608     Spain  Female   41   \n",
              "2           3    15619304           Onio          502    France  Female   42   \n",
              "3           4    15701354           Boni          699    France  Female   39   \n",
              "4           5    15737888       Mitchell          850     Spain  Female   43   \n",
              "5           6    15574012            Chu          645     Spain    Male   44   \n",
              "6           7    15592531       Bartlett          822    France    Male   50   \n",
              "7           8    15656148         Obinna          376   Germany  Female   29   \n",
              "8           9    15792365             He          501    France    Male   44   \n",
              "9          10    15592389             H?          684    France    Male   27   \n",
              "10         11    15767821         Bearce          528    France    Male   31   \n",
              "11         12    15737173        Andrews          497     Spain    Male   24   \n",
              "12         13    15632264            Kay          476    France  Female   34   \n",
              "13         14    15691483           Chin          549    France  Female   25   \n",
              "14         15    15600882          Scott          635     Spain  Female   35   \n",
              "15         16    15643966        Goforth          616   Germany    Male   45   \n",
              "16         17    15737452          Romeo          653   Germany    Male   58   \n",
              "17         18    15788218      Henderson          549     Spain  Female   24   \n",
              "18         19    15661507        Muldrow          587     Spain    Male   45   \n",
              "19         20    15568982            Hao          726    France  Female   24   \n",
              "20         21    15577657       McDonald          732    France    Male   41   \n",
              "21         22    15597945       Dellucci          636     Spain  Female   32   \n",
              "22         23    15699309      Gerasimov          510     Spain  Female   38   \n",
              "23         24    15725737         Mosman          669    France    Male   46   \n",
              "24         25    15625047            Yen          846    France  Female   38   \n",
              "25         26    15738191        Maclean          577    France    Male   25   \n",
              "26         27    15736816          Young          756   Germany    Male   36   \n",
              "27         28    15700772        Nebechi          571    France    Male   44   \n",
              "28         29    15728693     McWilliams          574   Germany  Female   43   \n",
              "29         30    15656300       Lucciano          411    France    Male   29   \n",
              "30         31    15589475        Azikiwe          591     Spain  Female   39   \n",
              "31         32    15706552  Odinakachukwu          533    France    Male   36   \n",
              "32         33    15750181      Sanderson          553   Germany    Male   41   \n",
              "33         34    15659428        Maggard          520     Spain  Female   42   \n",
              "34         35    15732963       Clements          722     Spain  Female   29   \n",
              "35         36    15794171       Lombardo          475    France  Female   45   \n",
              "36         37    15788448         Watson          490     Spain    Male   31   \n",
              "37         38    15729599        Lorenzo          804     Spain    Male   33   \n",
              "38         39    15717426      Armstrong          850    France    Male   36   \n",
              "39         40    15585768        Cameron          582   Germany    Male   41   \n",
              "40         41    15619360          Hsiao          472     Spain    Male   40   \n",
              "41         42    15738148         Clarke          465    France  Female   51   \n",
              "42         43    15687946        Osborne          556    France  Female   61   \n",
              "43         44    15755196         Lavine          834    France  Female   49   \n",
              "44         45    15684171        Bianchi          660     Spain  Female   61   \n",
              "45         46    15754849          Tyler          776   Germany  Female   32   \n",
              "46         47    15602280         Martin          829   Germany  Female   27   \n",
              "47         48    15771573        Okagbue          637   Germany  Female   39   \n",
              "48         49    15766205            Yin          550   Germany    Male   38   \n",
              "49         50    15771873         Buccho          776   Germany  Female   37   \n",
              "\n",
              "    Tenure    Balance  NumOfProducts  HasCrCard  IsActiveMember  \\\n",
              "0      2.0       0.00              1          1               1   \n",
              "1      1.0   83807.86              1          0               1   \n",
              "2      8.0  159660.80              3          1               0   \n",
              "3      1.0       0.00              2          0               0   \n",
              "4      2.0  125510.82              1          1               1   \n",
              "5      8.0  113755.78              2          1               0   \n",
              "6      7.0       0.00              2          1               1   \n",
              "7      4.0  115046.74              4          1               0   \n",
              "8      4.0  142051.07              2          0               1   \n",
              "9      2.0  134603.88              1          1               1   \n",
              "10     6.0  102016.72              2          0               0   \n",
              "11     3.0       0.00              2          1               0   \n",
              "12    10.0       0.00              2          1               0   \n",
              "13     5.0       0.00              2          0               0   \n",
              "14     7.0       0.00              2          1               1   \n",
              "15     3.0  143129.41              2          0               1   \n",
              "16     1.0  132602.88              1          1               0   \n",
              "17     9.0       0.00              2          1               1   \n",
              "18     6.0       0.00              1          0               0   \n",
              "19     6.0       0.00              2          1               1   \n",
              "20     8.0       0.00              2          1               1   \n",
              "21     8.0       0.00              2          1               0   \n",
              "22     4.0       0.00              1          1               0   \n",
              "23     3.0       0.00              2          0               1   \n",
              "24     5.0       0.00              1          1               1   \n",
              "25     3.0       0.00              2          0               1   \n",
              "26     2.0  136815.64              1          1               1   \n",
              "27     9.0       0.00              2          0               0   \n",
              "28     3.0  141349.43              1          1               1   \n",
              "29     0.0   59697.17              2          1               1   \n",
              "30     NaN       0.00              3          1               0   \n",
              "31     7.0   85311.70              1          0               1   \n",
              "32     9.0  110112.54              2          0               0   \n",
              "33     6.0       0.00              2          1               1   \n",
              "34     9.0       0.00              2          1               1   \n",
              "35     0.0  134264.04              1          1               0   \n",
              "36     3.0  145260.23              1          0               1   \n",
              "37     7.0   76548.60              1          0               1   \n",
              "38     7.0       0.00              1          1               1   \n",
              "39     6.0   70349.48              2          0               1   \n",
              "40     4.0       0.00              1          1               0   \n",
              "41     8.0  122522.32              1          0               0   \n",
              "42     2.0  117419.35              1          1               1   \n",
              "43     2.0  131394.56              1          0               0   \n",
              "44     5.0  155931.11              1          1               1   \n",
              "45     4.0  109421.13              2          1               1   \n",
              "46     9.0  112045.67              1          1               1   \n",
              "47     9.0  137843.80              1          1               1   \n",
              "48     NaN  103391.38              1          0               1   \n",
              "49     2.0  103769.22              2          1               0   \n",
              "\n",
              "    EstimatedSalary  Exited  \n",
              "0         101348.88       1  \n",
              "1         112542.58       0  \n",
              "2         113931.57       1  \n",
              "3          93826.63       0  \n",
              "4          79084.10       0  \n",
              "5         149756.71       1  \n",
              "6          10062.80       0  \n",
              "7         119346.88       1  \n",
              "8          74940.50       0  \n",
              "9          71725.73       0  \n",
              "10         80181.12       0  \n",
              "11         76390.01       0  \n",
              "12         26260.98       0  \n",
              "13        190857.79       0  \n",
              "14         65951.65       0  \n",
              "15         64327.26       0  \n",
              "16          5097.67       1  \n",
              "17         14406.41       0  \n",
              "18        158684.81       0  \n",
              "19         54724.03       0  \n",
              "20        170886.17       0  \n",
              "21        138555.46       0  \n",
              "22        118913.53       1  \n",
              "23          8487.75       0  \n",
              "24        187616.16       0  \n",
              "25        124508.29       0  \n",
              "26        170041.95       0  \n",
              "27         38433.35       0  \n",
              "28        100187.43       0  \n",
              "29         53483.21       0  \n",
              "30        140469.38       1  \n",
              "31        156731.91       0  \n",
              "32         81898.81       0  \n",
              "33         34410.55       0  \n",
              "34        142033.07       0  \n",
              "35         27822.99       1  \n",
              "36        114066.77       0  \n",
              "37         98453.45       0  \n",
              "38         40812.90       0  \n",
              "39        178074.04       0  \n",
              "40         70154.22       0  \n",
              "41        181297.65       1  \n",
              "42         94153.83       0  \n",
              "43        194365.76       1  \n",
              "44        158338.39       0  \n",
              "45        126517.46       0  \n",
              "46        119708.21       1  \n",
              "47        117622.80       1  \n",
              "48         90878.13       0  \n",
              "49        194099.12       0  "
            ]
          },
          "metadata": {}
        }
      ]
    },
    {
      "cell_type": "markdown",
      "source": "Столбцы содержат следующую информацию: \n\nRowNumber — индекс строки в данных\n\nCustomerId — уникальный идентификатор клиента\n\nSurname — фамилия\n\nCreditScore — кредитный рейтинг\n\nGeography — страна проживания\n\nGender — пол\n\nAge — возраст\n\nTenure — сколько лет человек является клиентом банка\n\nBalance — баланс на счёте\n\nNumOfProducts — количество продуктов банка, используемых клиентом\n\nHasCrCard — наличие кредитной карты\n\nIsActiveMember — активность клиента\n\nEstimatedSalary — предполагаемая зарплата\n\nExited — факт ухода клиента",
      "metadata": {}
    },
    {
      "cell_type": "code",
      "source": "df.info()\nprint('')\nprint('Количество полных дубликатов:', df.duplicated().sum())",
      "metadata": {},
      "execution_count": 229,
      "outputs": [
        {
          "name": "stdout",
          "output_type": "stream",
          "text": "<class 'pandas.core.frame.DataFrame'>\n\nRangeIndex: 10000 entries, 0 to 9999\n\nData columns (total 14 columns):\n\n #   Column           Non-Null Count  Dtype  \n\n---  ------           --------------  -----  \n\n 0   RowNumber        10000 non-null  int64  \n\n 1   CustomerId       10000 non-null  int64  \n\n 2   Surname          10000 non-null  object \n\n 3   CreditScore      10000 non-null  int64  \n\n 4   Geography        10000 non-null  object \n\n 5   Gender           10000 non-null  object \n\n 6   Age              10000 non-null  int64  \n\n 7   Tenure           9091 non-null   float64\n\n 8   Balance          10000 non-null  float64\n\n 9   NumOfProducts    10000 non-null  int64  \n\n 10  HasCrCard        10000 non-null  int64  \n\n 11  IsActiveMember   10000 non-null  int64  \n\n 12  EstimatedSalary  10000 non-null  float64\n\n 13  Exited           10000 non-null  int64  \n\ndtypes: float64(3), int64(8), object(3)\n\nmemory usage: 1.1+ MB\n\n\n\nКоличество полных дубликатов: 0\n"
        }
      ]
    },
    {
      "cell_type": "markdown",
      "source": "В наборе данных есть столбцы RowNumber, Surname и CustomerId. Все они несут идентификационную информацию, которая дублирует информацию стандартной нумерации датафрейма. Кроме этого, в столбце Surname допущены ошибки, так что для экономии времени удалим их за ненадобностью, ведь для исследования они не потребуются.",
      "metadata": {}
    },
    {
      "cell_type": "code",
      "source": "for_deleting_purposes = ['RowNumber','CustomerId','Surname']\n\ndf = df.drop(for_deleting_purposes, axis=1)\ndf.head()",
      "metadata": {},
      "execution_count": 230,
      "outputs": [
        {
          "execution_count": 230,
          "output_type": "execute_result",
          "data": {
            "text/html": [
              "<div>\n",
              "<style scoped>\n",
              "    .dataframe tbody tr th:only-of-type {\n",
              "        vertical-align: middle;\n",
              "    }\n",
              "\n",
              "    .dataframe tbody tr th {\n",
              "        vertical-align: top;\n",
              "    }\n",
              "\n",
              "    .dataframe thead th {\n",
              "        text-align: right;\n",
              "    }\n",
              "</style>\n",
              "<table border=\"1\" class=\"dataframe\">\n",
              "  <thead>\n",
              "    <tr style=\"text-align: right;\">\n",
              "      <th></th>\n",
              "      <th>CreditScore</th>\n",
              "      <th>Geography</th>\n",
              "      <th>Gender</th>\n",
              "      <th>Age</th>\n",
              "      <th>Tenure</th>\n",
              "      <th>Balance</th>\n",
              "      <th>NumOfProducts</th>\n",
              "      <th>HasCrCard</th>\n",
              "      <th>IsActiveMember</th>\n",
              "      <th>EstimatedSalary</th>\n",
              "      <th>Exited</th>\n",
              "    </tr>\n",
              "  </thead>\n",
              "  <tbody>\n",
              "    <tr>\n",
              "      <th>0</th>\n",
              "      <td>619</td>\n",
              "      <td>France</td>\n",
              "      <td>Female</td>\n",
              "      <td>42</td>\n",
              "      <td>2.0</td>\n",
              "      <td>0.00</td>\n",
              "      <td>1</td>\n",
              "      <td>1</td>\n",
              "      <td>1</td>\n",
              "      <td>101348.88</td>\n",
              "      <td>1</td>\n",
              "    </tr>\n",
              "    <tr>\n",
              "      <th>1</th>\n",
              "      <td>608</td>\n",
              "      <td>Spain</td>\n",
              "      <td>Female</td>\n",
              "      <td>41</td>\n",
              "      <td>1.0</td>\n",
              "      <td>83807.86</td>\n",
              "      <td>1</td>\n",
              "      <td>0</td>\n",
              "      <td>1</td>\n",
              "      <td>112542.58</td>\n",
              "      <td>0</td>\n",
              "    </tr>\n",
              "    <tr>\n",
              "      <th>2</th>\n",
              "      <td>502</td>\n",
              "      <td>France</td>\n",
              "      <td>Female</td>\n",
              "      <td>42</td>\n",
              "      <td>8.0</td>\n",
              "      <td>159660.80</td>\n",
              "      <td>3</td>\n",
              "      <td>1</td>\n",
              "      <td>0</td>\n",
              "      <td>113931.57</td>\n",
              "      <td>1</td>\n",
              "    </tr>\n",
              "    <tr>\n",
              "      <th>3</th>\n",
              "      <td>699</td>\n",
              "      <td>France</td>\n",
              "      <td>Female</td>\n",
              "      <td>39</td>\n",
              "      <td>1.0</td>\n",
              "      <td>0.00</td>\n",
              "      <td>2</td>\n",
              "      <td>0</td>\n",
              "      <td>0</td>\n",
              "      <td>93826.63</td>\n",
              "      <td>0</td>\n",
              "    </tr>\n",
              "    <tr>\n",
              "      <th>4</th>\n",
              "      <td>850</td>\n",
              "      <td>Spain</td>\n",
              "      <td>Female</td>\n",
              "      <td>43</td>\n",
              "      <td>2.0</td>\n",
              "      <td>125510.82</td>\n",
              "      <td>1</td>\n",
              "      <td>1</td>\n",
              "      <td>1</td>\n",
              "      <td>79084.10</td>\n",
              "      <td>0</td>\n",
              "    </tr>\n",
              "  </tbody>\n",
              "</table>\n",
              "</div>"
            ],
            "text/plain": [
              "   CreditScore Geography  Gender  Age  Tenure    Balance  NumOfProducts  \\\n",
              "0          619    France  Female   42     2.0       0.00              1   \n",
              "1          608     Spain  Female   41     1.0   83807.86              1   \n",
              "2          502    France  Female   42     8.0  159660.80              3   \n",
              "3          699    France  Female   39     1.0       0.00              2   \n",
              "4          850     Spain  Female   43     2.0  125510.82              1   \n",
              "\n",
              "   HasCrCard  IsActiveMember  EstimatedSalary  Exited  \n",
              "0          1               1        101348.88       1  \n",
              "1          0               1        112542.58       0  \n",
              "2          1               0        113931.57       1  \n",
              "3          0               0         93826.63       0  \n",
              "4          1               1         79084.10       0  "
            ]
          },
          "metadata": {}
        }
      ]
    },
    {
      "cell_type": "code",
      "source": "df.isna().sum()",
      "metadata": {},
      "execution_count": 231,
      "outputs": [
        {
          "execution_count": 231,
          "output_type": "execute_result",
          "data": {
            "text/plain": [
              "CreditScore          0\n",
              "Geography            0\n",
              "Gender               0\n",
              "Age                  0\n",
              "Tenure             909\n",
              "Balance              0\n",
              "NumOfProducts        0\n",
              "HasCrCard            0\n",
              "IsActiveMember       0\n",
              "EstimatedSalary      0\n",
              "Exited               0\n",
              "dtype: int64"
            ]
          },
          "metadata": {}
        }
      ]
    },
    {
      "cell_type": "markdown",
      "source": "Явно видно, что в столбце Tenure (количество лет проведенных в статусе клиента банка) часто встречаются пропуски. Скорее всего, они возникли из-за того, что люди были клиентами банка менее одного года и система присвоила им значение NaN вместо округленного значения или нуля. Однако, это не единственное предположение - возможно это просто системный сбой и люди с пропусками в столбце Tenure давно являются клиентами Бета-Банка. Считаю, что следует оставить пропуски на текущем значении.",
      "metadata": {}
    },
    {
      "cell_type": "code",
      "source": "df.describe()",
      "metadata": {},
      "execution_count": 232,
      "outputs": [
        {
          "execution_count": 232,
          "output_type": "execute_result",
          "data": {
            "text/html": [
              "<div>\n",
              "<style scoped>\n",
              "    .dataframe tbody tr th:only-of-type {\n",
              "        vertical-align: middle;\n",
              "    }\n",
              "\n",
              "    .dataframe tbody tr th {\n",
              "        vertical-align: top;\n",
              "    }\n",
              "\n",
              "    .dataframe thead th {\n",
              "        text-align: right;\n",
              "    }\n",
              "</style>\n",
              "<table border=\"1\" class=\"dataframe\">\n",
              "  <thead>\n",
              "    <tr style=\"text-align: right;\">\n",
              "      <th></th>\n",
              "      <th>CreditScore</th>\n",
              "      <th>Age</th>\n",
              "      <th>Tenure</th>\n",
              "      <th>Balance</th>\n",
              "      <th>NumOfProducts</th>\n",
              "      <th>HasCrCard</th>\n",
              "      <th>IsActiveMember</th>\n",
              "      <th>EstimatedSalary</th>\n",
              "      <th>Exited</th>\n",
              "    </tr>\n",
              "  </thead>\n",
              "  <tbody>\n",
              "    <tr>\n",
              "      <th>count</th>\n",
              "      <td>10000.000000</td>\n",
              "      <td>10000.000000</td>\n",
              "      <td>9091.000000</td>\n",
              "      <td>10000.000000</td>\n",
              "      <td>10000.000000</td>\n",
              "      <td>10000.00000</td>\n",
              "      <td>10000.000000</td>\n",
              "      <td>10000.000000</td>\n",
              "      <td>10000.000000</td>\n",
              "    </tr>\n",
              "    <tr>\n",
              "      <th>mean</th>\n",
              "      <td>650.528800</td>\n",
              "      <td>38.921800</td>\n",
              "      <td>4.997690</td>\n",
              "      <td>76485.889288</td>\n",
              "      <td>1.530200</td>\n",
              "      <td>0.70550</td>\n",
              "      <td>0.515100</td>\n",
              "      <td>100090.239881</td>\n",
              "      <td>0.203700</td>\n",
              "    </tr>\n",
              "    <tr>\n",
              "      <th>std</th>\n",
              "      <td>96.653299</td>\n",
              "      <td>10.487806</td>\n",
              "      <td>2.894723</td>\n",
              "      <td>62397.405202</td>\n",
              "      <td>0.581654</td>\n",
              "      <td>0.45584</td>\n",
              "      <td>0.499797</td>\n",
              "      <td>57510.492818</td>\n",
              "      <td>0.402769</td>\n",
              "    </tr>\n",
              "    <tr>\n",
              "      <th>min</th>\n",
              "      <td>350.000000</td>\n",
              "      <td>18.000000</td>\n",
              "      <td>0.000000</td>\n",
              "      <td>0.000000</td>\n",
              "      <td>1.000000</td>\n",
              "      <td>0.00000</td>\n",
              "      <td>0.000000</td>\n",
              "      <td>11.580000</td>\n",
              "      <td>0.000000</td>\n",
              "    </tr>\n",
              "    <tr>\n",
              "      <th>25%</th>\n",
              "      <td>584.000000</td>\n",
              "      <td>32.000000</td>\n",
              "      <td>2.000000</td>\n",
              "      <td>0.000000</td>\n",
              "      <td>1.000000</td>\n",
              "      <td>0.00000</td>\n",
              "      <td>0.000000</td>\n",
              "      <td>51002.110000</td>\n",
              "      <td>0.000000</td>\n",
              "    </tr>\n",
              "    <tr>\n",
              "      <th>50%</th>\n",
              "      <td>652.000000</td>\n",
              "      <td>37.000000</td>\n",
              "      <td>5.000000</td>\n",
              "      <td>97198.540000</td>\n",
              "      <td>1.000000</td>\n",
              "      <td>1.00000</td>\n",
              "      <td>1.000000</td>\n",
              "      <td>100193.915000</td>\n",
              "      <td>0.000000</td>\n",
              "    </tr>\n",
              "    <tr>\n",
              "      <th>75%</th>\n",
              "      <td>718.000000</td>\n",
              "      <td>44.000000</td>\n",
              "      <td>7.000000</td>\n",
              "      <td>127644.240000</td>\n",
              "      <td>2.000000</td>\n",
              "      <td>1.00000</td>\n",
              "      <td>1.000000</td>\n",
              "      <td>149388.247500</td>\n",
              "      <td>0.000000</td>\n",
              "    </tr>\n",
              "    <tr>\n",
              "      <th>max</th>\n",
              "      <td>850.000000</td>\n",
              "      <td>92.000000</td>\n",
              "      <td>10.000000</td>\n",
              "      <td>250898.090000</td>\n",
              "      <td>4.000000</td>\n",
              "      <td>1.00000</td>\n",
              "      <td>1.000000</td>\n",
              "      <td>199992.480000</td>\n",
              "      <td>1.000000</td>\n",
              "    </tr>\n",
              "  </tbody>\n",
              "</table>\n",
              "</div>"
            ],
            "text/plain": [
              "        CreditScore           Age       Tenure        Balance  NumOfProducts  \\\n",
              "count  10000.000000  10000.000000  9091.000000   10000.000000   10000.000000   \n",
              "mean     650.528800     38.921800     4.997690   76485.889288       1.530200   \n",
              "std       96.653299     10.487806     2.894723   62397.405202       0.581654   \n",
              "min      350.000000     18.000000     0.000000       0.000000       1.000000   \n",
              "25%      584.000000     32.000000     2.000000       0.000000       1.000000   \n",
              "50%      652.000000     37.000000     5.000000   97198.540000       1.000000   \n",
              "75%      718.000000     44.000000     7.000000  127644.240000       2.000000   \n",
              "max      850.000000     92.000000    10.000000  250898.090000       4.000000   \n",
              "\n",
              "         HasCrCard  IsActiveMember  EstimatedSalary        Exited  \n",
              "count  10000.00000    10000.000000     10000.000000  10000.000000  \n",
              "mean       0.70550        0.515100    100090.239881      0.203700  \n",
              "std        0.45584        0.499797     57510.492818      0.402769  \n",
              "min        0.00000        0.000000        11.580000      0.000000  \n",
              "25%        0.00000        0.000000     51002.110000      0.000000  \n",
              "50%        1.00000        1.000000    100193.915000      0.000000  \n",
              "75%        1.00000        1.000000    149388.247500      0.000000  \n",
              "max        1.00000        1.000000    199992.480000      1.000000  "
            ]
          },
          "metadata": {}
        }
      ]
    },
    {
      "cell_type": "markdown",
      "source": "Доля объектов положительного класса:",
      "metadata": {}
    },
    {
      "cell_type": "code",
      "source": "sum(df[\"Exited\"]/len(df))",
      "metadata": {},
      "execution_count": 233,
      "outputs": [
        {
          "execution_count": 233,
          "output_type": "execute_result",
          "data": {
            "text/plain": [
              "0.20369999999999389"
            ]
          },
          "metadata": {}
        }
      ]
    },
    {
      "cell_type": "markdown",
      "source": "Доля объектов отрицательного класса:",
      "metadata": {}
    },
    {
      "cell_type": "code",
      "source": "1-sum(df[\"Exited\"]/len(df))",
      "metadata": {},
      "execution_count": 234,
      "outputs": [
        {
          "execution_count": 234,
          "output_type": "execute_result",
          "data": {
            "text/plain": [
              "0.7963000000000061"
            ]
          },
          "metadata": {}
        }
      ]
    },
    {
      "cell_type": "markdown",
      "source": "Видим, что объектов отрицательного класса сильно больше, чем положительного класса",
      "metadata": {}
    },
    {
      "cell_type": "markdown",
      "source": "Применим к данным метод OHE для последующей работы с ними",
      "metadata": {}
    },
    {
      "cell_type": "code",
      "source": "df = pd.get_dummies(df, drop_first=True)\ndf.head()",
      "metadata": {},
      "execution_count": 235,
      "outputs": [
        {
          "execution_count": 235,
          "output_type": "execute_result",
          "data": {
            "text/html": [
              "<div>\n",
              "<style scoped>\n",
              "    .dataframe tbody tr th:only-of-type {\n",
              "        vertical-align: middle;\n",
              "    }\n",
              "\n",
              "    .dataframe tbody tr th {\n",
              "        vertical-align: top;\n",
              "    }\n",
              "\n",
              "    .dataframe thead th {\n",
              "        text-align: right;\n",
              "    }\n",
              "</style>\n",
              "<table border=\"1\" class=\"dataframe\">\n",
              "  <thead>\n",
              "    <tr style=\"text-align: right;\">\n",
              "      <th></th>\n",
              "      <th>CreditScore</th>\n",
              "      <th>Age</th>\n",
              "      <th>Tenure</th>\n",
              "      <th>Balance</th>\n",
              "      <th>NumOfProducts</th>\n",
              "      <th>HasCrCard</th>\n",
              "      <th>IsActiveMember</th>\n",
              "      <th>EstimatedSalary</th>\n",
              "      <th>Exited</th>\n",
              "      <th>Geography_Germany</th>\n",
              "      <th>Geography_Spain</th>\n",
              "      <th>Gender_Male</th>\n",
              "    </tr>\n",
              "  </thead>\n",
              "  <tbody>\n",
              "    <tr>\n",
              "      <th>0</th>\n",
              "      <td>619</td>\n",
              "      <td>42</td>\n",
              "      <td>2.0</td>\n",
              "      <td>0.00</td>\n",
              "      <td>1</td>\n",
              "      <td>1</td>\n",
              "      <td>1</td>\n",
              "      <td>101348.88</td>\n",
              "      <td>1</td>\n",
              "      <td>0</td>\n",
              "      <td>0</td>\n",
              "      <td>0</td>\n",
              "    </tr>\n",
              "    <tr>\n",
              "      <th>1</th>\n",
              "      <td>608</td>\n",
              "      <td>41</td>\n",
              "      <td>1.0</td>\n",
              "      <td>83807.86</td>\n",
              "      <td>1</td>\n",
              "      <td>0</td>\n",
              "      <td>1</td>\n",
              "      <td>112542.58</td>\n",
              "      <td>0</td>\n",
              "      <td>0</td>\n",
              "      <td>1</td>\n",
              "      <td>0</td>\n",
              "    </tr>\n",
              "    <tr>\n",
              "      <th>2</th>\n",
              "      <td>502</td>\n",
              "      <td>42</td>\n",
              "      <td>8.0</td>\n",
              "      <td>159660.80</td>\n",
              "      <td>3</td>\n",
              "      <td>1</td>\n",
              "      <td>0</td>\n",
              "      <td>113931.57</td>\n",
              "      <td>1</td>\n",
              "      <td>0</td>\n",
              "      <td>0</td>\n",
              "      <td>0</td>\n",
              "    </tr>\n",
              "    <tr>\n",
              "      <th>3</th>\n",
              "      <td>699</td>\n",
              "      <td>39</td>\n",
              "      <td>1.0</td>\n",
              "      <td>0.00</td>\n",
              "      <td>2</td>\n",
              "      <td>0</td>\n",
              "      <td>0</td>\n",
              "      <td>93826.63</td>\n",
              "      <td>0</td>\n",
              "      <td>0</td>\n",
              "      <td>0</td>\n",
              "      <td>0</td>\n",
              "    </tr>\n",
              "    <tr>\n",
              "      <th>4</th>\n",
              "      <td>850</td>\n",
              "      <td>43</td>\n",
              "      <td>2.0</td>\n",
              "      <td>125510.82</td>\n",
              "      <td>1</td>\n",
              "      <td>1</td>\n",
              "      <td>1</td>\n",
              "      <td>79084.10</td>\n",
              "      <td>0</td>\n",
              "      <td>0</td>\n",
              "      <td>1</td>\n",
              "      <td>0</td>\n",
              "    </tr>\n",
              "  </tbody>\n",
              "</table>\n",
              "</div>"
            ],
            "text/plain": [
              "   CreditScore  Age  Tenure    Balance  NumOfProducts  HasCrCard  \\\n",
              "0          619   42     2.0       0.00              1          1   \n",
              "1          608   41     1.0   83807.86              1          0   \n",
              "2          502   42     8.0  159660.80              3          1   \n",
              "3          699   39     1.0       0.00              2          0   \n",
              "4          850   43     2.0  125510.82              1          1   \n",
              "\n",
              "   IsActiveMember  EstimatedSalary  Exited  Geography_Germany  \\\n",
              "0               1        101348.88       1                  0   \n",
              "1               1        112542.58       0                  0   \n",
              "2               0        113931.57       1                  0   \n",
              "3               0         93826.63       0                  0   \n",
              "4               1         79084.10       0                  0   \n",
              "\n",
              "   Geography_Spain  Gender_Male  \n",
              "0                0            0  \n",
              "1                1            0  \n",
              "2                0            0  \n",
              "3                0            0  \n",
              "4                1            0  "
            ]
          },
          "metadata": {}
        }
      ]
    },
    {
      "cell_type": "markdown",
      "source": "## Исследование задачи",
      "metadata": {}
    },
    {
      "cell_type": "code",
      "source": "features = df.drop(\"Exited\", axis=1)\ntarget = df[\"Exited\"]\nfeatures.fillna(1, inplace=True)\n\nfeatures_train, features_test0, target_train, target_test0 = train_test_split(features, target, \n                                                                              test_size=0.2, \n                                                                              random_state=1)\n\n\nfeatures_valid, features_test, target_valid, target_test = train_test_split(features_test0, target_test0, \n                                                                              test_size=0.5, \n                                                                              random_state=1)\n\n\nfeatures_train = pd.DataFrame(features_train)\nfeatures_valid = pd.DataFrame(features_valid)\ntarget_train = pd.Series(target_train)\ntarget_valid = pd.Series(target_valid)",
      "metadata": {},
      "execution_count": 236,
      "outputs": []
    },
    {
      "cell_type": "markdown",
      "source": "Перед этапом обучения стоит масштабировать признаки",
      "metadata": {}
    },
    {
      "cell_type": "code",
      "source": "numeric = ['CreditScore', 'Age', 'Tenure', 'Balance', 'NumOfProducts', 'EstimatedSalary']\n\nscaler = StandardScaler()\nscaler.fit(features_train.loc[:, numeric])\nfeatures_train.loc[:, numeric] = scaler.transform(features_train.loc[:, numeric])\nfeatures_valid.loc[:, numeric] = scaler.transform(features_valid.loc[:, numeric])\nfeatures_test.loc[:, numeric] = scaler.transform(features_test.loc[:, numeric])",
      "metadata": {},
      "execution_count": 237,
      "outputs": []
    },
    {
      "cell_type": "markdown",
      "source": "# Приступим к обучению моделей",
      "metadata": {}
    },
    {
      "cell_type": "markdown",
      "source": "Изучим модель Logistic Regression",
      "metadata": {}
    },
    {
      "cell_type": "code",
      "source": "model = LogisticRegression()\nmodel.fit(features_train, target_train)\npredictions = model.predict(features_valid)\nprint(\"Accuracy:\", accuracy_score(predictions, target_valid))\nprint(\"F1:\", f1_score(predictions, target_valid))",
      "metadata": {},
      "execution_count": 238,
      "outputs": [
        {
          "name": "stdout",
          "output_type": "stream",
          "text": "Accuracy: 0.842\n\nF1: 0.3416666666666667\n"
        }
      ]
    },
    {
      "cell_type": "markdown",
      "source": "Изучим модель Random Forest",
      "metadata": {}
    },
    {
      "cell_type": "code",
      "source": "best_model = None\nbest_accuracy = 0\nbest_est = 0\nbest_depth = 0\nbest_f1_score = 0\n\n\nfor est in range(10, 51, 5): \n    for depth in range (1, 21): \n        model = RandomForestClassifier(random_state=12345, n_estimators=est, max_depth=depth) \n        model.fit(features_train, target_train)\n        accuracy = model.score(features_valid, target_valid) \n        predicted_valid = model.predict(features_valid)\n        f1 = f1_score(target_valid, predicted_valid)\n        if f1 > best_f1_score:\n            best_model = model\n            best_accuracy = accuracy\n            best_est = est\n            best_depth = depth\n            best_f1_score = f1\n\n\nprint(\"Accuracy на валидационной выборке:\", best_accuracy)\nprint(\"Количество деревьев:\", best_est)\nprint(\"Оптимальная глубина дерева:\", best_depth)\nprint(\"Лучший F1_score:\", best_f1_score)",
      "metadata": {},
      "execution_count": 239,
      "outputs": [
        {
          "name": "stdout",
          "output_type": "stream",
          "text": "Accuracy на валидационной выборке: 0.894\n\nКоличество деревьев: 15\n\nОптимальная глубина дерева: 10\n\nЛучший F1_score: 0.6267605633802816\n"
        }
      ]
    },
    {
      "cell_type": "markdown",
      "source": "На данном этапе можно сделать вывод, что модель созданная при помощи Random Forest показывает более высокий результат в сравнении с Logistic Regression. Результат F1-меры у Random Forest - 0.62, его можно улучшить, избавившись от дисбаланса классов.",
      "metadata": {}
    },
    {
      "cell_type": "markdown",
      "source": "## Борьба с дисбалансом",
      "metadata": {}
    },
    {
      "cell_type": "markdown",
      "source": "Применим метод увеличения числа наблюдений положительного класса - Upsampling",
      "metadata": {}
    },
    {
      "cell_type": "code",
      "source": "def upsample(features, target, repeat):\n    features_zeros = features[target == 0]\n    features_ones = features[target == 1]\n    target_zeros = target[target == 0]\n    target_ones = target[target == 1]\n\n    features_upsampled = pd.concat([features_zeros] + [features_ones] * repeat)\n    target_upsampled = pd.concat([target_zeros] + [target_ones] * repeat)\n    \n    features_upsampled, target_upsampled = shuffle(\n        features_upsampled, target_upsampled, random_state=12345)\n    \n    return features_upsampled, target_upsampled\n\nfeatures_upsampled_train, target_upsampled_train = upsample(features_train, target_train, 4)",
      "metadata": {},
      "execution_count": 217,
      "outputs": []
    },
    {
      "cell_type": "code",
      "source": "best_model = None\nbest_accuracy = 0\nbest_est = 0\nbest_depth = 0\nbest_f1_score = 0\n\n\nfor est in range(10, 51, 5): \n    for depth in range (1, 21): \n        model = RandomForestClassifier(random_state=12345, n_estimators=est, max_depth=depth) \n        model.fit(features_upsampled_train, target_upsampled_train)\n        accuracy = model.score(features_valid, target_valid) \n        predicted_valid = model.predict(features_valid)\n        f1 = f1_score(target_valid, predicted_valid)\n        if f1 > best_f1_score:\n            best_model = model\n            best_accuracy = accuracy\n            best_est = est\n            best_depth = depth\n            best_f1_score = f1\n\n\nprint(\"Accuracy на валидационной выборке:\", best_accuracy)\nprint(\"Количество деревьев:\", best_est)\nprint(\"Оптимальная глубина дерева:\", best_depth)\nprint(\"Лучший F1_score:\", best_f1_score)",
      "metadata": {},
      "execution_count": 218,
      "outputs": [
        {
          "name": "stdout",
          "output_type": "stream",
          "text": "Accuracy на валидационной выборке: 0.849\n\nКоличество деревьев: 45\n\nОптимальная глубина дерева: 10\n\nЛучший F1_score: 0.6343825665859564\n"
        }
      ]
    },
    {
      "cell_type": "markdown",
      "source": "Применив Upsampling - нашел оптимальное значение F1-меры у модели равное 0.634",
      "metadata": {}
    },
    {
      "cell_type": "markdown",
      "source": "Попробуем способ изменения веса редкого класса ",
      "metadata": {}
    },
    {
      "cell_type": "code",
      "source": "best_model = None\nbest_accuracy = 0\nbest_est = 0\nbest_depth = 0\nbest_f1_score = 0\n\nfor est in range(10, 51, 5): \n    for depth in range (1, 21): \n        model = RandomForestClassifier(random_state=12345, n_estimators=est, max_depth=depth, class_weight='balanced') \n        model.fit(features_train, target_train)\n        accuracy = model.score(features_valid, target_valid) \n        predicted_valid = model.predict(features_valid)\n        f1 = f1_score(target_valid, predicted_valid)\n        \n        if f1 > best_f1_score:\n            best_model = model\n            best_accuracy = accuracy\n            best_est = est\n            best_depth = depth\n            best_f1_score = f1\nprint(\"Accuracy на валидационной выборке:\", best_accuracy)\nprint(\"Количество деревьев:\", best_est)\nprint(\"Оптимальная глубина дерева:\", best_depth)\nprint(\"Лучший F1_score:\", best_f1_score)",
      "metadata": {
        "scrolled": true
      },
      "execution_count": 219,
      "outputs": [
        {
          "name": "stdout",
          "output_type": "stream",
          "text": "Accuracy на валидационной выборке: 0.865\n\nКоличество деревьев: 30\n\nОптимальная глубина дерева: 10\n\nЛучший F1_score: 0.6419098143236075\n"
        }
      ]
    },
    {
      "cell_type": "markdown",
      "source": "После применения этого способа получили лучшую F1-меру - 0.641",
      "metadata": {}
    },
    {
      "cell_type": "markdown",
      "source": "На данном этапе применил два способа борьбы с дисбалансом - Upsampling и изменение веса редкого класса. Более успешным оказался второй способ.",
      "metadata": {}
    },
    {
      "cell_type": "markdown",
      "source": "## Тестирование модели",
      "metadata": {}
    },
    {
      "cell_type": "markdown",
      "source": "Протестируем модель с изменением веса редкого класса",
      "metadata": {}
    },
    {
      "cell_type": "code",
      "source": "best_accuracy = 0\nbest_f1_score = 0\nbest_threshold = 0\nthreshold = 0.5\n\nmodel = RandomForestClassifier(random_state=12345, n_estimators=30, max_depth=10,\n                               class_weight='balanced')\nmodel.fit(features_train, target_train)    \nprobabilities_test = model.predict_proba(features_test) \nprobabilities_one_test = probabilities_test[:, 1] \npredicted_test = probabilities_one_test > threshold \nf1 = f1_score(target_test, predicted_test) \naccuracy = accuracy_score(target_test, predicted_test) \n\nprint(\"Оптимальные гипермараметры модели: Порог = {:.2f} / Accuracy = {:.3f}, F1_score = {:.3f}\"\n      .format(threshold, accuracy, f1))",
      "metadata": {},
      "execution_count": 223,
      "outputs": [
        {
          "name": "stdout",
          "output_type": "stream",
          "text": "Оптимальные гипермараметры модели: Порог = 0.50 / Accuracy = 0.830, F1_score = 0.621\n"
        }
      ]
    },
    {
      "cell_type": "markdown",
      "source": "Видим, что модель проходит тест на адекватность c 30 деревьями, глубиной 10 и порогом 0.5 по accuracy (0,830 > 0,79) и проходит проверку f1_score (0.621 > 0,59)",
      "metadata": {}
    },
    {
      "cell_type": "markdown",
      "source": "Построим ROC-AUC кривую и вычислим значение площади",
      "metadata": {}
    },
    {
      "cell_type": "code",
      "source": "fpr, tpr, thresholds = roc_curve(target_test, probabilities_one_test)\n\nprint('roc_auc_score =', roc_auc_score(target_test, probabilities_one_test))\n\nplt.figure()\nplt.plot(fpr, tpr)\nplt.plot([0, 1], [0, 1], linestyle='--')\nplt.xlim([0.0, 1.0])\nplt.ylim([0.0, 1.0])\nplt.xlabel('False Positive Rate')\nplt.ylabel('True Positive Rate')\nplt.title('ROC-кривая')\nplt.show()",
      "metadata": {},
      "execution_count": 240,
      "outputs": [
        {
          "name": "stdout",
          "output_type": "stream",
          "text": "roc_auc_score = 0.8705408643180407\n"
        },
        {
          "output_type": "display_data",
          "data": {
            "image/png": "[encoded data removed]",
            "text/plain": [
              "<Figure size 432x288 with 1 Axes>"
            ]
          },
          "metadata": {
            "needs_background": "light"
          }
        }
      ]
    },
    {
      "cell_type": "markdown",
      "source": "По графику видно, что значение roc_auc - более чем подходящее",
      "metadata": {}
    },
    {
      "cell_type": "markdown",
      "source": "## Вывод",
      "metadata": {}
    },
    {
      "cell_type": "markdown",
      "source": "Провели подготовку данных: удалили лишние признаки, заполнили пропуски, масштабировали численные признаки, применили технику OHE для категориальных признаков\n\nИсследовали баланс классов, обучили модель без учета дисбаланса.  Наиболее точной оказалась модель Random Forest с значением F1-меры = 0.62.\n\nОтталкиваясь от дисбаланса классов (80:20) - произвели upsampling положительного класса и способ с изменением веса редкого класса. Вторым способом удалось повысить F1 до 0.641. Upsampling оказался менее эффективен.",
      "metadata": {}
    }
  ]
}