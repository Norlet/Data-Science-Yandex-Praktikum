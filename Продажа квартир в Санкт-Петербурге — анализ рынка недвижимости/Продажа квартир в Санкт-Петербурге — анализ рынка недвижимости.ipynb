{
 "cells": [
  {
   "cell_type": "markdown",
   "metadata": {},
   "source": [
    "# Исследование объявлений о продаже квартир\n",
    "\n",
    "В вашем распоряжении данные сервиса Яндекс.Недвижимость — архив объявлений о продаже квартир в Санкт-Петербурге и соседних населённых пунктов за несколько лет. Нужно научиться определять рыночную стоимость объектов недвижимости. Ваша задача — установить параметры. Это позволит построить автоматизированную систему: она отследит аномалии и мошенническую деятельность. \n",
    "\n",
    "По каждой квартире на продажу доступны два вида данных. Первые вписаны пользователем, вторые — получены автоматически на основе картографических данных. Например, расстояние до центра, аэропорта, ближайшего парка и водоёма. "
   ]
  },
  {
   "cell_type": "markdown",
   "metadata": {},
   "source": [
    "# Содержание"
   ]
  },
  {
   "cell_type": "markdown",
   "metadata": {},
   "source": [
    "### [Шаг 1. Знакомство с данными](#section1)  \n",
    "\n",
    "### [Шаг 2. Предобработка данных](#section2)  \n",
    "#### - [2.1. Обработка выбросов:](#section2.1)  \n",
    "  - [2.1.1. Высота потолков](#section2.1.1)  \n",
    "  - [2.1.2. Стоимость](#section2.1.2)  \n",
    "  - [2.1.3. Общая площадь](#section2.1.3)\n",
    "  \n",
    "#### - [2.2. Заполнение пропусков:](#section2.2)  \n",
    "  - [2.2.1. Стратегия заполнения пропусков](#section2.2.1)\n",
    "  - [2.2.2. Пропущенные значения этажности](#section2.2.2)\n",
    "  - [2.2.3. Пропущенные значения высоты потолков](#section2.2.3) \n",
    "  - [2.2.4. Оставшиеся пропущенные значения](#section2.2.4) \n",
    "  - [2.2.5. Обработка столбца с временем](#section2.2.5)\n",
    "  - [2.2.6. Преобразуем типы данных](#section2.2.6)  \n",
    "  - [2.2.7. Квартиры с нулевым значением комнат](#section2.2.7)  \n",
    "  - [Вывод](#section2.2.8)  \n",
    "  \n",
    "### [Шаг 3. Feature engeneering](#section3)  \n",
    " - [3.1. Добавим цену за кв. метр. в таблицу](#section3.1)  \n",
    " - [3.2. Добавим столбцы с днем недели, месяцем и годом](#section3.2)  \n",
    " - [3.3. Столбец с этажом: первый, последний, другой](#section3.3)  \n",
    " - [3.4. Добавим отношение жилой площади к общей](#section3.4) \n",
    " - [3.5. Добавим отношение площади кухни к общей](#section3.5)  \n",
    " \n",
    "### [Шаг 4. Исследовательский анализ данных](#section4)  \n",
    " - [4.1.  Гистограммы распределения *Общей площади*, *Цены*, *Комнат*, *Высоты потолков*](#section4.1)  \n",
    " - [4.2.  Распределение времени продаж](#section4.2)  \n",
    " - [4.3.  Как стоимость квартиры зависит от *площади*, *числа комнат*, *удалённости от центра*](#section4.3)  \n",
    " - [4.4.  Зависимость стоимости квартиры от этажа](#section4.4)  \n",
    " - [4.5.  Зависимость стоимости квартиры от даты размещения: *дня недели*, *месяца и года*.](#section4.5)  \n",
    " - [4.6.  10 населенных пунктов с самой высокой стоимостью кв. метра](#section4.6)  \n",
    " - [4.7.  Стоимость квартир в центре](#section4.7)  \n",
    " - [4.8.  Проанализируем квартиры в центре](#section4.8)  \n",
    " - [4.9.  Влияние факторов на стоимость квартиры в центре (*число комнат, этаж, удалённость от центра, дата размещения объявления*)](#section4.9)\n",
    " - [4.10. Зависимость от *даты*](#section4.10)  \n",
    "\n",
    "### [Шаг 5. Общий вывод](#section5)  "
   ]
  },
  {
   "cell_type": "markdown",
   "metadata": {},
   "source": [
    "<a id='section1'></a>"
   ]
  },
  {
   "cell_type": "markdown",
   "metadata": {},
   "source": [
    "# Шаг 1. Откройте файл с данными и изучите общую информацию. "
   ]
  },
  {
   "cell_type": "markdown",
   "metadata": {},
   "source": [
    "___"
   ]
  },
  {
   "cell_type": "code",
   "execution_count": 1,
   "metadata": {},
   "outputs": [],
   "source": [
    "# Импортируем библиотеки\n",
    "import pandas as pd\n",
    "import numpy as np\n",
    "import matplotlib.pyplot as plt\n",
    "import seaborn as sns\n",
    "%matplotlib inline"
   ]
  },
  {
   "cell_type": "code",
   "execution_count": 2,
   "metadata": {},
   "outputs": [],
   "source": [
    "data = pd.read_csv('/datasets/real_estate_data.csv', sep='\\t')"
   ]
  },
  {
   "cell_type": "code",
   "execution_count": 3,
   "metadata": {},
   "outputs": [],
   "source": [
    "df = pd.DataFrame(data.copy(deep=True))"
   ]
  },
  {
   "cell_type": "code",
   "execution_count": 4,
   "metadata": {
    "scrolled": false
   },
   "outputs": [
    {
     "data": {
      "text/html": [
       "<div>\n",
       "<style scoped>\n",
       "    .dataframe tbody tr th:only-of-type {\n",
       "        vertical-align: middle;\n",
       "    }\n",
       "\n",
       "    .dataframe tbody tr th {\n",
       "        vertical-align: top;\n",
       "    }\n",
       "\n",
       "    .dataframe thead th {\n",
       "        text-align: right;\n",
       "    }\n",
       "</style>\n",
       "<table border=\"1\" class=\"dataframe\">\n",
       "  <thead>\n",
       "    <tr style=\"text-align: right;\">\n",
       "      <th></th>\n",
       "      <th>total_images</th>\n",
       "      <th>last_price</th>\n",
       "      <th>total_area</th>\n",
       "      <th>first_day_exposition</th>\n",
       "      <th>rooms</th>\n",
       "      <th>ceiling_height</th>\n",
       "      <th>floors_total</th>\n",
       "      <th>living_area</th>\n",
       "      <th>floor</th>\n",
       "      <th>is_apartment</th>\n",
       "      <th>...</th>\n",
       "      <th>kitchen_area</th>\n",
       "      <th>balcony</th>\n",
       "      <th>locality_name</th>\n",
       "      <th>airports_nearest</th>\n",
       "      <th>cityCenters_nearest</th>\n",
       "      <th>parks_around3000</th>\n",
       "      <th>parks_nearest</th>\n",
       "      <th>ponds_around3000</th>\n",
       "      <th>ponds_nearest</th>\n",
       "      <th>days_exposition</th>\n",
       "    </tr>\n",
       "  </thead>\n",
       "  <tbody>\n",
       "    <tr>\n",
       "      <td>0</td>\n",
       "      <td>20</td>\n",
       "      <td>13000000.0</td>\n",
       "      <td>108.0</td>\n",
       "      <td>2019-03-07T00:00:00</td>\n",
       "      <td>3</td>\n",
       "      <td>2.70</td>\n",
       "      <td>16.0</td>\n",
       "      <td>51.0</td>\n",
       "      <td>8</td>\n",
       "      <td>NaN</td>\n",
       "      <td>...</td>\n",
       "      <td>25.0</td>\n",
       "      <td>NaN</td>\n",
       "      <td>Санкт-Петербург</td>\n",
       "      <td>18863.0</td>\n",
       "      <td>16028.0</td>\n",
       "      <td>1.0</td>\n",
       "      <td>482.0</td>\n",
       "      <td>2.0</td>\n",
       "      <td>755.0</td>\n",
       "      <td>NaN</td>\n",
       "    </tr>\n",
       "    <tr>\n",
       "      <td>1</td>\n",
       "      <td>7</td>\n",
       "      <td>3350000.0</td>\n",
       "      <td>40.4</td>\n",
       "      <td>2018-12-04T00:00:00</td>\n",
       "      <td>1</td>\n",
       "      <td>NaN</td>\n",
       "      <td>11.0</td>\n",
       "      <td>18.6</td>\n",
       "      <td>1</td>\n",
       "      <td>NaN</td>\n",
       "      <td>...</td>\n",
       "      <td>11.0</td>\n",
       "      <td>2.0</td>\n",
       "      <td>посёлок Шушары</td>\n",
       "      <td>12817.0</td>\n",
       "      <td>18603.0</td>\n",
       "      <td>0.0</td>\n",
       "      <td>NaN</td>\n",
       "      <td>0.0</td>\n",
       "      <td>NaN</td>\n",
       "      <td>81.0</td>\n",
       "    </tr>\n",
       "    <tr>\n",
       "      <td>2</td>\n",
       "      <td>10</td>\n",
       "      <td>5196000.0</td>\n",
       "      <td>56.0</td>\n",
       "      <td>2015-08-20T00:00:00</td>\n",
       "      <td>2</td>\n",
       "      <td>NaN</td>\n",
       "      <td>5.0</td>\n",
       "      <td>34.3</td>\n",
       "      <td>4</td>\n",
       "      <td>NaN</td>\n",
       "      <td>...</td>\n",
       "      <td>8.3</td>\n",
       "      <td>0.0</td>\n",
       "      <td>Санкт-Петербург</td>\n",
       "      <td>21741.0</td>\n",
       "      <td>13933.0</td>\n",
       "      <td>1.0</td>\n",
       "      <td>90.0</td>\n",
       "      <td>2.0</td>\n",
       "      <td>574.0</td>\n",
       "      <td>558.0</td>\n",
       "    </tr>\n",
       "    <tr>\n",
       "      <td>3</td>\n",
       "      <td>0</td>\n",
       "      <td>64900000.0</td>\n",
       "      <td>159.0</td>\n",
       "      <td>2015-07-24T00:00:00</td>\n",
       "      <td>3</td>\n",
       "      <td>NaN</td>\n",
       "      <td>14.0</td>\n",
       "      <td>NaN</td>\n",
       "      <td>9</td>\n",
       "      <td>NaN</td>\n",
       "      <td>...</td>\n",
       "      <td>NaN</td>\n",
       "      <td>0.0</td>\n",
       "      <td>Санкт-Петербург</td>\n",
       "      <td>28098.0</td>\n",
       "      <td>6800.0</td>\n",
       "      <td>2.0</td>\n",
       "      <td>84.0</td>\n",
       "      <td>3.0</td>\n",
       "      <td>234.0</td>\n",
       "      <td>424.0</td>\n",
       "    </tr>\n",
       "    <tr>\n",
       "      <td>4</td>\n",
       "      <td>2</td>\n",
       "      <td>10000000.0</td>\n",
       "      <td>100.0</td>\n",
       "      <td>2018-06-19T00:00:00</td>\n",
       "      <td>2</td>\n",
       "      <td>3.03</td>\n",
       "      <td>14.0</td>\n",
       "      <td>32.0</td>\n",
       "      <td>13</td>\n",
       "      <td>NaN</td>\n",
       "      <td>...</td>\n",
       "      <td>41.0</td>\n",
       "      <td>NaN</td>\n",
       "      <td>Санкт-Петербург</td>\n",
       "      <td>31856.0</td>\n",
       "      <td>8098.0</td>\n",
       "      <td>2.0</td>\n",
       "      <td>112.0</td>\n",
       "      <td>1.0</td>\n",
       "      <td>48.0</td>\n",
       "      <td>121.0</td>\n",
       "    </tr>\n",
       "  </tbody>\n",
       "</table>\n",
       "<p>5 rows × 22 columns</p>\n",
       "</div>"
      ],
      "text/plain": [
       "   total_images  last_price  total_area first_day_exposition  rooms  \\\n",
       "0            20  13000000.0       108.0  2019-03-07T00:00:00      3   \n",
       "1             7   3350000.0        40.4  2018-12-04T00:00:00      1   \n",
       "2            10   5196000.0        56.0  2015-08-20T00:00:00      2   \n",
       "3             0  64900000.0       159.0  2015-07-24T00:00:00      3   \n",
       "4             2  10000000.0       100.0  2018-06-19T00:00:00      2   \n",
       "\n",
       "   ceiling_height  floors_total  living_area  floor is_apartment  ...  \\\n",
       "0            2.70          16.0         51.0      8          NaN  ...   \n",
       "1             NaN          11.0         18.6      1          NaN  ...   \n",
       "2             NaN           5.0         34.3      4          NaN  ...   \n",
       "3             NaN          14.0          NaN      9          NaN  ...   \n",
       "4            3.03          14.0         32.0     13          NaN  ...   \n",
       "\n",
       "   kitchen_area  balcony    locality_name  airports_nearest  \\\n",
       "0          25.0      NaN  Санкт-Петербург           18863.0   \n",
       "1          11.0      2.0   посёлок Шушары           12817.0   \n",
       "2           8.3      0.0  Санкт-Петербург           21741.0   \n",
       "3           NaN      0.0  Санкт-Петербург           28098.0   \n",
       "4          41.0      NaN  Санкт-Петербург           31856.0   \n",
       "\n",
       "  cityCenters_nearest  parks_around3000  parks_nearest  ponds_around3000  \\\n",
       "0             16028.0               1.0          482.0               2.0   \n",
       "1             18603.0               0.0            NaN               0.0   \n",
       "2             13933.0               1.0           90.0               2.0   \n",
       "3              6800.0               2.0           84.0               3.0   \n",
       "4              8098.0               2.0          112.0               1.0   \n",
       "\n",
       "   ponds_nearest  days_exposition  \n",
       "0          755.0              NaN  \n",
       "1            NaN             81.0  \n",
       "2          574.0            558.0  \n",
       "3          234.0            424.0  \n",
       "4           48.0            121.0  \n",
       "\n",
       "[5 rows x 22 columns]"
      ]
     },
     "execution_count": 4,
     "metadata": {},
     "output_type": "execute_result"
    }
   ],
   "source": [
    "df.head()"
   ]
  },
  {
   "cell_type": "code",
   "execution_count": 5,
   "metadata": {},
   "outputs": [
    {
     "name": "stdout",
     "output_type": "stream",
     "text": [
      "<class 'pandas.core.frame.DataFrame'>\n",
      "RangeIndex: 23699 entries, 0 to 23698\n",
      "Data columns (total 22 columns):\n",
      "total_images            23699 non-null int64\n",
      "last_price              23699 non-null float64\n",
      "total_area              23699 non-null float64\n",
      "first_day_exposition    23699 non-null object\n",
      "rooms                   23699 non-null int64\n",
      "ceiling_height          14504 non-null float64\n",
      "floors_total            23613 non-null float64\n",
      "living_area             21796 non-null float64\n",
      "floor                   23699 non-null int64\n",
      "is_apartment            2775 non-null object\n",
      "studio                  23699 non-null bool\n",
      "open_plan               23699 non-null bool\n",
      "kitchen_area            21421 non-null float64\n",
      "balcony                 12180 non-null float64\n",
      "locality_name           23650 non-null object\n",
      "airports_nearest        18157 non-null float64\n",
      "cityCenters_nearest     18180 non-null float64\n",
      "parks_around3000        18181 non-null float64\n",
      "parks_nearest           8079 non-null float64\n",
      "ponds_around3000        18181 non-null float64\n",
      "ponds_nearest           9110 non-null float64\n",
      "days_exposition         20518 non-null float64\n",
      "dtypes: bool(2), float64(14), int64(3), object(3)\n",
      "memory usage: 3.7+ MB\n"
     ]
    }
   ],
   "source": [
    "df.info()"
   ]
  },
  {
   "cell_type": "markdown",
   "metadata": {},
   "source": [
    ">###### В датафрейме имеются столбцы различных типов данных, имеются строковые, например *first_day_exposition* - его мы переведем в формат даты на этапе предобработки.  \n",
    ">###### Много столбцов типа float, некоторые из них для удобства можно будет перевести в int.   \n",
    ">###### Имеются пропуски, рассмотрим их количество ниже"
   ]
  },
  {
   "cell_type": "code",
   "execution_count": 6,
   "metadata": {},
   "outputs": [
    {
     "data": {
      "text/plain": [
       "total_images                0\n",
       "last_price                  0\n",
       "total_area                  0\n",
       "first_day_exposition        0\n",
       "rooms                       0\n",
       "ceiling_height           9195\n",
       "floors_total               86\n",
       "living_area              1903\n",
       "floor                       0\n",
       "is_apartment            20924\n",
       "studio                      0\n",
       "open_plan                   0\n",
       "kitchen_area             2278\n",
       "balcony                 11519\n",
       "locality_name              49\n",
       "airports_nearest         5542\n",
       "cityCenters_nearest      5519\n",
       "parks_around3000         5518\n",
       "parks_nearest           15620\n",
       "ponds_around3000         5518\n",
       "ponds_nearest           14589\n",
       "days_exposition          3181\n",
       "dtype: int64"
      ]
     },
     "execution_count": 6,
     "metadata": {},
     "output_type": "execute_result"
    }
   ],
   "source": [
    "#количество пропусков\n",
    "df.isnull().sum()"
   ]
  },
  {
   "cell_type": "markdown",
   "metadata": {},
   "source": [
    "### **_<span style=\"color:blue\">Проверим количество дубликатов</span>_**"
   ]
  },
  {
   "cell_type": "code",
   "execution_count": 7,
   "metadata": {},
   "outputs": [
    {
     "name": "stdout",
     "output_type": "stream",
     "text": [
      "Количество дубликатов: 0\n"
     ]
    }
   ],
   "source": [
    "print(\"Количество дубликатов:\", df.duplicated().sum())"
   ]
  },
  {
   "cell_type": "markdown",
   "metadata": {},
   "source": [
    "### Вывод"
   ]
  },
  {
   "cell_type": "markdown",
   "metadata": {},
   "source": [
    ">###### Датасет содержит 22 столбца и 23699 строк, во многих строках имеются множественные пропуски, которые придется заполнять разными методами. Некоторые будем заполнять нулями или False, количественные - медианами, а некоторые данные, возможно, получится достать из уже имеющихся.  \n",
    ">###### Датасет также содержит различные типы данных, которые мы также преобразуем на втором шаге - предобработка данных. Дубликатов в данных нет."
   ]
  },
  {
   "cell_type": "markdown",
   "metadata": {},
   "source": [
    "<a id='section2'></a>"
   ]
  },
  {
   "cell_type": "markdown",
   "metadata": {},
   "source": [
    "# Шаг 2. Предобработка данных"
   ]
  },
  {
   "cell_type": "markdown",
   "metadata": {},
   "source": [
    "___"
   ]
  },
  {
   "cell_type": "markdown",
   "metadata": {},
   "source": [
    "<a id='section2.1'></a>"
   ]
  },
  {
   "cell_type": "markdown",
   "metadata": {},
   "source": [
    "## 2.1. Обработка выбросов"
   ]
  },
  {
   "cell_type": "markdown",
   "metadata": {},
   "source": [
    "<a id='section2.1.1'></a>"
   ]
  },
  {
   "cell_type": "markdown",
   "metadata": {},
   "source": [
    "### 2.1.1 Рассмотрим высоту потолков"
   ]
  },
  {
   "cell_type": "code",
   "execution_count": 8,
   "metadata": {
    "scrolled": true
   },
   "outputs": [
    {
     "data": {
      "image/png": "[encoded data removed]",
      "text/plain": [
       "<Figure size 288x360 with 1 Axes>"
      ]
     },
     "metadata": {
      "needs_background": "light"
     },
     "output_type": "display_data"
    }
   ],
   "source": [
    "df.boxplot([\"ceiling_height\"], figsize=(4,5), fontsize=14)\n",
    "plt.ylabel(\"metres\", fontsize=14)\n",
    "plt.show()"
   ]
  },
  {
   "cell_type": "code",
   "execution_count": 9,
   "metadata": {
    "scrolled": true
   },
   "outputs": [
    {
     "data": {
      "text/html": [
       "<div>\n",
       "<style scoped>\n",
       "    .dataframe tbody tr th:only-of-type {\n",
       "        vertical-align: middle;\n",
       "    }\n",
       "\n",
       "    .dataframe tbody tr th {\n",
       "        vertical-align: top;\n",
       "    }\n",
       "\n",
       "    .dataframe thead th {\n",
       "        text-align: right;\n",
       "    }\n",
       "</style>\n",
       "<table border=\"1\" class=\"dataframe\">\n",
       "  <thead>\n",
       "    <tr style=\"text-align: right;\">\n",
       "      <th></th>\n",
       "      <th>total_images</th>\n",
       "      <th>last_price</th>\n",
       "      <th>total_area</th>\n",
       "      <th>first_day_exposition</th>\n",
       "      <th>rooms</th>\n",
       "      <th>ceiling_height</th>\n",
       "      <th>floors_total</th>\n",
       "      <th>living_area</th>\n",
       "      <th>floor</th>\n",
       "      <th>is_apartment</th>\n",
       "      <th>...</th>\n",
       "      <th>kitchen_area</th>\n",
       "      <th>balcony</th>\n",
       "      <th>locality_name</th>\n",
       "      <th>airports_nearest</th>\n",
       "      <th>cityCenters_nearest</th>\n",
       "      <th>parks_around3000</th>\n",
       "      <th>parks_nearest</th>\n",
       "      <th>ponds_around3000</th>\n",
       "      <th>ponds_nearest</th>\n",
       "      <th>days_exposition</th>\n",
       "    </tr>\n",
       "  </thead>\n",
       "  <tbody>\n",
       "    <tr>\n",
       "      <td>355</td>\n",
       "      <td>17</td>\n",
       "      <td>3600000.0</td>\n",
       "      <td>55.2</td>\n",
       "      <td>2018-07-12T00:00:00</td>\n",
       "      <td>2</td>\n",
       "      <td>25.0</td>\n",
       "      <td>5.0</td>\n",
       "      <td>32.0</td>\n",
       "      <td>2</td>\n",
       "      <td>False</td>\n",
       "      <td>...</td>\n",
       "      <td>NaN</td>\n",
       "      <td>2.0</td>\n",
       "      <td>Гатчина</td>\n",
       "      <td>NaN</td>\n",
       "      <td>NaN</td>\n",
       "      <td>NaN</td>\n",
       "      <td>NaN</td>\n",
       "      <td>NaN</td>\n",
       "      <td>NaN</td>\n",
       "      <td>259.0</td>\n",
       "    </tr>\n",
       "    <tr>\n",
       "      <td>3148</td>\n",
       "      <td>14</td>\n",
       "      <td>2900000.0</td>\n",
       "      <td>75.0</td>\n",
       "      <td>2018-11-12T00:00:00</td>\n",
       "      <td>3</td>\n",
       "      <td>32.0</td>\n",
       "      <td>3.0</td>\n",
       "      <td>53.0</td>\n",
       "      <td>2</td>\n",
       "      <td>NaN</td>\n",
       "      <td>...</td>\n",
       "      <td>8.0</td>\n",
       "      <td>NaN</td>\n",
       "      <td>Волхов</td>\n",
       "      <td>NaN</td>\n",
       "      <td>NaN</td>\n",
       "      <td>NaN</td>\n",
       "      <td>NaN</td>\n",
       "      <td>NaN</td>\n",
       "      <td>NaN</td>\n",
       "      <td>NaN</td>\n",
       "    </tr>\n",
       "    <tr>\n",
       "      <td>4643</td>\n",
       "      <td>0</td>\n",
       "      <td>4300000.0</td>\n",
       "      <td>45.0</td>\n",
       "      <td>2018-02-01T00:00:00</td>\n",
       "      <td>2</td>\n",
       "      <td>25.0</td>\n",
       "      <td>9.0</td>\n",
       "      <td>30.0</td>\n",
       "      <td>2</td>\n",
       "      <td>NaN</td>\n",
       "      <td>...</td>\n",
       "      <td>7.0</td>\n",
       "      <td>1.0</td>\n",
       "      <td>Санкт-Петербург</td>\n",
       "      <td>12016.0</td>\n",
       "      <td>13256.0</td>\n",
       "      <td>1.0</td>\n",
       "      <td>658.0</td>\n",
       "      <td>1.0</td>\n",
       "      <td>331.0</td>\n",
       "      <td>181.0</td>\n",
       "    </tr>\n",
       "  </tbody>\n",
       "</table>\n",
       "<p>3 rows × 22 columns</p>\n",
       "</div>"
      ],
      "text/plain": [
       "      total_images  last_price  total_area first_day_exposition  rooms  \\\n",
       "355             17   3600000.0        55.2  2018-07-12T00:00:00      2   \n",
       "3148            14   2900000.0        75.0  2018-11-12T00:00:00      3   \n",
       "4643             0   4300000.0        45.0  2018-02-01T00:00:00      2   \n",
       "\n",
       "      ceiling_height  floors_total  living_area  floor is_apartment  ...  \\\n",
       "355             25.0           5.0         32.0      2        False  ...   \n",
       "3148            32.0           3.0         53.0      2          NaN  ...   \n",
       "4643            25.0           9.0         30.0      2          NaN  ...   \n",
       "\n",
       "      kitchen_area  balcony    locality_name  airports_nearest  \\\n",
       "355            NaN      2.0          Гатчина               NaN   \n",
       "3148           8.0      NaN           Волхов               NaN   \n",
       "4643           7.0      1.0  Санкт-Петербург           12016.0   \n",
       "\n",
       "     cityCenters_nearest  parks_around3000  parks_nearest  ponds_around3000  \\\n",
       "355                  NaN               NaN            NaN               NaN   \n",
       "3148                 NaN               NaN            NaN               NaN   \n",
       "4643             13256.0               1.0          658.0               1.0   \n",
       "\n",
       "      ponds_nearest  days_exposition  \n",
       "355             NaN            259.0  \n",
       "3148            NaN              NaN  \n",
       "4643          331.0            181.0  \n",
       "\n",
       "[3 rows x 22 columns]"
      ]
     },
     "execution_count": 9,
     "metadata": {},
     "output_type": "execute_result"
    }
   ],
   "source": [
    "df[df.ceiling_height > 20].head(3)"
   ]
  },
  {
   "cell_type": "markdown",
   "metadata": {},
   "source": [
    "Складывается впечатление, что эти значения являются ошибкой при наборе с клавиатуры и истинное значение меньше на порядок. Единственный выброс - 100метровый потолок, не известно, что это, поэтому имеет смысл избавиться от этого наблюдения. Хотя выбросов и не так много, можно было бы и просто исключить их из наших данных, но я предпочту их оставить и поделить значения столбца высоты потолков на 10."
   ]
  },
  {
   "cell_type": "code",
   "execution_count": 10,
   "metadata": {},
   "outputs": [],
   "source": [
    "df = df.drop([22869]) #удаляем 100метровые потолки"
   ]
  },
  {
   "cell_type": "code",
   "execution_count": 11,
   "metadata": {},
   "outputs": [],
   "source": [
    "df['ceiling_height'] = df['ceiling_height'].apply( lambda x: x if (x < 20) else x/10 ) # делим значения потолков, которые больше 20 на 10"
   ]
  },
  {
   "cell_type": "markdown",
   "metadata": {},
   "source": [
    "#### Дропнем строки с аномально высокими и низкими потолками"
   ]
  },
  {
   "cell_type": "code",
   "execution_count": 12,
   "metadata": {},
   "outputs": [],
   "source": [
    "df.drop(df[df.ceiling_height > 3.5].index, inplace=True)\n",
    "df.drop(df[df.ceiling_height < 2.001].index, inplace=True)"
   ]
  },
  {
   "cell_type": "markdown",
   "metadata": {},
   "source": [
    "##### Проверим как выглядит boxplot теперь"
   ]
  },
  {
   "cell_type": "code",
   "execution_count": 13,
   "metadata": {
    "scrolled": true
   },
   "outputs": [
    {
     "data": {
      "image/png": "[encoded data removed]",
      "text/plain": [
       "<Figure size 288x360 with 1 Axes>"
      ]
     },
     "metadata": {
      "needs_background": "light"
     },
     "output_type": "display_data"
    }
   ],
   "source": [
    "df.boxplot(['ceiling_height'], figsize=(4,5), fontsize=15)\n",
    "plt.ylabel(\"metres\", fontsize=15)\n",
    "plt.show()"
   ]
  },
  {
   "cell_type": "code",
   "execution_count": 14,
   "metadata": {},
   "outputs": [],
   "source": [
    "df.reset_index(inplace=True) #Дадим новые индексы"
   ]
  },
  {
   "cell_type": "code",
   "execution_count": 15,
   "metadata": {},
   "outputs": [
    {
     "data": {
      "text/html": [
       "<div>\n",
       "<style scoped>\n",
       "    .dataframe tbody tr th:only-of-type {\n",
       "        vertical-align: middle;\n",
       "    }\n",
       "\n",
       "    .dataframe tbody tr th {\n",
       "        vertical-align: top;\n",
       "    }\n",
       "\n",
       "    .dataframe thead th {\n",
       "        text-align: right;\n",
       "    }\n",
       "</style>\n",
       "<table border=\"1\" class=\"dataframe\">\n",
       "  <thead>\n",
       "    <tr style=\"text-align: right;\">\n",
       "      <th></th>\n",
       "      <th>index</th>\n",
       "      <th>total_images</th>\n",
       "      <th>last_price</th>\n",
       "      <th>total_area</th>\n",
       "      <th>first_day_exposition</th>\n",
       "      <th>rooms</th>\n",
       "      <th>ceiling_height</th>\n",
       "      <th>floors_total</th>\n",
       "      <th>living_area</th>\n",
       "      <th>floor</th>\n",
       "      <th>...</th>\n",
       "      <th>kitchen_area</th>\n",
       "      <th>balcony</th>\n",
       "      <th>locality_name</th>\n",
       "      <th>airports_nearest</th>\n",
       "      <th>cityCenters_nearest</th>\n",
       "      <th>parks_around3000</th>\n",
       "      <th>parks_nearest</th>\n",
       "      <th>ponds_around3000</th>\n",
       "      <th>ponds_nearest</th>\n",
       "      <th>days_exposition</th>\n",
       "    </tr>\n",
       "  </thead>\n",
       "  <tbody>\n",
       "    <tr>\n",
       "      <td>0</td>\n",
       "      <td>0</td>\n",
       "      <td>20</td>\n",
       "      <td>13000000.0</td>\n",
       "      <td>108.0</td>\n",
       "      <td>2019-03-07T00:00:00</td>\n",
       "      <td>3</td>\n",
       "      <td>2.70</td>\n",
       "      <td>16.0</td>\n",
       "      <td>51.0</td>\n",
       "      <td>8</td>\n",
       "      <td>...</td>\n",
       "      <td>25.0</td>\n",
       "      <td>NaN</td>\n",
       "      <td>Санкт-Петербург</td>\n",
       "      <td>18863.0</td>\n",
       "      <td>16028.0</td>\n",
       "      <td>1.0</td>\n",
       "      <td>482.0</td>\n",
       "      <td>2.0</td>\n",
       "      <td>755.0</td>\n",
       "      <td>NaN</td>\n",
       "    </tr>\n",
       "    <tr>\n",
       "      <td>1</td>\n",
       "      <td>1</td>\n",
       "      <td>7</td>\n",
       "      <td>3350000.0</td>\n",
       "      <td>40.4</td>\n",
       "      <td>2018-12-04T00:00:00</td>\n",
       "      <td>1</td>\n",
       "      <td>NaN</td>\n",
       "      <td>11.0</td>\n",
       "      <td>18.6</td>\n",
       "      <td>1</td>\n",
       "      <td>...</td>\n",
       "      <td>11.0</td>\n",
       "      <td>2.0</td>\n",
       "      <td>посёлок Шушары</td>\n",
       "      <td>12817.0</td>\n",
       "      <td>18603.0</td>\n",
       "      <td>0.0</td>\n",
       "      <td>NaN</td>\n",
       "      <td>0.0</td>\n",
       "      <td>NaN</td>\n",
       "      <td>81.0</td>\n",
       "    </tr>\n",
       "    <tr>\n",
       "      <td>2</td>\n",
       "      <td>2</td>\n",
       "      <td>10</td>\n",
       "      <td>5196000.0</td>\n",
       "      <td>56.0</td>\n",
       "      <td>2015-08-20T00:00:00</td>\n",
       "      <td>2</td>\n",
       "      <td>NaN</td>\n",
       "      <td>5.0</td>\n",
       "      <td>34.3</td>\n",
       "      <td>4</td>\n",
       "      <td>...</td>\n",
       "      <td>8.3</td>\n",
       "      <td>0.0</td>\n",
       "      <td>Санкт-Петербург</td>\n",
       "      <td>21741.0</td>\n",
       "      <td>13933.0</td>\n",
       "      <td>1.0</td>\n",
       "      <td>90.0</td>\n",
       "      <td>2.0</td>\n",
       "      <td>574.0</td>\n",
       "      <td>558.0</td>\n",
       "    </tr>\n",
       "    <tr>\n",
       "      <td>3</td>\n",
       "      <td>3</td>\n",
       "      <td>0</td>\n",
       "      <td>64900000.0</td>\n",
       "      <td>159.0</td>\n",
       "      <td>2015-07-24T00:00:00</td>\n",
       "      <td>3</td>\n",
       "      <td>NaN</td>\n",
       "      <td>14.0</td>\n",
       "      <td>NaN</td>\n",
       "      <td>9</td>\n",
       "      <td>...</td>\n",
       "      <td>NaN</td>\n",
       "      <td>0.0</td>\n",
       "      <td>Санкт-Петербург</td>\n",
       "      <td>28098.0</td>\n",
       "      <td>6800.0</td>\n",
       "      <td>2.0</td>\n",
       "      <td>84.0</td>\n",
       "      <td>3.0</td>\n",
       "      <td>234.0</td>\n",
       "      <td>424.0</td>\n",
       "    </tr>\n",
       "    <tr>\n",
       "      <td>4</td>\n",
       "      <td>4</td>\n",
       "      <td>2</td>\n",
       "      <td>10000000.0</td>\n",
       "      <td>100.0</td>\n",
       "      <td>2018-06-19T00:00:00</td>\n",
       "      <td>2</td>\n",
       "      <td>3.03</td>\n",
       "      <td>14.0</td>\n",
       "      <td>32.0</td>\n",
       "      <td>13</td>\n",
       "      <td>...</td>\n",
       "      <td>41.0</td>\n",
       "      <td>NaN</td>\n",
       "      <td>Санкт-Петербург</td>\n",
       "      <td>31856.0</td>\n",
       "      <td>8098.0</td>\n",
       "      <td>2.0</td>\n",
       "      <td>112.0</td>\n",
       "      <td>1.0</td>\n",
       "      <td>48.0</td>\n",
       "      <td>121.0</td>\n",
       "    </tr>\n",
       "  </tbody>\n",
       "</table>\n",
       "<p>5 rows × 23 columns</p>\n",
       "</div>"
      ],
      "text/plain": [
       "   index  total_images  last_price  total_area first_day_exposition  rooms  \\\n",
       "0      0            20  13000000.0       108.0  2019-03-07T00:00:00      3   \n",
       "1      1             7   3350000.0        40.4  2018-12-04T00:00:00      1   \n",
       "2      2            10   5196000.0        56.0  2015-08-20T00:00:00      2   \n",
       "3      3             0  64900000.0       159.0  2015-07-24T00:00:00      3   \n",
       "4      4             2  10000000.0       100.0  2018-06-19T00:00:00      2   \n",
       "\n",
       "   ceiling_height  floors_total  living_area  floor  ... kitchen_area  \\\n",
       "0            2.70          16.0         51.0      8  ...         25.0   \n",
       "1             NaN          11.0         18.6      1  ...         11.0   \n",
       "2             NaN           5.0         34.3      4  ...          8.3   \n",
       "3             NaN          14.0          NaN      9  ...          NaN   \n",
       "4            3.03          14.0         32.0     13  ...         41.0   \n",
       "\n",
       "   balcony    locality_name  airports_nearest  cityCenters_nearest  \\\n",
       "0      NaN  Санкт-Петербург           18863.0              16028.0   \n",
       "1      2.0   посёлок Шушары           12817.0              18603.0   \n",
       "2      0.0  Санкт-Петербург           21741.0              13933.0   \n",
       "3      0.0  Санкт-Петербург           28098.0               6800.0   \n",
       "4      NaN  Санкт-Петербург           31856.0               8098.0   \n",
       "\n",
       "  parks_around3000  parks_nearest  ponds_around3000  ponds_nearest  \\\n",
       "0              1.0          482.0               2.0          755.0   \n",
       "1              0.0            NaN               0.0            NaN   \n",
       "2              1.0           90.0               2.0          574.0   \n",
       "3              2.0           84.0               3.0          234.0   \n",
       "4              2.0          112.0               1.0           48.0   \n",
       "\n",
       "   days_exposition  \n",
       "0              NaN  \n",
       "1             81.0  \n",
       "2            558.0  \n",
       "3            424.0  \n",
       "4            121.0  \n",
       "\n",
       "[5 rows x 23 columns]"
      ]
     },
     "execution_count": 15,
     "metadata": {},
     "output_type": "execute_result"
    }
   ],
   "source": [
    "df.head()"
   ]
  },
  {
   "cell_type": "code",
   "execution_count": 16,
   "metadata": {},
   "outputs": [],
   "source": [
    "df.drop(labels='index', axis=1, inplace=True)"
   ]
  },
  {
   "cell_type": "code",
   "execution_count": 17,
   "metadata": {},
   "outputs": [
    {
     "name": "stdout",
     "output_type": "stream",
     "text": [
      "Среднее по высоте потолков: 2.70\n",
      "Медиана по высоте потолков: 2.65\n"
     ]
    }
   ],
   "source": [
    "print(\"Среднее по высоте потолков: {:.2f}\".format(df.ceiling_height.mean()))\n",
    "print(\"Медиана по высоте потолков: {:.2f}\".format(df.ceiling_height.median()))"
   ]
  },
  {
   "cell_type": "markdown",
   "metadata": {},
   "source": [
    "<a id='section2.1.2'></a>"
   ]
  },
  {
   "cell_type": "markdown",
   "metadata": {},
   "source": [
    "##  2.1.2. Стоимость закрытия"
   ]
  },
  {
   "cell_type": "code",
   "execution_count": 18,
   "metadata": {},
   "outputs": [
    {
     "data": {
      "image/png": "[encoded data removed]",
      "text/plain": [
       "<Figure size 288x432 with 1 Axes>"
      ]
     },
     "metadata": {
      "needs_background": "light"
     },
     "output_type": "display_data"
    }
   ],
   "source": [
    "df.boxplot(['last_price'], figsize=(4,6), fontsize=15)\n",
    "plt.ylabel(\"price\", fontsize=15)\n",
    "plt.show()"
   ]
  },
  {
   "cell_type": "code",
   "execution_count": 19,
   "metadata": {},
   "outputs": [
    {
     "name": "stdout",
     "output_type": "stream",
     "text": [
      "Медианная стоимость квартиры : 4600000\n",
      "Средняя стоимость квартиры : 6355715\n",
      "Количество квартир стоимостью более 20 млн. : 639\n",
      "Количество квартир стоимостью менее 500 тыс. : 14\n"
     ]
    }
   ],
   "source": [
    "print(\"Медианная стоимость квартиры : {:.0f}\".format(df['last_price'].median()))\n",
    "print(\"Средняя стоимость квартиры : {:.0f}\".format(df['last_price'].mean()))\n",
    "print(\"Количество квартир стоимостью более 20 млн. : {}\".format(df[df.last_price > 20000000]['last_price'].count()))\n",
    "print(\"Количество квартир стоимостью менее 500 тыс. : {}\".format(df[df.last_price < 500000]['last_price'].count()))"
   ]
  },
  {
   "cell_type": "markdown",
   "metadata": {},
   "source": [
    "###### В нашей выборке очень мало квартир стоимостью больше 20 млн. и дешевле 500 тыс. Избавимся от этих аномальных наблюдений"
   ]
  },
  {
   "cell_type": "code",
   "execution_count": 20,
   "metadata": {},
   "outputs": [],
   "source": [
    "df.drop(df[df.last_price > 20000000].index, inplace=True)\n",
    "df.drop(df[df.last_price < 500000].index, inplace=True)"
   ]
  },
  {
   "cell_type": "markdown",
   "metadata": {},
   "source": [
    "<a id='section2.1.3'></a>"
   ]
  },
  {
   "cell_type": "markdown",
   "metadata": {},
   "source": [
    "##  2.1.3 Общая площадь"
   ]
  },
  {
   "cell_type": "code",
   "execution_count": 21,
   "metadata": {},
   "outputs": [
    {
     "data": {
      "image/png": "[encoded data removed]",
      "text/plain": [
       "<Figure size 288x432 with 1 Axes>"
      ]
     },
     "metadata": {
      "needs_background": "light"
     },
     "output_type": "display_data"
    }
   ],
   "source": [
    "df.boxplot(['total_area'], figsize=(4,6), fontsize=15)\n",
    "plt.ylabel(\"square metres\", fontsize=15)\n",
    "plt.show()"
   ]
  },
  {
   "cell_type": "code",
   "execution_count": 22,
   "metadata": {},
   "outputs": [
    {
     "name": "stdout",
     "output_type": "stream",
     "text": [
      "Медианная площадь квартиры : 51\n",
      "Средняя площадь квартиры : 56\n",
      "Количество квартир площадью более 120 кв. м. : 483\n",
      "Количество квартир площадью менее 15 кв.м. : 6\n"
     ]
    }
   ],
   "source": [
    "print(\"Медианная площадь квартиры : {:.0f}\".format(df['total_area'].median()))\n",
    "print(\"Средняя площадь квартиры : {:.0f}\".format(df['total_area'].mean()))\n",
    "print(\"Количество квартир площадью более 120 кв. м. : {}\".format(df[df.total_area > 120]['total_area'].count()))\n",
    "print(\"Количество квартир площадью менее 15 кв.м. : {}\".format(df[df.total_area < 15]['total_area'].count()))"
   ]
  },
  {
   "cell_type": "markdown",
   "metadata": {},
   "source": [
    "###### Избавимся от аномальных значений"
   ]
  },
  {
   "cell_type": "code",
   "execution_count": 23,
   "metadata": {},
   "outputs": [],
   "source": [
    "df.drop(df[df.total_area > 120].index, inplace=True)\n",
    "df.drop(df[df.total_area < 15].index, inplace=True)"
   ]
  },
  {
   "cell_type": "code",
   "execution_count": 99,
   "metadata": {},
   "outputs": [
    {
     "data": {
      "image/png": "[encoded data removed]",
      "text/plain": [
       "<Figure size 216x360 with 1 Axes>"
      ]
     },
     "metadata": {
      "needs_background": "light"
     },
     "output_type": "display_data"
    }
   ],
   "source": [
    "df.boxplot(['total_area'], figsize=(3,5), fontsize=10)\n",
    "plt.ylabel(\"square metres\", fontsize=10)\n",
    "plt.show()"
   ]
  },
  {
   "cell_type": "markdown",
   "metadata": {},
   "source": [
    "<a id='section2.2'></a>"
   ]
  },
  {
   "cell_type": "markdown",
   "metadata": {},
   "source": [
    "## 2.2. Заполнение пропусков"
   ]
  },
  {
   "cell_type": "markdown",
   "metadata": {},
   "source": [
    "___"
   ]
  },
  {
   "cell_type": "markdown",
   "metadata": {},
   "source": [
    "### Пропуски в столбцах:"
   ]
  },
  {
   "cell_type": "code",
   "execution_count": 27,
   "metadata": {},
   "outputs": [
    {
     "data": {
      "text/plain": [
       "total_images                0\n",
       "last_price                  0\n",
       "total_area                  0\n",
       "first_day_exposition        0\n",
       "rooms                       0\n",
       "ceiling_height           8788\n",
       "floors_total               82\n",
       "living_area              1744\n",
       "floor                       0\n",
       "is_apartment            19675\n",
       "studio                      0\n",
       "open_plan                   0\n",
       "kitchen_area             2135\n",
       "balcony                 10688\n",
       "locality_name              44\n",
       "airports_nearest         5463\n",
       "cityCenters_nearest      5446\n",
       "parks_around3000         5445\n",
       "parks_nearest           15122\n",
       "ponds_around3000         5445\n",
       "ponds_nearest           14100\n",
       "days_exposition          2818\n",
       "dtype: int64"
      ]
     },
     "execution_count": 27,
     "metadata": {},
     "output_type": "execute_result"
    }
   ],
   "source": [
    "df.isna().sum()"
   ]
  },
  {
   "cell_type": "markdown",
   "metadata": {},
   "source": [
    "<a id='section2.2.1'></a>"
   ]
  },
  {
   "cell_type": "markdown",
   "metadata": {},
   "source": [
    "### 2.2.1 Стратегия заполнения пропусков\n",
    "- `floors_total`  -  по возможности заполним пропуски уже имеющимися данными по тому же дому из датасета (предположим, что каждый дом однозначно определяется расстоянием до аэропорта и центра города), оставшиеся пропуски заполним медианными значениями  \n",
    "- `ceiling_height` -  попробуем определить высоту потолков по существующим домам, оставшиеся пропуски оставим незаполненными\n",
    "- `living_area`  ,  `kitchen_area`  -  заполним медианой  \n",
    "- `is_apartment`  -  заполним пропуски значениями False  \n",
    "- `balcony`  -  пропущенные значения заменим на 0  \n",
    "- `locality_name`  -  на пустую строку \" \"  \n",
    "- `airports_nearest`  ,  `cityCenters_nearest`  ,  `parks_nearest`  ,  `ponds_nearest`  ,   `days_exposition` -  оставим пропущенные значения как они есть, чтобы не исказить статистики и в будущем иметь возможность работать с ними как с числовыми столбцами. Заполнять пропуски в данных столбцах не будем  \n",
    "- `ponds_around3000`  ,  `parks_around3000`  -  заполним нулями"
   ]
  },
  {
   "cell_type": "markdown",
   "metadata": {},
   "source": [
    "<a id='section2.2.2'></a>"
   ]
  },
  {
   "cell_type": "markdown",
   "metadata": {},
   "source": [
    "### 2.2.2 Заполним пропущенные значения этажности"
   ]
  },
  {
   "cell_type": "code",
   "execution_count": 30,
   "metadata": {},
   "outputs": [
    {
     "name": "stdout",
     "output_type": "stream",
     "text": [
      "Пропущенных значений этажности дома: 82\n"
     ]
    }
   ],
   "source": [
    "print(\"Пропущенных значений этажности дома:\", df.floors_total.isna().sum())"
   ]
  },
  {
   "cell_type": "markdown",
   "metadata": {},
   "source": [
    "#### Создадим для этого сводную таблицу, где индексами будет выступать `расстояние до центра`, а столбцами - `расстояния до аэропорта`"
   ]
  },
  {
   "cell_type": "code",
   "execution_count": 31,
   "metadata": {},
   "outputs": [],
   "source": [
    "floors_pivot = df.pivot_table(index='cityCenters_nearest', columns='airports_nearest', values='floors_total', aggfunc='first')"
   ]
  },
  {
   "cell_type": "markdown",
   "metadata": {},
   "source": [
    "###### Используем цикл, пробегающий по датафрейму, в котором пропущены значения `этажности` дома"
   ]
  },
  {
   "cell_type": "code",
   "execution_count": 32,
   "metadata": {
    "scrolled": false
   },
   "outputs": [
    {
     "name": "stdout",
     "output_type": "stream",
     "text": [
      "Пропусков: 30\n"
     ]
    }
   ],
   "source": [
    "for index, row in df[df.ceiling_height.isna()].iterrows() :\n",
    "    \n",
    "    try:\n",
    "        cell = floors_pivot.loc[ (row['cityCenters_nearest']) , (row['airports_nearest']) ]\n",
    "        \n",
    "        if not(pd.isnull(cell)):                       # Проверяем не равно ли NaN значение ячейки в pivot_table\n",
    "            df.loc[index, 'floors_total'] = cell       # Заменяем пропущенное значение этажности в нашем df на значение из pivot\n",
    "    \n",
    "    except:\n",
    "        pass # В случае если такого дома не существует\n",
    "print(\"Пропусков:\", df.floors_total.isna().sum())"
   ]
  },
  {
   "cell_type": "markdown",
   "metadata": {},
   "source": [
    "###### Оставшиеся 33 пропуска этажности заполним медианными значениями, не получилось заменить те значения, где нет подобного сочетания расстояний, т.е. дом не существует. Большую часть значений удалось заменить, значит многие дома встречаются как минимум дважды"
   ]
  },
  {
   "cell_type": "code",
   "execution_count": 33,
   "metadata": {},
   "outputs": [],
   "source": [
    "df.floors_total.fillna(value=df['floors_total'].median(), inplace=True)"
   ]
  },
  {
   "cell_type": "code",
   "execution_count": 34,
   "metadata": {},
   "outputs": [
    {
     "name": "stdout",
     "output_type": "stream",
     "text": [
      "Пропусков этажности: 0\n"
     ]
    }
   ],
   "source": [
    "print(\"Пропусков этажности:\", df.floors_total.isna().sum())"
   ]
  },
  {
   "cell_type": "markdown",
   "metadata": {},
   "source": [
    "<a id='section2.2.3'></a>"
   ]
  },
  {
   "cell_type": "markdown",
   "metadata": {},
   "source": [
    "### 2.2.3 Заполним пропущенные значения  `высоты потолков`"
   ]
  },
  {
   "cell_type": "code",
   "execution_count": 35,
   "metadata": {},
   "outputs": [],
   "source": [
    "ceilings_pivot = df.pivot_table(index='cityCenters_nearest', columns='airports_nearest', values='ceiling_height', aggfunc='first')"
   ]
  },
  {
   "cell_type": "code",
   "execution_count": 36,
   "metadata": {
    "scrolled": true
   },
   "outputs": [
    {
     "name": "stdout",
     "output_type": "stream",
     "text": [
      "Количество пропусков в столбце высоты потолков: 5328\n",
      "Таким способом нам удалось устранить 3822 пропуска точно правильными значениями\n"
     ]
    }
   ],
   "source": [
    "for index, row in df[df.ceiling_height.isna()].iterrows() :\n",
    "    \n",
    "    try:\n",
    "        cell = ceilings_pivot.loc[ (row['cityCenters_nearest']) , (row['airports_nearest']) ]\n",
    "        \n",
    "        if not(pd.isnull(cell)):                       # Проверяем не равно ли NaN значение ячейки в pivot_table\n",
    "            df.loc[index, 'ceiling_height'] = cell       # Заменяем пропущенное значение этажности в нашем df на значение из pivot\n",
    "    \n",
    "    except:\n",
    "        pass # В случае если такого дома не существует\n",
    "print(\"Количество пропусков в столбце высоты потолков:\", df.ceiling_height.isna().sum())\n",
    "print(f\"Таким способом нам удалось устранить {9150 - df.ceiling_height.isna().sum()} пропуска точно правильными значениями\" )"
   ]
  },
  {
   "cell_type": "markdown",
   "metadata": {},
   "source": [
    "<a id='section2.2.4'></a>"
   ]
  },
  {
   "cell_type": "markdown",
   "metadata": {},
   "source": [
    "### 2.2.4. Заполним оставшиеся пропуски"
   ]
  },
  {
   "cell_type": "code",
   "execution_count": 37,
   "metadata": {},
   "outputs": [],
   "source": [
    "df.fillna( \n",
    "    value =     \n",
    "                {\n",
    "                 'living_area' : df['living_area'].median(),   # Заполним пропуски в столбце жилой и кухонной\n",
    "                 'kitchen_area' : df['kitchen_area'].median(), # площади на медианное значение\n",
    "                 'is_apartment' : False,                       # Заполним пропуски на False в столбце is_apartment\n",
    "                 'balcony' : 0,                             \n",
    "                 'parks_around3000' : 0,\n",
    "                 'ponds_around3000' : 0,\n",
    "                 'locality_name' : \" \",                        # Заполним пропущенные значения locality_name на пустую строку\n",
    "                 }, \n",
    "          \n",
    "                  inplace=True )"
   ]
  },
  {
   "cell_type": "markdown",
   "metadata": {},
   "source": [
    "<a id='section2.2.5'></a>"
   ]
  },
  {
   "cell_type": "markdown",
   "metadata": {},
   "source": [
    "### 2.2.5. Обработаем столбец с `временем`"
   ]
  },
  {
   "cell_type": "code",
   "execution_count": 38,
   "metadata": {},
   "outputs": [],
   "source": [
    "df['first_day_exposition'] = pd.to_datetime(df['first_day_exposition'], format='%Y-%m-%dT%H:%M:%S')"
   ]
  },
  {
   "cell_type": "code",
   "execution_count": 39,
   "metadata": {
    "scrolled": true
   },
   "outputs": [
    {
     "data": {
      "text/plain": [
       "0   2019-03-07\n",
       "1   2018-12-04\n",
       "2   2015-08-20\n",
       "Name: first_day_exposition, dtype: datetime64[ns]"
      ]
     },
     "execution_count": 39,
     "metadata": {},
     "output_type": "execute_result"
    }
   ],
   "source": [
    "df.first_day_exposition.head(3)"
   ]
  },
  {
   "cell_type": "markdown",
   "metadata": {},
   "source": [
    "<a id='section2.2.6'></a>"
   ]
  },
  {
   "cell_type": "markdown",
   "metadata": {},
   "source": [
    "### 2.2.6 Преобразуем типы данных"
   ]
  },
  {
   "cell_type": "code",
   "execution_count": 40,
   "metadata": {},
   "outputs": [],
   "source": [
    "df['last_price'] = df['last_price'].astype(int)\n",
    "df['floors_total'] = df.floors_total.astype(int)\n",
    "df['balcony'] = df['balcony'].astype(int)"
   ]
  },
  {
   "cell_type": "code",
   "execution_count": 41,
   "metadata": {},
   "outputs": [],
   "source": [
    "#df[(df.rooms == 0) & (df.studio == False)]['total_area'].value_counts().sort_index().tail(10)\n",
    "# Рассмотрим квартиры с нулевым количество комнат и не студии"
   ]
  },
  {
   "cell_type": "code",
   "execution_count": 100,
   "metadata": {},
   "outputs": [],
   "source": [
    "#Скорее всего это пропуски при заполнении данных, заменим количество комнат для квартир площадью менее 45 кв.м. на 1, для тех у которых меньше 100 кв.м. на 2, для остальных - на 5 "
   ]
  },
  {
   "cell_type": "markdown",
   "metadata": {},
   "source": [
    "<a id='section2.2.7'></a>"
   ]
  },
  {
   "cell_type": "markdown",
   "metadata": {},
   "source": [
    "## 2.2.7. Расмотрим квартиры с нулевым значением комнат и не являющиеся студиями: "
   ]
  },
  {
   "cell_type": "code",
   "execution_count": 42,
   "metadata": {},
   "outputs": [
    {
     "data": {
      "text/plain": [
       "58"
      ]
     },
     "execution_count": 42,
     "metadata": {},
     "output_type": "execute_result"
    }
   ],
   "source": [
    "df[(df.rooms == 0) & (df.studio == False)]['total_area'].value_counts().sum()"
   ]
  },
  {
   "cell_type": "markdown",
   "metadata": {},
   "source": [
    "Дропнем эти строки"
   ]
  },
  {
   "cell_type": "code",
   "execution_count": 43,
   "metadata": {},
   "outputs": [],
   "source": [
    "df.drop(df[(df.rooms == 0) & (df.studio == False)].index, inplace=True)"
   ]
  },
  {
   "cell_type": "markdown",
   "metadata": {},
   "source": [
    "<a id='section2.2.8'></a>"
   ]
  },
  {
   "cell_type": "markdown",
   "metadata": {},
   "source": [
    "# Вывод"
   ]
  },
  {
   "cell_type": "markdown",
   "metadata": {},
   "source": [
    ">На данном этапе мы очистили данные от выбросов.  \n",
    "Произвели различные замены пропущенных значений.  \n",
    "Для многих квартир отсутствовали значения `total_floors` или `ceiling_height` - многие из них нам удалось восстановить из имеющихся данных, поскольку дома в датасете повторяются.  \n",
    "Некоторые пропущенные значения оставили незаполненными для того, чтобы избежать искажения статистики, а также с NaN удобно проводить вычисления, так как это тип float  \n",
    "Количественные параметры: `living_area` , `kitchen_area` были заменены на медианные.  \n",
    "Также преобразованы типы данных: из строковых в формат даты, из чисел с плавающей точкой в целочисленный.  \n",
    "Квартиры с нулевым количеством комнат были удалены из датафрейма."
   ]
  },
  {
   "cell_type": "markdown",
   "metadata": {},
   "source": [
    "<a id='section3'></a>"
   ]
  },
  {
   "cell_type": "markdown",
   "metadata": {},
   "source": [
    "## Шаг 3. Посчитайте и добавьте в таблицу"
   ]
  },
  {
   "cell_type": "markdown",
   "metadata": {},
   "source": [
    "___"
   ]
  },
  {
   "cell_type": "markdown",
   "metadata": {},
   "source": [
    "<a id='section3.1'></a>"
   ]
  },
  {
   "cell_type": "markdown",
   "metadata": {},
   "source": [
    "### 3.1. Добавим цену за кв. метр. в таблицу"
   ]
  },
  {
   "cell_type": "code",
   "execution_count": 44,
   "metadata": {},
   "outputs": [],
   "source": [
    "df['price_for_square_meter'] = df['last_price'] / df['total_area']"
   ]
  },
  {
   "cell_type": "markdown",
   "metadata": {},
   "source": [
    "<a id='section3.2'></a>"
   ]
  },
  {
   "cell_type": "markdown",
   "metadata": {},
   "source": [
    "### 3.2. Добавим столбцы с днем недели, месяцем и годом"
   ]
  },
  {
   "cell_type": "code",
   "execution_count": 45,
   "metadata": {},
   "outputs": [],
   "source": [
    "df['weekday'] = df['first_day_exposition'].dt.weekday"
   ]
  },
  {
   "cell_type": "code",
   "execution_count": 46,
   "metadata": {},
   "outputs": [],
   "source": [
    "df['month'] = df['first_day_exposition'].dt.month"
   ]
  },
  {
   "cell_type": "code",
   "execution_count": 47,
   "metadata": {},
   "outputs": [],
   "source": [
    "df['year'] = df['first_day_exposition'].dt.year"
   ]
  },
  {
   "cell_type": "markdown",
   "metadata": {},
   "source": [
    "<a id='section3.3'></a>"
   ]
  },
  {
   "cell_type": "markdown",
   "metadata": {},
   "source": [
    "### 3.3. Столбец с этажом: первый, последний, другой"
   ]
  },
  {
   "cell_type": "code",
   "execution_count": 48,
   "metadata": {},
   "outputs": [],
   "source": [
    "def flat_floor(row):\n",
    "    if row['floor'] == 1:\n",
    "        return 'первый'\n",
    "    if row['floor'] == row['floors_total']:\n",
    "        return 'последний'\n",
    "    return 'другой'"
   ]
  },
  {
   "cell_type": "code",
   "execution_count": 49,
   "metadata": {},
   "outputs": [],
   "source": [
    "df['floor_category'] = df.apply(flat_floor, axis=1)"
   ]
  },
  {
   "cell_type": "code",
   "execution_count": 50,
   "metadata": {},
   "outputs": [
    {
     "data": {
      "text/plain": [
       "другой       16384\n",
       "последний     3020\n",
       "первый        2798\n",
       "Name: floor_category, dtype: int64"
      ]
     },
     "execution_count": 50,
     "metadata": {},
     "output_type": "execute_result"
    }
   ],
   "source": [
    "df.floor_category.value_counts() "
   ]
  },
  {
   "cell_type": "markdown",
   "metadata": {},
   "source": [
    "Первых и последних этажей примерно одинаковое количество"
   ]
  },
  {
   "cell_type": "markdown",
   "metadata": {},
   "source": [
    "<a id='section3.4'></a>"
   ]
  },
  {
   "cell_type": "markdown",
   "metadata": {},
   "source": [
    "### 3.4. Добавим отношение жилой площади к общей"
   ]
  },
  {
   "cell_type": "code",
   "execution_count": 51,
   "metadata": {},
   "outputs": [],
   "source": [
    "df['living_to_total'] = df.living_area / df.total_area"
   ]
  },
  {
   "cell_type": "markdown",
   "metadata": {},
   "source": [
    "<a id='section3.5'></a>"
   ]
  },
  {
   "cell_type": "markdown",
   "metadata": {},
   "source": [
    "### 3.5. Добавим отношение площади кухни к общей"
   ]
  },
  {
   "cell_type": "code",
   "execution_count": 52,
   "metadata": {},
   "outputs": [],
   "source": [
    "df['kitchen_to_total'] = df.kitchen_area / df.total_area"
   ]
  },
  {
   "cell_type": "markdown",
   "metadata": {},
   "source": [
    "<a id='section4'></a>"
   ]
  },
  {
   "cell_type": "markdown",
   "metadata": {},
   "source": [
    "## Шаг 4. Проведите исследовательский анализ данных и выполните инструкции:"
   ]
  },
  {
   "cell_type": "markdown",
   "metadata": {},
   "source": [
    "___"
   ]
  },
  {
   "cell_type": "markdown",
   "metadata": {},
   "source": [
    "<a id='section4.1'></a>"
   ]
  },
  {
   "cell_type": "markdown",
   "metadata": {},
   "source": [
    "### 4.1 Построим гистограммы распределения  `Общей площади`  ,  `Цены`  ,  `Комнат`  ,  `Высоты потолков`"
   ]
  },
  {
   "cell_type": "code",
   "execution_count": 103,
   "metadata": {
    "scrolled": true
   },
   "outputs": [
    {
     "data": {
      "image/png": "[encoded data removed]",
      "text/plain": [
       "<Figure size 576x432 with 1 Axes>"
      ]
     },
     "metadata": {
      "needs_background": "light"
     },
     "output_type": "display_data"
    },
    {
     "data": {
      "image/png": "[encoded data removed]",
      "text/plain": [
       "<Figure size 576x432 with 1 Axes>"
      ]
     },
     "metadata": {
      "needs_background": "light"
     },
     "output_type": "display_data"
    },
    {
     "data": {
      "image/png": "[encoded data removed]",
      "text/plain": [
       "<Figure size 576x432 with 1 Axes>"
      ]
     },
     "metadata": {
      "needs_background": "light"
     },
     "output_type": "display_data"
    },
    {
     "data": {
      "image/png": "[encoded data removed]",
      "text/plain": [
       "<Figure size 576x432 with 1 Axes>"
      ]
     },
     "metadata": {
      "needs_background": "light"
     },
     "output_type": "display_data"
    }
   ],
   "source": [
    "df.plot(y='total_area', kind='hist', density=True, bins=50, xlim=(0,500), figsize=(8,6), title='Общая площадь', colormap='PiYG')\n",
    "df.plot(y='last_price', kind='hist', density=True, bins=50, xlim=(12190,40000000.0), figsize=(8,6), title='Стоимость', colormap='tab20b_r')\n",
    "df.plot(y='rooms', kind='hist', density=True, bins=7, range=(0, 7), figsize=(8,6), title='Число комнат', colormap='Set3')\n",
    "df.plot(y='ceiling_height', kind='hist', bins=50, range=(2.2, 3.5), density=True, figsize=(8,6), title='Высота потолков', colormap='Oranges_r')\n",
    "plt.show()"
   ]
  },
  {
   "cell_type": "code",
   "execution_count": 54,
   "metadata": {},
   "outputs": [
    {
     "name": "stdout",
     "output_type": "stream",
     "text": [
      "Медианное значение площади: 50.1\n"
     ]
    }
   ],
   "source": [
    "print(\"Медианное значение площади:\", df.total_area.median() )"
   ]
  },
  {
   "cell_type": "code",
   "execution_count": 55,
   "metadata": {},
   "outputs": [
    {
     "name": "stdout",
     "output_type": "stream",
     "text": [
      "Медианное значение цены: 4500000.0\n"
     ]
    }
   ],
   "source": [
    "print(\"Медианное значение цены:\", df.last_price.median() )"
   ]
  },
  {
   "cell_type": "code",
   "execution_count": 56,
   "metadata": {},
   "outputs": [
    {
     "name": "stdout",
     "output_type": "stream",
     "text": [
      "Медианное значение высоты потолков: 2.65\n"
     ]
    }
   ],
   "source": [
    "print(\"Медианное значение высоты потолков:\", df.ceiling_height.median() )"
   ]
  },
  {
   "cell_type": "markdown",
   "metadata": {},
   "source": [
    "### Вывод"
   ]
  },
  {
   "cell_type": "markdown",
   "metadata": {},
   "source": [
    ">Медианное значение площади - 50 кв.м., распределение имеет вид Пуассоновского с пиком около 40 кв.м.  \n",
    "Медианная стоимость квартиры составляет 4.5 млн.  \n",
    "Наибольшее количество квартир однокомнатные, хотя двухкомнатных всего лишь немногим меньше.  \n",
    "Высота потолков составляет 2.65 метра."
   ]
  },
  {
   "cell_type": "markdown",
   "metadata": {},
   "source": [
    "<a id='section4.2'></a>"
   ]
  },
  {
   "cell_type": "markdown",
   "metadata": {},
   "source": [
    "### 4.2 Рассмотрим распределение времени продаж"
   ]
  },
  {
   "cell_type": "code",
   "execution_count": 57,
   "metadata": {},
   "outputs": [
    {
     "data": {
      "image/png": "[encoded data removed]",
      "text/plain": [
       "<Figure size 1152x432 with 1 Axes>"
      ]
     },
     "metadata": {
      "needs_background": "light"
     },
     "output_type": "display_data"
    }
   ],
   "source": [
    "data.plot(y='days_exposition', kind='hist', bins=100, figsize=(16,6), xlim=(0,1000), title='Время продажи')\n",
    "plt.xlabel(\"days\")\n",
    "plt.show()"
   ]
  },
  {
   "cell_type": "code",
   "execution_count": 58,
   "metadata": {},
   "outputs": [
    {
     "name": "stdout",
     "output_type": "stream",
     "text": [
      "Медианное значение времени, требующееся на продажу квартиры: 93\n",
      "Среднее значение времени на продажу квартиры: 175.3\n"
     ]
    }
   ],
   "source": [
    "print(\"Медианное значение времени, требующееся на продажу квартиры: {:.0f}\".format(df.days_exposition.median() ))\n",
    "print(\"Среднее значение времени на продажу квартиры: {:.1f}\".format(df.days_exposition.mean() ))"
   ]
  },
  {
   "cell_type": "markdown",
   "metadata": {},
   "source": [
    "#### Медианное значение времени продажи квартиры составляет 95 дней, среднее - 180 , что говорит о наличии сильных выбросов"
   ]
  },
  {
   "cell_type": "code",
   "execution_count": 59,
   "metadata": {
    "scrolled": true
   },
   "outputs": [
    {
     "data": {
      "image/png": "[encoded data removed]",
      "text/plain": [
       "<Figure size 288x360 with 1 Axes>"
      ]
     },
     "metadata": {
      "needs_background": "light"
     },
     "output_type": "display_data"
    }
   ],
   "source": [
    "df.boxplot([\"days_exposition\"], figsize=(4,5), fontsize=14)\n",
    "plt.ylabel(\"days\", fontsize=14)\n",
    "plt.show()"
   ]
  },
  {
   "cell_type": "markdown",
   "metadata": {},
   "source": [
    "#### Избавимся от аномальных значений. Будем считать продажу быстрой, если она уложилась в неделю, и медленной, если она длилась более полутора лет"
   ]
  },
  {
   "cell_type": "code",
   "execution_count": 60,
   "metadata": {},
   "outputs": [],
   "source": [
    "good_exposition_data = data.query('7<days_exposition<550')['days_exposition'] # избавляемся от выбросов и аномальных \n",
    "                                                                              # по скорости продаж\n",
    "good_exposition_data = good_exposition_data.astype(int)"
   ]
  },
  {
   "cell_type": "code",
   "execution_count": 106,
   "metadata": {},
   "outputs": [
    {
     "data": {
      "image/png": "[encoded data removed]",
      "text/plain": [
       "<Figure size 1152x432 with 1 Axes>"
      ]
     },
     "metadata": {
      "needs_background": "light"
     },
     "output_type": "display_data"
    }
   ],
   "source": [
    "good_exposition_data.plot(kind='hist', bins=80, xlim=(8,550), figsize=(16,6), colormap='bwr_r')\n",
    "plt.xlabel(\"Дни\")\n",
    "plt.title(\"Дней на продаже\")\n",
    "plt.show()"
   ]
  },
  {
   "cell_type": "code",
   "execution_count": 107,
   "metadata": {},
   "outputs": [
    {
     "data": {
      "text/plain": [
       "45    880\n",
       "60    538\n",
       "30    208\n",
       "90    204\n",
       "Name: days_exposition, dtype: int64"
      ]
     },
     "execution_count": 107,
     "metadata": {},
     "output_type": "execute_result"
    }
   ],
   "source": [
    "good_exposition_data.value_counts().head(4)"
   ]
  },
  {
   "cell_type": "markdown",
   "metadata": {},
   "source": [
    "#### Значения 45, 60, 30, 90 - самые популярные и явно отличаются от других в большую сторону"
   ]
  },
  {
   "cell_type": "code",
   "execution_count": 63,
   "metadata": {},
   "outputs": [
    {
     "name": "stdout",
     "output_type": "stream",
     "text": [
      "Мединное значение времени продажи - порядка 91.0 дней\n"
     ]
    }
   ],
   "source": [
    "print(f\"Мединное значение времени продажи - порядка {good_exposition_data.median()} дней\")"
   ]
  },
  {
   "cell_type": "markdown",
   "metadata": {},
   "source": [
    "<a id='section4.3'></a>"
   ]
  },
  {
   "cell_type": "markdown",
   "metadata": {},
   "source": [
    "### 4.3 Посмотрим, как стоимость `Квартиры` зависит от `площади` ,  `числа комнат`  ,  `удалённости от центра`."
   ]
  },
  {
   "cell_type": "code",
   "execution_count": 64,
   "metadata": {
    "scrolled": false
   },
   "outputs": [
    {
     "data": {
      "image/png": "[encoded data removed]",
      "text/plain": [
       "<Figure size 1440x288 with 3 Axes>"
      ]
     },
     "metadata": {
      "needs_background": "light"
     },
     "output_type": "display_data"
    }
   ],
   "source": [
    "fig, (ax1, ax2, ax3) = plt.subplots(1, 3, figsize=(20,4))\n",
    "\n",
    "ax1.scatter(df['last_price'], df['total_area'], c='pink', alpha=0.05)\n",
    "ax1.set_xlim([0,20000000])\n",
    "ax1.set_ylim([0,250])\n",
    "ax1.set_ylabel('total_area', fontsize=14)\n",
    "ax1.set_xlabel('price', fontsize=14)\n",
    "\n",
    "rooms_price = df[['rooms', 'last_price']].groupby(['rooms']).median()\n",
    "ax2.barh( rooms_price.index, rooms_price['last_price'], color='magenta' )\n",
    "ax2.set_ylabel('rooms', fontsize=14)\n",
    "ax2.set_xlabel('price', fontsize=14)\n",
    "y_pos = np.arange(0,8)\n",
    "ax2.set_yticks(y_pos)\n",
    "ax2.set_yticklabels([str(i) for i in range(0,8)])\n",
    "\n",
    "ax3.scatter(df['last_price'], df['cityCenters_nearest'], c='violet', alpha=0.05)\n",
    "ax3.set_xlim([0,20000000])\n",
    "ax3.set_ylabel('Distance to center', fontsize=14)\n",
    "ax3.set_xlabel('price', fontsize=14)\n",
    "\n",
    "plt.show()"
   ]
  },
  {
   "cell_type": "code",
   "execution_count": 65,
   "metadata": {},
   "outputs": [
    {
     "data": {
      "text/html": [
       "<div>\n",
       "<style scoped>\n",
       "    .dataframe tbody tr th:only-of-type {\n",
       "        vertical-align: middle;\n",
       "    }\n",
       "\n",
       "    .dataframe tbody tr th {\n",
       "        vertical-align: top;\n",
       "    }\n",
       "\n",
       "    .dataframe thead th {\n",
       "        text-align: right;\n",
       "    }\n",
       "</style>\n",
       "<table border=\"1\" class=\"dataframe\">\n",
       "  <thead>\n",
       "    <tr style=\"text-align: right;\">\n",
       "      <th></th>\n",
       "      <th>last_price</th>\n",
       "      <th>total_area</th>\n",
       "      <th>cityCenters_nearest</th>\n",
       "      <th>rooms</th>\n",
       "    </tr>\n",
       "  </thead>\n",
       "  <tbody>\n",
       "    <tr>\n",
       "      <td>last_price</td>\n",
       "      <td>1.000000</td>\n",
       "      <td>0.735474</td>\n",
       "      <td>-0.346756</td>\n",
       "      <td>0.439876</td>\n",
       "    </tr>\n",
       "    <tr>\n",
       "      <td>total_area</td>\n",
       "      <td>0.735474</td>\n",
       "      <td>1.000000</td>\n",
       "      <td>-0.171292</td>\n",
       "      <td>0.793398</td>\n",
       "    </tr>\n",
       "    <tr>\n",
       "      <td>cityCenters_nearest</td>\n",
       "      <td>-0.346756</td>\n",
       "      <td>-0.171292</td>\n",
       "      <td>1.000000</td>\n",
       "      <td>-0.103201</td>\n",
       "    </tr>\n",
       "    <tr>\n",
       "      <td>rooms</td>\n",
       "      <td>0.439876</td>\n",
       "      <td>0.793398</td>\n",
       "      <td>-0.103201</td>\n",
       "      <td>1.000000</td>\n",
       "    </tr>\n",
       "  </tbody>\n",
       "</table>\n",
       "</div>"
      ],
      "text/plain": [
       "                     last_price  total_area  cityCenters_nearest     rooms\n",
       "last_price             1.000000    0.735474            -0.346756  0.439876\n",
       "total_area             0.735474    1.000000            -0.171292  0.793398\n",
       "cityCenters_nearest   -0.346756   -0.171292             1.000000 -0.103201\n",
       "rooms                  0.439876    0.793398            -0.103201  1.000000"
      ]
     },
     "execution_count": 65,
     "metadata": {},
     "output_type": "execute_result"
    }
   ],
   "source": [
    "df[['last_price','total_area','cityCenters_nearest','rooms']].corr()"
   ]
  },
  {
   "cell_type": "markdown",
   "metadata": {},
   "source": [
    "#### На графике зависимости стоимости квартиры от общей площади явно видна положительная корреляция.\n",
    "#### На столбчатой диаграмме также заметна увеличивающаяся стоимость квартиры с увеличением числа комнат.\n",
    "#### На графике зависимости стоимости квартиры от расстояния до центра города также видна зависимость, предположительно - гиперболическая. Чем дальше квартира - тем дешевле она стоит"
   ]
  },
  {
   "cell_type": "markdown",
   "metadata": {},
   "source": [
    "<a id='section4.4'></a>"
   ]
  },
  {
   "cell_type": "markdown",
   "metadata": {},
   "source": [
    "### 4.4 Рассмотрим как зависит стоимость квартиры от этажа"
   ]
  },
  {
   "cell_type": "code",
   "execution_count": 66,
   "metadata": {},
   "outputs": [],
   "source": [
    "floor_price = df[['floor_category', 'last_price']].groupby(['floor_category']).median().sort_values('last_price')"
   ]
  },
  {
   "cell_type": "code",
   "execution_count": 67,
   "metadata": {},
   "outputs": [
    {
     "data": {
      "image/png": "[encoded data removed]",
      "text/plain": [
       "<Figure size 720x360 with 1 Axes>"
      ]
     },
     "metadata": {
      "needs_background": "light"
     },
     "output_type": "display_data"
    }
   ],
   "source": [
    "plt.figure(figsize=(10,5))\n",
    "plt.barh( floor_price.index, floor_price['last_price'], color='chartreuse' )\n",
    "plt.title(\"Этаж\")\n",
    "plt.xlabel(\"Стоимость\")\n",
    "plt.show()"
   ]
  },
  {
   "cell_type": "markdown",
   "metadata": {},
   "source": [
    "#### Квартиры на первом этаже, как правило, дешевле других. Квартиры на последнем также стоят дешевле."
   ]
  },
  {
   "cell_type": "markdown",
   "metadata": {},
   "source": [
    "<a id='section4.5'></a>"
   ]
  },
  {
   "cell_type": "markdown",
   "metadata": {},
   "source": [
    "### 4.5. Рассмотрим как зависит стоимость квартиры от даты размещения: дня недели, месяца и года."
   ]
  },
  {
   "cell_type": "markdown",
   "metadata": {},
   "source": [
    "### Год"
   ]
  },
  {
   "cell_type": "code",
   "execution_count": 68,
   "metadata": {},
   "outputs": [],
   "source": [
    "year_price = df[['year', 'last_price']].groupby(['year']).median().sort_index()"
   ]
  },
  {
   "cell_type": "code",
   "execution_count": 109,
   "metadata": {},
   "outputs": [
    {
     "data": {
      "image/png": "[encoded data removed]",
      "text/plain": [
       "<Figure size 864x360 with 1 Axes>"
      ]
     },
     "metadata": {
      "needs_background": "light"
     },
     "output_type": "display_data"
    }
   ],
   "source": [
    "plt.figure(figsize=(12,5))\n",
    "plt.bar( year_price.index, year_price['last_price'], color='olive' )\n",
    "plt.title(\"Стоимость квартиры по годам\", fontsize=16)\n",
    "plt.ylabel(\"Стоимость\", fontsize=12)\n",
    "plt.ylim(4000000, 7000000)\n",
    "plt.show()"
   ]
  },
  {
   "cell_type": "markdown",
   "metadata": {},
   "source": [
    ">#### С 2014 года стоимость квартир сильно упала, однако с 2017 тренд меняется на растущий"
   ]
  },
  {
   "cell_type": "markdown",
   "metadata": {},
   "source": [
    "### Месяц"
   ]
  },
  {
   "cell_type": "code",
   "execution_count": 70,
   "metadata": {},
   "outputs": [],
   "source": [
    "month_price = df[['month', 'last_price']].groupby(['month']).median().sort_index()\n",
    "month_price.index = ['январь', 'февраль', 'март', \"апрель\", \"май\", \"июнь\", \"июль\", \"август\", \"сентябрь\", \"октябрь\", \"ноябрь\", \"декабрь\"]"
   ]
  },
  {
   "cell_type": "code",
   "execution_count": 71,
   "metadata": {},
   "outputs": [
    {
     "data": {
      "image/png": "[encoded data removed]",
      "text/plain": [
       "<Figure size 864x360 with 1 Axes>"
      ]
     },
     "metadata": {
      "needs_background": "light"
     },
     "output_type": "display_data"
    }
   ],
   "source": [
    "plt.figure(figsize=(12,5))\n",
    "plt.plot( month_price.index, month_price['last_price'], color='forestgreen' )\n",
    "plt.title(\"Стоимость квартиры в зависимости от месяца\")\n",
    "plt.ylabel(\"Стоимость\", fontsize=12)\n",
    "plt.show()"
   ]
  },
  {
   "cell_type": "markdown",
   "metadata": {},
   "source": [
    ">#### В **июне** квартиры продаются дешевле, чем в остальные месяцы\n",
    ">#### Пик стоимости приходится на **апрель**"
   ]
  },
  {
   "cell_type": "markdown",
   "metadata": {},
   "source": [
    "### День"
   ]
  },
  {
   "cell_type": "code",
   "execution_count": 72,
   "metadata": {},
   "outputs": [],
   "source": [
    "day_price = df[['weekday', 'last_price']].groupby(['weekday']).median().sort_index()\n",
    "day_price.index = [\"понедельник\", \"вторник\", \"среда\", \"четверг\", \"пятница\", \"суббота\", \"воскресенье\"]"
   ]
  },
  {
   "cell_type": "code",
   "execution_count": 73,
   "metadata": {
    "scrolled": true
   },
   "outputs": [
    {
     "data": {
      "image/png": "[encoded data removed]",
      "text/plain": [
       "<Figure size 864x360 with 1 Axes>"
      ]
     },
     "metadata": {
      "needs_background": "light"
     },
     "output_type": "display_data"
    }
   ],
   "source": [
    "plt.figure(figsize=(12,5))\n",
    "plt.plot( day_price.index, day_price['last_price'], color=\"indigo\" )\n",
    "plt.ylabel(\"Стоимость\", fontsize=12)\n",
    "plt.title(\"Стоимость квартиры в зависимости от дня недели\")\n",
    "plt.show()"
   ]
  },
  {
   "cell_type": "markdown",
   "metadata": {},
   "source": [
    ">####  В __воскресенье__ квартиры продаются дешевле, чем в остальные дни \n",
    ">####  А по **вторникам** цена обычно выше "
   ]
  },
  {
   "cell_type": "markdown",
   "metadata": {},
   "source": [
    "<a id='section4.6'></a>"
   ]
  },
  {
   "cell_type": "markdown",
   "metadata": {},
   "source": [
    "### 4.6. 10 населенных пунктов с самой высокой стоимостью кв. метра"
   ]
  },
  {
   "cell_type": "code",
   "execution_count": 74,
   "metadata": {},
   "outputs": [],
   "source": [
    "top_locals = df.groupby('locality_name')['locality_name'].count().sort_values(ascending=False).head(10).index.values.tolist()"
   ]
  },
  {
   "cell_type": "code",
   "execution_count": 75,
   "metadata": {},
   "outputs": [],
   "source": [
    "df_filtered = df.query('locality_name in @top_locals')"
   ]
  },
  {
   "cell_type": "code",
   "execution_count": 76,
   "metadata": {},
   "outputs": [
    {
     "data": {
      "text/plain": [
       "locality_name\n",
       "Санкт-Петербург      108645.684395\n",
       "Пушкин               101913.956187\n",
       "деревня Кудрово       92312.310411\n",
       "посёлок Парголово     90348.996281\n",
       "посёлок Мурино        85563.326907\n",
       "посёлок Шушары        78643.827638\n",
       "Колпино               75370.025473\n",
       "Гатчина               68974.051834\n",
       "Всеволожск            67173.646003\n",
       "Выборг                58336.368985\n",
       "Name: price_for_square_meter, dtype: float64"
      ]
     },
     "execution_count": 76,
     "metadata": {},
     "output_type": "execute_result"
    }
   ],
   "source": [
    "df_filtered.groupby('locality_name')['price_for_square_meter'].mean().sort_values(ascending=False)"
   ]
  },
  {
   "cell_type": "markdown",
   "metadata": {},
   "source": [
    ">#### Самые дорогие квартиры располагаются, ожидаемо, в Санкт-Петербурге (115 тыс.), затем идет Пушкин.  \n",
    ">#### Низкая стоимость квартир в Выборге - в два раза дешевле, чем в Санкт-Петербурге.    \n",
    ">#### Во Всеволожске и Гатчине примерно одинаковые цены за кв.м., порядка 68 тыс."
   ]
  },
  {
   "cell_type": "markdown",
   "metadata": {},
   "source": [
    "<a id='section4.7'></a>"
   ]
  },
  {
   "cell_type": "markdown",
   "metadata": {},
   "source": [
    "### 4.7. Стоимость квартир в центре"
   ]
  },
  {
   "cell_type": "code",
   "execution_count": 77,
   "metadata": {},
   "outputs": [],
   "source": [
    "df['kilometres_to_cityCenters'] =( df['cityCenters_nearest']/1000 ).round()"
   ]
  },
  {
   "cell_type": "code",
   "execution_count": 78,
   "metadata": {},
   "outputs": [
    {
     "data": {
      "image/png": "[encoded data removed]",
      "text/plain": [
       "<Figure size 864x360 with 1 Axes>"
      ]
     },
     "metadata": {
      "needs_background": "light"
     },
     "output_type": "display_data"
    }
   ],
   "source": [
    "plt.figure(figsize=(12,5))\n",
    "df.groupby('kilometres_to_cityCenters')['last_price'].mean().plot(color='mediumslateblue')\n",
    "plt.plot([9,9],[1000000,30000000], color='ghostwhite')\n",
    "plt.title(\"Стоимость квартиры в зависимости от расстояния до центра\")\n",
    "plt.ylabel(\"Стоимость\")\n",
    "plt.show()"
   ]
  },
  {
   "cell_type": "markdown",
   "metadata": {},
   "source": [
    ">#### На графике видно, что цена сильно меняется на 8-9 километрах, следовательно это и есть граница центра города"
   ]
  },
  {
   "cell_type": "markdown",
   "metadata": {},
   "source": [
    "<a id='section4.8'></a>"
   ]
  },
  {
   "cell_type": "markdown",
   "metadata": {},
   "source": [
    "### 4.8. Проанализируем квартиры в центре"
   ]
  },
  {
   "cell_type": "code",
   "execution_count": 79,
   "metadata": {},
   "outputs": [],
   "source": [
    "df_flats_in_center = df.query('kilometres_to_cityCenters <= 8 and locality_name == \"Санкт-Петербург\"')"
   ]
  },
  {
   "cell_type": "code",
   "execution_count": 80,
   "metadata": {
    "scrolled": true
   },
   "outputs": [
    {
     "data": {
      "image/png": "[encoded data removed]",
      "text/plain": [
       "<Figure size 576x432 with 1 Axes>"
      ]
     },
     "metadata": {
      "needs_background": "light"
     },
     "output_type": "display_data"
    },
    {
     "data": {
      "image/png": "[encoded data removed]",
      "text/plain": [
       "<Figure size 576x432 with 1 Axes>"
      ]
     },
     "metadata": {
      "needs_background": "light"
     },
     "output_type": "display_data"
    },
    {
     "data": {
      "image/png": "[encoded data removed]",
      "text/plain": [
       "<Figure size 576x432 with 1 Axes>"
      ]
     },
     "metadata": {
      "needs_background": "light"
     },
     "output_type": "display_data"
    },
    {
     "data": {
      "image/png": "[encoded data removed]",
      "text/plain": [
       "<Figure size 576x432 with 1 Axes>"
      ]
     },
     "metadata": {
      "needs_background": "light"
     },
     "output_type": "display_data"
    }
   ],
   "source": [
    "df_flats_in_center.plot(y='total_area', kind='hist', density=True, bins=50, xlim=(0,500), figsize=(8,6), title='Общая площадь', colormap=\"tab20c\")\n",
    "df_flats_in_center.plot(y='last_price', kind='hist', density=True, bins=200, xlim=(12190,40000000.0), figsize=(8,6), title='Стоимость', colormap=\"vlag\")\n",
    "df_flats_in_center.plot(y='rooms', kind='hist', bins=10, range=(0, 10), figsize=(8,6), title='Число комнат', colormap=\"twilight_shifted_r\")\n",
    "df_flats_in_center.plot(y='ceiling_height', kind='hist', bins=50, range=(2.5, 5), density=True, figsize=(8,6), title='Высота потолков', colormap=\"BuPu_r\")\n",
    "plt.show()"
   ]
  },
  {
   "cell_type": "code",
   "execution_count": 81,
   "metadata": {
    "scrolled": true
   },
   "outputs": [
    {
     "name": "stdout",
     "output_type": "stream",
     "text": [
      "Медианное значение площади 66.5\n"
     ]
    }
   ],
   "source": [
    "print(\"Медианное значение площади\", df_flats_in_center['total_area'].median() )"
   ]
  },
  {
   "cell_type": "code",
   "execution_count": 82,
   "metadata": {},
   "outputs": [
    {
     "name": "stdout",
     "output_type": "stream",
     "text": [
      "Медианное значение цены 7700000.0\n"
     ]
    }
   ],
   "source": [
    "print(\"Медианное значение цены\", df_flats_in_center['last_price'].median() )"
   ]
  },
  {
   "cell_type": "code",
   "execution_count": 83,
   "metadata": {},
   "outputs": [
    {
     "name": "stdout",
     "output_type": "stream",
     "text": [
      "Медианное значение высоты потолков 2.95\n"
     ]
    }
   ],
   "source": [
    "print(\"Медианное значение высоты потолков\", df_flats_in_center.ceiling_height.median() )"
   ]
  },
  {
   "cell_type": "markdown",
   "metadata": {},
   "source": [
    ">##### Квартиры в центре города могут \"похвастать\" большей площадью - 66 кв.м.  \n",
    ">##### Такие квартиры также в среднем более дорогие, медианная стоимость составляет почти 8 млн. В то время, как для всех квартир эта стоимость равняется 4,5 миллионам.  \n",
    ">##### Квартиры в центре также чаще двух- или трехкомнатные, тогда как в общей массе больше \"однушек\".   \n",
    ">##### У данных квартир также выше потолки, в среднем - 3 метра."
   ]
  },
  {
   "cell_type": "markdown",
   "metadata": {},
   "source": [
    "<a id='section4.9'></a>"
   ]
  },
  {
   "cell_type": "markdown",
   "metadata": {},
   "source": [
    "### 4.9.  Выясним какие факторы влияют на стоимость квартиры  в центре (`число комнат`, `этаж`, `удалённость от центра`, `дата размещения объявления`) и сравним с выводом по всем квартирам"
   ]
  },
  {
   "cell_type": "markdown",
   "metadata": {},
   "source": [
    "### Число комнат"
   ]
  },
  {
   "cell_type": "code",
   "execution_count": 84,
   "metadata": {},
   "outputs": [
    {
     "data": {
      "image/png": "[encoded data removed]",
      "text/plain": [
       "<Figure size 432x288 with 1 Axes>"
      ]
     },
     "metadata": {
      "needs_background": "light"
     },
     "output_type": "display_data"
    }
   ],
   "source": [
    "rooms_price_center = df_flats_in_center[['rooms', 'last_price']].groupby(['rooms']).median()\n",
    "ax = sns.barplot(x=rooms_price_center.index, y=rooms_price_center['last_price'] , color='lightblue' )\n",
    "# put bars in background:\n",
    "for c in ax.patches:\n",
    "    c.set_zorder(0)\n",
    "# plot regplot with numbers 0,..,len(a) as x value\n",
    "sns.regplot(x=np.arange(0,len(rooms_price_center)), y=rooms_price_center['last_price'], ax=ax)\n",
    "sns.despine(offset=10, trim=True)\n",
    "ax.set_ylabel(\"Стоимость\")\n",
    "plt.show()"
   ]
  },
  {
   "cell_type": "markdown",
   "metadata": {},
   "source": [
    ">#### Стоимость квартиры также увеличивается в зависимости от количества комнат, как и во всем датасете"
   ]
  },
  {
   "cell_type": "markdown",
   "metadata": {},
   "source": [
    "### Этаж"
   ]
  },
  {
   "cell_type": "code",
   "execution_count": 85,
   "metadata": {},
   "outputs": [],
   "source": [
    "floor_price_center = ( df_flats_in_center[['floor_category', 'last_price']].groupby('floor_category').median()\n",
    "                      .sort_values('last_price') )"
   ]
  },
  {
   "cell_type": "code",
   "execution_count": 86,
   "metadata": {},
   "outputs": [
    {
     "data": {
      "image/png": "[encoded data removed]",
      "text/plain": [
       "<Figure size 720x360 with 1 Axes>"
      ]
     },
     "metadata": {
      "needs_background": "light"
     },
     "output_type": "display_data"
    }
   ],
   "source": [
    "plt.figure(figsize=(10,5))\n",
    "plt.barh( floor_price_center.index, floor_price_center['last_price'] )\n",
    "plt.title(\"Этаж\")\n",
    "plt.xlabel(\"Стоимость\")\n",
    "plt.show()"
   ]
  },
  {
   "cell_type": "markdown",
   "metadata": {},
   "source": [
    ">#### Квартиры на первом этаже в центре Санкт-Петербурга также дешевле."
   ]
  },
  {
   "cell_type": "markdown",
   "metadata": {},
   "source": [
    "### Удаленность"
   ]
  },
  {
   "cell_type": "code",
   "execution_count": 87,
   "metadata": {},
   "outputs": [
    {
     "data": {
      "image/png": "[encoded data removed]",
      "text/plain": [
       "<Figure size 432x288 with 1 Axes>"
      ]
     },
     "metadata": {
      "needs_background": "light"
     },
     "output_type": "display_data"
    }
   ],
   "source": [
    "plt.scatter(df_flats_in_center['last_price'], df_flats_in_center['cityCenters_nearest'], c='r', alpha=0.05)\n",
    "plt.xlim(0,20000000)\n",
    "plt.xlabel('Price', fontsize=14)\n",
    "plt.ylabel('Distance to center', fontsize=14)\n",
    "plt.show()"
   ]
  },
  {
   "cell_type": "code",
   "execution_count": 88,
   "metadata": {},
   "outputs": [
    {
     "data": {
      "text/html": [
       "<div>\n",
       "<style scoped>\n",
       "    .dataframe tbody tr th:only-of-type {\n",
       "        vertical-align: middle;\n",
       "    }\n",
       "\n",
       "    .dataframe tbody tr th {\n",
       "        vertical-align: top;\n",
       "    }\n",
       "\n",
       "    .dataframe thead th {\n",
       "        text-align: right;\n",
       "    }\n",
       "</style>\n",
       "<table border=\"1\" class=\"dataframe\">\n",
       "  <thead>\n",
       "    <tr style=\"text-align: right;\">\n",
       "      <th></th>\n",
       "      <th>last_price</th>\n",
       "      <th>cityCenters_nearest</th>\n",
       "    </tr>\n",
       "  </thead>\n",
       "  <tbody>\n",
       "    <tr>\n",
       "      <td>last_price</td>\n",
       "      <td>1.000000</td>\n",
       "      <td>-0.141776</td>\n",
       "    </tr>\n",
       "    <tr>\n",
       "      <td>cityCenters_nearest</td>\n",
       "      <td>-0.141776</td>\n",
       "      <td>1.000000</td>\n",
       "    </tr>\n",
       "  </tbody>\n",
       "</table>\n",
       "</div>"
      ],
      "text/plain": [
       "                     last_price  cityCenters_nearest\n",
       "last_price             1.000000            -0.141776\n",
       "cityCenters_nearest   -0.141776             1.000000"
      ]
     },
     "execution_count": 88,
     "metadata": {},
     "output_type": "execute_result"
    }
   ],
   "source": [
    "df_flats_in_center[['last_price', 'cityCenters_nearest']].corr()"
   ]
  },
  {
   "cell_type": "markdown",
   "metadata": {},
   "source": [
    ">#### А вот зависимости от удаленности нет, квартиры могут стоить в центре по разному."
   ]
  },
  {
   "cell_type": "markdown",
   "metadata": {},
   "source": [
    "<a id='section4.10'></a>"
   ]
  },
  {
   "cell_type": "markdown",
   "metadata": {},
   "source": [
    "### 4.10. Посмотрим зависимость от даты"
   ]
  },
  {
   "cell_type": "markdown",
   "metadata": {},
   "source": [
    "### Год"
   ]
  },
  {
   "cell_type": "code",
   "execution_count": 89,
   "metadata": {},
   "outputs": [],
   "source": [
    "year_price_center = df_flats_in_center[['year', 'last_price']].groupby(['year']).median().sort_index()"
   ]
  },
  {
   "cell_type": "code",
   "execution_count": 90,
   "metadata": {},
   "outputs": [
    {
     "data": {
      "image/png": "[encoded data removed]",
      "text/plain": [
       "<Figure size 864x360 with 1 Axes>"
      ]
     },
     "metadata": {
      "needs_background": "light"
     },
     "output_type": "display_data"
    }
   ],
   "source": [
    "plt.figure(figsize=(12,5))\n",
    "plt.bar( year_price_center.index, year_price_center['last_price'], color='olive' )\n",
    "plt.title(\"Стоимость квартиры по годам\", fontsize=16)\n",
    "plt.ylabel(\"Стоимость\", fontsize=12)\n",
    "plt.ylim(7000000,9000000)\n",
    "plt.show()"
   ]
  },
  {
   "cell_type": "markdown",
   "metadata": {},
   "source": [
    ">#### Диаграмма точно такая же, как и для всей выборки, с 2014 стоимость упала, а c 2017 начинает расти"
   ]
  },
  {
   "cell_type": "markdown",
   "metadata": {},
   "source": [
    "### Месяц"
   ]
  },
  {
   "cell_type": "code",
   "execution_count": 91,
   "metadata": {},
   "outputs": [],
   "source": [
    "month_price_center = df_flats_in_center[['month', 'last_price']].groupby(['month']).median().sort_index()\n",
    "month_price_center.index = ['январь', 'февраль', 'март', \"апрель\", \"май\", \"июнь\", \"июль\", \"август\", \"сентябрь\", \"октябрь\", \"ноябрь\", \"декабрь\"]"
   ]
  },
  {
   "cell_type": "code",
   "execution_count": 92,
   "metadata": {},
   "outputs": [
    {
     "data": {
      "image/png": "[encoded data removed]",
      "text/plain": [
       "<Figure size 864x360 with 1 Axes>"
      ]
     },
     "metadata": {
      "needs_background": "light"
     },
     "output_type": "display_data"
    }
   ],
   "source": [
    "plt.figure(figsize=(12,5))\n",
    "plt.plot( month_price_center.index, month_price_center['last_price'], color='forestgreen' )\n",
    "plt.title(\"Стоимость квартиры в зависимости от месяца\")\n",
    "plt.ylabel(\"Стоимость\", fontsize=12)\n",
    "plt.show()"
   ]
  },
  {
   "cell_type": "markdown",
   "metadata": {},
   "source": [
    ">#### Для квартир в центре Санкт-Петербурга картина меняется: наименьшая стоимость соответствует квартирам, продаваемым в декабре.  \n",
    ">#### А наибольшая стоимость в сентябре, вероятно, все хотят купить квартиру поближе к работе перед началом учебного/рабочего года"
   ]
  },
  {
   "cell_type": "markdown",
   "metadata": {},
   "source": [
    "### День"
   ]
  },
  {
   "cell_type": "code",
   "execution_count": 93,
   "metadata": {},
   "outputs": [],
   "source": [
    "day_price_center = df_flats_in_center[['weekday', 'last_price']].groupby(['weekday']).median().sort_index()\n",
    "day_price_center.index = [\"понедельник\", \"вторник\", \"среда\", \"четверг\", \"пятница\", \"суббота\", \"воскресенье\"]"
   ]
  },
  {
   "cell_type": "code",
   "execution_count": 94,
   "metadata": {},
   "outputs": [
    {
     "data": {
      "image/png": "[encoded data removed]",
      "text/plain": [
       "<Figure size 864x360 with 1 Axes>"
      ]
     },
     "metadata": {
      "needs_background": "light"
     },
     "output_type": "display_data"
    }
   ],
   "source": [
    "plt.figure(figsize=(12,5))\n",
    "plt.plot( day_price_center.index, day_price_center['last_price'], color=\"indigo\" )\n",
    "plt.ylabel(\"Стоимость\", fontsize=12)\n",
    "plt.title(\"Стоимость квартиры в зависимости от дня недели\")\n",
    "plt.show()"
   ]
  },
  {
   "cell_type": "markdown",
   "metadata": {},
   "source": [
    ">#### Зависимость стоимости квартиры от дня недели также разительно отличается, дешевле всего квартиры выставляются на продажу по четвергам, а по наиболее высокой цене по воскресеньям"
   ]
  },
  {
   "cell_type": "markdown",
   "metadata": {},
   "source": [
    "<a id='section5'></a>"
   ]
  },
  {
   "cell_type": "markdown",
   "metadata": {},
   "source": [
    "## Шаг 5. Общий вывод"
   ]
  },
  {
   "cell_type": "markdown",
   "metadata": {},
   "source": [
    "___"
   ]
  },
  {
   "cell_type": "markdown",
   "metadata": {},
   "source": [
    ">#### 1. На первом шаге при знакомстве с датасетом были обнаружены множественные пропуски, а также много аномалий, от которых мы в последствии успешно избавились. \n",
    ">#### 2. На втором этапе для пропущенных значений этажности и высоты потолков домов были восстановлены значения по доступным данным из датасета. Заполнены другие пропущенные значения. Изменены типы данных, обработаны выбросы и аномальные значения.\n",
    ">#### 3. На третьем шаге были посчитаны и добавлены в таблицу:\n",
    "    1. Цена квадратного метра;\n",
    "    2. День недели, месяц и год публикации объявления;\n",
    "    3. Этаж квартиры; варианты — первый, последний, другой;\n",
    "    4. Соотношение жилой и общей площади, а также отношение площади кухни к общей.\n",
    ">#### 4. На четвертом этапе был произведен исследовательский анализ данных и было выявлено, что:\n",
    "    1. В среднем квартира продается около трех месяцев\n",
    "    2. Стоимость квартиры прямопропорционально зависит от площади и количества комнат и обратно пропорциональна расстоянию до центра\n",
    "    3. На первом этаже квартиры стоят дешевле\n",
    "    4. Стоимость квартир с 2014 по 2017 снизилась более чем на 2,5 млн. руб.\n",
    "    5. В июне квартиры продаются по самой низкой стоимости, а в апреле по самой высокой\n",
    "    6. Квартира выставленная на продажу в воскресенье в среднем продается на 200 тыс. дешевле чем в пик - во вторник\n",
    "    7. Самые дорогие квартиры находятся в Санкт-Петербурге и Пушкине, а самые дешевые в Выборге\n",
    "    8. Граница центра - 9 километров\n",
    "    9. Квартиры в центре сильно отличаются в цене, они примерно в два раза дороже. Площадь квартир больше в среднем на 15 кв.м. Чаще встречаются двух- и трехкомнатные квартиры, нежели однокомнатные. Более высокие потолки - 3 метра, для остальных квартир из датасета - 2,65. \n",
    "    10. Стоимость квартир в центре также зависит от количества комнат, от этажа (на первом - дешевле), а от удаленности цена квартиры не зависит, в отличие от квартир из всей выборки.\n",
    "    11. Стоимость квартир в центре Санкт-Петербурга также упала с 2014 года.\n",
    "    12. По самой дешевой цене квартиры продаются в декабре, по самой дорогой - в сентябре\n",
    "    13. Квартиры, размещаемые на продажу по четвергам продаются дешевле, чем в остальные дни. Пик стоимости приходится на воскресенье"
   ]
  }
 ],
 "metadata": {
  "kernelspec": {
   "display_name": "Python 3",
   "language": "python",
   "name": "python3"
  },
  "language_info": {
   "codemirror_mode": {
    "name": "ipython",
    "version": 3
   },
   "file_extension": ".py",
   "mimetype": "text/x-python",
   "name": "python",
   "nbconvert_exporter": "python",
   "pygments_lexer": "ipython3",
   "version": "3.8.5"
  },
  "widgets": {
   "application/vnd.jupyter.widget-state+json": {
    "state": {},
    "version_major": 2,
    "version_minor": 0
   }
  }
 },
 "nbformat": 4,
 "nbformat_minor": 2
}
