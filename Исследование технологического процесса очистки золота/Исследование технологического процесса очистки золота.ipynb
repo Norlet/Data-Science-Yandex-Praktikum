{
  "metadata": {
    "ExecuteTimeLog": [
      {
        "duration": 72,
        "start_time": "2022-10-24T16:06:37.029Z"
      },
      {
        "duration": 1602,
        "start_time": "2022-10-24T16:06:38.901Z"
      },
      {
        "duration": 112,
        "start_time": "2022-10-24T16:06:40.505Z"
      },
      {
        "duration": 17,
        "start_time": "2022-10-24T16:06:49.364Z"
      },
      {
        "duration": 5,
        "start_time": "2022-10-24T16:15:43.832Z"
      },
      {
        "duration": 16,
        "start_time": "2022-10-24T16:15:44.135Z"
      },
      {
        "duration": 94,
        "start_time": "2022-10-24T16:19:52.302Z"
      },
      {
        "duration": 51,
        "start_time": "2022-10-24T16:19:52.602Z"
      },
      {
        "duration": 4,
        "start_time": "2022-10-24T16:20:26.521Z"
      },
      {
        "duration": 33,
        "start_time": "2022-10-24T16:20:26.920Z"
      },
      {
        "duration": 39,
        "start_time": "2022-10-24T16:20:54.040Z"
      },
      {
        "duration": 5,
        "start_time": "2022-10-24T16:20:55.864Z"
      },
      {
        "duration": 36,
        "start_time": "2022-10-24T16:20:56.129Z"
      },
      {
        "duration": 3304,
        "start_time": "2022-10-24T16:21:50.059Z"
      },
      {
        "duration": 33,
        "start_time": "2022-10-24T16:22:38.206Z"
      },
      {
        "duration": 28,
        "start_time": "2022-10-24T16:22:43.970Z"
      },
      {
        "duration": 30,
        "start_time": "2022-10-24T16:22:46.062Z"
      },
      {
        "duration": 13,
        "start_time": "2022-10-24T19:08:30.381Z"
      },
      {
        "duration": 12,
        "start_time": "2022-10-24T19:08:43.637Z"
      },
      {
        "duration": 12,
        "start_time": "2022-10-24T19:19:02.080Z"
      },
      {
        "duration": 12,
        "start_time": "2022-10-24T19:19:09.534Z"
      },
      {
        "duration": 18,
        "start_time": "2022-10-24T19:21:11.729Z"
      },
      {
        "duration": 5,
        "start_time": "2022-10-24T19:26:29.123Z"
      },
      {
        "duration": 4,
        "start_time": "2022-10-24T19:26:34.558Z"
      },
      {
        "duration": 3,
        "start_time": "2022-10-24T19:26:37.454Z"
      },
      {
        "duration": 52,
        "start_time": "2022-10-24T19:33:15.862Z"
      },
      {
        "duration": 49,
        "start_time": "2022-10-24T19:33:31.085Z"
      },
      {
        "duration": 9,
        "start_time": "2022-10-24T19:33:39.332Z"
      },
      {
        "duration": 31,
        "start_time": "2022-10-24T19:33:49.782Z"
      },
      {
        "duration": 45,
        "start_time": "2022-10-24T19:33:57.916Z"
      },
      {
        "duration": 33,
        "start_time": "2022-10-24T19:45:51.805Z"
      },
      {
        "duration": 35,
        "start_time": "2022-10-25T14:39:48.339Z"
      },
      {
        "duration": 39,
        "start_time": "2022-10-26T18:19:25.217Z"
      },
      {
        "duration": 9,
        "start_time": "2022-10-26T18:23:56.898Z"
      },
      {
        "duration": 14,
        "start_time": "2022-10-26T18:24:01.646Z"
      },
      {
        "duration": 5,
        "start_time": "2022-10-26T18:24:12.944Z"
      },
      {
        "duration": 4,
        "start_time": "2022-10-26T18:24:24.431Z"
      },
      {
        "duration": 30,
        "start_time": "2022-10-26T18:26:41.974Z"
      },
      {
        "duration": 4,
        "start_time": "2022-10-26T18:27:21.108Z"
      },
      {
        "duration": 5,
        "start_time": "2022-10-26T18:38:21.124Z"
      },
      {
        "duration": 44,
        "start_time": "2022-10-26T18:41:36.877Z"
      },
      {
        "duration": 6,
        "start_time": "2022-10-26T18:41:40.856Z"
      },
      {
        "duration": 4,
        "start_time": "2022-10-26T18:42:22.488Z"
      },
      {
        "duration": 7,
        "start_time": "2022-10-26T18:42:53.039Z"
      },
      {
        "duration": 5,
        "start_time": "2022-10-26T19:30:42.414Z"
      },
      {
        "duration": 2684,
        "start_time": "2022-10-26T19:41:59.987Z"
      },
      {
        "duration": 26,
        "start_time": "2022-10-26T19:42:02.673Z"
      },
      {
        "duration": 51,
        "start_time": "2022-10-26T19:42:02.701Z"
      },
      {
        "duration": 27,
        "start_time": "2022-10-26T19:44:07.146Z"
      },
      {
        "duration": 11,
        "start_time": "2022-10-26T19:44:09.752Z"
      },
      {
        "duration": 30,
        "start_time": "2022-10-26T19:44:18.317Z"
      },
      {
        "duration": 14,
        "start_time": "2022-10-26T19:44:19.598Z"
      },
      {
        "duration": 11,
        "start_time": "2022-10-26T19:44:23.062Z"
      },
      {
        "duration": 11,
        "start_time": "2022-10-26T19:44:32.301Z"
      },
      {
        "duration": 10,
        "start_time": "2022-10-26T19:45:27.853Z"
      },
      {
        "duration": 8,
        "start_time": "2022-10-26T20:02:19.280Z"
      },
      {
        "duration": 9,
        "start_time": "2022-10-26T20:13:21.706Z"
      },
      {
        "duration": 16,
        "start_time": "2022-10-26T20:17:25.065Z"
      },
      {
        "duration": 43,
        "start_time": "2022-10-27T19:41:01.853Z"
      },
      {
        "duration": 1454,
        "start_time": "2022-10-27T19:41:36.555Z"
      },
      {
        "duration": 1693,
        "start_time": "2022-10-27T19:41:38.011Z"
      },
      {
        "duration": 29,
        "start_time": "2022-10-27T19:41:39.705Z"
      },
      {
        "duration": 24,
        "start_time": "2022-10-27T19:41:39.735Z"
      },
      {
        "duration": 44,
        "start_time": "2022-10-27T19:41:39.762Z"
      },
      {
        "duration": 9,
        "start_time": "2022-10-27T19:41:39.807Z"
      },
      {
        "duration": 18,
        "start_time": "2022-10-27T19:41:39.817Z"
      },
      {
        "duration": 7,
        "start_time": "2022-10-27T19:41:39.837Z"
      },
      {
        "duration": 6,
        "start_time": "2022-10-27T19:41:39.846Z"
      },
      {
        "duration": 9,
        "start_time": "2022-10-27T19:41:39.854Z"
      },
      {
        "duration": 15,
        "start_time": "2022-10-27T19:41:39.864Z"
      },
      {
        "duration": 142,
        "start_time": "2022-10-27T19:41:39.881Z"
      },
      {
        "duration": 7,
        "start_time": "2022-10-27T19:41:47.179Z"
      },
      {
        "duration": 13,
        "start_time": "2022-10-27T19:43:47.317Z"
      },
      {
        "duration": 11,
        "start_time": "2022-10-27T19:43:52.326Z"
      },
      {
        "duration": 524,
        "start_time": "2022-10-27T19:44:21.189Z"
      },
      {
        "duration": 110,
        "start_time": "2022-10-27T19:45:07.512Z"
      },
      {
        "duration": 577,
        "start_time": "2022-10-27T19:45:12.509Z"
      },
      {
        "duration": 546,
        "start_time": "2022-10-27T19:46:05.555Z"
      },
      {
        "duration": 711,
        "start_time": "2022-10-27T19:47:25.939Z"
      },
      {
        "duration": 536,
        "start_time": "2022-10-27T19:48:55.329Z"
      },
      {
        "duration": 525,
        "start_time": "2022-10-27T19:49:12.536Z"
      },
      {
        "duration": 14,
        "start_time": "2022-10-27T19:50:50.578Z"
      },
      {
        "duration": 1134,
        "start_time": "2022-10-27T19:51:13.263Z"
      },
      {
        "duration": 3356,
        "start_time": "2022-10-27T19:52:08.965Z"
      },
      {
        "duration": 3237,
        "start_time": "2022-10-27T19:52:28.084Z"
      },
      {
        "duration": 7,
        "start_time": "2022-10-27T19:57:36.513Z"
      },
      {
        "duration": 6,
        "start_time": "2022-10-27T19:57:55.097Z"
      },
      {
        "duration": 645,
        "start_time": "2022-10-27T20:02:14.583Z"
      },
      {
        "duration": 263,
        "start_time": "2022-10-27T20:46:02.195Z"
      },
      {
        "duration": 1312,
        "start_time": "2022-10-27T20:46:22.979Z"
      },
      {
        "duration": 58,
        "start_time": "2022-10-28T20:55:21.177Z"
      },
      {
        "duration": 1528,
        "start_time": "2022-10-28T20:55:36.717Z"
      },
      {
        "duration": 3071,
        "start_time": "2022-10-28T20:55:38.247Z"
      },
      {
        "duration": 34,
        "start_time": "2022-10-28T20:55:41.319Z"
      },
      {
        "duration": 29,
        "start_time": "2022-10-28T20:55:41.355Z"
      },
      {
        "duration": 37,
        "start_time": "2022-10-28T20:55:41.387Z"
      },
      {
        "duration": 12,
        "start_time": "2022-10-28T20:55:41.425Z"
      },
      {
        "duration": 51,
        "start_time": "2022-10-28T20:55:41.456Z"
      },
      {
        "duration": 26,
        "start_time": "2022-10-28T20:55:41.510Z"
      },
      {
        "duration": 34,
        "start_time": "2022-10-28T20:55:41.538Z"
      },
      {
        "duration": 43,
        "start_time": "2022-10-28T20:55:41.575Z"
      },
      {
        "duration": 33,
        "start_time": "2022-10-28T20:55:41.621Z"
      },
      {
        "duration": 3657,
        "start_time": "2022-10-28T20:55:41.656Z"
      },
      {
        "duration": 577,
        "start_time": "2022-10-28T20:55:45.314Z"
      },
      {
        "duration": 1271,
        "start_time": "2022-10-28T20:55:45.894Z"
      },
      {
        "duration": 42,
        "start_time": "2022-10-28T20:55:47.166Z"
      },
      {
        "duration": 0,
        "start_time": "2022-10-28T20:55:47.210Z"
      },
      {
        "duration": 96,
        "start_time": "2022-10-28T20:55:56.373Z"
      },
      {
        "duration": 19,
        "start_time": "2022-10-28T20:57:56.066Z"
      },
      {
        "duration": 15,
        "start_time": "2022-10-28T21:00:05.931Z"
      },
      {
        "duration": 16,
        "start_time": "2022-10-28T21:00:13.330Z"
      },
      {
        "duration": 19,
        "start_time": "2022-10-28T21:00:21.732Z"
      },
      {
        "duration": 16,
        "start_time": "2022-10-28T21:00:27.778Z"
      },
      {
        "duration": 14,
        "start_time": "2022-10-28T21:00:29.580Z"
      },
      {
        "duration": 14,
        "start_time": "2022-10-28T21:00:55.557Z"
      },
      {
        "duration": 55,
        "start_time": "2022-10-28T21:00:58.455Z"
      },
      {
        "duration": 4,
        "start_time": "2022-10-28T21:01:02.318Z"
      },
      {
        "duration": 24,
        "start_time": "2022-10-28T21:01:21.751Z"
      },
      {
        "duration": 12,
        "start_time": "2022-10-28T21:03:33.552Z"
      },
      {
        "duration": 11,
        "start_time": "2022-10-28T21:22:42.251Z"
      },
      {
        "duration": 18,
        "start_time": "2022-10-28T21:29:42.559Z"
      },
      {
        "duration": 56,
        "start_time": "2022-10-28T21:29:50.312Z"
      },
      {
        "duration": 44,
        "start_time": "2022-10-28T21:30:05.630Z"
      },
      {
        "duration": 54,
        "start_time": "2022-10-28T21:30:34.618Z"
      },
      {
        "duration": 44,
        "start_time": "2022-10-28T21:30:42.444Z"
      },
      {
        "duration": 49,
        "start_time": "2022-10-28T21:30:55.470Z"
      },
      {
        "duration": 68,
        "start_time": "2022-10-28T21:31:01.315Z"
      },
      {
        "duration": 47,
        "start_time": "2022-10-28T21:31:12.104Z"
      },
      {
        "duration": 3,
        "start_time": "2022-10-28T21:31:29.318Z"
      },
      {
        "duration": 3,
        "start_time": "2022-10-28T21:31:34.210Z"
      },
      {
        "duration": 11,
        "start_time": "2022-10-28T21:31:39.091Z"
      },
      {
        "duration": 47,
        "start_time": "2022-10-28T21:31:39.814Z"
      },
      {
        "duration": 46,
        "start_time": "2022-10-28T21:31:51.222Z"
      },
      {
        "duration": 13,
        "start_time": "2022-10-28T21:32:13.116Z"
      },
      {
        "duration": 5,
        "start_time": "2022-10-28T21:32:40.924Z"
      },
      {
        "duration": 707,
        "start_time": "2022-10-28T21:32:41.410Z"
      },
      {
        "duration": 5,
        "start_time": "2022-10-28T21:32:43.432Z"
      },
      {
        "duration": 661,
        "start_time": "2022-10-28T21:32:43.439Z"
      },
      {
        "duration": 29,
        "start_time": "2022-10-28T21:32:44.102Z"
      },
      {
        "duration": 43,
        "start_time": "2022-10-28T21:32:44.133Z"
      },
      {
        "duration": 30,
        "start_time": "2022-10-28T21:32:44.178Z"
      },
      {
        "duration": 10,
        "start_time": "2022-10-28T21:32:44.210Z"
      },
      {
        "duration": 33,
        "start_time": "2022-10-28T21:32:44.222Z"
      },
      {
        "duration": 8,
        "start_time": "2022-10-28T21:32:44.257Z"
      },
      {
        "duration": 12,
        "start_time": "2022-10-28T21:32:44.267Z"
      },
      {
        "duration": 10,
        "start_time": "2022-10-28T21:32:44.281Z"
      },
      {
        "duration": 17,
        "start_time": "2022-10-28T21:32:44.293Z"
      },
      {
        "duration": 3813,
        "start_time": "2022-10-28T21:32:44.312Z"
      },
      {
        "duration": 583,
        "start_time": "2022-10-28T21:32:48.127Z"
      },
      {
        "duration": 1482,
        "start_time": "2022-10-28T21:32:48.713Z"
      },
      {
        "duration": 21,
        "start_time": "2022-10-28T21:32:50.202Z"
      },
      {
        "duration": 13,
        "start_time": "2022-10-28T21:32:50.225Z"
      },
      {
        "duration": 0,
        "start_time": "2022-10-28T21:32:50.253Z"
      },
      {
        "duration": 0,
        "start_time": "2022-10-28T21:32:50.255Z"
      },
      {
        "duration": 3,
        "start_time": "2022-10-28T21:32:53.453Z"
      },
      {
        "duration": 11,
        "start_time": "2022-10-28T21:32:54.325Z"
      },
      {
        "duration": 13,
        "start_time": "2022-10-28T21:32:55.509Z"
      },
      {
        "duration": 7,
        "start_time": "2022-10-28T21:34:09.733Z"
      },
      {
        "duration": 8,
        "start_time": "2022-10-28T21:34:11.612Z"
      },
      {
        "duration": 728,
        "start_time": "2022-10-28T21:34:11.622Z"
      },
      {
        "duration": 33,
        "start_time": "2022-10-28T21:34:12.351Z"
      },
      {
        "duration": 33,
        "start_time": "2022-10-28T21:34:12.385Z"
      },
      {
        "duration": 51,
        "start_time": "2022-10-28T21:34:12.421Z"
      },
      {
        "duration": 10,
        "start_time": "2022-10-28T21:34:12.473Z"
      },
      {
        "duration": 15,
        "start_time": "2022-10-28T21:34:12.484Z"
      },
      {
        "duration": 9,
        "start_time": "2022-10-28T21:34:12.501Z"
      },
      {
        "duration": 10,
        "start_time": "2022-10-28T21:34:12.511Z"
      },
      {
        "duration": 44,
        "start_time": "2022-10-28T21:34:12.522Z"
      },
      {
        "duration": 25,
        "start_time": "2022-10-28T21:34:12.568Z"
      },
      {
        "duration": 3602,
        "start_time": "2022-10-28T21:34:12.595Z"
      },
      {
        "duration": 722,
        "start_time": "2022-10-28T21:34:16.198Z"
      },
      {
        "duration": 1361,
        "start_time": "2022-10-28T21:34:16.924Z"
      },
      {
        "duration": 4,
        "start_time": "2022-10-28T21:34:18.288Z"
      },
      {
        "duration": 6039,
        "start_time": "2022-10-28T21:34:18.331Z"
      },
      {
        "duration": 0,
        "start_time": "2022-10-28T21:34:24.372Z"
      },
      {
        "duration": 0,
        "start_time": "2022-10-28T21:34:24.374Z"
      },
      {
        "duration": 5721,
        "start_time": "2022-10-28T21:34:27.382Z"
      },
      {
        "duration": 6,
        "start_time": "2022-10-28T21:36:12.241Z"
      },
      {
        "duration": 27,
        "start_time": "2022-10-28T21:36:13.115Z"
      },
      {
        "duration": 17,
        "start_time": "2022-10-28T21:40:27.567Z"
      },
      {
        "duration": 15,
        "start_time": "2022-10-28T21:40:52.981Z"
      },
      {
        "duration": 543,
        "start_time": "2022-10-28T21:46:43.340Z"
      },
      {
        "duration": 64,
        "start_time": "2022-10-28T21:49:30.020Z"
      },
      {
        "duration": 29,
        "start_time": "2022-10-28T21:49:58.214Z"
      },
      {
        "duration": 27,
        "start_time": "2022-10-28T21:50:53.635Z"
      },
      {
        "duration": 6,
        "start_time": "2022-10-28T21:51:08.076Z"
      },
      {
        "duration": 5430,
        "start_time": "2022-10-28T21:52:01.651Z"
      },
      {
        "duration": 9,
        "start_time": "2022-10-28T21:52:15.857Z"
      },
      {
        "duration": 5672,
        "start_time": "2022-10-28T21:52:16.147Z"
      },
      {
        "duration": 13,
        "start_time": "2022-10-28T22:39:11.634Z"
      },
      {
        "duration": 6,
        "start_time": "2022-10-28T22:39:12.678Z"
      },
      {
        "duration": 5807,
        "start_time": "2022-10-28T22:39:13.485Z"
      },
      {
        "duration": 15,
        "start_time": "2022-10-28T22:41:09.502Z"
      },
      {
        "duration": 4,
        "start_time": "2022-10-28T22:41:40.895Z"
      },
      {
        "duration": 5,
        "start_time": "2022-10-28T22:42:34.681Z"
      },
      {
        "duration": 15,
        "start_time": "2022-10-28T22:46:15.966Z"
      },
      {
        "duration": 11,
        "start_time": "2022-10-28T22:46:38.753Z"
      },
      {
        "duration": 13,
        "start_time": "2022-10-28T22:47:03.164Z"
      },
      {
        "duration": 13,
        "start_time": "2022-10-28T22:47:10.914Z"
      },
      {
        "duration": 15,
        "start_time": "2022-10-28T22:47:27.210Z"
      },
      {
        "duration": 13,
        "start_time": "2022-10-28T22:54:55.869Z"
      },
      {
        "duration": 12,
        "start_time": "2022-10-28T22:55:22.153Z"
      },
      {
        "duration": 10,
        "start_time": "2022-10-28T22:56:42.969Z"
      },
      {
        "duration": 6,
        "start_time": "2022-10-28T22:56:45.189Z"
      },
      {
        "duration": 7,
        "start_time": "2022-10-28T22:56:51.506Z"
      },
      {
        "duration": 5886,
        "start_time": "2022-10-28T22:56:53.201Z"
      },
      {
        "duration": 38,
        "start_time": "2022-10-28T23:02:45.701Z"
      },
      {
        "duration": 34,
        "start_time": "2022-10-28T23:03:27.370Z"
      },
      {
        "duration": 838,
        "start_time": "2022-10-28T23:04:24.554Z"
      },
      {
        "duration": 1481,
        "start_time": "2022-10-28T23:04:55.665Z"
      },
      {
        "duration": 924,
        "start_time": "2022-10-28T23:04:59.168Z"
      },
      {
        "duration": 5836,
        "start_time": "2022-10-28T23:06:35.484Z"
      },
      {
        "duration": 0,
        "start_time": "2022-10-28T23:07:29.189Z"
      },
      {
        "duration": 20726,
        "start_time": "2022-10-28T23:07:48.863Z"
      },
      {
        "duration": 0,
        "start_time": "2022-10-28T23:09:10.475Z"
      },
      {
        "duration": 12333,
        "start_time": "2022-10-28T23:09:13.385Z"
      },
      {
        "duration": 19,
        "start_time": "2022-10-28T23:11:57.646Z"
      },
      {
        "duration": 0,
        "start_time": "2022-10-28T23:12:11.310Z"
      },
      {
        "duration": 6287,
        "start_time": "2022-10-28T23:12:13.518Z"
      },
      {
        "duration": 7,
        "start_time": "2022-10-29T00:27:11.323Z"
      },
      {
        "duration": 9,
        "start_time": "2022-10-29T00:27:21.522Z"
      },
      {
        "duration": 8,
        "start_time": "2022-10-29T00:34:00.141Z"
      },
      {
        "duration": 10,
        "start_time": "2022-10-29T00:34:08.205Z"
      },
      {
        "duration": 14,
        "start_time": "2022-10-29T00:34:37.206Z"
      },
      {
        "duration": 6,
        "start_time": "2022-10-29T00:34:50.731Z"
      },
      {
        "duration": 308541,
        "start_time": "2022-10-29T00:41:32.765Z"
      },
      {
        "duration": 4,
        "start_time": "2022-10-29T00:58:11.632Z"
      },
      {
        "duration": 18,
        "start_time": "2022-10-29T00:58:12.583Z"
      },
      {
        "duration": 10,
        "start_time": "2022-10-29T00:58:30.113Z"
      },
      {
        "duration": 6,
        "start_time": "2022-10-29T00:58:32.715Z"
      },
      {
        "duration": 64,
        "start_time": "2022-10-29T00:58:35.001Z"
      },
      {
        "duration": 9,
        "start_time": "2022-10-29T01:01:46.065Z"
      },
      {
        "duration": 45,
        "start_time": "2022-10-29T01:01:47.209Z"
      },
      {
        "duration": 1370,
        "start_time": "2022-10-29T01:01:53.480Z"
      },
      {
        "duration": 728,
        "start_time": "2022-10-29T01:01:54.852Z"
      },
      {
        "duration": 38,
        "start_time": "2022-10-29T01:01:55.583Z"
      },
      {
        "duration": 41,
        "start_time": "2022-10-29T01:01:55.622Z"
      },
      {
        "duration": 31,
        "start_time": "2022-10-29T01:01:55.665Z"
      },
      {
        "duration": 9,
        "start_time": "2022-10-29T01:01:55.698Z"
      },
      {
        "duration": 38,
        "start_time": "2022-10-29T01:01:55.709Z"
      },
      {
        "duration": 8,
        "start_time": "2022-10-29T01:01:55.755Z"
      },
      {
        "duration": 12,
        "start_time": "2022-10-29T01:01:55.765Z"
      },
      {
        "duration": 30,
        "start_time": "2022-10-29T01:01:55.778Z"
      },
      {
        "duration": 57,
        "start_time": "2022-10-29T01:01:55.810Z"
      },
      {
        "duration": 3744,
        "start_time": "2022-10-29T01:01:55.869Z"
      },
      {
        "duration": 583,
        "start_time": "2022-10-29T01:01:59.615Z"
      },
      {
        "duration": 1294,
        "start_time": "2022-10-29T01:02:00.201Z"
      },
      {
        "duration": 3,
        "start_time": "2022-10-29T01:02:01.497Z"
      },
      {
        "duration": 18,
        "start_time": "2022-10-29T01:02:01.503Z"
      },
      {
        "duration": 50,
        "start_time": "2022-10-29T01:02:01.524Z"
      },
      {
        "duration": 19,
        "start_time": "2022-10-29T01:02:01.576Z"
      },
      {
        "duration": 6333,
        "start_time": "2022-10-29T01:02:01.597Z"
      },
      {
        "duration": 7,
        "start_time": "2022-10-29T01:03:01.919Z"
      },
      {
        "duration": 5867,
        "start_time": "2022-10-29T01:03:02.371Z"
      },
      {
        "duration": 43,
        "start_time": "2022-10-29T21:18:13.965Z"
      },
      {
        "duration": 1595,
        "start_time": "2022-10-29T21:18:17.212Z"
      },
      {
        "duration": 1811,
        "start_time": "2022-10-29T21:18:18.809Z"
      },
      {
        "duration": 29,
        "start_time": "2022-10-29T21:18:20.622Z"
      },
      {
        "duration": 26,
        "start_time": "2022-10-29T21:18:20.653Z"
      },
      {
        "duration": 45,
        "start_time": "2022-10-29T21:18:20.681Z"
      },
      {
        "duration": 15,
        "start_time": "2022-10-29T21:18:20.728Z"
      },
      {
        "duration": 20,
        "start_time": "2022-10-29T21:18:20.745Z"
      },
      {
        "duration": 8,
        "start_time": "2022-10-29T21:18:20.767Z"
      },
      {
        "duration": 32,
        "start_time": "2022-10-29T21:18:20.778Z"
      },
      {
        "duration": 7,
        "start_time": "2022-10-29T21:18:20.812Z"
      },
      {
        "duration": 16,
        "start_time": "2022-10-29T21:18:20.821Z"
      },
      {
        "duration": 3405,
        "start_time": "2022-10-29T21:18:20.839Z"
      },
      {
        "duration": 487,
        "start_time": "2022-10-29T21:18:24.246Z"
      },
      {
        "duration": 1247,
        "start_time": "2022-10-29T21:18:24.735Z"
      },
      {
        "duration": 3,
        "start_time": "2022-10-29T21:18:25.983Z"
      },
      {
        "duration": 15,
        "start_time": "2022-10-29T21:18:25.987Z"
      },
      {
        "duration": 33,
        "start_time": "2022-10-29T21:18:26.004Z"
      },
      {
        "duration": 6,
        "start_time": "2022-10-29T21:18:26.039Z"
      },
      {
        "duration": 5236,
        "start_time": "2022-10-29T21:18:26.046Z"
      },
      {
        "duration": 0,
        "start_time": "2022-10-29T21:18:31.283Z"
      },
      {
        "duration": 9,
        "start_time": "2022-10-29T21:18:39.225Z"
      },
      {
        "duration": 10,
        "start_time": "2022-10-29T21:18:59.382Z"
      },
      {
        "duration": 10,
        "start_time": "2022-10-29T21:35:04.948Z"
      },
      {
        "duration": 10,
        "start_time": "2022-10-29T21:35:22.367Z"
      },
      {
        "duration": 10,
        "start_time": "2022-10-29T21:42:21.465Z"
      },
      {
        "duration": 5,
        "start_time": "2022-10-29T21:43:44.258Z"
      },
      {
        "duration": 4,
        "start_time": "2022-10-29T21:44:07.440Z"
      },
      {
        "duration": 10,
        "start_time": "2022-10-29T21:44:21.291Z"
      },
      {
        "duration": 384,
        "start_time": "2022-10-29T21:51:30.084Z"
      },
      {
        "duration": 368,
        "start_time": "2022-10-29T21:53:12.147Z"
      },
      {
        "duration": 372,
        "start_time": "2022-10-29T21:54:59.372Z"
      },
      {
        "duration": 683,
        "start_time": "2022-10-29T21:55:08.053Z"
      },
      {
        "duration": 36,
        "start_time": "2022-10-29T21:55:15.519Z"
      },
      {
        "duration": 24,
        "start_time": "2022-10-29T21:55:17.778Z"
      },
      {
        "duration": 44,
        "start_time": "2022-10-29T21:55:30.732Z"
      },
      {
        "duration": 7,
        "start_time": "2022-10-29T21:55:46.010Z"
      },
      {
        "duration": 601,
        "start_time": "2022-10-29T21:55:46.019Z"
      },
      {
        "duration": 25,
        "start_time": "2022-10-29T21:55:46.621Z"
      },
      {
        "duration": 23,
        "start_time": "2022-10-29T21:55:46.648Z"
      },
      {
        "duration": 33,
        "start_time": "2022-10-29T21:55:46.673Z"
      },
      {
        "duration": 10,
        "start_time": "2022-10-29T21:55:46.707Z"
      },
      {
        "duration": 11,
        "start_time": "2022-10-29T21:55:46.718Z"
      },
      {
        "duration": 8,
        "start_time": "2022-10-29T21:55:46.731Z"
      },
      {
        "duration": 14,
        "start_time": "2022-10-29T21:55:46.741Z"
      },
      {
        "duration": 0,
        "start_time": "2022-10-29T21:55:46.757Z"
      },
      {
        "duration": 0,
        "start_time": "2022-10-29T21:55:46.758Z"
      },
      {
        "duration": 0,
        "start_time": "2022-10-29T21:55:46.760Z"
      },
      {
        "duration": 0,
        "start_time": "2022-10-29T21:55:46.761Z"
      },
      {
        "duration": 0,
        "start_time": "2022-10-29T21:55:46.763Z"
      },
      {
        "duration": 0,
        "start_time": "2022-10-29T21:55:46.764Z"
      },
      {
        "duration": 0,
        "start_time": "2022-10-29T21:55:46.765Z"
      },
      {
        "duration": 0,
        "start_time": "2022-10-29T21:55:46.806Z"
      },
      {
        "duration": 0,
        "start_time": "2022-10-29T21:55:46.808Z"
      },
      {
        "duration": 0,
        "start_time": "2022-10-29T21:55:46.809Z"
      },
      {
        "duration": 96,
        "start_time": "2022-10-29T21:56:13.288Z"
      },
      {
        "duration": 146,
        "start_time": "2022-10-29T21:56:17.454Z"
      },
      {
        "duration": 31,
        "start_time": "2022-10-29T21:58:48.052Z"
      },
      {
        "duration": 573,
        "start_time": "2022-10-29T22:02:02.286Z"
      },
      {
        "duration": 29,
        "start_time": "2022-10-29T22:02:03.195Z"
      },
      {
        "duration": 24,
        "start_time": "2022-10-29T22:02:04.666Z"
      },
      {
        "duration": 31,
        "start_time": "2022-10-29T22:02:05.138Z"
      },
      {
        "duration": 12,
        "start_time": "2022-10-29T22:02:05.813Z"
      },
      {
        "duration": 11,
        "start_time": "2022-10-29T22:02:06.381Z"
      },
      {
        "duration": 9,
        "start_time": "2022-10-29T22:02:07.325Z"
      },
      {
        "duration": 7,
        "start_time": "2022-10-29T22:02:08.984Z"
      },
      {
        "duration": 8,
        "start_time": "2022-10-29T22:02:14.988Z"
      },
      {
        "duration": 16,
        "start_time": "2022-10-29T22:02:16.388Z"
      },
      {
        "duration": 3702,
        "start_time": "2022-10-29T22:02:17.934Z"
      },
      {
        "duration": 526,
        "start_time": "2022-10-29T22:02:21.638Z"
      },
      {
        "duration": 1535,
        "start_time": "2022-10-29T22:02:26.662Z"
      },
      {
        "duration": 73,
        "start_time": "2022-10-29T22:02:32.316Z"
      },
      {
        "duration": 4,
        "start_time": "2022-10-29T22:02:38.399Z"
      },
      {
        "duration": 10,
        "start_time": "2022-10-29T22:02:39.569Z"
      },
      {
        "duration": 10,
        "start_time": "2022-10-29T22:03:00.841Z"
      },
      {
        "duration": 8,
        "start_time": "2022-10-29T22:03:01.340Z"
      },
      {
        "duration": 1328,
        "start_time": "2022-10-29T22:28:47.411Z"
      },
      {
        "duration": 667,
        "start_time": "2022-10-29T22:28:48.740Z"
      },
      {
        "duration": 29,
        "start_time": "2022-10-29T22:28:49.408Z"
      },
      {
        "duration": 25,
        "start_time": "2022-10-29T22:28:50.328Z"
      },
      {
        "duration": 25,
        "start_time": "2022-10-29T22:28:53.759Z"
      },
      {
        "duration": 6,
        "start_time": "2022-10-29T22:28:57.034Z"
      },
      {
        "duration": 710,
        "start_time": "2022-10-29T22:28:57.042Z"
      },
      {
        "duration": 25,
        "start_time": "2022-10-29T22:28:57.754Z"
      },
      {
        "duration": 35,
        "start_time": "2022-10-29T22:28:57.781Z"
      },
      {
        "duration": 24,
        "start_time": "2022-10-29T22:28:57.817Z"
      },
      {
        "duration": 10,
        "start_time": "2022-10-29T22:28:57.842Z"
      },
      {
        "duration": 12,
        "start_time": "2022-10-29T22:28:57.854Z"
      },
      {
        "duration": 9,
        "start_time": "2022-10-29T22:28:57.867Z"
      },
      {
        "duration": 7,
        "start_time": "2022-10-29T22:28:57.907Z"
      },
      {
        "duration": 30,
        "start_time": "2022-10-29T22:28:57.915Z"
      },
      {
        "duration": 29,
        "start_time": "2022-10-29T22:28:57.947Z"
      },
      {
        "duration": 3356,
        "start_time": "2022-10-29T22:28:57.977Z"
      },
      {
        "duration": 480,
        "start_time": "2022-10-29T22:29:01.334Z"
      },
      {
        "duration": 1255,
        "start_time": "2022-10-29T22:29:01.816Z"
      },
      {
        "duration": 3,
        "start_time": "2022-10-29T22:29:03.073Z"
      },
      {
        "duration": 5,
        "start_time": "2022-10-29T22:29:03.078Z"
      },
      {
        "duration": 28,
        "start_time": "2022-10-29T22:29:03.085Z"
      },
      {
        "duration": 6,
        "start_time": "2022-10-29T22:29:03.115Z"
      },
      {
        "duration": 44,
        "start_time": "2022-10-29T22:42:26.526Z"
      },
      {
        "duration": 1343,
        "start_time": "2022-10-29T22:42:31.184Z"
      },
      {
        "duration": 647,
        "start_time": "2022-10-29T22:42:32.529Z"
      },
      {
        "duration": 34,
        "start_time": "2022-10-29T22:42:33.178Z"
      },
      {
        "duration": 25,
        "start_time": "2022-10-29T22:42:33.214Z"
      },
      {
        "duration": 24,
        "start_time": "2022-10-29T22:42:33.242Z"
      },
      {
        "duration": 10,
        "start_time": "2022-10-29T22:42:33.268Z"
      },
      {
        "duration": 16,
        "start_time": "2022-10-29T22:42:33.305Z"
      },
      {
        "duration": 9,
        "start_time": "2022-10-29T22:42:33.323Z"
      },
      {
        "duration": 8,
        "start_time": "2022-10-29T22:42:33.333Z"
      },
      {
        "duration": 7,
        "start_time": "2022-10-29T22:42:33.343Z"
      },
      {
        "duration": 13,
        "start_time": "2022-10-29T22:42:33.351Z"
      },
      {
        "duration": 3581,
        "start_time": "2022-10-29T22:42:33.366Z"
      },
      {
        "duration": 891,
        "start_time": "2022-10-29T22:42:36.948Z"
      },
      {
        "duration": 1444,
        "start_time": "2022-10-29T22:42:37.842Z"
      },
      {
        "duration": 951,
        "start_time": "2022-10-29T22:42:39.287Z"
      },
      {
        "duration": 3,
        "start_time": "2022-10-29T22:42:40.240Z"
      },
      {
        "duration": 12,
        "start_time": "2022-10-29T22:42:40.244Z"
      },
      {
        "duration": 5,
        "start_time": "2022-10-29T22:42:40.258Z"
      },
      {
        "duration": 1246,
        "start_time": "2022-10-29T22:45:43.369Z"
      },
      {
        "duration": 632,
        "start_time": "2022-10-29T22:45:44.617Z"
      },
      {
        "duration": 127,
        "start_time": "2022-10-29T22:45:45.251Z"
      },
      {
        "duration": 0,
        "start_time": "2022-10-29T22:45:45.380Z"
      },
      {
        "duration": 0,
        "start_time": "2022-10-29T22:45:45.381Z"
      },
      {
        "duration": 0,
        "start_time": "2022-10-29T22:45:45.382Z"
      },
      {
        "duration": 0,
        "start_time": "2022-10-29T22:45:45.383Z"
      },
      {
        "duration": 0,
        "start_time": "2022-10-29T22:45:45.384Z"
      },
      {
        "duration": 0,
        "start_time": "2022-10-29T22:45:45.385Z"
      },
      {
        "duration": 0,
        "start_time": "2022-10-29T22:45:45.386Z"
      },
      {
        "duration": 0,
        "start_time": "2022-10-29T22:45:45.387Z"
      },
      {
        "duration": 0,
        "start_time": "2022-10-29T22:45:45.405Z"
      },
      {
        "duration": 0,
        "start_time": "2022-10-29T22:45:45.406Z"
      },
      {
        "duration": 0,
        "start_time": "2022-10-29T22:45:45.407Z"
      },
      {
        "duration": 0,
        "start_time": "2022-10-29T22:45:45.408Z"
      },
      {
        "duration": 0,
        "start_time": "2022-10-29T22:45:45.409Z"
      },
      {
        "duration": 0,
        "start_time": "2022-10-29T22:45:45.410Z"
      },
      {
        "duration": 0,
        "start_time": "2022-10-29T22:45:45.411Z"
      },
      {
        "duration": 0,
        "start_time": "2022-10-29T22:45:45.412Z"
      },
      {
        "duration": 33,
        "start_time": "2022-10-29T22:46:03.164Z"
      },
      {
        "duration": 709,
        "start_time": "2022-10-29T22:48:59.350Z"
      },
      {
        "duration": 703,
        "start_time": "2022-10-29T22:49:18.385Z"
      },
      {
        "duration": 700,
        "start_time": "2022-10-29T22:49:29.351Z"
      },
      {
        "duration": 683,
        "start_time": "2022-10-29T22:49:47.812Z"
      },
      {
        "duration": 8,
        "start_time": "2022-10-29T22:52:09.401Z"
      },
      {
        "duration": 6,
        "start_time": "2022-10-29T22:52:24.683Z"
      },
      {
        "duration": 9,
        "start_time": "2022-10-29T22:52:25.124Z"
      },
      {
        "duration": 1291,
        "start_time": "2022-10-29T22:52:30.011Z"
      },
      {
        "duration": 878,
        "start_time": "2022-10-29T22:52:32.669Z"
      },
      {
        "duration": 1202,
        "start_time": "2022-10-29T22:53:02.273Z"
      },
      {
        "duration": 849,
        "start_time": "2022-10-29T22:53:03.476Z"
      },
      {
        "duration": 4,
        "start_time": "2022-10-29T22:53:09.555Z"
      },
      {
        "duration": 8,
        "start_time": "2022-10-29T22:53:10.964Z"
      },
      {
        "duration": 5,
        "start_time": "2022-10-29T22:53:12.121Z"
      },
      {
        "duration": 1291,
        "start_time": "2022-10-29T23:03:37.929Z"
      },
      {
        "duration": 641,
        "start_time": "2022-10-29T23:03:39.222Z"
      },
      {
        "duration": 43,
        "start_time": "2022-10-29T23:03:39.865Z"
      },
      {
        "duration": 23,
        "start_time": "2022-10-29T23:03:39.910Z"
      },
      {
        "duration": 22,
        "start_time": "2022-10-29T23:03:39.936Z"
      },
      {
        "duration": 10,
        "start_time": "2022-10-29T23:03:39.960Z"
      },
      {
        "duration": 47,
        "start_time": "2022-10-29T23:03:39.972Z"
      },
      {
        "duration": 9,
        "start_time": "2022-10-29T23:03:40.021Z"
      },
      {
        "duration": 8,
        "start_time": "2022-10-29T23:03:40.031Z"
      },
      {
        "duration": 8,
        "start_time": "2022-10-29T23:03:40.041Z"
      },
      {
        "duration": 13,
        "start_time": "2022-10-29T23:03:40.051Z"
      },
      {
        "duration": 3448,
        "start_time": "2022-10-29T23:03:40.066Z"
      },
      {
        "duration": 520,
        "start_time": "2022-10-29T23:03:43.515Z"
      },
      {
        "duration": 1233,
        "start_time": "2022-10-29T23:03:44.037Z"
      },
      {
        "duration": 968,
        "start_time": "2022-10-29T23:03:45.272Z"
      },
      {
        "duration": 4,
        "start_time": "2022-10-29T23:03:46.241Z"
      },
      {
        "duration": 13,
        "start_time": "2022-10-29T23:03:46.246Z"
      },
      {
        "duration": 6,
        "start_time": "2022-10-29T23:03:46.260Z"
      },
      {
        "duration": 343938,
        "start_time": "2022-10-29T23:03:46.268Z"
      },
      {
        "duration": 1322,
        "start_time": "2022-10-29T23:11:47.488Z"
      },
      {
        "duration": 647,
        "start_time": "2022-10-29T23:11:48.812Z"
      },
      {
        "duration": 46,
        "start_time": "2022-10-29T23:11:49.461Z"
      },
      {
        "duration": 22,
        "start_time": "2022-10-29T23:11:49.509Z"
      },
      {
        "duration": 23,
        "start_time": "2022-10-29T23:11:49.533Z"
      },
      {
        "duration": 9,
        "start_time": "2022-10-29T23:11:49.558Z"
      },
      {
        "duration": 38,
        "start_time": "2022-10-29T23:11:49.568Z"
      },
      {
        "duration": 9,
        "start_time": "2022-10-29T23:11:49.608Z"
      },
      {
        "duration": 8,
        "start_time": "2022-10-29T23:11:49.619Z"
      },
      {
        "duration": 10,
        "start_time": "2022-10-29T23:11:49.628Z"
      },
      {
        "duration": 14,
        "start_time": "2022-10-29T23:11:49.640Z"
      },
      {
        "duration": 3448,
        "start_time": "2022-10-29T23:11:49.655Z"
      },
      {
        "duration": 508,
        "start_time": "2022-10-29T23:11:53.105Z"
      },
      {
        "duration": 1261,
        "start_time": "2022-10-29T23:11:53.615Z"
      },
      {
        "duration": 958,
        "start_time": "2022-10-29T23:11:54.878Z"
      },
      {
        "duration": 3,
        "start_time": "2022-10-29T23:11:55.838Z"
      },
      {
        "duration": 10,
        "start_time": "2022-10-29T23:11:55.842Z"
      },
      {
        "duration": 6,
        "start_time": "2022-10-29T23:11:55.853Z"
      },
      {
        "duration": 331284,
        "start_time": "2022-10-29T23:11:55.860Z"
      },
      {
        "duration": 0,
        "start_time": "2022-10-29T23:17:27.146Z"
      },
      {
        "duration": 0,
        "start_time": "2022-10-29T23:17:27.147Z"
      },
      {
        "duration": 0,
        "start_time": "2022-10-29T23:17:27.148Z"
      },
      {
        "duration": 0,
        "start_time": "2022-10-29T23:17:27.149Z"
      },
      {
        "duration": 0,
        "start_time": "2022-10-29T23:17:27.150Z"
      },
      {
        "duration": 0,
        "start_time": "2022-10-29T23:17:27.151Z"
      },
      {
        "duration": 795,
        "start_time": "2022-10-29T23:17:29.040Z"
      },
      {
        "duration": 3,
        "start_time": "2022-10-29T23:17:35.301Z"
      },
      {
        "duration": 10,
        "start_time": "2022-10-29T23:17:37.324Z"
      },
      {
        "duration": 5,
        "start_time": "2022-10-29T23:17:39.585Z"
      },
      {
        "duration": 358474,
        "start_time": "2022-10-29T23:17:53.839Z"
      },
      {
        "duration": 351496,
        "start_time": "2022-10-29T23:26:54.410Z"
      },
      {
        "duration": 309,
        "start_time": "2022-10-29T23:33:16.299Z"
      },
      {
        "duration": 862,
        "start_time": "2022-10-29T23:33:19.248Z"
      },
      {
        "duration": 3,
        "start_time": "2022-10-29T23:33:24.820Z"
      },
      {
        "duration": 11,
        "start_time": "2022-10-29T23:33:26.747Z"
      },
      {
        "duration": 828,
        "start_time": "2022-10-29T23:49:51.709Z"
      },
      {
        "duration": 1148,
        "start_time": "2022-10-30T12:49:57.523Z"
      },
      {
        "duration": 1205,
        "start_time": "2022-10-30T13:00:29.907Z"
      },
      {
        "duration": 6,
        "start_time": "2022-10-30T13:01:32.579Z"
      },
      {
        "duration": 15,
        "start_time": "2022-10-30T13:02:29.408Z"
      },
      {
        "duration": 8,
        "start_time": "2022-10-30T13:03:06.322Z"
      },
      {
        "duration": 6,
        "start_time": "2022-10-30T13:08:02.681Z"
      },
      {
        "duration": 41,
        "start_time": "2022-10-30T13:25:16.452Z"
      },
      {
        "duration": 6,
        "start_time": "2022-10-30T13:26:00.367Z"
      },
      {
        "duration": 27,
        "start_time": "2022-10-30T13:26:03.228Z"
      },
      {
        "duration": 12,
        "start_time": "2022-10-30T13:26:23.260Z"
      },
      {
        "duration": 6,
        "start_time": "2022-10-30T13:39:25.039Z"
      },
      {
        "duration": 43,
        "start_time": "2022-10-30T13:39:26.588Z"
      },
      {
        "duration": 8,
        "start_time": "2022-10-30T14:08:25.047Z"
      },
      {
        "duration": 1622,
        "start_time": "2022-10-30T14:11:40.778Z"
      },
      {
        "duration": 692,
        "start_time": "2022-10-30T14:11:42.402Z"
      },
      {
        "duration": 40,
        "start_time": "2022-10-30T14:11:43.095Z"
      },
      {
        "duration": 27,
        "start_time": "2022-10-30T14:11:43.138Z"
      },
      {
        "duration": 53,
        "start_time": "2022-10-30T14:11:43.166Z"
      },
      {
        "duration": 13,
        "start_time": "2022-10-30T14:11:43.221Z"
      },
      {
        "duration": 19,
        "start_time": "2022-10-30T14:11:43.236Z"
      },
      {
        "duration": 8,
        "start_time": "2022-10-30T14:11:43.257Z"
      },
      {
        "duration": 40,
        "start_time": "2022-10-30T14:11:43.267Z"
      },
      {
        "duration": 13,
        "start_time": "2022-10-30T14:11:43.309Z"
      },
      {
        "duration": 19,
        "start_time": "2022-10-30T14:11:43.325Z"
      },
      {
        "duration": 3682,
        "start_time": "2022-10-30T14:11:43.346Z"
      },
      {
        "duration": 561,
        "start_time": "2022-10-30T14:11:47.030Z"
      },
      {
        "duration": 1385,
        "start_time": "2022-10-30T14:11:47.593Z"
      },
      {
        "duration": 12,
        "start_time": "2022-10-30T14:11:48.980Z"
      },
      {
        "duration": 11,
        "start_time": "2022-10-30T14:11:48.994Z"
      },
      {
        "duration": 13,
        "start_time": "2022-10-30T14:11:49.007Z"
      },
      {
        "duration": 116,
        "start_time": "2022-10-30T14:11:49.022Z"
      },
      {
        "duration": 1860,
        "start_time": "2022-10-30T14:11:49.139Z"
      },
      {
        "duration": 0,
        "start_time": "2022-10-30T14:11:51.000Z"
      },
      {
        "duration": 0,
        "start_time": "2022-10-30T14:11:51.001Z"
      },
      {
        "duration": 0,
        "start_time": "2022-10-30T14:11:51.002Z"
      },
      {
        "duration": 0,
        "start_time": "2022-10-30T14:11:51.005Z"
      },
      {
        "duration": 0,
        "start_time": "2022-10-30T14:11:51.007Z"
      },
      {
        "duration": 6,
        "start_time": "2022-10-30T14:12:23.011Z"
      },
      {
        "duration": 1413,
        "start_time": "2022-10-30T14:13:50.187Z"
      },
      {
        "duration": 655,
        "start_time": "2022-10-30T14:13:51.602Z"
      },
      {
        "duration": 35,
        "start_time": "2022-10-30T14:13:52.258Z"
      },
      {
        "duration": 34,
        "start_time": "2022-10-30T14:13:52.295Z"
      },
      {
        "duration": 32,
        "start_time": "2022-10-30T14:13:52.333Z"
      },
      {
        "duration": 10,
        "start_time": "2022-10-30T14:13:52.366Z"
      },
      {
        "duration": 41,
        "start_time": "2022-10-30T14:13:52.377Z"
      },
      {
        "duration": 11,
        "start_time": "2022-10-30T14:13:52.420Z"
      },
      {
        "duration": 9,
        "start_time": "2022-10-30T14:13:52.432Z"
      },
      {
        "duration": 15,
        "start_time": "2022-10-30T14:13:52.443Z"
      },
      {
        "duration": 12,
        "start_time": "2022-10-30T14:13:52.460Z"
      },
      {
        "duration": 3691,
        "start_time": "2022-10-30T14:13:52.473Z"
      },
      {
        "duration": 581,
        "start_time": "2022-10-30T14:13:56.166Z"
      },
      {
        "duration": 1272,
        "start_time": "2022-10-30T14:13:56.750Z"
      },
      {
        "duration": 14,
        "start_time": "2022-10-30T14:13:58.025Z"
      },
      {
        "duration": 6,
        "start_time": "2022-10-30T14:13:58.041Z"
      },
      {
        "duration": 12,
        "start_time": "2022-10-30T14:13:58.048Z"
      },
      {
        "duration": 127,
        "start_time": "2022-10-30T14:13:58.062Z"
      },
      {
        "duration": 626227,
        "start_time": "2022-10-30T14:13:58.191Z"
      },
      {
        "duration": 610599,
        "start_time": "2022-10-30T14:24:24.420Z"
      },
      {
        "duration": 485,
        "start_time": "2022-10-30T14:34:35.021Z"
      },
      {
        "duration": 8702,
        "start_time": "2022-10-30T14:34:35.508Z"
      },
      {
        "duration": 5,
        "start_time": "2022-10-30T14:34:44.212Z"
      },
      {
        "duration": 93,
        "start_time": "2022-10-30T14:34:44.219Z"
      },
      {
        "duration": 5,
        "start_time": "2022-10-30T14:43:57.793Z"
      },
      {
        "duration": 1733,
        "start_time": "2022-10-30T14:44:00.009Z"
      },
      {
        "duration": 5,
        "start_time": "2022-10-30T14:44:52.756Z"
      },
      {
        "duration": 1531,
        "start_time": "2022-10-30T14:44:53.876Z"
      },
      {
        "duration": 8,
        "start_time": "2022-10-30T14:49:34.403Z"
      },
      {
        "duration": 7,
        "start_time": "2022-10-30T14:55:32.622Z"
      },
      {
        "duration": 657,
        "start_time": "2022-10-30T14:55:34.821Z"
      },
      {
        "duration": 5,
        "start_time": "2022-10-30T14:55:49.891Z"
      },
      {
        "duration": 1547,
        "start_time": "2022-10-30T14:55:50.682Z"
      },
      {
        "duration": 0,
        "start_time": "2022-10-30T14:55:52.231Z"
      },
      {
        "duration": 1565,
        "start_time": "2022-10-30T14:55:59.504Z"
      },
      {
        "duration": 10,
        "start_time": "2022-10-30T15:00:26.961Z"
      },
      {
        "duration": 3,
        "start_time": "2022-10-30T15:00:27.760Z"
      },
      {
        "duration": 9,
        "start_time": "2022-10-30T15:00:35.759Z"
      },
      {
        "duration": 10,
        "start_time": "2022-10-30T15:00:36.960Z"
      },
      {
        "duration": 4,
        "start_time": "2022-10-30T15:00:37.420Z"
      },
      {
        "duration": 9,
        "start_time": "2022-10-30T15:00:38.997Z"
      },
      {
        "duration": 1807,
        "start_time": "2022-10-30T15:52:53.097Z"
      },
      {
        "duration": 1979,
        "start_time": "2022-10-30T15:52:54.906Z"
      },
      {
        "duration": 35,
        "start_time": "2022-10-30T15:52:56.887Z"
      },
      {
        "duration": 24,
        "start_time": "2022-10-30T15:52:56.924Z"
      },
      {
        "duration": 24,
        "start_time": "2022-10-30T15:52:56.950Z"
      },
      {
        "duration": 33,
        "start_time": "2022-10-30T15:52:56.976Z"
      },
      {
        "duration": 15,
        "start_time": "2022-10-30T15:52:57.010Z"
      },
      {
        "duration": 10,
        "start_time": "2022-10-30T15:52:57.027Z"
      },
      {
        "duration": 11,
        "start_time": "2022-10-30T15:52:57.039Z"
      },
      {
        "duration": 12,
        "start_time": "2022-10-30T15:52:57.052Z"
      },
      {
        "duration": 42,
        "start_time": "2022-10-30T15:52:57.065Z"
      },
      {
        "duration": 3526,
        "start_time": "2022-10-30T15:52:57.109Z"
      },
      {
        "duration": 531,
        "start_time": "2022-10-30T15:53:00.637Z"
      },
      {
        "duration": 1216,
        "start_time": "2022-10-30T15:53:01.170Z"
      },
      {
        "duration": 11,
        "start_time": "2022-10-30T15:53:02.388Z"
      },
      {
        "duration": 3,
        "start_time": "2022-10-30T15:53:02.405Z"
      },
      {
        "duration": 11,
        "start_time": "2022-10-30T15:53:02.410Z"
      },
      {
        "duration": 7,
        "start_time": "2022-10-30T15:53:02.423Z"
      },
      {
        "duration": 7,
        "start_time": "2022-10-30T15:53:33.842Z"
      },
      {
        "duration": 9,
        "start_time": "2022-10-30T15:54:57.960Z"
      },
      {
        "duration": 5,
        "start_time": "2022-10-30T15:54:59.625Z"
      },
      {
        "duration": 6,
        "start_time": "2022-10-30T15:55:14.647Z"
      },
      {
        "duration": 8,
        "start_time": "2022-10-30T15:55:18.113Z"
      },
      {
        "duration": 6,
        "start_time": "2022-10-30T15:55:21.904Z"
      },
      {
        "duration": 5,
        "start_time": "2022-10-30T15:56:06.628Z"
      },
      {
        "duration": 663,
        "start_time": "2022-10-30T15:56:06.635Z"
      },
      {
        "duration": 181,
        "start_time": "2022-10-30T15:56:07.300Z"
      },
      {
        "duration": 47,
        "start_time": "2022-10-30T15:56:07.484Z"
      },
      {
        "duration": 35,
        "start_time": "2022-10-30T15:56:07.533Z"
      },
      {
        "duration": 9,
        "start_time": "2022-10-30T15:56:07.569Z"
      },
      {
        "duration": 26,
        "start_time": "2022-10-30T15:56:07.580Z"
      },
      {
        "duration": 10,
        "start_time": "2022-10-30T15:56:07.609Z"
      },
      {
        "duration": 8,
        "start_time": "2022-10-30T15:56:07.622Z"
      },
      {
        "duration": 21,
        "start_time": "2022-10-30T15:56:07.632Z"
      },
      {
        "duration": 14,
        "start_time": "2022-10-30T15:56:07.655Z"
      },
      {
        "duration": 3560,
        "start_time": "2022-10-30T15:56:07.670Z"
      },
      {
        "duration": 519,
        "start_time": "2022-10-30T15:56:11.231Z"
      },
      {
        "duration": 1433,
        "start_time": "2022-10-30T15:56:11.752Z"
      },
      {
        "duration": 4,
        "start_time": "2022-10-30T15:56:13.187Z"
      },
      {
        "duration": 22,
        "start_time": "2022-10-30T15:56:13.193Z"
      },
      {
        "duration": 4,
        "start_time": "2022-10-30T15:56:13.217Z"
      },
      {
        "duration": 11,
        "start_time": "2022-10-30T15:56:13.223Z"
      },
      {
        "duration": 4,
        "start_time": "2022-10-30T15:56:58.564Z"
      },
      {
        "duration": 9,
        "start_time": "2022-10-30T15:57:00.427Z"
      },
      {
        "duration": 5,
        "start_time": "2022-10-30T15:57:01.420Z"
      },
      {
        "duration": 251740,
        "start_time": "2022-10-30T15:57:07.969Z"
      },
      {
        "duration": 15,
        "start_time": "2022-10-30T17:36:46.008Z"
      },
      {
        "duration": 8,
        "start_time": "2022-10-30T17:38:09.192Z"
      },
      {
        "duration": 8,
        "start_time": "2022-10-30T17:38:20.718Z"
      },
      {
        "duration": 3,
        "start_time": "2022-10-30T17:38:23.279Z"
      },
      {
        "duration": 12,
        "start_time": "2022-10-30T17:38:24.848Z"
      },
      {
        "duration": 5,
        "start_time": "2022-10-30T17:38:25.888Z"
      },
      {
        "duration": 1666,
        "start_time": "2022-10-30T17:40:00.793Z"
      },
      {
        "duration": 756,
        "start_time": "2022-10-30T17:40:02.461Z"
      },
      {
        "duration": 38,
        "start_time": "2022-10-30T17:40:03.219Z"
      },
      {
        "duration": 25,
        "start_time": "2022-10-30T17:40:03.258Z"
      },
      {
        "duration": 43,
        "start_time": "2022-10-30T17:40:03.285Z"
      },
      {
        "duration": 10,
        "start_time": "2022-10-30T17:40:03.330Z"
      },
      {
        "duration": 15,
        "start_time": "2022-10-30T17:40:03.342Z"
      },
      {
        "duration": 7,
        "start_time": "2022-10-30T17:40:03.359Z"
      },
      {
        "duration": 38,
        "start_time": "2022-10-30T17:40:03.369Z"
      },
      {
        "duration": 13,
        "start_time": "2022-10-30T17:40:03.409Z"
      },
      {
        "duration": 13,
        "start_time": "2022-10-30T17:40:03.424Z"
      },
      {
        "duration": 3485,
        "start_time": "2022-10-30T17:40:03.439Z"
      },
      {
        "duration": 522,
        "start_time": "2022-10-30T17:40:06.926Z"
      },
      {
        "duration": 1325,
        "start_time": "2022-10-30T17:40:07.451Z"
      },
      {
        "duration": 13,
        "start_time": "2022-10-30T17:40:08.778Z"
      },
      {
        "duration": 14,
        "start_time": "2022-10-30T17:40:08.793Z"
      },
      {
        "duration": 13,
        "start_time": "2022-10-30T17:40:08.809Z"
      },
      {
        "duration": 131,
        "start_time": "2022-10-30T17:40:08.824Z"
      },
      {
        "duration": 1411,
        "start_time": "2022-10-30T17:43:29.045Z"
      },
      {
        "duration": 676,
        "start_time": "2022-10-30T17:43:30.458Z"
      },
      {
        "duration": 39,
        "start_time": "2022-10-30T17:43:31.136Z"
      },
      {
        "duration": 49,
        "start_time": "2022-10-30T17:43:31.177Z"
      },
      {
        "duration": 34,
        "start_time": "2022-10-30T17:43:31.228Z"
      },
      {
        "duration": 10,
        "start_time": "2022-10-30T17:43:31.263Z"
      },
      {
        "duration": 17,
        "start_time": "2022-10-30T17:43:31.974Z"
      },
      {
        "duration": 6,
        "start_time": "2022-10-30T17:43:32.294Z"
      },
      {
        "duration": 9,
        "start_time": "2022-10-30T17:43:32.974Z"
      },
      {
        "duration": 7,
        "start_time": "2022-10-30T17:43:33.361Z"
      },
      {
        "duration": 15,
        "start_time": "2022-10-30T17:43:33.740Z"
      },
      {
        "duration": 3909,
        "start_time": "2022-10-30T17:43:34.454Z"
      },
      {
        "duration": 576,
        "start_time": "2022-10-30T17:43:38.365Z"
      },
      {
        "duration": 1335,
        "start_time": "2022-10-30T17:43:38.943Z"
      },
      {
        "duration": 13,
        "start_time": "2022-10-30T17:43:40.280Z"
      },
      {
        "duration": 4,
        "start_time": "2022-10-30T17:43:42.730Z"
      },
      {
        "duration": 11,
        "start_time": "2022-10-30T17:43:43.700Z"
      },
      {
        "duration": 5,
        "start_time": "2022-10-30T17:43:44.757Z"
      },
      {
        "duration": 249555,
        "start_time": "2022-10-30T17:43:47.252Z"
      },
      {
        "duration": 1246,
        "start_time": "2022-10-30T17:54:51.389Z"
      },
      {
        "duration": 1182,
        "start_time": "2022-10-30T17:55:28.955Z"
      },
      {
        "duration": 1153,
        "start_time": "2022-10-30T17:55:58.223Z"
      },
      {
        "duration": 7,
        "start_time": "2022-10-30T17:56:22.734Z"
      },
      {
        "duration": 1271,
        "start_time": "2022-10-30T18:03:18.707Z"
      },
      {
        "duration": 30,
        "start_time": "2022-10-30T18:03:43.829Z"
      },
      {
        "duration": 29,
        "start_time": "2022-10-30T18:04:24.329Z"
      },
      {
        "duration": 77,
        "start_time": "2022-10-30T18:07:47.312Z"
      },
      {
        "duration": 69,
        "start_time": "2022-10-30T18:07:59.868Z"
      },
      {
        "duration": 7,
        "start_time": "2022-10-30T18:11:05.283Z"
      },
      {
        "duration": 14,
        "start_time": "2022-10-30T18:13:42.604Z"
      },
      {
        "duration": 10,
        "start_time": "2022-10-30T18:13:54.689Z"
      },
      {
        "duration": 11,
        "start_time": "2022-10-30T18:14:00.936Z"
      },
      {
        "duration": 20,
        "start_time": "2022-10-30T18:14:32.626Z"
      },
      {
        "duration": 11,
        "start_time": "2022-10-30T18:15:20.036Z"
      },
      {
        "duration": 14,
        "start_time": "2022-10-30T18:16:18.317Z"
      },
      {
        "duration": 11,
        "start_time": "2022-10-30T18:17:12.512Z"
      },
      {
        "duration": 4,
        "start_time": "2022-10-30T18:17:25.769Z"
      },
      {
        "duration": 95,
        "start_time": "2022-10-30T18:17:29.869Z"
      },
      {
        "duration": 79,
        "start_time": "2022-10-30T18:17:39.948Z"
      },
      {
        "duration": 10,
        "start_time": "2022-10-30T18:17:46.019Z"
      },
      {
        "duration": 1311,
        "start_time": "2022-10-30T18:19:38.599Z"
      },
      {
        "duration": 64,
        "start_time": "2022-10-30T20:15:51.257Z"
      },
      {
        "duration": 6,
        "start_time": "2022-10-30T20:15:57.417Z"
      },
      {
        "duration": 1503,
        "start_time": "2022-10-30T20:16:01.288Z"
      },
      {
        "duration": 3189,
        "start_time": "2022-10-30T20:16:02.793Z"
      },
      {
        "duration": 41,
        "start_time": "2022-10-30T20:16:05.985Z"
      },
      {
        "duration": 26,
        "start_time": "2022-10-30T20:16:06.028Z"
      },
      {
        "duration": 27,
        "start_time": "2022-10-30T20:16:11.833Z"
      },
      {
        "duration": 11,
        "start_time": "2022-10-30T20:16:13.767Z"
      },
      {
        "duration": 15,
        "start_time": "2022-10-30T20:16:16.091Z"
      },
      {
        "duration": 8,
        "start_time": "2022-10-30T20:16:16.887Z"
      },
      {
        "duration": 9,
        "start_time": "2022-10-30T20:16:19.217Z"
      },
      {
        "duration": 7,
        "start_time": "2022-10-30T20:16:20.371Z"
      },
      {
        "duration": 15,
        "start_time": "2022-10-30T20:16:21.261Z"
      },
      {
        "duration": 3551,
        "start_time": "2022-10-30T20:16:23.187Z"
      },
      {
        "duration": 534,
        "start_time": "2022-10-30T20:16:26.740Z"
      },
      {
        "duration": 1317,
        "start_time": "2022-10-30T20:16:33.608Z"
      },
      {
        "duration": 831,
        "start_time": "2022-10-30T20:16:34.927Z"
      },
      {
        "duration": 743,
        "start_time": "2022-10-30T20:17:02.496Z"
      },
      {
        "duration": 708,
        "start_time": "2022-10-30T20:23:04.677Z"
      },
      {
        "duration": 677,
        "start_time": "2022-10-30T20:36:23.413Z"
      },
      {
        "duration": 681,
        "start_time": "2022-10-30T20:38:24.497Z"
      },
      {
        "duration": 4,
        "start_time": "2022-10-30T20:39:50.353Z"
      },
      {
        "duration": 5,
        "start_time": "2022-10-30T20:41:10.505Z"
      },
      {
        "duration": 1358,
        "start_time": "2022-10-30T20:42:10.200Z"
      },
      {
        "duration": 4,
        "start_time": "2022-10-30T20:43:09.030Z"
      },
      {
        "duration": 12,
        "start_time": "2022-10-30T20:45:37.643Z"
      },
      {
        "duration": 28,
        "start_time": "2022-10-30T20:46:41.285Z"
      },
      {
        "duration": 44,
        "start_time": "2022-10-30T20:47:58.497Z"
      },
      {
        "duration": 53,
        "start_time": "2022-10-30T20:48:09.878Z"
      },
      {
        "duration": 1285,
        "start_time": "2022-10-30T20:48:16.492Z"
      },
      {
        "duration": 3,
        "start_time": "2022-10-30T20:50:59.053Z"
      },
      {
        "duration": 21,
        "start_time": "2022-10-30T20:51:00.803Z"
      },
      {
        "duration": 1266,
        "start_time": "2022-10-30T20:52:00.210Z"
      },
      {
        "duration": 3,
        "start_time": "2022-10-30T20:52:17.134Z"
      },
      {
        "duration": 17,
        "start_time": "2022-10-30T20:52:18.847Z"
      },
      {
        "duration": 6,
        "start_time": "2022-10-30T20:52:19.491Z"
      },
      {
        "duration": 5,
        "start_time": "2022-10-30T20:53:19.244Z"
      },
      {
        "duration": 4,
        "start_time": "2022-10-30T20:54:36.771Z"
      },
      {
        "duration": 8,
        "start_time": "2022-10-30T20:54:55.298Z"
      },
      {
        "duration": 14,
        "start_time": "2022-10-30T20:54:56.103Z"
      },
      {
        "duration": 26,
        "start_time": "2022-10-30T20:57:48.396Z"
      },
      {
        "duration": 1347,
        "start_time": "2022-10-30T21:05:01.999Z"
      },
      {
        "duration": 703,
        "start_time": "2022-10-30T21:05:20.549Z"
      },
      {
        "duration": 19,
        "start_time": "2022-10-30T21:05:39.003Z"
      },
      {
        "duration": 9,
        "start_time": "2022-10-30T21:07:27.680Z"
      },
      {
        "duration": 8,
        "start_time": "2022-10-30T21:07:37.517Z"
      },
      {
        "duration": 14,
        "start_time": "2022-10-30T21:07:42.585Z"
      },
      {
        "duration": 26,
        "start_time": "2022-10-30T21:07:53.952Z"
      },
      {
        "duration": 31,
        "start_time": "2022-10-30T21:08:14.412Z"
      },
      {
        "duration": 82,
        "start_time": "2022-10-30T21:08:26.899Z"
      },
      {
        "duration": 4,
        "start_time": "2022-10-30T21:08:59.993Z"
      },
      {
        "duration": 12,
        "start_time": "2022-10-30T21:09:05.423Z"
      },
      {
        "duration": 25,
        "start_time": "2022-10-30T21:10:07.552Z"
      },
      {
        "duration": 18,
        "start_time": "2022-10-30T21:24:33.157Z"
      },
      {
        "duration": 9,
        "start_time": "2022-10-30T21:24:56.984Z"
      },
      {
        "duration": 4,
        "start_time": "2022-10-30T21:25:12.568Z"
      },
      {
        "duration": 3468,
        "start_time": "2022-10-30T21:25:15.783Z"
      },
      {
        "duration": 741,
        "start_time": "2022-10-30T21:31:46.609Z"
      },
      {
        "duration": 8,
        "start_time": "2022-10-30T21:32:28.326Z"
      },
      {
        "duration": 17,
        "start_time": "2022-10-30T21:32:33.264Z"
      },
      {
        "duration": 12,
        "start_time": "2022-10-30T21:32:45.409Z"
      },
      {
        "duration": 12,
        "start_time": "2022-10-30T21:32:50.691Z"
      },
      {
        "duration": 20,
        "start_time": "2022-10-30T21:32:59.104Z"
      },
      {
        "duration": 40,
        "start_time": "2022-10-30T21:33:14.334Z"
      },
      {
        "duration": 8,
        "start_time": "2022-10-30T21:33:48.188Z"
      },
      {
        "duration": 4,
        "start_time": "2022-10-30T21:36:11.384Z"
      },
      {
        "duration": 10,
        "start_time": "2022-10-30T22:12:35.496Z"
      },
      {
        "duration": 10,
        "start_time": "2022-10-30T22:18:00.666Z"
      },
      {
        "duration": 29,
        "start_time": "2022-10-30T22:18:09.070Z"
      },
      {
        "duration": 12,
        "start_time": "2022-10-30T22:18:23.380Z"
      },
      {
        "duration": 8,
        "start_time": "2022-10-30T22:18:31.903Z"
      },
      {
        "duration": 4,
        "start_time": "2022-10-30T22:21:21.079Z"
      },
      {
        "duration": 3,
        "start_time": "2022-10-30T22:21:34.847Z"
      },
      {
        "duration": 1991,
        "start_time": "2022-10-31T00:05:01.807Z"
      },
      {
        "duration": 18,
        "start_time": "2022-10-31T00:05:40.518Z"
      },
      {
        "duration": 16,
        "start_time": "2022-10-31T00:08:48.618Z"
      },
      {
        "duration": 9,
        "start_time": "2022-10-31T00:13:21.689Z"
      },
      {
        "duration": 1658,
        "start_time": "2022-10-31T00:14:05.739Z"
      },
      {
        "duration": 3209,
        "start_time": "2022-10-31T08:08:25.772Z"
      },
      {
        "duration": 4471,
        "start_time": "2022-10-31T08:08:28.983Z"
      },
      {
        "duration": 39,
        "start_time": "2022-10-31T08:08:33.456Z"
      },
      {
        "duration": 28,
        "start_time": "2022-10-31T08:08:33.498Z"
      },
      {
        "duration": 22,
        "start_time": "2022-10-31T08:08:33.528Z"
      },
      {
        "duration": 10,
        "start_time": "2022-10-31T08:08:33.552Z"
      },
      {
        "duration": 12,
        "start_time": "2022-10-31T08:08:33.563Z"
      },
      {
        "duration": 32,
        "start_time": "2022-10-31T08:08:33.576Z"
      },
      {
        "duration": 8,
        "start_time": "2022-10-31T08:08:33.610Z"
      },
      {
        "duration": 9,
        "start_time": "2022-10-31T08:08:33.620Z"
      },
      {
        "duration": 13,
        "start_time": "2022-10-31T08:08:33.630Z"
      },
      {
        "duration": 3519,
        "start_time": "2022-10-31T08:08:33.644Z"
      },
      {
        "duration": 485,
        "start_time": "2022-10-31T08:08:37.165Z"
      },
      {
        "duration": 1255,
        "start_time": "2022-10-31T08:08:37.652Z"
      },
      {
        "duration": 1296,
        "start_time": "2022-10-31T08:08:38.908Z"
      },
      {
        "duration": 4,
        "start_time": "2022-10-31T08:08:40.206Z"
      },
      {
        "duration": 11,
        "start_time": "2022-10-31T08:08:40.211Z"
      },
      {
        "duration": 5,
        "start_time": "2022-10-31T08:08:56.932Z"
      },
      {
        "duration": 240821,
        "start_time": "2022-10-31T08:09:02.290Z"
      },
      {
        "duration": 267621,
        "start_time": "2022-10-31T08:14:45.788Z"
      },
      {
        "duration": 34,
        "start_time": "2022-10-31T08:24:59.579Z"
      },
      {
        "duration": 471,
        "start_time": "2022-10-31T08:25:00.342Z"
      },
      {
        "duration": 4,
        "start_time": "2022-10-31T08:25:01.582Z"
      },
      {
        "duration": 8,
        "start_time": "2022-10-31T08:25:03.023Z"
      },
      {
        "duration": 8,
        "start_time": "2022-10-31T08:27:33.843Z"
      },
      {
        "duration": 10,
        "start_time": "2022-10-31T08:28:43.342Z"
      }
    ],
    "toc": {
      "base_numbering": 1,
      "nav_menu": {},
      "number_sections": true,
      "sideBar": true,
      "skip_h1_title": true,
      "title_cell": "Содержание",
      "title_sidebar": "Contents",
      "toc_cell": true,
      "toc_position": {
        "height": "calc(100% - 180px)",
        "left": "10px",
        "top": "150px",
        "width": "218.188px"
      },
      "toc_section_display": true,
      "toc_window_display": true
    },
    "kernelspec": {
      "name": "python",
      "display_name": "Python (Pyodide)",
      "language": "python"
    },
    "language_info": {
      "codemirror_mode": {
        "name": "ipython",
        "version": 3
      },
      "file_extension": ".py",
      "mimetype": "text/x-python",
      "name": "python",
      "nbconvert_exporter": "python",
      "pygments_lexer": "ipython3",
      "version": "3.9.5"
    }
  },
  "nbformat_minor": 4,
  "nbformat": 4,
  "cells": [
    {
      "cell_type": "markdown",
      "source": "<h1>Содержание<span class=\"tocSkip\"></span></h1>\n<div class=\"toc\"><ul class=\"toc-item\"><li><span><a href=\"#Подготовка-данных\" data-toc-modified-id=\"Подготовка-данных-1\"><span class=\"toc-item-num\">1&nbsp;&nbsp;</span>Подготовка данных</a></span></li><li><span><a href=\"#Анализ-данных\" data-toc-modified-id=\"Анализ-данных-2\"><span class=\"toc-item-num\">2&nbsp;&nbsp;</span>Анализ данных</a></span></li><li><span><a href=\"#Модель\" data-toc-modified-id=\"Модель-3\"><span class=\"toc-item-num\">3&nbsp;&nbsp;</span>Модель</a></span></li><li><span><a href=\"#Вывод\" data-toc-modified-id=\"Вывод-4\"><span class=\"toc-item-num\">4&nbsp;&nbsp;</span>Вывод</a></span></li><li><span><a href=\"#Чек-лист-готовности-проекта\" data-toc-modified-id=\"Чек-лист-готовности-проекта-5\"><span class=\"toc-item-num\">5&nbsp;&nbsp;</span>Чек-лист готовности проекта</a></span></li></ul></div>",
      "metadata": {
        "toc": true
      }
    },
    {
      "cell_type": "markdown",
      "source": "# Восстановление золота из руды",
      "metadata": {}
    },
    {
      "cell_type": "markdown",
      "source": "Модель должна предсказать коэффициент восстановления золота из золотосодержащей руды. Используем данные с параметрами добычи и очистки. \n\nМодель поможет оптимизировать производство, чтобы не запускать предприятие с убыточными характеристиками.",
      "metadata": {}
    },
    {
      "cell_type": "markdown",
      "source": "## Подготовка данных",
      "metadata": {}
    },
    {
      "cell_type": "code",
      "source": "import numpy as np\nimport pandas as pd\nimport matplotlib.pyplot as plt\n\nfrom sklearn.metrics import mean_absolute_error as MAE\nfrom sklearn.pipeline import  make_pipeline\nfrom sklearn.pipeline import Pipeline\nfrom sklearn.impute import SimpleImputer\nfrom sklearn.impute import KNNImputer\nfrom sklearn.ensemble import RandomForestRegressor\nfrom sklearn.model_selection import cross_val_score\nfrom sklearn.model_selection import GridSearchCV\nfrom sklearn.preprocessing import PolynomialFeatures\nfrom sklearn.linear_model import LinearRegression\nfrom sklearn.tree import DecisionTreeRegressor\nimport matplotlib.pyplot as plt\nfrom sklearn.metrics import make_scorer\nfrom sklearn.dummy import DummyRegressor\nfrom sklearn.ensemble import RandomForestRegressor\nfrom sklearn.linear_model import LinearRegression\nfrom sklearn import linear_model\nfrom sklearn.svm import SVR\nfrom sklearn.preprocessing import StandardScaler, MinMaxScaler\nfrom sklearn.utils import shuffle\nfrom sklearn.model_selection import TimeSeriesSplit, cross_val_score, StratifiedKFold, GridSearchCV, cross_validate, KFold\nfrom sklearn.metrics import roc_auc_score, roc_curve, precision_recall_curve, mean_absolute_error, make_scorer, make_scorer\nimport seaborn as sns\nfrom sklearn.metrics import make_scorer, mean_squared_error\nimport warnings\nwarnings.simplefilter(action='ignore', category=FutureWarning)",
      "metadata": {},
      "execution_count": 1,
      "outputs": []
    },
    {
      "cell_type": "code",
      "source": "test_frame = pd.read_csv(\"/datasets/gold_recovery_test_new.csv\", index_col='date', parse_dates=True)\nfull_frame = pd.read_csv(\"/datasets/gold_recovery_full_new.csv\", index_col='date', parse_dates=True)\ntrain_frame = pd.read_csv(\"/datasets/gold_recovery_train_new.csv\", index_col='date', parse_dates=True)\n\n",
      "metadata": {},
      "execution_count": 2,
      "outputs": []
    },
    {
      "cell_type": "code",
      "source": "display(test_frame)\n\ntest_frame.info()",
      "metadata": {
        "scrolled": true
      },
      "execution_count": 3,
      "outputs": [
        {
          "output_type": "display_data",
          "data": {
            "text/html": [
              "<div>\n",
              "<style scoped>\n",
              "    .dataframe tbody tr th:only-of-type {\n",
              "        vertical-align: middle;\n",
              "    }\n",
              "\n",
              "    .dataframe tbody tr th {\n",
              "        vertical-align: top;\n",
              "    }\n",
              "\n",
              "    .dataframe thead th {\n",
              "        text-align: right;\n",
              "    }\n",
              "</style>\n",
              "<table border=\"1\" class=\"dataframe\">\n",
              "  <thead>\n",
              "    <tr style=\"text-align: right;\">\n",
              "      <th></th>\n",
              "      <th>primary_cleaner.input.sulfate</th>\n",
              "      <th>primary_cleaner.input.depressant</th>\n",
              "      <th>primary_cleaner.input.feed_size</th>\n",
              "      <th>primary_cleaner.input.xanthate</th>\n",
              "      <th>primary_cleaner.state.floatbank8_a_air</th>\n",
              "      <th>primary_cleaner.state.floatbank8_a_level</th>\n",
              "      <th>primary_cleaner.state.floatbank8_b_air</th>\n",
              "      <th>primary_cleaner.state.floatbank8_b_level</th>\n",
              "      <th>primary_cleaner.state.floatbank8_c_air</th>\n",
              "      <th>primary_cleaner.state.floatbank8_c_level</th>\n",
              "      <th>...</th>\n",
              "      <th>secondary_cleaner.state.floatbank4_a_air</th>\n",
              "      <th>secondary_cleaner.state.floatbank4_a_level</th>\n",
              "      <th>secondary_cleaner.state.floatbank4_b_air</th>\n",
              "      <th>secondary_cleaner.state.floatbank4_b_level</th>\n",
              "      <th>secondary_cleaner.state.floatbank5_a_air</th>\n",
              "      <th>secondary_cleaner.state.floatbank5_a_level</th>\n",
              "      <th>secondary_cleaner.state.floatbank5_b_air</th>\n",
              "      <th>secondary_cleaner.state.floatbank5_b_level</th>\n",
              "      <th>secondary_cleaner.state.floatbank6_a_air</th>\n",
              "      <th>secondary_cleaner.state.floatbank6_a_level</th>\n",
              "    </tr>\n",
              "    <tr>\n",
              "      <th>date</th>\n",
              "      <th></th>\n",
              "      <th></th>\n",
              "      <th></th>\n",
              "      <th></th>\n",
              "      <th></th>\n",
              "      <th></th>\n",
              "      <th></th>\n",
              "      <th></th>\n",
              "      <th></th>\n",
              "      <th></th>\n",
              "      <th></th>\n",
              "      <th></th>\n",
              "      <th></th>\n",
              "      <th></th>\n",
              "      <th></th>\n",
              "      <th></th>\n",
              "      <th></th>\n",
              "      <th></th>\n",
              "      <th></th>\n",
              "      <th></th>\n",
              "      <th></th>\n",
              "    </tr>\n",
              "  </thead>\n",
              "  <tbody>\n",
              "    <tr>\n",
              "      <th>2016-09-01 00:59:59</th>\n",
              "      <td>210.800909</td>\n",
              "      <td>14.993118</td>\n",
              "      <td>8.080000</td>\n",
              "      <td>1.005021</td>\n",
              "      <td>1398.981301</td>\n",
              "      <td>-500.225577</td>\n",
              "      <td>1399.144926</td>\n",
              "      <td>-499.919735</td>\n",
              "      <td>1400.102998</td>\n",
              "      <td>-500.704369</td>\n",
              "      <td>...</td>\n",
              "      <td>12.023554</td>\n",
              "      <td>-497.795834</td>\n",
              "      <td>8.016656</td>\n",
              "      <td>-501.289139</td>\n",
              "      <td>7.946562</td>\n",
              "      <td>-432.317850</td>\n",
              "      <td>4.872511</td>\n",
              "      <td>-500.037437</td>\n",
              "      <td>26.705889</td>\n",
              "      <td>-499.709414</td>\n",
              "    </tr>\n",
              "    <tr>\n",
              "      <th>2016-09-01 01:59:59</th>\n",
              "      <td>215.392455</td>\n",
              "      <td>14.987471</td>\n",
              "      <td>8.080000</td>\n",
              "      <td>0.990469</td>\n",
              "      <td>1398.777912</td>\n",
              "      <td>-500.057435</td>\n",
              "      <td>1398.055362</td>\n",
              "      <td>-499.778182</td>\n",
              "      <td>1396.151033</td>\n",
              "      <td>-499.240168</td>\n",
              "      <td>...</td>\n",
              "      <td>12.058140</td>\n",
              "      <td>-498.695773</td>\n",
              "      <td>8.130979</td>\n",
              "      <td>-499.634209</td>\n",
              "      <td>7.958270</td>\n",
              "      <td>-525.839648</td>\n",
              "      <td>4.878850</td>\n",
              "      <td>-500.162375</td>\n",
              "      <td>25.019940</td>\n",
              "      <td>-499.819438</td>\n",
              "    </tr>\n",
              "    <tr>\n",
              "      <th>2016-09-01 02:59:59</th>\n",
              "      <td>215.259946</td>\n",
              "      <td>12.884934</td>\n",
              "      <td>7.786667</td>\n",
              "      <td>0.996043</td>\n",
              "      <td>1398.493666</td>\n",
              "      <td>-500.868360</td>\n",
              "      <td>1398.860436</td>\n",
              "      <td>-499.764529</td>\n",
              "      <td>1398.075709</td>\n",
              "      <td>-502.151509</td>\n",
              "      <td>...</td>\n",
              "      <td>11.962366</td>\n",
              "      <td>-498.767484</td>\n",
              "      <td>8.096893</td>\n",
              "      <td>-500.827423</td>\n",
              "      <td>8.071056</td>\n",
              "      <td>-500.801673</td>\n",
              "      <td>4.905125</td>\n",
              "      <td>-499.828510</td>\n",
              "      <td>24.994862</td>\n",
              "      <td>-500.622559</td>\n",
              "    </tr>\n",
              "    <tr>\n",
              "      <th>2016-09-01 03:59:59</th>\n",
              "      <td>215.336236</td>\n",
              "      <td>12.006805</td>\n",
              "      <td>7.640000</td>\n",
              "      <td>0.863514</td>\n",
              "      <td>1399.618111</td>\n",
              "      <td>-498.863574</td>\n",
              "      <td>1397.440120</td>\n",
              "      <td>-499.211024</td>\n",
              "      <td>1400.129303</td>\n",
              "      <td>-498.355873</td>\n",
              "      <td>...</td>\n",
              "      <td>12.033091</td>\n",
              "      <td>-498.350935</td>\n",
              "      <td>8.074946</td>\n",
              "      <td>-499.474407</td>\n",
              "      <td>7.897085</td>\n",
              "      <td>-500.868509</td>\n",
              "      <td>4.931400</td>\n",
              "      <td>-499.963623</td>\n",
              "      <td>24.948919</td>\n",
              "      <td>-498.709987</td>\n",
              "    </tr>\n",
              "    <tr>\n",
              "      <th>2016-09-01 04:59:59</th>\n",
              "      <td>199.099327</td>\n",
              "      <td>10.682530</td>\n",
              "      <td>7.530000</td>\n",
              "      <td>0.805575</td>\n",
              "      <td>1401.268123</td>\n",
              "      <td>-500.808305</td>\n",
              "      <td>1398.128818</td>\n",
              "      <td>-499.504543</td>\n",
              "      <td>1402.172226</td>\n",
              "      <td>-500.810606</td>\n",
              "      <td>...</td>\n",
              "      <td>12.025367</td>\n",
              "      <td>-500.786497</td>\n",
              "      <td>8.054678</td>\n",
              "      <td>-500.397500</td>\n",
              "      <td>8.107890</td>\n",
              "      <td>-509.526725</td>\n",
              "      <td>4.957674</td>\n",
              "      <td>-500.360026</td>\n",
              "      <td>25.003331</td>\n",
              "      <td>-500.856333</td>\n",
              "    </tr>\n",
              "    <tr>\n",
              "      <th>...</th>\n",
              "      <td>...</td>\n",
              "      <td>...</td>\n",
              "      <td>...</td>\n",
              "      <td>...</td>\n",
              "      <td>...</td>\n",
              "      <td>...</td>\n",
              "      <td>...</td>\n",
              "      <td>...</td>\n",
              "      <td>...</td>\n",
              "      <td>...</td>\n",
              "      <td>...</td>\n",
              "      <td>...</td>\n",
              "      <td>...</td>\n",
              "      <td>...</td>\n",
              "      <td>...</td>\n",
              "      <td>...</td>\n",
              "      <td>...</td>\n",
              "      <td>...</td>\n",
              "      <td>...</td>\n",
              "      <td>...</td>\n",
              "      <td>...</td>\n",
              "    </tr>\n",
              "    <tr>\n",
              "      <th>2017-12-31 19:59:59</th>\n",
              "      <td>173.957757</td>\n",
              "      <td>15.963399</td>\n",
              "      <td>8.070000</td>\n",
              "      <td>0.896701</td>\n",
              "      <td>1401.930554</td>\n",
              "      <td>-499.728848</td>\n",
              "      <td>1401.441445</td>\n",
              "      <td>-499.193423</td>\n",
              "      <td>1399.810313</td>\n",
              "      <td>-499.599127</td>\n",
              "      <td>...</td>\n",
              "      <td>13.995957</td>\n",
              "      <td>-500.157454</td>\n",
              "      <td>12.069155</td>\n",
              "      <td>-499.673279</td>\n",
              "      <td>7.977259</td>\n",
              "      <td>-499.516126</td>\n",
              "      <td>5.933319</td>\n",
              "      <td>-499.965973</td>\n",
              "      <td>8.987171</td>\n",
              "      <td>-499.755909</td>\n",
              "    </tr>\n",
              "    <tr>\n",
              "      <th>2017-12-31 20:59:59</th>\n",
              "      <td>172.910270</td>\n",
              "      <td>16.002605</td>\n",
              "      <td>8.070000</td>\n",
              "      <td>0.896519</td>\n",
              "      <td>1447.075722</td>\n",
              "      <td>-494.716823</td>\n",
              "      <td>1448.851892</td>\n",
              "      <td>-465.963026</td>\n",
              "      <td>1443.890424</td>\n",
              "      <td>-503.587739</td>\n",
              "      <td>...</td>\n",
              "      <td>16.749781</td>\n",
              "      <td>-496.031539</td>\n",
              "      <td>13.365371</td>\n",
              "      <td>-499.122723</td>\n",
              "      <td>9.288553</td>\n",
              "      <td>-496.892967</td>\n",
              "      <td>7.372897</td>\n",
              "      <td>-499.942956</td>\n",
              "      <td>8.986832</td>\n",
              "      <td>-499.903761</td>\n",
              "    </tr>\n",
              "    <tr>\n",
              "      <th>2017-12-31 21:59:59</th>\n",
              "      <td>171.135718</td>\n",
              "      <td>15.993669</td>\n",
              "      <td>8.070000</td>\n",
              "      <td>1.165996</td>\n",
              "      <td>1498.836182</td>\n",
              "      <td>-501.770403</td>\n",
              "      <td>1499.572353</td>\n",
              "      <td>-495.516347</td>\n",
              "      <td>1502.749213</td>\n",
              "      <td>-520.667442</td>\n",
              "      <td>...</td>\n",
              "      <td>19.994130</td>\n",
              "      <td>-499.791312</td>\n",
              "      <td>15.101425</td>\n",
              "      <td>-499.936252</td>\n",
              "      <td>10.989181</td>\n",
              "      <td>-498.347898</td>\n",
              "      <td>9.020944</td>\n",
              "      <td>-500.040448</td>\n",
              "      <td>8.982038</td>\n",
              "      <td>-497.789882</td>\n",
              "    </tr>\n",
              "    <tr>\n",
              "      <th>2017-12-31 22:59:59</th>\n",
              "      <td>179.697158</td>\n",
              "      <td>15.438979</td>\n",
              "      <td>8.070000</td>\n",
              "      <td>1.501068</td>\n",
              "      <td>1498.466243</td>\n",
              "      <td>-500.483984</td>\n",
              "      <td>1497.986986</td>\n",
              "      <td>-519.200340</td>\n",
              "      <td>1496.569047</td>\n",
              "      <td>-487.479567</td>\n",
              "      <td>...</td>\n",
              "      <td>19.958760</td>\n",
              "      <td>-499.958750</td>\n",
              "      <td>15.026853</td>\n",
              "      <td>-499.723143</td>\n",
              "      <td>11.011607</td>\n",
              "      <td>-499.985046</td>\n",
              "      <td>9.009783</td>\n",
              "      <td>-499.937902</td>\n",
              "      <td>9.012660</td>\n",
              "      <td>-500.154284</td>\n",
              "    </tr>\n",
              "    <tr>\n",
              "      <th>2017-12-31 23:59:59</th>\n",
              "      <td>181.556856</td>\n",
              "      <td>14.995850</td>\n",
              "      <td>8.070000</td>\n",
              "      <td>1.623454</td>\n",
              "      <td>1498.096303</td>\n",
              "      <td>-499.796922</td>\n",
              "      <td>1501.743791</td>\n",
              "      <td>-505.146931</td>\n",
              "      <td>1499.535978</td>\n",
              "      <td>-492.428226</td>\n",
              "      <td>...</td>\n",
              "      <td>20.034715</td>\n",
              "      <td>-500.728588</td>\n",
              "      <td>14.914199</td>\n",
              "      <td>-499.948518</td>\n",
              "      <td>10.986607</td>\n",
              "      <td>-500.658027</td>\n",
              "      <td>8.989497</td>\n",
              "      <td>-500.337588</td>\n",
              "      <td>8.988632</td>\n",
              "      <td>-500.764937</td>\n",
              "    </tr>\n",
              "  </tbody>\n",
              "</table>\n",
              "<p>5290 rows × 52 columns</p>\n",
              "</div>"
            ],
            "text/plain": [
              "                     primary_cleaner.input.sulfate  \\\n",
              "date                                                 \n",
              "2016-09-01 00:59:59                     210.800909   \n",
              "2016-09-01 01:59:59                     215.392455   \n",
              "2016-09-01 02:59:59                     215.259946   \n",
              "2016-09-01 03:59:59                     215.336236   \n",
              "2016-09-01 04:59:59                     199.099327   \n",
              "...                                            ...   \n",
              "2017-12-31 19:59:59                     173.957757   \n",
              "2017-12-31 20:59:59                     172.910270   \n",
              "2017-12-31 21:59:59                     171.135718   \n",
              "2017-12-31 22:59:59                     179.697158   \n",
              "2017-12-31 23:59:59                     181.556856   \n",
              "\n",
              "                     primary_cleaner.input.depressant  \\\n",
              "date                                                    \n",
              "2016-09-01 00:59:59                         14.993118   \n",
              "2016-09-01 01:59:59                         14.987471   \n",
              "2016-09-01 02:59:59                         12.884934   \n",
              "2016-09-01 03:59:59                         12.006805   \n",
              "2016-09-01 04:59:59                         10.682530   \n",
              "...                                               ...   \n",
              "2017-12-31 19:59:59                         15.963399   \n",
              "2017-12-31 20:59:59                         16.002605   \n",
              "2017-12-31 21:59:59                         15.993669   \n",
              "2017-12-31 22:59:59                         15.438979   \n",
              "2017-12-31 23:59:59                         14.995850   \n",
              "\n",
              "                     primary_cleaner.input.feed_size  \\\n",
              "date                                                   \n",
              "2016-09-01 00:59:59                         8.080000   \n",
              "2016-09-01 01:59:59                         8.080000   \n",
              "2016-09-01 02:59:59                         7.786667   \n",
              "2016-09-01 03:59:59                         7.640000   \n",
              "2016-09-01 04:59:59                         7.530000   \n",
              "...                                              ...   \n",
              "2017-12-31 19:59:59                         8.070000   \n",
              "2017-12-31 20:59:59                         8.070000   \n",
              "2017-12-31 21:59:59                         8.070000   \n",
              "2017-12-31 22:59:59                         8.070000   \n",
              "2017-12-31 23:59:59                         8.070000   \n",
              "\n",
              "                     primary_cleaner.input.xanthate  \\\n",
              "date                                                  \n",
              "2016-09-01 00:59:59                        1.005021   \n",
              "2016-09-01 01:59:59                        0.990469   \n",
              "2016-09-01 02:59:59                        0.996043   \n",
              "2016-09-01 03:59:59                        0.863514   \n",
              "2016-09-01 04:59:59                        0.805575   \n",
              "...                                             ...   \n",
              "2017-12-31 19:59:59                        0.896701   \n",
              "2017-12-31 20:59:59                        0.896519   \n",
              "2017-12-31 21:59:59                        1.165996   \n",
              "2017-12-31 22:59:59                        1.501068   \n",
              "2017-12-31 23:59:59                        1.623454   \n",
              "\n",
              "                     primary_cleaner.state.floatbank8_a_air  \\\n",
              "date                                                          \n",
              "2016-09-01 00:59:59                             1398.981301   \n",
              "2016-09-01 01:59:59                             1398.777912   \n",
              "2016-09-01 02:59:59                             1398.493666   \n",
              "2016-09-01 03:59:59                             1399.618111   \n",
              "2016-09-01 04:59:59                             1401.268123   \n",
              "...                                                     ...   \n",
              "2017-12-31 19:59:59                             1401.930554   \n",
              "2017-12-31 20:59:59                             1447.075722   \n",
              "2017-12-31 21:59:59                             1498.836182   \n",
              "2017-12-31 22:59:59                             1498.466243   \n",
              "2017-12-31 23:59:59                             1498.096303   \n",
              "\n",
              "                     primary_cleaner.state.floatbank8_a_level  \\\n",
              "date                                                            \n",
              "2016-09-01 00:59:59                               -500.225577   \n",
              "2016-09-01 01:59:59                               -500.057435   \n",
              "2016-09-01 02:59:59                               -500.868360   \n",
              "2016-09-01 03:59:59                               -498.863574   \n",
              "2016-09-01 04:59:59                               -500.808305   \n",
              "...                                                       ...   \n",
              "2017-12-31 19:59:59                               -499.728848   \n",
              "2017-12-31 20:59:59                               -494.716823   \n",
              "2017-12-31 21:59:59                               -501.770403   \n",
              "2017-12-31 22:59:59                               -500.483984   \n",
              "2017-12-31 23:59:59                               -499.796922   \n",
              "\n",
              "                     primary_cleaner.state.floatbank8_b_air  \\\n",
              "date                                                          \n",
              "2016-09-01 00:59:59                             1399.144926   \n",
              "2016-09-01 01:59:59                             1398.055362   \n",
              "2016-09-01 02:59:59                             1398.860436   \n",
              "2016-09-01 03:59:59                             1397.440120   \n",
              "2016-09-01 04:59:59                             1398.128818   \n",
              "...                                                     ...   \n",
              "2017-12-31 19:59:59                             1401.441445   \n",
              "2017-12-31 20:59:59                             1448.851892   \n",
              "2017-12-31 21:59:59                             1499.572353   \n",
              "2017-12-31 22:59:59                             1497.986986   \n",
              "2017-12-31 23:59:59                             1501.743791   \n",
              "\n",
              "                     primary_cleaner.state.floatbank8_b_level  \\\n",
              "date                                                            \n",
              "2016-09-01 00:59:59                               -499.919735   \n",
              "2016-09-01 01:59:59                               -499.778182   \n",
              "2016-09-01 02:59:59                               -499.764529   \n",
              "2016-09-01 03:59:59                               -499.211024   \n",
              "2016-09-01 04:59:59                               -499.504543   \n",
              "...                                                       ...   \n",
              "2017-12-31 19:59:59                               -499.193423   \n",
              "2017-12-31 20:59:59                               -465.963026   \n",
              "2017-12-31 21:59:59                               -495.516347   \n",
              "2017-12-31 22:59:59                               -519.200340   \n",
              "2017-12-31 23:59:59                               -505.146931   \n",
              "\n",
              "                     primary_cleaner.state.floatbank8_c_air  \\\n",
              "date                                                          \n",
              "2016-09-01 00:59:59                             1400.102998   \n",
              "2016-09-01 01:59:59                             1396.151033   \n",
              "2016-09-01 02:59:59                             1398.075709   \n",
              "2016-09-01 03:59:59                             1400.129303   \n",
              "2016-09-01 04:59:59                             1402.172226   \n",
              "...                                                     ...   \n",
              "2017-12-31 19:59:59                             1399.810313   \n",
              "2017-12-31 20:59:59                             1443.890424   \n",
              "2017-12-31 21:59:59                             1502.749213   \n",
              "2017-12-31 22:59:59                             1496.569047   \n",
              "2017-12-31 23:59:59                             1499.535978   \n",
              "\n",
              "                     primary_cleaner.state.floatbank8_c_level  ...  \\\n",
              "date                                                           ...   \n",
              "2016-09-01 00:59:59                               -500.704369  ...   \n",
              "2016-09-01 01:59:59                               -499.240168  ...   \n",
              "2016-09-01 02:59:59                               -502.151509  ...   \n",
              "2016-09-01 03:59:59                               -498.355873  ...   \n",
              "2016-09-01 04:59:59                               -500.810606  ...   \n",
              "...                                                       ...  ...   \n",
              "2017-12-31 19:59:59                               -499.599127  ...   \n",
              "2017-12-31 20:59:59                               -503.587739  ...   \n",
              "2017-12-31 21:59:59                               -520.667442  ...   \n",
              "2017-12-31 22:59:59                               -487.479567  ...   \n",
              "2017-12-31 23:59:59                               -492.428226  ...   \n",
              "\n",
              "                     secondary_cleaner.state.floatbank4_a_air  \\\n",
              "date                                                            \n",
              "2016-09-01 00:59:59                                 12.023554   \n",
              "2016-09-01 01:59:59                                 12.058140   \n",
              "2016-09-01 02:59:59                                 11.962366   \n",
              "2016-09-01 03:59:59                                 12.033091   \n",
              "2016-09-01 04:59:59                                 12.025367   \n",
              "...                                                       ...   \n",
              "2017-12-31 19:59:59                                 13.995957   \n",
              "2017-12-31 20:59:59                                 16.749781   \n",
              "2017-12-31 21:59:59                                 19.994130   \n",
              "2017-12-31 22:59:59                                 19.958760   \n",
              "2017-12-31 23:59:59                                 20.034715   \n",
              "\n",
              "                     secondary_cleaner.state.floatbank4_a_level  \\\n",
              "date                                                              \n",
              "2016-09-01 00:59:59                                 -497.795834   \n",
              "2016-09-01 01:59:59                                 -498.695773   \n",
              "2016-09-01 02:59:59                                 -498.767484   \n",
              "2016-09-01 03:59:59                                 -498.350935   \n",
              "2016-09-01 04:59:59                                 -500.786497   \n",
              "...                                                         ...   \n",
              "2017-12-31 19:59:59                                 -500.157454   \n",
              "2017-12-31 20:59:59                                 -496.031539   \n",
              "2017-12-31 21:59:59                                 -499.791312   \n",
              "2017-12-31 22:59:59                                 -499.958750   \n",
              "2017-12-31 23:59:59                                 -500.728588   \n",
              "\n",
              "                     secondary_cleaner.state.floatbank4_b_air  \\\n",
              "date                                                            \n",
              "2016-09-01 00:59:59                                  8.016656   \n",
              "2016-09-01 01:59:59                                  8.130979   \n",
              "2016-09-01 02:59:59                                  8.096893   \n",
              "2016-09-01 03:59:59                                  8.074946   \n",
              "2016-09-01 04:59:59                                  8.054678   \n",
              "...                                                       ...   \n",
              "2017-12-31 19:59:59                                 12.069155   \n",
              "2017-12-31 20:59:59                                 13.365371   \n",
              "2017-12-31 21:59:59                                 15.101425   \n",
              "2017-12-31 22:59:59                                 15.026853   \n",
              "2017-12-31 23:59:59                                 14.914199   \n",
              "\n",
              "                     secondary_cleaner.state.floatbank4_b_level  \\\n",
              "date                                                              \n",
              "2016-09-01 00:59:59                                 -501.289139   \n",
              "2016-09-01 01:59:59                                 -499.634209   \n",
              "2016-09-01 02:59:59                                 -500.827423   \n",
              "2016-09-01 03:59:59                                 -499.474407   \n",
              "2016-09-01 04:59:59                                 -500.397500   \n",
              "...                                                         ...   \n",
              "2017-12-31 19:59:59                                 -499.673279   \n",
              "2017-12-31 20:59:59                                 -499.122723   \n",
              "2017-12-31 21:59:59                                 -499.936252   \n",
              "2017-12-31 22:59:59                                 -499.723143   \n",
              "2017-12-31 23:59:59                                 -499.948518   \n",
              "\n",
              "                     secondary_cleaner.state.floatbank5_a_air  \\\n",
              "date                                                            \n",
              "2016-09-01 00:59:59                                  7.946562   \n",
              "2016-09-01 01:59:59                                  7.958270   \n",
              "2016-09-01 02:59:59                                  8.071056   \n",
              "2016-09-01 03:59:59                                  7.897085   \n",
              "2016-09-01 04:59:59                                  8.107890   \n",
              "...                                                       ...   \n",
              "2017-12-31 19:59:59                                  7.977259   \n",
              "2017-12-31 20:59:59                                  9.288553   \n",
              "2017-12-31 21:59:59                                 10.989181   \n",
              "2017-12-31 22:59:59                                 11.011607   \n",
              "2017-12-31 23:59:59                                 10.986607   \n",
              "\n",
              "                     secondary_cleaner.state.floatbank5_a_level  \\\n",
              "date                                                              \n",
              "2016-09-01 00:59:59                                 -432.317850   \n",
              "2016-09-01 01:59:59                                 -525.839648   \n",
              "2016-09-01 02:59:59                                 -500.801673   \n",
              "2016-09-01 03:59:59                                 -500.868509   \n",
              "2016-09-01 04:59:59                                 -509.526725   \n",
              "...                                                         ...   \n",
              "2017-12-31 19:59:59                                 -499.516126   \n",
              "2017-12-31 20:59:59                                 -496.892967   \n",
              "2017-12-31 21:59:59                                 -498.347898   \n",
              "2017-12-31 22:59:59                                 -499.985046   \n",
              "2017-12-31 23:59:59                                 -500.658027   \n",
              "\n",
              "                     secondary_cleaner.state.floatbank5_b_air  \\\n",
              "date                                                            \n",
              "2016-09-01 00:59:59                                  4.872511   \n",
              "2016-09-01 01:59:59                                  4.878850   \n",
              "2016-09-01 02:59:59                                  4.905125   \n",
              "2016-09-01 03:59:59                                  4.931400   \n",
              "2016-09-01 04:59:59                                  4.957674   \n",
              "...                                                       ...   \n",
              "2017-12-31 19:59:59                                  5.933319   \n",
              "2017-12-31 20:59:59                                  7.372897   \n",
              "2017-12-31 21:59:59                                  9.020944   \n",
              "2017-12-31 22:59:59                                  9.009783   \n",
              "2017-12-31 23:59:59                                  8.989497   \n",
              "\n",
              "                     secondary_cleaner.state.floatbank5_b_level  \\\n",
              "date                                                              \n",
              "2016-09-01 00:59:59                                 -500.037437   \n",
              "2016-09-01 01:59:59                                 -500.162375   \n",
              "2016-09-01 02:59:59                                 -499.828510   \n",
              "2016-09-01 03:59:59                                 -499.963623   \n",
              "2016-09-01 04:59:59                                 -500.360026   \n",
              "...                                                         ...   \n",
              "2017-12-31 19:59:59                                 -499.965973   \n",
              "2017-12-31 20:59:59                                 -499.942956   \n",
              "2017-12-31 21:59:59                                 -500.040448   \n",
              "2017-12-31 22:59:59                                 -499.937902   \n",
              "2017-12-31 23:59:59                                 -500.337588   \n",
              "\n",
              "                     secondary_cleaner.state.floatbank6_a_air  \\\n",
              "date                                                            \n",
              "2016-09-01 00:59:59                                 26.705889   \n",
              "2016-09-01 01:59:59                                 25.019940   \n",
              "2016-09-01 02:59:59                                 24.994862   \n",
              "2016-09-01 03:59:59                                 24.948919   \n",
              "2016-09-01 04:59:59                                 25.003331   \n",
              "...                                                       ...   \n",
              "2017-12-31 19:59:59                                  8.987171   \n",
              "2017-12-31 20:59:59                                  8.986832   \n",
              "2017-12-31 21:59:59                                  8.982038   \n",
              "2017-12-31 22:59:59                                  9.012660   \n",
              "2017-12-31 23:59:59                                  8.988632   \n",
              "\n",
              "                     secondary_cleaner.state.floatbank6_a_level  \n",
              "date                                                             \n",
              "2016-09-01 00:59:59                                 -499.709414  \n",
              "2016-09-01 01:59:59                                 -499.819438  \n",
              "2016-09-01 02:59:59                                 -500.622559  \n",
              "2016-09-01 03:59:59                                 -498.709987  \n",
              "2016-09-01 04:59:59                                 -500.856333  \n",
              "...                                                         ...  \n",
              "2017-12-31 19:59:59                                 -499.755909  \n",
              "2017-12-31 20:59:59                                 -499.903761  \n",
              "2017-12-31 21:59:59                                 -497.789882  \n",
              "2017-12-31 22:59:59                                 -500.154284  \n",
              "2017-12-31 23:59:59                                 -500.764937  \n",
              "\n",
              "[5290 rows x 52 columns]"
            ]
          },
          "metadata": {}
        },
        {
          "name": "stdout",
          "output_type": "stream",
          "text": "<class 'pandas.core.frame.DataFrame'>\n\nDatetimeIndex: 5290 entries, 2016-09-01 00:59:59 to 2017-12-31 23:59:59\n\nData columns (total 52 columns):\n\n #   Column                                      Non-Null Count  Dtype  \n\n---  ------                                      --------------  -----  \n\n 0   primary_cleaner.input.sulfate               5286 non-null   float64\n\n 1   primary_cleaner.input.depressant            5285 non-null   float64\n\n 2   primary_cleaner.input.feed_size             5290 non-null   float64\n\n 3   primary_cleaner.input.xanthate              5286 non-null   float64\n\n 4   primary_cleaner.state.floatbank8_a_air      5290 non-null   float64\n\n 5   primary_cleaner.state.floatbank8_a_level    5290 non-null   float64\n\n 6   primary_cleaner.state.floatbank8_b_air      5290 non-null   float64\n\n 7   primary_cleaner.state.floatbank8_b_level    5290 non-null   float64\n\n 8   primary_cleaner.state.floatbank8_c_air      5290 non-null   float64\n\n 9   primary_cleaner.state.floatbank8_c_level    5290 non-null   float64\n\n 10  primary_cleaner.state.floatbank8_d_air      5290 non-null   float64\n\n 11  primary_cleaner.state.floatbank8_d_level    5290 non-null   float64\n\n 12  rougher.input.feed_ag                       5290 non-null   float64\n\n 13  rougher.input.feed_pb                       5290 non-null   float64\n\n 14  rougher.input.feed_rate                     5287 non-null   float64\n\n 15  rougher.input.feed_size                     5289 non-null   float64\n\n 16  rougher.input.feed_sol                      5269 non-null   float64\n\n 17  rougher.input.feed_au                       5290 non-null   float64\n\n 18  rougher.input.floatbank10_sulfate           5285 non-null   float64\n\n 19  rougher.input.floatbank10_xanthate          5290 non-null   float64\n\n 20  rougher.input.floatbank11_sulfate           5282 non-null   float64\n\n 21  rougher.input.floatbank11_xanthate          5265 non-null   float64\n\n 22  rougher.state.floatbank10_a_air             5290 non-null   float64\n\n 23  rougher.state.floatbank10_a_level           5290 non-null   float64\n\n 24  rougher.state.floatbank10_b_air             5290 non-null   float64\n\n 25  rougher.state.floatbank10_b_level           5290 non-null   float64\n\n 26  rougher.state.floatbank10_c_air             5290 non-null   float64\n\n 27  rougher.state.floatbank10_c_level           5290 non-null   float64\n\n 28  rougher.state.floatbank10_d_air             5290 non-null   float64\n\n 29  rougher.state.floatbank10_d_level           5290 non-null   float64\n\n 30  rougher.state.floatbank10_e_air             5290 non-null   float64\n\n 31  rougher.state.floatbank10_e_level           5290 non-null   float64\n\n 32  rougher.state.floatbank10_f_air             5290 non-null   float64\n\n 33  rougher.state.floatbank10_f_level           5290 non-null   float64\n\n 34  secondary_cleaner.state.floatbank2_a_air    5287 non-null   float64\n\n 35  secondary_cleaner.state.floatbank2_a_level  5290 non-null   float64\n\n 36  secondary_cleaner.state.floatbank2_b_air    5288 non-null   float64\n\n 37  secondary_cleaner.state.floatbank2_b_level  5290 non-null   float64\n\n 38  secondary_cleaner.state.floatbank3_a_air    5281 non-null   float64\n\n 39  secondary_cleaner.state.floatbank3_a_level  5290 non-null   float64\n\n 40  secondary_cleaner.state.floatbank3_b_air    5290 non-null   float64\n\n 41  secondary_cleaner.state.floatbank3_b_level  5290 non-null   float64\n\n 42  secondary_cleaner.state.floatbank4_a_air    5290 non-null   float64\n\n 43  secondary_cleaner.state.floatbank4_a_level  5290 non-null   float64\n\n 44  secondary_cleaner.state.floatbank4_b_air    5290 non-null   float64\n\n 45  secondary_cleaner.state.floatbank4_b_level  5290 non-null   float64\n\n 46  secondary_cleaner.state.floatbank5_a_air    5290 non-null   float64\n\n 47  secondary_cleaner.state.floatbank5_a_level  5290 non-null   float64\n\n 48  secondary_cleaner.state.floatbank5_b_air    5290 non-null   float64\n\n 49  secondary_cleaner.state.floatbank5_b_level  5290 non-null   float64\n\n 50  secondary_cleaner.state.floatbank6_a_air    5290 non-null   float64\n\n 51  secondary_cleaner.state.floatbank6_a_level  5290 non-null   float64\n\ndtypes: float64(52)\n\nmemory usage: 2.1 MB\n"
        }
      ]
    },
    {
      "cell_type": "code",
      "source": "display(train_frame)",
      "metadata": {},
      "execution_count": 4,
      "outputs": [
        {
          "output_type": "display_data",
          "data": {
            "text/html": [
              "<div>\n",
              "<style scoped>\n",
              "    .dataframe tbody tr th:only-of-type {\n",
              "        vertical-align: middle;\n",
              "    }\n",
              "\n",
              "    .dataframe tbody tr th {\n",
              "        vertical-align: top;\n",
              "    }\n",
              "\n",
              "    .dataframe thead th {\n",
              "        text-align: right;\n",
              "    }\n",
              "</style>\n",
              "<table border=\"1\" class=\"dataframe\">\n",
              "  <thead>\n",
              "    <tr style=\"text-align: right;\">\n",
              "      <th></th>\n",
              "      <th>final.output.concentrate_ag</th>\n",
              "      <th>final.output.concentrate_pb</th>\n",
              "      <th>final.output.concentrate_sol</th>\n",
              "      <th>final.output.concentrate_au</th>\n",
              "      <th>final.output.recovery</th>\n",
              "      <th>final.output.tail_ag</th>\n",
              "      <th>final.output.tail_pb</th>\n",
              "      <th>final.output.tail_sol</th>\n",
              "      <th>final.output.tail_au</th>\n",
              "      <th>primary_cleaner.input.sulfate</th>\n",
              "      <th>...</th>\n",
              "      <th>secondary_cleaner.state.floatbank4_a_air</th>\n",
              "      <th>secondary_cleaner.state.floatbank4_a_level</th>\n",
              "      <th>secondary_cleaner.state.floatbank4_b_air</th>\n",
              "      <th>secondary_cleaner.state.floatbank4_b_level</th>\n",
              "      <th>secondary_cleaner.state.floatbank5_a_air</th>\n",
              "      <th>secondary_cleaner.state.floatbank5_a_level</th>\n",
              "      <th>secondary_cleaner.state.floatbank5_b_air</th>\n",
              "      <th>secondary_cleaner.state.floatbank5_b_level</th>\n",
              "      <th>secondary_cleaner.state.floatbank6_a_air</th>\n",
              "      <th>secondary_cleaner.state.floatbank6_a_level</th>\n",
              "    </tr>\n",
              "    <tr>\n",
              "      <th>date</th>\n",
              "      <th></th>\n",
              "      <th></th>\n",
              "      <th></th>\n",
              "      <th></th>\n",
              "      <th></th>\n",
              "      <th></th>\n",
              "      <th></th>\n",
              "      <th></th>\n",
              "      <th></th>\n",
              "      <th></th>\n",
              "      <th></th>\n",
              "      <th></th>\n",
              "      <th></th>\n",
              "      <th></th>\n",
              "      <th></th>\n",
              "      <th></th>\n",
              "      <th></th>\n",
              "      <th></th>\n",
              "      <th></th>\n",
              "      <th></th>\n",
              "      <th></th>\n",
              "    </tr>\n",
              "  </thead>\n",
              "  <tbody>\n",
              "    <tr>\n",
              "      <th>2016-01-15 00:00:00</th>\n",
              "      <td>6.055403</td>\n",
              "      <td>9.889648</td>\n",
              "      <td>5.507324</td>\n",
              "      <td>42.192020</td>\n",
              "      <td>70.541216</td>\n",
              "      <td>10.411962</td>\n",
              "      <td>0.895447</td>\n",
              "      <td>16.904297</td>\n",
              "      <td>2.143149</td>\n",
              "      <td>127.092003</td>\n",
              "      <td>...</td>\n",
              "      <td>14.016835</td>\n",
              "      <td>-502.488007</td>\n",
              "      <td>12.099931</td>\n",
              "      <td>-504.715942</td>\n",
              "      <td>9.925633</td>\n",
              "      <td>-498.310211</td>\n",
              "      <td>8.079666</td>\n",
              "      <td>-500.470978</td>\n",
              "      <td>14.151341</td>\n",
              "      <td>-605.841980</td>\n",
              "    </tr>\n",
              "    <tr>\n",
              "      <th>2016-01-15 01:00:00</th>\n",
              "      <td>6.029369</td>\n",
              "      <td>9.968944</td>\n",
              "      <td>5.257781</td>\n",
              "      <td>42.701629</td>\n",
              "      <td>69.266198</td>\n",
              "      <td>10.462676</td>\n",
              "      <td>0.927452</td>\n",
              "      <td>16.634514</td>\n",
              "      <td>2.224930</td>\n",
              "      <td>125.629232</td>\n",
              "      <td>...</td>\n",
              "      <td>13.992281</td>\n",
              "      <td>-505.503262</td>\n",
              "      <td>11.950531</td>\n",
              "      <td>-501.331529</td>\n",
              "      <td>10.039245</td>\n",
              "      <td>-500.169983</td>\n",
              "      <td>7.984757</td>\n",
              "      <td>-500.582168</td>\n",
              "      <td>13.998353</td>\n",
              "      <td>-599.787184</td>\n",
              "    </tr>\n",
              "    <tr>\n",
              "      <th>2016-01-15 02:00:00</th>\n",
              "      <td>6.055926</td>\n",
              "      <td>10.213995</td>\n",
              "      <td>5.383759</td>\n",
              "      <td>42.657501</td>\n",
              "      <td>68.116445</td>\n",
              "      <td>10.507046</td>\n",
              "      <td>0.953716</td>\n",
              "      <td>16.208849</td>\n",
              "      <td>2.257889</td>\n",
              "      <td>123.819808</td>\n",
              "      <td>...</td>\n",
              "      <td>14.015015</td>\n",
              "      <td>-502.520901</td>\n",
              "      <td>11.912783</td>\n",
              "      <td>-501.133383</td>\n",
              "      <td>10.070913</td>\n",
              "      <td>-500.129135</td>\n",
              "      <td>8.013877</td>\n",
              "      <td>-500.517572</td>\n",
              "      <td>14.028663</td>\n",
              "      <td>-601.427363</td>\n",
              "    </tr>\n",
              "    <tr>\n",
              "      <th>2016-01-15 03:00:00</th>\n",
              "      <td>6.047977</td>\n",
              "      <td>9.977019</td>\n",
              "      <td>4.858634</td>\n",
              "      <td>42.689819</td>\n",
              "      <td>68.347543</td>\n",
              "      <td>10.422762</td>\n",
              "      <td>0.883763</td>\n",
              "      <td>16.532835</td>\n",
              "      <td>2.146849</td>\n",
              "      <td>122.270188</td>\n",
              "      <td>...</td>\n",
              "      <td>14.036510</td>\n",
              "      <td>-500.857308</td>\n",
              "      <td>11.999550</td>\n",
              "      <td>-501.193686</td>\n",
              "      <td>9.970366</td>\n",
              "      <td>-499.201640</td>\n",
              "      <td>7.977324</td>\n",
              "      <td>-500.255908</td>\n",
              "      <td>14.005551</td>\n",
              "      <td>-599.996129</td>\n",
              "    </tr>\n",
              "    <tr>\n",
              "      <th>2016-01-15 04:00:00</th>\n",
              "      <td>6.148599</td>\n",
              "      <td>10.142511</td>\n",
              "      <td>4.939416</td>\n",
              "      <td>42.774141</td>\n",
              "      <td>66.927016</td>\n",
              "      <td>10.360302</td>\n",
              "      <td>0.792826</td>\n",
              "      <td>16.525686</td>\n",
              "      <td>2.055292</td>\n",
              "      <td>117.988169</td>\n",
              "      <td>...</td>\n",
              "      <td>14.027298</td>\n",
              "      <td>-499.838632</td>\n",
              "      <td>11.953070</td>\n",
              "      <td>-501.053894</td>\n",
              "      <td>9.925709</td>\n",
              "      <td>-501.686727</td>\n",
              "      <td>7.894242</td>\n",
              "      <td>-500.356035</td>\n",
              "      <td>13.996647</td>\n",
              "      <td>-601.496691</td>\n",
              "    </tr>\n",
              "    <tr>\n",
              "      <th>...</th>\n",
              "      <td>...</td>\n",
              "      <td>...</td>\n",
              "      <td>...</td>\n",
              "      <td>...</td>\n",
              "      <td>...</td>\n",
              "      <td>...</td>\n",
              "      <td>...</td>\n",
              "      <td>...</td>\n",
              "      <td>...</td>\n",
              "      <td>...</td>\n",
              "      <td>...</td>\n",
              "      <td>...</td>\n",
              "      <td>...</td>\n",
              "      <td>...</td>\n",
              "      <td>...</td>\n",
              "      <td>...</td>\n",
              "      <td>...</td>\n",
              "      <td>...</td>\n",
              "      <td>...</td>\n",
              "      <td>...</td>\n",
              "      <td>...</td>\n",
              "    </tr>\n",
              "    <tr>\n",
              "      <th>2018-08-18 06:59:59</th>\n",
              "      <td>3.224920</td>\n",
              "      <td>11.356233</td>\n",
              "      <td>6.803482</td>\n",
              "      <td>46.713954</td>\n",
              "      <td>73.755150</td>\n",
              "      <td>8.769645</td>\n",
              "      <td>3.141541</td>\n",
              "      <td>10.403181</td>\n",
              "      <td>1.529220</td>\n",
              "      <td>123.381787</td>\n",
              "      <td>...</td>\n",
              "      <td>23.031497</td>\n",
              "      <td>-501.167942</td>\n",
              "      <td>20.007571</td>\n",
              "      <td>-499.740028</td>\n",
              "      <td>18.006038</td>\n",
              "      <td>-499.834374</td>\n",
              "      <td>13.001114</td>\n",
              "      <td>-500.155694</td>\n",
              "      <td>20.007840</td>\n",
              "      <td>-501.296428</td>\n",
              "    </tr>\n",
              "    <tr>\n",
              "      <th>2018-08-18 07:59:59</th>\n",
              "      <td>3.195978</td>\n",
              "      <td>11.349355</td>\n",
              "      <td>6.862249</td>\n",
              "      <td>46.866780</td>\n",
              "      <td>69.049291</td>\n",
              "      <td>8.897321</td>\n",
              "      <td>3.130493</td>\n",
              "      <td>10.549470</td>\n",
              "      <td>1.612542</td>\n",
              "      <td>120.878188</td>\n",
              "      <td>...</td>\n",
              "      <td>22.960095</td>\n",
              "      <td>-501.612783</td>\n",
              "      <td>20.035660</td>\n",
              "      <td>-500.251357</td>\n",
              "      <td>17.998535</td>\n",
              "      <td>-500.395178</td>\n",
              "      <td>12.954048</td>\n",
              "      <td>-499.895163</td>\n",
              "      <td>19.968498</td>\n",
              "      <td>-501.041608</td>\n",
              "    </tr>\n",
              "    <tr>\n",
              "      <th>2018-08-18 08:59:59</th>\n",
              "      <td>3.109998</td>\n",
              "      <td>11.434366</td>\n",
              "      <td>6.886013</td>\n",
              "      <td>46.795691</td>\n",
              "      <td>67.002189</td>\n",
              "      <td>8.529606</td>\n",
              "      <td>2.911418</td>\n",
              "      <td>11.115147</td>\n",
              "      <td>1.596616</td>\n",
              "      <td>105.666118</td>\n",
              "      <td>...</td>\n",
              "      <td>23.015718</td>\n",
              "      <td>-501.711599</td>\n",
              "      <td>19.951231</td>\n",
              "      <td>-499.857027</td>\n",
              "      <td>18.019543</td>\n",
              "      <td>-500.451156</td>\n",
              "      <td>13.023431</td>\n",
              "      <td>-499.914391</td>\n",
              "      <td>19.990885</td>\n",
              "      <td>-501.518452</td>\n",
              "    </tr>\n",
              "    <tr>\n",
              "      <th>2018-08-18 09:59:59</th>\n",
              "      <td>3.367241</td>\n",
              "      <td>11.625587</td>\n",
              "      <td>6.799433</td>\n",
              "      <td>46.408188</td>\n",
              "      <td>65.523246</td>\n",
              "      <td>8.777171</td>\n",
              "      <td>2.819214</td>\n",
              "      <td>10.463847</td>\n",
              "      <td>1.602879</td>\n",
              "      <td>98.880538</td>\n",
              "      <td>...</td>\n",
              "      <td>23.024963</td>\n",
              "      <td>-501.153409</td>\n",
              "      <td>20.054122</td>\n",
              "      <td>-500.314711</td>\n",
              "      <td>17.979515</td>\n",
              "      <td>-499.272871</td>\n",
              "      <td>12.992404</td>\n",
              "      <td>-499.976268</td>\n",
              "      <td>20.013986</td>\n",
              "      <td>-500.625471</td>\n",
              "    </tr>\n",
              "    <tr>\n",
              "      <th>2018-08-18 10:59:59</th>\n",
              "      <td>3.598375</td>\n",
              "      <td>11.737832</td>\n",
              "      <td>6.717509</td>\n",
              "      <td>46.299438</td>\n",
              "      <td>70.281454</td>\n",
              "      <td>8.406690</td>\n",
              "      <td>2.517518</td>\n",
              "      <td>10.652193</td>\n",
              "      <td>1.389434</td>\n",
              "      <td>95.248427</td>\n",
              "      <td>...</td>\n",
              "      <td>23.018622</td>\n",
              "      <td>-500.492702</td>\n",
              "      <td>20.020205</td>\n",
              "      <td>-500.220296</td>\n",
              "      <td>17.963512</td>\n",
              "      <td>-499.939490</td>\n",
              "      <td>12.990306</td>\n",
              "      <td>-500.080993</td>\n",
              "      <td>19.990336</td>\n",
              "      <td>-499.191575</td>\n",
              "    </tr>\n",
              "  </tbody>\n",
              "</table>\n",
              "<p>14149 rows × 86 columns</p>\n",
              "</div>"
            ],
            "text/plain": [
              "                     final.output.concentrate_ag  final.output.concentrate_pb  \\\n",
              "date                                                                            \n",
              "2016-01-15 00:00:00                     6.055403                     9.889648   \n",
              "2016-01-15 01:00:00                     6.029369                     9.968944   \n",
              "2016-01-15 02:00:00                     6.055926                    10.213995   \n",
              "2016-01-15 03:00:00                     6.047977                     9.977019   \n",
              "2016-01-15 04:00:00                     6.148599                    10.142511   \n",
              "...                                          ...                          ...   \n",
              "2018-08-18 06:59:59                     3.224920                    11.356233   \n",
              "2018-08-18 07:59:59                     3.195978                    11.349355   \n",
              "2018-08-18 08:59:59                     3.109998                    11.434366   \n",
              "2018-08-18 09:59:59                     3.367241                    11.625587   \n",
              "2018-08-18 10:59:59                     3.598375                    11.737832   \n",
              "\n",
              "                     final.output.concentrate_sol  \\\n",
              "date                                                \n",
              "2016-01-15 00:00:00                      5.507324   \n",
              "2016-01-15 01:00:00                      5.257781   \n",
              "2016-01-15 02:00:00                      5.383759   \n",
              "2016-01-15 03:00:00                      4.858634   \n",
              "2016-01-15 04:00:00                      4.939416   \n",
              "...                                           ...   \n",
              "2018-08-18 06:59:59                      6.803482   \n",
              "2018-08-18 07:59:59                      6.862249   \n",
              "2018-08-18 08:59:59                      6.886013   \n",
              "2018-08-18 09:59:59                      6.799433   \n",
              "2018-08-18 10:59:59                      6.717509   \n",
              "\n",
              "                     final.output.concentrate_au  final.output.recovery  \\\n",
              "date                                                                      \n",
              "2016-01-15 00:00:00                    42.192020              70.541216   \n",
              "2016-01-15 01:00:00                    42.701629              69.266198   \n",
              "2016-01-15 02:00:00                    42.657501              68.116445   \n",
              "2016-01-15 03:00:00                    42.689819              68.347543   \n",
              "2016-01-15 04:00:00                    42.774141              66.927016   \n",
              "...                                          ...                    ...   \n",
              "2018-08-18 06:59:59                    46.713954              73.755150   \n",
              "2018-08-18 07:59:59                    46.866780              69.049291   \n",
              "2018-08-18 08:59:59                    46.795691              67.002189   \n",
              "2018-08-18 09:59:59                    46.408188              65.523246   \n",
              "2018-08-18 10:59:59                    46.299438              70.281454   \n",
              "\n",
              "                     final.output.tail_ag  final.output.tail_pb  \\\n",
              "date                                                              \n",
              "2016-01-15 00:00:00             10.411962              0.895447   \n",
              "2016-01-15 01:00:00             10.462676              0.927452   \n",
              "2016-01-15 02:00:00             10.507046              0.953716   \n",
              "2016-01-15 03:00:00             10.422762              0.883763   \n",
              "2016-01-15 04:00:00             10.360302              0.792826   \n",
              "...                                   ...                   ...   \n",
              "2018-08-18 06:59:59              8.769645              3.141541   \n",
              "2018-08-18 07:59:59              8.897321              3.130493   \n",
              "2018-08-18 08:59:59              8.529606              2.911418   \n",
              "2018-08-18 09:59:59              8.777171              2.819214   \n",
              "2018-08-18 10:59:59              8.406690              2.517518   \n",
              "\n",
              "                     final.output.tail_sol  final.output.tail_au  \\\n",
              "date                                                               \n",
              "2016-01-15 00:00:00              16.904297              2.143149   \n",
              "2016-01-15 01:00:00              16.634514              2.224930   \n",
              "2016-01-15 02:00:00              16.208849              2.257889   \n",
              "2016-01-15 03:00:00              16.532835              2.146849   \n",
              "2016-01-15 04:00:00              16.525686              2.055292   \n",
              "...                                    ...                   ...   \n",
              "2018-08-18 06:59:59              10.403181              1.529220   \n",
              "2018-08-18 07:59:59              10.549470              1.612542   \n",
              "2018-08-18 08:59:59              11.115147              1.596616   \n",
              "2018-08-18 09:59:59              10.463847              1.602879   \n",
              "2018-08-18 10:59:59              10.652193              1.389434   \n",
              "\n",
              "                     primary_cleaner.input.sulfate  ...  \\\n",
              "date                                                ...   \n",
              "2016-01-15 00:00:00                     127.092003  ...   \n",
              "2016-01-15 01:00:00                     125.629232  ...   \n",
              "2016-01-15 02:00:00                     123.819808  ...   \n",
              "2016-01-15 03:00:00                     122.270188  ...   \n",
              "2016-01-15 04:00:00                     117.988169  ...   \n",
              "...                                            ...  ...   \n",
              "2018-08-18 06:59:59                     123.381787  ...   \n",
              "2018-08-18 07:59:59                     120.878188  ...   \n",
              "2018-08-18 08:59:59                     105.666118  ...   \n",
              "2018-08-18 09:59:59                      98.880538  ...   \n",
              "2018-08-18 10:59:59                      95.248427  ...   \n",
              "\n",
              "                     secondary_cleaner.state.floatbank4_a_air  \\\n",
              "date                                                            \n",
              "2016-01-15 00:00:00                                 14.016835   \n",
              "2016-01-15 01:00:00                                 13.992281   \n",
              "2016-01-15 02:00:00                                 14.015015   \n",
              "2016-01-15 03:00:00                                 14.036510   \n",
              "2016-01-15 04:00:00                                 14.027298   \n",
              "...                                                       ...   \n",
              "2018-08-18 06:59:59                                 23.031497   \n",
              "2018-08-18 07:59:59                                 22.960095   \n",
              "2018-08-18 08:59:59                                 23.015718   \n",
              "2018-08-18 09:59:59                                 23.024963   \n",
              "2018-08-18 10:59:59                                 23.018622   \n",
              "\n",
              "                     secondary_cleaner.state.floatbank4_a_level  \\\n",
              "date                                                              \n",
              "2016-01-15 00:00:00                                 -502.488007   \n",
              "2016-01-15 01:00:00                                 -505.503262   \n",
              "2016-01-15 02:00:00                                 -502.520901   \n",
              "2016-01-15 03:00:00                                 -500.857308   \n",
              "2016-01-15 04:00:00                                 -499.838632   \n",
              "...                                                         ...   \n",
              "2018-08-18 06:59:59                                 -501.167942   \n",
              "2018-08-18 07:59:59                                 -501.612783   \n",
              "2018-08-18 08:59:59                                 -501.711599   \n",
              "2018-08-18 09:59:59                                 -501.153409   \n",
              "2018-08-18 10:59:59                                 -500.492702   \n",
              "\n",
              "                     secondary_cleaner.state.floatbank4_b_air  \\\n",
              "date                                                            \n",
              "2016-01-15 00:00:00                                 12.099931   \n",
              "2016-01-15 01:00:00                                 11.950531   \n",
              "2016-01-15 02:00:00                                 11.912783   \n",
              "2016-01-15 03:00:00                                 11.999550   \n",
              "2016-01-15 04:00:00                                 11.953070   \n",
              "...                                                       ...   \n",
              "2018-08-18 06:59:59                                 20.007571   \n",
              "2018-08-18 07:59:59                                 20.035660   \n",
              "2018-08-18 08:59:59                                 19.951231   \n",
              "2018-08-18 09:59:59                                 20.054122   \n",
              "2018-08-18 10:59:59                                 20.020205   \n",
              "\n",
              "                     secondary_cleaner.state.floatbank4_b_level  \\\n",
              "date                                                              \n",
              "2016-01-15 00:00:00                                 -504.715942   \n",
              "2016-01-15 01:00:00                                 -501.331529   \n",
              "2016-01-15 02:00:00                                 -501.133383   \n",
              "2016-01-15 03:00:00                                 -501.193686   \n",
              "2016-01-15 04:00:00                                 -501.053894   \n",
              "...                                                         ...   \n",
              "2018-08-18 06:59:59                                 -499.740028   \n",
              "2018-08-18 07:59:59                                 -500.251357   \n",
              "2018-08-18 08:59:59                                 -499.857027   \n",
              "2018-08-18 09:59:59                                 -500.314711   \n",
              "2018-08-18 10:59:59                                 -500.220296   \n",
              "\n",
              "                     secondary_cleaner.state.floatbank5_a_air  \\\n",
              "date                                                            \n",
              "2016-01-15 00:00:00                                  9.925633   \n",
              "2016-01-15 01:00:00                                 10.039245   \n",
              "2016-01-15 02:00:00                                 10.070913   \n",
              "2016-01-15 03:00:00                                  9.970366   \n",
              "2016-01-15 04:00:00                                  9.925709   \n",
              "...                                                       ...   \n",
              "2018-08-18 06:59:59                                 18.006038   \n",
              "2018-08-18 07:59:59                                 17.998535   \n",
              "2018-08-18 08:59:59                                 18.019543   \n",
              "2018-08-18 09:59:59                                 17.979515   \n",
              "2018-08-18 10:59:59                                 17.963512   \n",
              "\n",
              "                     secondary_cleaner.state.floatbank5_a_level  \\\n",
              "date                                                              \n",
              "2016-01-15 00:00:00                                 -498.310211   \n",
              "2016-01-15 01:00:00                                 -500.169983   \n",
              "2016-01-15 02:00:00                                 -500.129135   \n",
              "2016-01-15 03:00:00                                 -499.201640   \n",
              "2016-01-15 04:00:00                                 -501.686727   \n",
              "...                                                         ...   \n",
              "2018-08-18 06:59:59                                 -499.834374   \n",
              "2018-08-18 07:59:59                                 -500.395178   \n",
              "2018-08-18 08:59:59                                 -500.451156   \n",
              "2018-08-18 09:59:59                                 -499.272871   \n",
              "2018-08-18 10:59:59                                 -499.939490   \n",
              "\n",
              "                     secondary_cleaner.state.floatbank5_b_air  \\\n",
              "date                                                            \n",
              "2016-01-15 00:00:00                                  8.079666   \n",
              "2016-01-15 01:00:00                                  7.984757   \n",
              "2016-01-15 02:00:00                                  8.013877   \n",
              "2016-01-15 03:00:00                                  7.977324   \n",
              "2016-01-15 04:00:00                                  7.894242   \n",
              "...                                                       ...   \n",
              "2018-08-18 06:59:59                                 13.001114   \n",
              "2018-08-18 07:59:59                                 12.954048   \n",
              "2018-08-18 08:59:59                                 13.023431   \n",
              "2018-08-18 09:59:59                                 12.992404   \n",
              "2018-08-18 10:59:59                                 12.990306   \n",
              "\n",
              "                     secondary_cleaner.state.floatbank5_b_level  \\\n",
              "date                                                              \n",
              "2016-01-15 00:00:00                                 -500.470978   \n",
              "2016-01-15 01:00:00                                 -500.582168   \n",
              "2016-01-15 02:00:00                                 -500.517572   \n",
              "2016-01-15 03:00:00                                 -500.255908   \n",
              "2016-01-15 04:00:00                                 -500.356035   \n",
              "...                                                         ...   \n",
              "2018-08-18 06:59:59                                 -500.155694   \n",
              "2018-08-18 07:59:59                                 -499.895163   \n",
              "2018-08-18 08:59:59                                 -499.914391   \n",
              "2018-08-18 09:59:59                                 -499.976268   \n",
              "2018-08-18 10:59:59                                 -500.080993   \n",
              "\n",
              "                     secondary_cleaner.state.floatbank6_a_air  \\\n",
              "date                                                            \n",
              "2016-01-15 00:00:00                                 14.151341   \n",
              "2016-01-15 01:00:00                                 13.998353   \n",
              "2016-01-15 02:00:00                                 14.028663   \n",
              "2016-01-15 03:00:00                                 14.005551   \n",
              "2016-01-15 04:00:00                                 13.996647   \n",
              "...                                                       ...   \n",
              "2018-08-18 06:59:59                                 20.007840   \n",
              "2018-08-18 07:59:59                                 19.968498   \n",
              "2018-08-18 08:59:59                                 19.990885   \n",
              "2018-08-18 09:59:59                                 20.013986   \n",
              "2018-08-18 10:59:59                                 19.990336   \n",
              "\n",
              "                     secondary_cleaner.state.floatbank6_a_level  \n",
              "date                                                             \n",
              "2016-01-15 00:00:00                                 -605.841980  \n",
              "2016-01-15 01:00:00                                 -599.787184  \n",
              "2016-01-15 02:00:00                                 -601.427363  \n",
              "2016-01-15 03:00:00                                 -599.996129  \n",
              "2016-01-15 04:00:00                                 -601.496691  \n",
              "...                                                         ...  \n",
              "2018-08-18 06:59:59                                 -501.296428  \n",
              "2018-08-18 07:59:59                                 -501.041608  \n",
              "2018-08-18 08:59:59                                 -501.518452  \n",
              "2018-08-18 09:59:59                                 -500.625471  \n",
              "2018-08-18 10:59:59                                 -499.191575  \n",
              "\n",
              "[14149 rows x 86 columns]"
            ]
          },
          "metadata": {}
        }
      ]
    },
    {
      "cell_type": "code",
      "source": "display(full_frame)",
      "metadata": {},
      "execution_count": 5,
      "outputs": [
        {
          "output_type": "display_data",
          "data": {
            "text/html": [
              "<div>\n",
              "<style scoped>\n",
              "    .dataframe tbody tr th:only-of-type {\n",
              "        vertical-align: middle;\n",
              "    }\n",
              "\n",
              "    .dataframe tbody tr th {\n",
              "        vertical-align: top;\n",
              "    }\n",
              "\n",
              "    .dataframe thead th {\n",
              "        text-align: right;\n",
              "    }\n",
              "</style>\n",
              "<table border=\"1\" class=\"dataframe\">\n",
              "  <thead>\n",
              "    <tr style=\"text-align: right;\">\n",
              "      <th></th>\n",
              "      <th>final.output.concentrate_ag</th>\n",
              "      <th>final.output.concentrate_pb</th>\n",
              "      <th>final.output.concentrate_sol</th>\n",
              "      <th>final.output.concentrate_au</th>\n",
              "      <th>final.output.recovery</th>\n",
              "      <th>final.output.tail_ag</th>\n",
              "      <th>final.output.tail_pb</th>\n",
              "      <th>final.output.tail_sol</th>\n",
              "      <th>final.output.tail_au</th>\n",
              "      <th>primary_cleaner.input.sulfate</th>\n",
              "      <th>...</th>\n",
              "      <th>secondary_cleaner.state.floatbank4_a_air</th>\n",
              "      <th>secondary_cleaner.state.floatbank4_a_level</th>\n",
              "      <th>secondary_cleaner.state.floatbank4_b_air</th>\n",
              "      <th>secondary_cleaner.state.floatbank4_b_level</th>\n",
              "      <th>secondary_cleaner.state.floatbank5_a_air</th>\n",
              "      <th>secondary_cleaner.state.floatbank5_a_level</th>\n",
              "      <th>secondary_cleaner.state.floatbank5_b_air</th>\n",
              "      <th>secondary_cleaner.state.floatbank5_b_level</th>\n",
              "      <th>secondary_cleaner.state.floatbank6_a_air</th>\n",
              "      <th>secondary_cleaner.state.floatbank6_a_level</th>\n",
              "    </tr>\n",
              "    <tr>\n",
              "      <th>date</th>\n",
              "      <th></th>\n",
              "      <th></th>\n",
              "      <th></th>\n",
              "      <th></th>\n",
              "      <th></th>\n",
              "      <th></th>\n",
              "      <th></th>\n",
              "      <th></th>\n",
              "      <th></th>\n",
              "      <th></th>\n",
              "      <th></th>\n",
              "      <th></th>\n",
              "      <th></th>\n",
              "      <th></th>\n",
              "      <th></th>\n",
              "      <th></th>\n",
              "      <th></th>\n",
              "      <th></th>\n",
              "      <th></th>\n",
              "      <th></th>\n",
              "      <th></th>\n",
              "    </tr>\n",
              "  </thead>\n",
              "  <tbody>\n",
              "    <tr>\n",
              "      <th>2016-01-15 00:00:00</th>\n",
              "      <td>6.055403</td>\n",
              "      <td>9.889648</td>\n",
              "      <td>5.507324</td>\n",
              "      <td>42.192020</td>\n",
              "      <td>70.541216</td>\n",
              "      <td>10.411962</td>\n",
              "      <td>0.895447</td>\n",
              "      <td>16.904297</td>\n",
              "      <td>2.143149</td>\n",
              "      <td>127.092003</td>\n",
              "      <td>...</td>\n",
              "      <td>14.016835</td>\n",
              "      <td>-502.488007</td>\n",
              "      <td>12.099931</td>\n",
              "      <td>-504.715942</td>\n",
              "      <td>9.925633</td>\n",
              "      <td>-498.310211</td>\n",
              "      <td>8.079666</td>\n",
              "      <td>-500.470978</td>\n",
              "      <td>14.151341</td>\n",
              "      <td>-605.841980</td>\n",
              "    </tr>\n",
              "    <tr>\n",
              "      <th>2016-01-15 01:00:00</th>\n",
              "      <td>6.029369</td>\n",
              "      <td>9.968944</td>\n",
              "      <td>5.257781</td>\n",
              "      <td>42.701629</td>\n",
              "      <td>69.266198</td>\n",
              "      <td>10.462676</td>\n",
              "      <td>0.927452</td>\n",
              "      <td>16.634514</td>\n",
              "      <td>2.224930</td>\n",
              "      <td>125.629232</td>\n",
              "      <td>...</td>\n",
              "      <td>13.992281</td>\n",
              "      <td>-505.503262</td>\n",
              "      <td>11.950531</td>\n",
              "      <td>-501.331529</td>\n",
              "      <td>10.039245</td>\n",
              "      <td>-500.169983</td>\n",
              "      <td>7.984757</td>\n",
              "      <td>-500.582168</td>\n",
              "      <td>13.998353</td>\n",
              "      <td>-599.787184</td>\n",
              "    </tr>\n",
              "    <tr>\n",
              "      <th>2016-01-15 02:00:00</th>\n",
              "      <td>6.055926</td>\n",
              "      <td>10.213995</td>\n",
              "      <td>5.383759</td>\n",
              "      <td>42.657501</td>\n",
              "      <td>68.116445</td>\n",
              "      <td>10.507046</td>\n",
              "      <td>0.953716</td>\n",
              "      <td>16.208849</td>\n",
              "      <td>2.257889</td>\n",
              "      <td>123.819808</td>\n",
              "      <td>...</td>\n",
              "      <td>14.015015</td>\n",
              "      <td>-502.520901</td>\n",
              "      <td>11.912783</td>\n",
              "      <td>-501.133383</td>\n",
              "      <td>10.070913</td>\n",
              "      <td>-500.129135</td>\n",
              "      <td>8.013877</td>\n",
              "      <td>-500.517572</td>\n",
              "      <td>14.028663</td>\n",
              "      <td>-601.427363</td>\n",
              "    </tr>\n",
              "    <tr>\n",
              "      <th>2016-01-15 03:00:00</th>\n",
              "      <td>6.047977</td>\n",
              "      <td>9.977019</td>\n",
              "      <td>4.858634</td>\n",
              "      <td>42.689819</td>\n",
              "      <td>68.347543</td>\n",
              "      <td>10.422762</td>\n",
              "      <td>0.883763</td>\n",
              "      <td>16.532835</td>\n",
              "      <td>2.146849</td>\n",
              "      <td>122.270188</td>\n",
              "      <td>...</td>\n",
              "      <td>14.036510</td>\n",
              "      <td>-500.857308</td>\n",
              "      <td>11.999550</td>\n",
              "      <td>-501.193686</td>\n",
              "      <td>9.970366</td>\n",
              "      <td>-499.201640</td>\n",
              "      <td>7.977324</td>\n",
              "      <td>-500.255908</td>\n",
              "      <td>14.005551</td>\n",
              "      <td>-599.996129</td>\n",
              "    </tr>\n",
              "    <tr>\n",
              "      <th>2016-01-15 04:00:00</th>\n",
              "      <td>6.148599</td>\n",
              "      <td>10.142511</td>\n",
              "      <td>4.939416</td>\n",
              "      <td>42.774141</td>\n",
              "      <td>66.927016</td>\n",
              "      <td>10.360302</td>\n",
              "      <td>0.792826</td>\n",
              "      <td>16.525686</td>\n",
              "      <td>2.055292</td>\n",
              "      <td>117.988169</td>\n",
              "      <td>...</td>\n",
              "      <td>14.027298</td>\n",
              "      <td>-499.838632</td>\n",
              "      <td>11.953070</td>\n",
              "      <td>-501.053894</td>\n",
              "      <td>9.925709</td>\n",
              "      <td>-501.686727</td>\n",
              "      <td>7.894242</td>\n",
              "      <td>-500.356035</td>\n",
              "      <td>13.996647</td>\n",
              "      <td>-601.496691</td>\n",
              "    </tr>\n",
              "    <tr>\n",
              "      <th>...</th>\n",
              "      <td>...</td>\n",
              "      <td>...</td>\n",
              "      <td>...</td>\n",
              "      <td>...</td>\n",
              "      <td>...</td>\n",
              "      <td>...</td>\n",
              "      <td>...</td>\n",
              "      <td>...</td>\n",
              "      <td>...</td>\n",
              "      <td>...</td>\n",
              "      <td>...</td>\n",
              "      <td>...</td>\n",
              "      <td>...</td>\n",
              "      <td>...</td>\n",
              "      <td>...</td>\n",
              "      <td>...</td>\n",
              "      <td>...</td>\n",
              "      <td>...</td>\n",
              "      <td>...</td>\n",
              "      <td>...</td>\n",
              "      <td>...</td>\n",
              "    </tr>\n",
              "    <tr>\n",
              "      <th>2018-08-18 06:59:59</th>\n",
              "      <td>3.224920</td>\n",
              "      <td>11.356233</td>\n",
              "      <td>6.803482</td>\n",
              "      <td>46.713954</td>\n",
              "      <td>73.755150</td>\n",
              "      <td>8.769645</td>\n",
              "      <td>3.141541</td>\n",
              "      <td>10.403181</td>\n",
              "      <td>1.529220</td>\n",
              "      <td>123.381787</td>\n",
              "      <td>...</td>\n",
              "      <td>23.031497</td>\n",
              "      <td>-501.167942</td>\n",
              "      <td>20.007571</td>\n",
              "      <td>-499.740028</td>\n",
              "      <td>18.006038</td>\n",
              "      <td>-499.834374</td>\n",
              "      <td>13.001114</td>\n",
              "      <td>-500.155694</td>\n",
              "      <td>20.007840</td>\n",
              "      <td>-501.296428</td>\n",
              "    </tr>\n",
              "    <tr>\n",
              "      <th>2018-08-18 07:59:59</th>\n",
              "      <td>3.195978</td>\n",
              "      <td>11.349355</td>\n",
              "      <td>6.862249</td>\n",
              "      <td>46.866780</td>\n",
              "      <td>69.049291</td>\n",
              "      <td>8.897321</td>\n",
              "      <td>3.130493</td>\n",
              "      <td>10.549470</td>\n",
              "      <td>1.612542</td>\n",
              "      <td>120.878188</td>\n",
              "      <td>...</td>\n",
              "      <td>22.960095</td>\n",
              "      <td>-501.612783</td>\n",
              "      <td>20.035660</td>\n",
              "      <td>-500.251357</td>\n",
              "      <td>17.998535</td>\n",
              "      <td>-500.395178</td>\n",
              "      <td>12.954048</td>\n",
              "      <td>-499.895163</td>\n",
              "      <td>19.968498</td>\n",
              "      <td>-501.041608</td>\n",
              "    </tr>\n",
              "    <tr>\n",
              "      <th>2018-08-18 08:59:59</th>\n",
              "      <td>3.109998</td>\n",
              "      <td>11.434366</td>\n",
              "      <td>6.886013</td>\n",
              "      <td>46.795691</td>\n",
              "      <td>67.002189</td>\n",
              "      <td>8.529606</td>\n",
              "      <td>2.911418</td>\n",
              "      <td>11.115147</td>\n",
              "      <td>1.596616</td>\n",
              "      <td>105.666118</td>\n",
              "      <td>...</td>\n",
              "      <td>23.015718</td>\n",
              "      <td>-501.711599</td>\n",
              "      <td>19.951231</td>\n",
              "      <td>-499.857027</td>\n",
              "      <td>18.019543</td>\n",
              "      <td>-500.451156</td>\n",
              "      <td>13.023431</td>\n",
              "      <td>-499.914391</td>\n",
              "      <td>19.990885</td>\n",
              "      <td>-501.518452</td>\n",
              "    </tr>\n",
              "    <tr>\n",
              "      <th>2018-08-18 09:59:59</th>\n",
              "      <td>3.367241</td>\n",
              "      <td>11.625587</td>\n",
              "      <td>6.799433</td>\n",
              "      <td>46.408188</td>\n",
              "      <td>65.523246</td>\n",
              "      <td>8.777171</td>\n",
              "      <td>2.819214</td>\n",
              "      <td>10.463847</td>\n",
              "      <td>1.602879</td>\n",
              "      <td>98.880538</td>\n",
              "      <td>...</td>\n",
              "      <td>23.024963</td>\n",
              "      <td>-501.153409</td>\n",
              "      <td>20.054122</td>\n",
              "      <td>-500.314711</td>\n",
              "      <td>17.979515</td>\n",
              "      <td>-499.272871</td>\n",
              "      <td>12.992404</td>\n",
              "      <td>-499.976268</td>\n",
              "      <td>20.013986</td>\n",
              "      <td>-500.625471</td>\n",
              "    </tr>\n",
              "    <tr>\n",
              "      <th>2018-08-18 10:59:59</th>\n",
              "      <td>3.598375</td>\n",
              "      <td>11.737832</td>\n",
              "      <td>6.717509</td>\n",
              "      <td>46.299438</td>\n",
              "      <td>70.281454</td>\n",
              "      <td>8.406690</td>\n",
              "      <td>2.517518</td>\n",
              "      <td>10.652193</td>\n",
              "      <td>1.389434</td>\n",
              "      <td>95.248427</td>\n",
              "      <td>...</td>\n",
              "      <td>23.018622</td>\n",
              "      <td>-500.492702</td>\n",
              "      <td>20.020205</td>\n",
              "      <td>-500.220296</td>\n",
              "      <td>17.963512</td>\n",
              "      <td>-499.939490</td>\n",
              "      <td>12.990306</td>\n",
              "      <td>-500.080993</td>\n",
              "      <td>19.990336</td>\n",
              "      <td>-499.191575</td>\n",
              "    </tr>\n",
              "  </tbody>\n",
              "</table>\n",
              "<p>19439 rows × 86 columns</p>\n",
              "</div>"
            ],
            "text/plain": [
              "                     final.output.concentrate_ag  final.output.concentrate_pb  \\\n",
              "date                                                                            \n",
              "2016-01-15 00:00:00                     6.055403                     9.889648   \n",
              "2016-01-15 01:00:00                     6.029369                     9.968944   \n",
              "2016-01-15 02:00:00                     6.055926                    10.213995   \n",
              "2016-01-15 03:00:00                     6.047977                     9.977019   \n",
              "2016-01-15 04:00:00                     6.148599                    10.142511   \n",
              "...                                          ...                          ...   \n",
              "2018-08-18 06:59:59                     3.224920                    11.356233   \n",
              "2018-08-18 07:59:59                     3.195978                    11.349355   \n",
              "2018-08-18 08:59:59                     3.109998                    11.434366   \n",
              "2018-08-18 09:59:59                     3.367241                    11.625587   \n",
              "2018-08-18 10:59:59                     3.598375                    11.737832   \n",
              "\n",
              "                     final.output.concentrate_sol  \\\n",
              "date                                                \n",
              "2016-01-15 00:00:00                      5.507324   \n",
              "2016-01-15 01:00:00                      5.257781   \n",
              "2016-01-15 02:00:00                      5.383759   \n",
              "2016-01-15 03:00:00                      4.858634   \n",
              "2016-01-15 04:00:00                      4.939416   \n",
              "...                                           ...   \n",
              "2018-08-18 06:59:59                      6.803482   \n",
              "2018-08-18 07:59:59                      6.862249   \n",
              "2018-08-18 08:59:59                      6.886013   \n",
              "2018-08-18 09:59:59                      6.799433   \n",
              "2018-08-18 10:59:59                      6.717509   \n",
              "\n",
              "                     final.output.concentrate_au  final.output.recovery  \\\n",
              "date                                                                      \n",
              "2016-01-15 00:00:00                    42.192020              70.541216   \n",
              "2016-01-15 01:00:00                    42.701629              69.266198   \n",
              "2016-01-15 02:00:00                    42.657501              68.116445   \n",
              "2016-01-15 03:00:00                    42.689819              68.347543   \n",
              "2016-01-15 04:00:00                    42.774141              66.927016   \n",
              "...                                          ...                    ...   \n",
              "2018-08-18 06:59:59                    46.713954              73.755150   \n",
              "2018-08-18 07:59:59                    46.866780              69.049291   \n",
              "2018-08-18 08:59:59                    46.795691              67.002189   \n",
              "2018-08-18 09:59:59                    46.408188              65.523246   \n",
              "2018-08-18 10:59:59                    46.299438              70.281454   \n",
              "\n",
              "                     final.output.tail_ag  final.output.tail_pb  \\\n",
              "date                                                              \n",
              "2016-01-15 00:00:00             10.411962              0.895447   \n",
              "2016-01-15 01:00:00             10.462676              0.927452   \n",
              "2016-01-15 02:00:00             10.507046              0.953716   \n",
              "2016-01-15 03:00:00             10.422762              0.883763   \n",
              "2016-01-15 04:00:00             10.360302              0.792826   \n",
              "...                                   ...                   ...   \n",
              "2018-08-18 06:59:59              8.769645              3.141541   \n",
              "2018-08-18 07:59:59              8.897321              3.130493   \n",
              "2018-08-18 08:59:59              8.529606              2.911418   \n",
              "2018-08-18 09:59:59              8.777171              2.819214   \n",
              "2018-08-18 10:59:59              8.406690              2.517518   \n",
              "\n",
              "                     final.output.tail_sol  final.output.tail_au  \\\n",
              "date                                                               \n",
              "2016-01-15 00:00:00              16.904297              2.143149   \n",
              "2016-01-15 01:00:00              16.634514              2.224930   \n",
              "2016-01-15 02:00:00              16.208849              2.257889   \n",
              "2016-01-15 03:00:00              16.532835              2.146849   \n",
              "2016-01-15 04:00:00              16.525686              2.055292   \n",
              "...                                    ...                   ...   \n",
              "2018-08-18 06:59:59              10.403181              1.529220   \n",
              "2018-08-18 07:59:59              10.549470              1.612542   \n",
              "2018-08-18 08:59:59              11.115147              1.596616   \n",
              "2018-08-18 09:59:59              10.463847              1.602879   \n",
              "2018-08-18 10:59:59              10.652193              1.389434   \n",
              "\n",
              "                     primary_cleaner.input.sulfate  ...  \\\n",
              "date                                                ...   \n",
              "2016-01-15 00:00:00                     127.092003  ...   \n",
              "2016-01-15 01:00:00                     125.629232  ...   \n",
              "2016-01-15 02:00:00                     123.819808  ...   \n",
              "2016-01-15 03:00:00                     122.270188  ...   \n",
              "2016-01-15 04:00:00                     117.988169  ...   \n",
              "...                                            ...  ...   \n",
              "2018-08-18 06:59:59                     123.381787  ...   \n",
              "2018-08-18 07:59:59                     120.878188  ...   \n",
              "2018-08-18 08:59:59                     105.666118  ...   \n",
              "2018-08-18 09:59:59                      98.880538  ...   \n",
              "2018-08-18 10:59:59                      95.248427  ...   \n",
              "\n",
              "                     secondary_cleaner.state.floatbank4_a_air  \\\n",
              "date                                                            \n",
              "2016-01-15 00:00:00                                 14.016835   \n",
              "2016-01-15 01:00:00                                 13.992281   \n",
              "2016-01-15 02:00:00                                 14.015015   \n",
              "2016-01-15 03:00:00                                 14.036510   \n",
              "2016-01-15 04:00:00                                 14.027298   \n",
              "...                                                       ...   \n",
              "2018-08-18 06:59:59                                 23.031497   \n",
              "2018-08-18 07:59:59                                 22.960095   \n",
              "2018-08-18 08:59:59                                 23.015718   \n",
              "2018-08-18 09:59:59                                 23.024963   \n",
              "2018-08-18 10:59:59                                 23.018622   \n",
              "\n",
              "                     secondary_cleaner.state.floatbank4_a_level  \\\n",
              "date                                                              \n",
              "2016-01-15 00:00:00                                 -502.488007   \n",
              "2016-01-15 01:00:00                                 -505.503262   \n",
              "2016-01-15 02:00:00                                 -502.520901   \n",
              "2016-01-15 03:00:00                                 -500.857308   \n",
              "2016-01-15 04:00:00                                 -499.838632   \n",
              "...                                                         ...   \n",
              "2018-08-18 06:59:59                                 -501.167942   \n",
              "2018-08-18 07:59:59                                 -501.612783   \n",
              "2018-08-18 08:59:59                                 -501.711599   \n",
              "2018-08-18 09:59:59                                 -501.153409   \n",
              "2018-08-18 10:59:59                                 -500.492702   \n",
              "\n",
              "                     secondary_cleaner.state.floatbank4_b_air  \\\n",
              "date                                                            \n",
              "2016-01-15 00:00:00                                 12.099931   \n",
              "2016-01-15 01:00:00                                 11.950531   \n",
              "2016-01-15 02:00:00                                 11.912783   \n",
              "2016-01-15 03:00:00                                 11.999550   \n",
              "2016-01-15 04:00:00                                 11.953070   \n",
              "...                                                       ...   \n",
              "2018-08-18 06:59:59                                 20.007571   \n",
              "2018-08-18 07:59:59                                 20.035660   \n",
              "2018-08-18 08:59:59                                 19.951231   \n",
              "2018-08-18 09:59:59                                 20.054122   \n",
              "2018-08-18 10:59:59                                 20.020205   \n",
              "\n",
              "                     secondary_cleaner.state.floatbank4_b_level  \\\n",
              "date                                                              \n",
              "2016-01-15 00:00:00                                 -504.715942   \n",
              "2016-01-15 01:00:00                                 -501.331529   \n",
              "2016-01-15 02:00:00                                 -501.133383   \n",
              "2016-01-15 03:00:00                                 -501.193686   \n",
              "2016-01-15 04:00:00                                 -501.053894   \n",
              "...                                                         ...   \n",
              "2018-08-18 06:59:59                                 -499.740028   \n",
              "2018-08-18 07:59:59                                 -500.251357   \n",
              "2018-08-18 08:59:59                                 -499.857027   \n",
              "2018-08-18 09:59:59                                 -500.314711   \n",
              "2018-08-18 10:59:59                                 -500.220296   \n",
              "\n",
              "                     secondary_cleaner.state.floatbank5_a_air  \\\n",
              "date                                                            \n",
              "2016-01-15 00:00:00                                  9.925633   \n",
              "2016-01-15 01:00:00                                 10.039245   \n",
              "2016-01-15 02:00:00                                 10.070913   \n",
              "2016-01-15 03:00:00                                  9.970366   \n",
              "2016-01-15 04:00:00                                  9.925709   \n",
              "...                                                       ...   \n",
              "2018-08-18 06:59:59                                 18.006038   \n",
              "2018-08-18 07:59:59                                 17.998535   \n",
              "2018-08-18 08:59:59                                 18.019543   \n",
              "2018-08-18 09:59:59                                 17.979515   \n",
              "2018-08-18 10:59:59                                 17.963512   \n",
              "\n",
              "                     secondary_cleaner.state.floatbank5_a_level  \\\n",
              "date                                                              \n",
              "2016-01-15 00:00:00                                 -498.310211   \n",
              "2016-01-15 01:00:00                                 -500.169983   \n",
              "2016-01-15 02:00:00                                 -500.129135   \n",
              "2016-01-15 03:00:00                                 -499.201640   \n",
              "2016-01-15 04:00:00                                 -501.686727   \n",
              "...                                                         ...   \n",
              "2018-08-18 06:59:59                                 -499.834374   \n",
              "2018-08-18 07:59:59                                 -500.395178   \n",
              "2018-08-18 08:59:59                                 -500.451156   \n",
              "2018-08-18 09:59:59                                 -499.272871   \n",
              "2018-08-18 10:59:59                                 -499.939490   \n",
              "\n",
              "                     secondary_cleaner.state.floatbank5_b_air  \\\n",
              "date                                                            \n",
              "2016-01-15 00:00:00                                  8.079666   \n",
              "2016-01-15 01:00:00                                  7.984757   \n",
              "2016-01-15 02:00:00                                  8.013877   \n",
              "2016-01-15 03:00:00                                  7.977324   \n",
              "2016-01-15 04:00:00                                  7.894242   \n",
              "...                                                       ...   \n",
              "2018-08-18 06:59:59                                 13.001114   \n",
              "2018-08-18 07:59:59                                 12.954048   \n",
              "2018-08-18 08:59:59                                 13.023431   \n",
              "2018-08-18 09:59:59                                 12.992404   \n",
              "2018-08-18 10:59:59                                 12.990306   \n",
              "\n",
              "                     secondary_cleaner.state.floatbank5_b_level  \\\n",
              "date                                                              \n",
              "2016-01-15 00:00:00                                 -500.470978   \n",
              "2016-01-15 01:00:00                                 -500.582168   \n",
              "2016-01-15 02:00:00                                 -500.517572   \n",
              "2016-01-15 03:00:00                                 -500.255908   \n",
              "2016-01-15 04:00:00                                 -500.356035   \n",
              "...                                                         ...   \n",
              "2018-08-18 06:59:59                                 -500.155694   \n",
              "2018-08-18 07:59:59                                 -499.895163   \n",
              "2018-08-18 08:59:59                                 -499.914391   \n",
              "2018-08-18 09:59:59                                 -499.976268   \n",
              "2018-08-18 10:59:59                                 -500.080993   \n",
              "\n",
              "                     secondary_cleaner.state.floatbank6_a_air  \\\n",
              "date                                                            \n",
              "2016-01-15 00:00:00                                 14.151341   \n",
              "2016-01-15 01:00:00                                 13.998353   \n",
              "2016-01-15 02:00:00                                 14.028663   \n",
              "2016-01-15 03:00:00                                 14.005551   \n",
              "2016-01-15 04:00:00                                 13.996647   \n",
              "...                                                       ...   \n",
              "2018-08-18 06:59:59                                 20.007840   \n",
              "2018-08-18 07:59:59                                 19.968498   \n",
              "2018-08-18 08:59:59                                 19.990885   \n",
              "2018-08-18 09:59:59                                 20.013986   \n",
              "2018-08-18 10:59:59                                 19.990336   \n",
              "\n",
              "                     secondary_cleaner.state.floatbank6_a_level  \n",
              "date                                                             \n",
              "2016-01-15 00:00:00                                 -605.841980  \n",
              "2016-01-15 01:00:00                                 -599.787184  \n",
              "2016-01-15 02:00:00                                 -601.427363  \n",
              "2016-01-15 03:00:00                                 -599.996129  \n",
              "2016-01-15 04:00:00                                 -601.496691  \n",
              "...                                                         ...  \n",
              "2018-08-18 06:59:59                                 -501.296428  \n",
              "2018-08-18 07:59:59                                 -501.041608  \n",
              "2018-08-18 08:59:59                                 -501.518452  \n",
              "2018-08-18 09:59:59                                 -500.625471  \n",
              "2018-08-18 10:59:59                                 -499.191575  \n",
              "\n",
              "[19439 rows x 86 columns]"
            ]
          },
          "metadata": {}
        }
      ]
    },
    {
      "cell_type": "markdown",
      "source": "# Рассчитаем эффективность обогащения",
      "metadata": {}
    },
    {
      "cell_type": "code",
      "source": "C = train_frame['rougher.output.concentrate_au']\nF = train_frame['rougher.input.feed_au']\nT = train_frame['rougher.output.tail_au']\n\n\ntrain_frame['rougher.output.recovery_calc'] = (C * (F-T)) * 100 / (F * (C-T)) \n\n\ndef mae(target_recovery, calculated_recovery):\n    return abs(target_recovery - calculated_recovery).sum() / len(target_recovery)\n\ntarget_recovery = train_frame['rougher.output.recovery']\ncalculated_recovery = train_frame['rougher.output.recovery_calc']\n\nmae(target_recovery, calculated_recovery)",
      "metadata": {},
      "execution_count": 6,
      "outputs": [
        {
          "execution_count": 6,
          "output_type": "execute_result",
          "data": {
            "text/plain": [
              "1.1131451184435918e-14"
            ]
          },
          "metadata": {}
        }
      ]
    },
    {
      "cell_type": "markdown",
      "source": "Видно, что ошибка достаточно мала - следовательно эффективность обогащения посчитана верно",
      "metadata": {}
    },
    {
      "cell_type": "code",
      "source": "train_frame.drop('rougher.output.recovery_calc', axis=1, inplace=True)",
      "metadata": {},
      "execution_count": 7,
      "outputs": []
    },
    {
      "cell_type": "markdown",
      "source": "# Проанализируем признаки недоступные в тестовой выборке",
      "metadata": {}
    },
    {
      "cell_type": "code",
      "source": "train_frame_cols = train_frame.columns\ntest_frame_cols = test_frame.columns\ndifference = train_frame_cols.difference(test_frame_cols)  \ncounter = 0\nprint('    Отличающиеся столбцы    ')\nfor i in difference:\n    counter += 1\n    print(\"{}. {}\".format(counter,i))\nprint('\\n')\nprint('Количество столбцов в тренировочной выборке:', len(train_frame_cols))\nprint('Количество столбцов в тестовой выборке:', len(test_frame_cols))\nprint('Общее количество отличающихся столбцов: ', counter)",
      "metadata": {},
      "execution_count": 8,
      "outputs": [
        {
          "name": "stdout",
          "output_type": "stream",
          "text": "    Отличающиеся столбцы    \n\n1. final.output.concentrate_ag\n\n2. final.output.concentrate_au\n\n3. final.output.concentrate_pb\n\n4. final.output.concentrate_sol\n\n5. final.output.recovery\n\n6. final.output.tail_ag\n\n7. final.output.tail_au\n\n8. final.output.tail_pb\n\n9. final.output.tail_sol\n\n10. primary_cleaner.output.concentrate_ag\n\n11. primary_cleaner.output.concentrate_au\n\n12. primary_cleaner.output.concentrate_pb\n\n13. primary_cleaner.output.concentrate_sol\n\n14. primary_cleaner.output.tail_ag\n\n15. primary_cleaner.output.tail_au\n\n16. primary_cleaner.output.tail_pb\n\n17. primary_cleaner.output.tail_sol\n\n18. rougher.calculation.au_pb_ratio\n\n19. rougher.calculation.floatbank10_sulfate_to_au_feed\n\n20. rougher.calculation.floatbank11_sulfate_to_au_feed\n\n21. rougher.calculation.sulfate_to_au_concentrate\n\n22. rougher.output.concentrate_ag\n\n23. rougher.output.concentrate_au\n\n24. rougher.output.concentrate_pb\n\n25. rougher.output.concentrate_sol\n\n26. rougher.output.recovery\n\n27. rougher.output.tail_ag\n\n28. rougher.output.tail_au\n\n29. rougher.output.tail_pb\n\n30. rougher.output.tail_sol\n\n31. secondary_cleaner.output.tail_ag\n\n32. secondary_cleaner.output.tail_au\n\n33. secondary_cleaner.output.tail_pb\n\n34. secondary_cleaner.output.tail_sol\n\n\n\n\n\nКоличество столбцов в тренировочной выборке: 86\n\nКоличество столбцов в тестовой выборке: 52\n\nОбщее количество отличающихся столбцов:  34\n"
        }
      ]
    },
    {
      "cell_type": "markdown",
      "source": "Видим, что в тестовой выборке отсутствуют признаки final.output, primary_cleaner.output, rougher.output, secondary_cleaner.output.\n\nДанные в этих столбцах описывают текущее состояние этапа и расчетные характеристики",
      "metadata": {}
    },
    {
      "cell_type": "markdown",
      "source": "# Проведем предобработку данных",
      "metadata": {}
    },
    {
      "cell_type": "code",
      "source": "train_frame = train_frame[test_frame.columns]\n\ntrain_frame_cols = train_frame.columns\ntest_frame_cols = test_frame.columns\ndifference = train_frame_cols.difference(test_frame_cols)  \ncounter = 0\nprint('    Отличающиеся столбцы    ')\nfor i in difference:\n    counter += 1\n    print(\"{}. {}\".format(counter,i))\nprint('\\n')\nprint('Количество столбцов в тренировочной выборке:', len(train_frame_cols))\nprint('Количество столбцов в тестовой выборке:', len(test_frame_cols))\nprint('Общее количество отличающихся столбцов: ', counter)",
      "metadata": {
        "scrolled": true
      },
      "execution_count": 9,
      "outputs": [
        {
          "name": "stdout",
          "output_type": "stream",
          "text": "    Отличающиеся столбцы    \n\n\n\n\n\nКоличество столбцов в тренировочной выборке: 52\n\nКоличество столбцов в тестовой выборке: 52\n\nОбщее количество отличающихся столбцов:  0\n"
        }
      ]
    },
    {
      "cell_type": "markdown",
      "source": "Проверим наборы данных на пропуски",
      "metadata": {}
    },
    {
      "cell_type": "code",
      "source": "print(\"Пропущенных значений: \", train_frame.isna().sum().sum())\n\nprint(\"Пропущенных значений: \", test_frame.isna().sum().sum())",
      "metadata": {},
      "execution_count": 10,
      "outputs": [
        {
          "name": "stdout",
          "output_type": "stream",
          "text": "Пропущенных значений:  1705\n\nПропущенных значений:  90\n"
        }
      ]
    },
    {
      "cell_type": "markdown",
      "source": "Пропуски найдены, удалим их и приступим к следующему этапу",
      "metadata": {}
    },
    {
      "cell_type": "code",
      "source": "train_frame.dropna(inplace=True)\n\ntest_frame.dropna(inplace=True)\n\nprint(\"Пропущенных значений: \", train_frame.isna().sum().sum())\n\nprint(\"Пропущенных значений: \", test_frame.isna().sum().sum())",
      "metadata": {},
      "execution_count": 11,
      "outputs": [
        {
          "name": "stdout",
          "output_type": "stream",
          "text": "Пропущенных значений:  0\n\nПропущенных значений:  0\n"
        }
      ]
    },
    {
      "cell_type": "markdown",
      "source": "## Анализ данных",
      "metadata": {}
    },
    {
      "cell_type": "markdown",
      "source": "# Посмотрим, как меняется концентрация металлов (Au, Ag, Pb) на различных этапах очистки",
      "metadata": {}
    },
    {
      "cell_type": "code",
      "source": "metals = [('au','золота'),('ag','серебра'),('pb','свинца')]\n\nstages = [('rougher.output.concentrate_', 'Флотация'), \n               ('primary_cleaner.output.concentrate_', 'Первый этап очистки'), \n               ('final.output.concentrate_', 'Второй этап очистки')]\n\n\nfor i in metals:\n    plt.figure(figsize=(10,7))\n    for s in stages:\n        axes = sns.distplot(full_frame[s[0] + i[0]], label=s[1])\n        plt.legend()\n        names = axes.set(xlabel='Распределение концeнтрации ' + i[1], \n                   title='Изменение концентрации ' + i[1] + ' на каждом этапе очистки')\n    plt.show()",
      "metadata": {},
      "execution_count": 12,
      "outputs": [
        {
          "output_type": "display_data",
          "data": {
            "image/png": "[encoded data removed]",
            "text/plain": [
              "<Figure size 720x504 with 1 Axes>"
            ]
          },
          "metadata": {
            "needs_background": "light"
          }
        },
        {
          "output_type": "display_data",
          "data": {
            "image/png": "[encoded data removed]",
            "text/plain": [
              "<Figure size 720x504 with 1 Axes>"
            ]
          },
          "metadata": {
            "needs_background": "light"
          }
        },
        {
          "output_type": "display_data",
          "data": {
            "image/png": "[encoded data removed]",
            "text/plain": [
              "<Figure size 720x504 with 1 Axes>"
            ]
          },
          "metadata": {
            "needs_background": "light"
          }
        }
      ]
    },
    {
      "cell_type": "markdown",
      "source": "Из графиков видно, что концентрация золота с каждым этапом очистки только растет. \n\nКонцентрация серебра к последнему этапу очистки начинает снижаться. \n\nКонцентрация свинца к второму этапу очистки осталась практически на том же уровне.",
      "metadata": {}
    },
    {
      "cell_type": "markdown",
      "source": "# Сравним распределения размеров гранул сырья на обучающей и тестовой выборках",
      "metadata": {}
    },
    {
      "cell_type": "code",
      "source": "plt.figure(figsize=(8,5))\nsns.distplot(test_frame['rougher.input.feed_size'], label='Тестовая выборка')\nsns.distplot(train_frame['rougher.input.feed_size'], label='Обучающая выборка')\nplt.legend()",
      "metadata": {},
      "execution_count": 13,
      "outputs": [
        {
          "execution_count": 13,
          "output_type": "execute_result",
          "data": {
            "text/plain": [
              "<matplotlib.legend.Legend at 0x7fdaf8ae6d00>"
            ]
          },
          "metadata": {}
        },
        {
          "output_type": "display_data",
          "data": {
            "image/png": "[encoded data removed]",
            "text/plain": [
              "<Figure size 576x360 with 1 Axes>"
            ]
          },
          "metadata": {
            "needs_background": "light"
          }
        }
      ]
    },
    {
      "cell_type": "markdown",
      "source": "Видим, что распределение размеров гранул сырья на графиках практически не отличаются",
      "metadata": {}
    },
    {
      "cell_type": "markdown",
      "source": "# Исследуем суммарную концентрацию всех веществ на разных стадиях: в сырье, в черновом и финальном концентратах",
      "metadata": {}
    },
    {
      "cell_type": "code",
      "source": "concentration_stages = [('rougher.input.feed_', 'в сырье'),\n                        ('rougher.output.concentrate_', 'в черновом концентрате'), \n                        ('final.output.concentrate_', 'в финальном концентрате')]\n\n\nfig, axes = plt.subplots(1, len(concentration_stages), figsize=(20, 6))\nfig.suptitle('Суммарная концентрация всех веществ на разных стадиях', fontsize=15)\n\n\nfor s, ax in zip(concentration_stages, axes):\n    ax.set_title(s[1])\n    full_concentration =  full_frame[s[0]+ 'ag'] + full_frame[s[0]+ 'au'] + full_frame[s[0]+ 'pb'] + full_frame[s[0]+ 'sol']\n\n    sns.distplot(full_concentration, ax=ax)   \n\nplt.show()",
      "metadata": {},
      "execution_count": 14,
      "outputs": [
        {
          "output_type": "display_data",
          "data": {
            "image/png": "[encoded data removed]",
            "text/plain": [
              "<Figure size 1440x432 with 3 Axes>"
            ]
          },
          "metadata": {
            "needs_background": "light"
          }
        }
      ]
    },
    {
      "cell_type": "code",
      "source": "\n\ntrain_frame = train_frame[train_frame['rougher.input.feed_ag']>1]\ntrain_frame = train_frame[train_frame['rougher.input.feed_au']>1]\ntrain_frame = train_frame[train_frame['rougher.input.feed_pb']>1]\n\n\n\nfig, axes = plt.subplots(1, len(concentration_stages), figsize=(20, 6))\nfig.suptitle('Суммарная концентрация всех веществ на разных стадиях', fontsize=15)\n\n\nfor s, ax in zip(concentration_stages, axes):\n    ax.set_title(s[1])\n    full_concentration =  full_frame[s[0]+ 'ag'] + full_frame[s[0]+ 'au'] + full_frame[s[0]+ 'pb'] + full_frame[s[0]+ 'sol']\n\n    sns.distplot(full_concentration, ax=ax)   \n\nplt.show()",
      "metadata": {},
      "execution_count": 15,
      "outputs": [
        {
          "output_type": "display_data",
          "data": {
            "image/png": "[encoded data removed]",
            "text/plain": [
              "<Figure size 1440x432 with 3 Axes>"
            ]
          },
          "metadata": {
            "needs_background": "light"
          }
        }
      ]
    },
    {
      "cell_type": "markdown",
      "source": "## Модель",
      "metadata": {}
    },
    {
      "cell_type": "markdown",
      "source": "# Напишем функцию для вычисления итоговой sMAPE",
      "metadata": {}
    },
    {
      "cell_type": "code",
      "source": "def smape(y_target, y_pred):\n    return ((1/len(y_target)) * np.sum(2 * np.abs(y_target - y_pred) / (np.abs(y_target) + np.abs(y_pred)))) * 100",
      "metadata": {},
      "execution_count": 16,
      "outputs": []
    },
    {
      "cell_type": "markdown",
      "source": "<font color='blue'><b>Комментарий ревьюера: </b></font> ✔️\\\n<font color='green'> `smape` расчитана верно.</font>",
      "metadata": {}
    },
    {
      "cell_type": "markdown",
      "source": "Обучим разные модели и оценим их качество кросс-валидацией. Выберем лучшую модель и проверим её на тестовой выборке",
      "metadata": {}
    },
    {
      "cell_type": "code",
      "source": "# подготовка признаков для final.output.recovery\n\n\n\nx_train_rougher = train_frame\nx_test_rougher = test_frame\ny_train_rougher = full_frame.loc[x_train_rougher.index, 'rougher.output.recovery']\ny_test_rougher = full_frame.loc[x_test_rougher.index,'final.output.recovery']\n\nx_train_final = train_frame\nx_test_final = test_frame\ny_train_final = full_frame.loc[x_train_final.index, 'final.output.recovery']\ny_test_final = full_frame.loc[x_test_final.index, 'final.output.recovery']\n\nprint(x_train_rougher.shape, x_train_final.shape)\nprint(x_test_rougher.shape, x_test_final.shape)\nprint(y_train_rougher.shape, y_train_final.shape)\nprint(y_test_rougher.shape, y_test_final.shape)\n",
      "metadata": {
        "scrolled": true
      },
      "execution_count": 17,
      "outputs": [
        {
          "name": "stdout",
          "output_type": "stream",
          "text": "(12580, 52) (12580, 52)\n\n(5229, 52) (5229, 52)\n\n(12580,) (12580,)\n\n(5229,) (5229,)\n"
        }
      ]
    },
    {
      "cell_type": "code",
      "source": "# выбираем три модели и определяем параметры для GridSearchCV\n\nfrom numpy.random import RandomState\nstate = RandomState(12345)\n\npipe = Pipeline([\n    #('imp', SimpleImputer(missing_values=np.nan)),\n    ('scaler', StandardScaler()),\n    ('model', RandomForestRegressor(n_estimators=100, random_state=state))\n])\n\nparams = [\n    {\n        #'imp__strategy': ['mean', 'median'],\n        'model': [RandomForestRegressor(n_estimators=10, random_state=state)],\n        'model__max_features': np.linspace(0.1, 1, 10)\n    }, {\n        #'imp__strategy': ['mean', 'median'],\n        'model': [LinearRegression()]\n    }, {\n        #'imp__strategy': ['mean', 'median'],\n        'model': [linear_model.Lasso(random_state=state)],\n        'model__alpha': np.logspace(-3, 1, 10)\n    }\n]\n",
      "metadata": {},
      "execution_count": 18,
      "outputs": []
    },
    {
      "cell_type": "code",
      "source": "# подготовим метрику smape и проведем кроссвалидацию с помощью KFold\n\nsmape_score = make_scorer(smape, greater_is_better=False)\n\n\ncv = KFold(n_splits=5, shuffle=False)\ngrid_rougher = GridSearchCV(pipe, param_grid=params, cv=cv, n_jobs=-1, scoring=smape_score)\ngrid_rougher.fit(x_train_rougher, y_train_rougher)\n\nprint('Лучшие параметры:', grid_rougher.best_params_)\nprint('Лучший sMAPE:', -grid_rougher.best_score_)",
      "metadata": {},
      "execution_count": 19,
      "outputs": [
        {
          "name": "stdout",
          "output_type": "stream",
          "text": "Лучшие параметры: {'model': Lasso(alpha=1.2915496650148828,\n\n      random_state=RandomState(MT19937) at 0x7FDAFA058340), 'model__alpha': 1.2915496650148828}\n\nЛучший sMAPE: 9.824577335321715\n"
        }
      ]
    },
    {
      "cell_type": "code",
      "source": "# поиск лучших параметров для final \ngrid_final = GridSearchCV(pipe, param_grid=params, cv=cv, n_jobs=-1, scoring=smape_score)\ngrid_final.fit(x_train_final, y_train_final)\n\nprint('Лучшие параметры:', grid_final.best_params_)\nprint('Лучший sMAPE:', -grid_final.best_score_)",
      "metadata": {},
      "execution_count": 20,
      "outputs": [
        {
          "name": "stderr",
          "output_type": "stream",
          "text": "/opt/conda/lib/python3.9/site-packages/sklearn/linear_model/_coordinate_descent.py:530: ConvergenceWarning: Objective did not converge. You might want to increase the number of iterations. Duality gap: 111.58189508621581, tolerance: 84.91510074052843\n\n  model = cd_fast.enet_coordinate_descent(\n"
        },
        {
          "name": "stdout",
          "output_type": "stream",
          "text": "Лучшие параметры: {'model': Lasso(alpha=0.46415888336127775,\n\n      random_state=RandomState(MT19937) at 0x7FDAFA058340), 'model__alpha': 0.46415888336127775}\n\nЛучший sMAPE: 9.233493631473959\n"
        }
      ]
    },
    {
      "cell_type": "code",
      "source": "# модель с лучшими параметрами для тестовой выборки rougher\npipe_rougher = grid_rougher.best_estimator_\n\npipe_rougher.fit(x_train_rougher, y_train_rougher)\ny_pred = pipe_rougher.predict(x_test_rougher)\n\nsmape_rougher = smape(full_frame.loc[x_test_rougher.index, 'rougher.output.recovery'], y_pred)\nprint(smape_rougher)",
      "metadata": {},
      "execution_count": 21,
      "outputs": [
        {
          "name": "stdout",
          "output_type": "stream",
          "text": "8.39121290534835\n"
        }
      ]
    },
    {
      "cell_type": "code",
      "source": "# модель с лучшими параметрами для тестовой выборки final\npipe_final = grid_final.best_estimator_\n    \npipe_final.fit(x_train_final, y_train_final)\ny_pred_final = pipe_final.predict(x_test_final)\n\nsmape_final = smape(full_frame.loc[x_test_rougher.index, 'final.output.recovery'],y_pred_final)\nprint(smape_final)",
      "metadata": {},
      "execution_count": 22,
      "outputs": [
        {
          "name": "stdout",
          "output_type": "stream",
          "text": "8.305031319778482\n"
        }
      ]
    },
    {
      "cell_type": "code",
      "source": "# итоговый sMAPE \nfinal_smape = 0.25*smape_rougher + 0.75*smape_final\nprint(final_smape)",
      "metadata": {},
      "execution_count": 23,
      "outputs": [
        {
          "name": "stdout",
          "output_type": "stream",
          "text": "8.32657671617095\n"
        }
      ]
    },
    {
      "cell_type": "code",
      "source": "y_test_rougher = full_frame.loc[x_test_rougher.index, 'rougher.output.recovery']\ny_test_final = full_frame.loc[x_test_rougher.index, 'final.output.recovery']\n\nrougher_median = pd.Series(y_train_rougher.median(), index=y_test_rougher.index)\nfinal_median = pd.Series(y_train_final.median(), index=y_test_final.index)\n\ntotal = (smape(rougher_median, y_test_rougher)*0.25) + (smape(final_median, y_test_final)* 0.75)\nprint(total)",
      "metadata": {},
      "execution_count": 26,
      "outputs": [
        {
          "name": "stdout",
          "output_type": "stream",
          "text": "9.080836124446476\n"
        }
      ]
    },
    {
      "cell_type": "markdown",
      "source": "## Вывод",
      "metadata": {}
    },
    {
      "cell_type": "markdown",
      "source": "Шаг 1. Знакомство и подготовка данных\n\nОзнакомился с данными, проверил общую информацию о датасете. Рассчитал эффективность обогащения и провел предобработку данных. \n\n\nШаг 2. Анализ данных\n\nНа этом этапе я проверил, как меняется концентрация металлов на различных этапах очистки, сравнил распределения размеров гранул сырья на обучающей и тестовой выборках, исследовал суммарную концентрацию всех веществ на разных стадиях\n\n\nШаг 3. Построение модели\n\nНаписал функцию для вычисления итоговой sMAPE, с помощью GridSearchCV подобрал наилучшую модель и наилучшие параметры.\n\nИтоговый sMAPE : 8.31",
      "metadata": {}
    }
  ]
}