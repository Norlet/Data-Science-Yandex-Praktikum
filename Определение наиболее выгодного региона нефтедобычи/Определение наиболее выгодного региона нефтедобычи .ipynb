{
  "metadata": {
    "ExecuteTimeLog": [
      {
        "duration": 43,
        "start_time": "2022-10-17T21:32:20.838Z"
      },
      {
        "duration": 1527,
        "start_time": "2022-10-17T21:33:13.766Z"
      },
      {
        "duration": 2066,
        "start_time": "2022-10-17T21:33:15.295Z"
      },
      {
        "duration": 372,
        "start_time": "2022-10-17T21:33:52.761Z"
      },
      {
        "duration": 52,
        "start_time": "2022-10-18T19:08:08.810Z"
      },
      {
        "duration": 48,
        "start_time": "2022-10-18T19:08:10.365Z"
      },
      {
        "duration": 386,
        "start_time": "2022-10-18T19:08:18.980Z"
      },
      {
        "duration": 375,
        "start_time": "2022-10-18T19:08:31.965Z"
      },
      {
        "duration": 4,
        "start_time": "2022-10-18T19:22:15.356Z"
      },
      {
        "duration": 386,
        "start_time": "2022-10-18T19:22:15.673Z"
      },
      {
        "duration": 57,
        "start_time": "2022-10-18T19:22:16.061Z"
      },
      {
        "duration": 50,
        "start_time": "2022-10-18T19:22:16.202Z"
      },
      {
        "duration": 30,
        "start_time": "2022-10-18T19:22:17.484Z"
      },
      {
        "duration": 28,
        "start_time": "2022-10-18T19:23:16.321Z"
      },
      {
        "duration": 110,
        "start_time": "2022-10-18T19:23:47.775Z"
      },
      {
        "duration": 30,
        "start_time": "2022-10-18T19:23:48.612Z"
      },
      {
        "duration": 27,
        "start_time": "2022-10-18T19:24:05.352Z"
      },
      {
        "duration": 30,
        "start_time": "2022-10-18T19:29:12.964Z"
      },
      {
        "duration": 28,
        "start_time": "2022-10-18T19:30:08.746Z"
      },
      {
        "duration": 28,
        "start_time": "2022-10-18T19:30:09.382Z"
      },
      {
        "duration": 29,
        "start_time": "2022-10-18T19:30:10.074Z"
      },
      {
        "duration": 2,
        "start_time": "2022-10-18T19:33:04.651Z"
      },
      {
        "duration": 2,
        "start_time": "2022-10-18T19:33:24.850Z"
      },
      {
        "duration": 4,
        "start_time": "2022-10-18T19:50:21.447Z"
      },
      {
        "duration": 5,
        "start_time": "2022-10-18T19:52:02.368Z"
      },
      {
        "duration": 6,
        "start_time": "2022-10-18T19:52:11.644Z"
      },
      {
        "duration": 82,
        "start_time": "2022-10-19T20:47:46.852Z"
      },
      {
        "duration": 1528,
        "start_time": "2022-10-19T20:47:54.418Z"
      },
      {
        "duration": 1863,
        "start_time": "2022-10-19T20:47:55.948Z"
      },
      {
        "duration": 60,
        "start_time": "2022-10-19T20:47:57.814Z"
      },
      {
        "duration": 76,
        "start_time": "2022-10-19T20:47:57.890Z"
      },
      {
        "duration": 208,
        "start_time": "2022-10-19T20:48:00.881Z"
      },
      {
        "duration": 51,
        "start_time": "2022-10-19T20:48:02.644Z"
      },
      {
        "duration": 55,
        "start_time": "2022-10-19T20:48:03.655Z"
      },
      {
        "duration": 77,
        "start_time": "2022-10-19T20:48:04.148Z"
      },
      {
        "duration": 3,
        "start_time": "2022-10-19T20:48:28.816Z"
      },
      {
        "duration": 459,
        "start_time": "2022-10-19T20:48:29.009Z"
      },
      {
        "duration": 69,
        "start_time": "2022-10-19T20:48:29.470Z"
      },
      {
        "duration": 75,
        "start_time": "2022-10-19T20:48:29.541Z"
      },
      {
        "duration": 103,
        "start_time": "2022-10-19T20:48:30.489Z"
      },
      {
        "duration": 46,
        "start_time": "2022-10-19T20:48:30.842Z"
      },
      {
        "duration": 42,
        "start_time": "2022-10-19T20:48:31.447Z"
      },
      {
        "duration": 10,
        "start_time": "2022-10-19T20:48:31.722Z"
      },
      {
        "duration": 9,
        "start_time": "2022-10-19T20:59:57.234Z"
      },
      {
        "duration": 4,
        "start_time": "2022-10-19T21:00:02.466Z"
      },
      {
        "duration": 458,
        "start_time": "2022-10-19T21:00:02.680Z"
      },
      {
        "duration": 79,
        "start_time": "2022-10-19T21:00:03.141Z"
      },
      {
        "duration": 77,
        "start_time": "2022-10-19T21:00:03.222Z"
      },
      {
        "duration": 100,
        "start_time": "2022-10-19T21:00:03.789Z"
      },
      {
        "duration": 35,
        "start_time": "2022-10-19T21:00:04.121Z"
      },
      {
        "duration": 105,
        "start_time": "2022-10-19T21:00:04.485Z"
      },
      {
        "duration": 3,
        "start_time": "2022-10-19T21:00:05.029Z"
      },
      {
        "duration": 5,
        "start_time": "2022-10-19T21:00:05.598Z"
      },
      {
        "duration": 6,
        "start_time": "2022-10-19T21:00:05.807Z"
      },
      {
        "duration": 5,
        "start_time": "2022-10-19T21:00:06.856Z"
      },
      {
        "duration": 5,
        "start_time": "2022-10-19T21:00:07.337Z"
      },
      {
        "duration": 10,
        "start_time": "2022-10-19T21:00:08.873Z"
      },
      {
        "duration": 117,
        "start_time": "2022-10-19T21:00:57.673Z"
      },
      {
        "duration": 126,
        "start_time": "2022-10-19T21:00:57.972Z"
      },
      {
        "duration": 37,
        "start_time": "2022-10-19T21:00:58.253Z"
      },
      {
        "duration": 2,
        "start_time": "2022-10-19T21:00:58.697Z"
      },
      {
        "duration": 5,
        "start_time": "2022-10-19T21:00:59.011Z"
      },
      {
        "duration": 5,
        "start_time": "2022-10-19T21:00:59.157Z"
      },
      {
        "duration": 3,
        "start_time": "2022-10-19T21:00:59.619Z"
      },
      {
        "duration": 5,
        "start_time": "2022-10-19T21:00:59.776Z"
      },
      {
        "duration": 12,
        "start_time": "2022-10-19T21:00:59.934Z"
      },
      {
        "duration": 13,
        "start_time": "2022-10-19T21:02:34.457Z"
      },
      {
        "duration": 11,
        "start_time": "2022-10-19T21:04:39.511Z"
      },
      {
        "duration": 14,
        "start_time": "2022-10-19T21:04:58.023Z"
      },
      {
        "duration": 5,
        "start_time": "2022-10-19T21:05:57.731Z"
      },
      {
        "duration": 14,
        "start_time": "2022-10-19T21:05:58.274Z"
      },
      {
        "duration": 3,
        "start_time": "2022-10-19T21:07:03.446Z"
      },
      {
        "duration": 5,
        "start_time": "2022-10-19T21:07:03.857Z"
      },
      {
        "duration": 12,
        "start_time": "2022-10-19T21:07:04.471Z"
      },
      {
        "duration": 5,
        "start_time": "2022-10-19T21:29:31.147Z"
      },
      {
        "duration": 4,
        "start_time": "2022-10-19T21:29:32.204Z"
      },
      {
        "duration": 23,
        "start_time": "2022-10-19T21:29:32.838Z"
      },
      {
        "duration": 23,
        "start_time": "2022-10-19T21:30:22.612Z"
      },
      {
        "duration": 3,
        "start_time": "2022-10-19T21:31:42.874Z"
      },
      {
        "duration": 2,
        "start_time": "2022-10-19T21:31:45.821Z"
      },
      {
        "duration": 3,
        "start_time": "2022-10-19T21:31:46.279Z"
      },
      {
        "duration": 428,
        "start_time": "2022-10-19T21:31:46.631Z"
      },
      {
        "duration": 70,
        "start_time": "2022-10-19T21:31:47.061Z"
      },
      {
        "duration": 70,
        "start_time": "2022-10-19T21:31:47.899Z"
      },
      {
        "duration": 4,
        "start_time": "2022-10-19T21:31:50.735Z"
      },
      {
        "duration": 5,
        "start_time": "2022-10-19T21:31:51.471Z"
      },
      {
        "duration": 22,
        "start_time": "2022-10-19T21:31:53.471Z"
      },
      {
        "duration": 6,
        "start_time": "2022-10-19T21:37:39.348Z"
      },
      {
        "duration": 8,
        "start_time": "2022-10-19T21:38:41.431Z"
      },
      {
        "duration": 5,
        "start_time": "2022-10-19T21:38:50.100Z"
      },
      {
        "duration": 8,
        "start_time": "2022-10-19T21:38:50.584Z"
      },
      {
        "duration": 39,
        "start_time": "2022-10-19T21:38:55.263Z"
      },
      {
        "duration": 5,
        "start_time": "2022-10-19T21:40:00.227Z"
      },
      {
        "duration": 194,
        "start_time": "2022-10-19T21:40:01.215Z"
      },
      {
        "duration": 452,
        "start_time": "2022-10-19T21:43:14.153Z"
      },
      {
        "duration": 368,
        "start_time": "2022-10-19T21:43:33.530Z"
      },
      {
        "duration": 355,
        "start_time": "2022-10-19T21:43:49.335Z"
      },
      {
        "duration": 391,
        "start_time": "2022-10-19T21:44:12.207Z"
      },
      {
        "duration": 36,
        "start_time": "2022-10-19T21:46:29.180Z"
      },
      {
        "duration": 319,
        "start_time": "2022-10-19T21:46:38.086Z"
      },
      {
        "duration": 444,
        "start_time": "2022-10-19T21:46:38.953Z"
      },
      {
        "duration": 3,
        "start_time": "2022-10-19T21:46:43.764Z"
      },
      {
        "duration": 4,
        "start_time": "2022-10-19T21:46:44.595Z"
      },
      {
        "duration": 6,
        "start_time": "2022-10-19T21:46:45.024Z"
      },
      {
        "duration": 3,
        "start_time": "2022-10-19T21:46:46.624Z"
      },
      {
        "duration": 4,
        "start_time": "2022-10-19T21:46:47.172Z"
      },
      {
        "duration": 13,
        "start_time": "2022-10-19T21:46:48.037Z"
      },
      {
        "duration": 5,
        "start_time": "2022-10-19T21:52:45.403Z"
      },
      {
        "duration": 3,
        "start_time": "2022-10-19T21:52:46.960Z"
      },
      {
        "duration": 5,
        "start_time": "2022-10-19T21:52:47.370Z"
      },
      {
        "duration": 13,
        "start_time": "2022-10-19T21:52:47.959Z"
      },
      {
        "duration": 4,
        "start_time": "2022-10-19T21:53:02.289Z"
      },
      {
        "duration": 1307,
        "start_time": "2022-10-19T21:53:02.707Z"
      },
      {
        "duration": 5,
        "start_time": "2022-10-19T21:53:16.671Z"
      },
      {
        "duration": 1323,
        "start_time": "2022-10-19T21:53:17.389Z"
      },
      {
        "duration": 4,
        "start_time": "2022-10-19T21:55:01.620Z"
      },
      {
        "duration": 1264,
        "start_time": "2022-10-19T21:55:01.916Z"
      },
      {
        "duration": 5,
        "start_time": "2022-10-19T21:57:13.016Z"
      },
      {
        "duration": 3810,
        "start_time": "2022-10-19T21:57:13.540Z"
      },
      {
        "duration": 3826,
        "start_time": "2022-10-19T21:57:43.027Z"
      },
      {
        "duration": 3837,
        "start_time": "2022-10-19T21:57:51.003Z"
      },
      {
        "duration": 3741,
        "start_time": "2022-10-19T21:59:36.125Z"
      },
      {
        "duration": 3874,
        "start_time": "2022-10-19T21:59:57.276Z"
      },
      {
        "duration": 3796,
        "start_time": "2022-10-19T22:00:04.943Z"
      },
      {
        "duration": 3728,
        "start_time": "2022-10-19T22:00:26.805Z"
      },
      {
        "duration": 7,
        "start_time": "2022-10-20T06:39:22.957Z"
      },
      {
        "duration": 5128,
        "start_time": "2022-10-20T06:39:22.966Z"
      },
      {
        "duration": 777,
        "start_time": "2022-10-20T06:39:28.096Z"
      },
      {
        "duration": 62,
        "start_time": "2022-10-20T06:39:28.875Z"
      },
      {
        "duration": 61,
        "start_time": "2022-10-20T06:39:28.939Z"
      },
      {
        "duration": 9,
        "start_time": "2022-10-20T06:39:29.006Z"
      },
      {
        "duration": 297,
        "start_time": "2022-10-20T06:39:29.016Z"
      },
      {
        "duration": 498,
        "start_time": "2022-10-20T06:39:29.317Z"
      },
      {
        "duration": 5,
        "start_time": "2022-10-20T06:39:29.817Z"
      },
      {
        "duration": 75,
        "start_time": "2022-10-20T06:39:29.826Z"
      },
      {
        "duration": 9,
        "start_time": "2022-10-20T06:39:29.903Z"
      },
      {
        "duration": 121,
        "start_time": "2022-10-20T06:39:29.915Z"
      },
      {
        "duration": 26,
        "start_time": "2022-10-20T06:39:30.038Z"
      },
      {
        "duration": 107,
        "start_time": "2022-10-20T06:39:30.066Z"
      },
      {
        "duration": 8,
        "start_time": "2022-10-20T06:40:11.064Z"
      },
      {
        "duration": 4083,
        "start_time": "2022-10-20T06:40:33.199Z"
      },
      {
        "duration": 13,
        "start_time": "2022-10-20T06:51:10.891Z"
      },
      {
        "duration": 58,
        "start_time": "2022-10-20T16:26:27.148Z"
      },
      {
        "duration": 3,
        "start_time": "2022-10-20T16:26:33.187Z"
      },
      {
        "duration": 1527,
        "start_time": "2022-10-20T16:26:33.192Z"
      },
      {
        "duration": 816,
        "start_time": "2022-10-20T16:26:34.721Z"
      },
      {
        "duration": 79,
        "start_time": "2022-10-20T16:26:35.540Z"
      },
      {
        "duration": 82,
        "start_time": "2022-10-20T16:26:35.622Z"
      },
      {
        "duration": 6,
        "start_time": "2022-10-20T16:26:35.705Z"
      },
      {
        "duration": 458,
        "start_time": "2022-10-20T16:26:35.712Z"
      },
      {
        "duration": 601,
        "start_time": "2022-10-20T16:26:36.172Z"
      },
      {
        "duration": 7,
        "start_time": "2022-10-20T16:26:36.858Z"
      },
      {
        "duration": 99,
        "start_time": "2022-10-20T16:26:36.869Z"
      },
      {
        "duration": 20,
        "start_time": "2022-10-20T16:26:36.970Z"
      },
      {
        "duration": 8,
        "start_time": "2022-10-20T16:26:36.992Z"
      },
      {
        "duration": 45,
        "start_time": "2022-10-20T16:26:37.001Z"
      },
      {
        "duration": 4229,
        "start_time": "2022-10-20T16:26:37.049Z"
      },
      {
        "duration": 105,
        "start_time": "2022-10-20T16:28:38.245Z"
      }
    ],
    "toc": {
      "base_numbering": 1,
      "nav_menu": {},
      "number_sections": true,
      "sideBar": true,
      "skip_h1_title": true,
      "title_cell": "Table of Contents",
      "title_sidebar": "Contents",
      "toc_cell": false,
      "toc_position": {},
      "toc_section_display": true,
      "toc_window_display": false
    },
    "kernelspec": {
      "name": "python",
      "display_name": "Python (Pyodide)",
      "language": "python"
    },
    "language_info": {
      "codemirror_mode": {
        "name": "ipython",
        "version": 3
      },
      "file_extension": ".py",
      "mimetype": "text/x-python",
      "name": "python",
      "nbconvert_exporter": "python",
      "pygments_lexer": "ipython3",
      "version": "3.9.5"
    }
  },
  "nbformat_minor": 4,
  "nbformat": 4,
  "cells": [
    {
      "cell_type": "markdown",
      "source": "# Выбор локации для скважины",
      "metadata": {}
    },
    {
      "cell_type": "markdown",
      "source": "Были предоставлены пробы нефти в трёх регионах: в каждом 10 000 месторождений, где измерили качество нефти и объём её запасов. Построим модель машинного обучения, которая поможет определить регион, где добыча принесёт наибольшую прибыль. Проанализируем возможную прибыль и риски техникой *Bootstrap.*\n\nШаги для выбора локации:\n\n- В избранном регионе ищут месторождения, для каждого определяют значения признаков;\n- Строят модель и оценивают объём запасов;\n- Выбирают месторождения с самым высокими оценками значений. Количество месторождений зависит от бюджета компании и стоимости разработки одной скважины;\n- Прибыль равна суммарной прибыли отобранных месторождений.",
      "metadata": {}
    },
    {
      "cell_type": "code",
      "source": "class PredictionData(object):\n    __slots__ = (        \n        'features_train', \n        'target_train', \n        'features_valid', \n        'target_valid',\n    )",
      "metadata": {},
      "execution_count": 2,
      "outputs": []
    },
    {
      "cell_type": "markdown",
      "source": "## Загрузка и подготовка данных",
      "metadata": {}
    },
    {
      "cell_type": "code",
      "source": "import pandas as pd\nimport numpy as np\nimport scipy.stats as st\n\nfrom sklearn.linear_model import LinearRegression\n\nfrom sklearn.metrics import mean_squared_error\nfrom sklearn.model_selection import train_test_split\nfrom sklearn.preprocessing import MinMaxScaler\n\nimport matplotlib.pyplot as plt\n\nimport warnings\nwarnings.filterwarnings(\"ignore\")",
      "metadata": {},
      "execution_count": 3,
      "outputs": []
    },
    {
      "cell_type": "code",
      "source": "df_0 = pd.read_csv(\"/datasets/geo_data_0.csv\")\n\ndf_1 = pd.read_csv(\"/datasets/geo_data_1.csv\")\n\ndf_2 = pd.read_csv(\"/datasets/geo_data_2.csv\")\n\n\ndisplay(df_0.shape)\ndisplay(df_0.head(20)) \n\nprint(\"Пропущенных значений: \", df_0.isna().sum().sum())\n\nprint(\"Дубликатов:\", df_0.duplicated().sum())",
      "metadata": {},
      "execution_count": 4,
      "outputs": [
        {
          "output_type": "display_data",
          "data": {
            "text/plain": [
              "(100000, 5)"
            ]
          },
          "metadata": {}
        },
        {
          "output_type": "display_data",
          "data": {
            "text/html": [
              "<div>\n",
              "<style scoped>\n",
              "    .dataframe tbody tr th:only-of-type {\n",
              "        vertical-align: middle;\n",
              "    }\n",
              "\n",
              "    .dataframe tbody tr th {\n",
              "        vertical-align: top;\n",
              "    }\n",
              "\n",
              "    .dataframe thead th {\n",
              "        text-align: right;\n",
              "    }\n",
              "</style>\n",
              "<table border=\"1\" class=\"dataframe\">\n",
              "  <thead>\n",
              "    <tr style=\"text-align: right;\">\n",
              "      <th></th>\n",
              "      <th>id</th>\n",
              "      <th>f0</th>\n",
              "      <th>f1</th>\n",
              "      <th>f2</th>\n",
              "      <th>product</th>\n",
              "    </tr>\n",
              "  </thead>\n",
              "  <tbody>\n",
              "    <tr>\n",
              "      <th>0</th>\n",
              "      <td>txEyH</td>\n",
              "      <td>0.705745</td>\n",
              "      <td>-0.497823</td>\n",
              "      <td>1.221170</td>\n",
              "      <td>105.280062</td>\n",
              "    </tr>\n",
              "    <tr>\n",
              "      <th>1</th>\n",
              "      <td>2acmU</td>\n",
              "      <td>1.334711</td>\n",
              "      <td>-0.340164</td>\n",
              "      <td>4.365080</td>\n",
              "      <td>73.037750</td>\n",
              "    </tr>\n",
              "    <tr>\n",
              "      <th>2</th>\n",
              "      <td>409Wp</td>\n",
              "      <td>1.022732</td>\n",
              "      <td>0.151990</td>\n",
              "      <td>1.419926</td>\n",
              "      <td>85.265647</td>\n",
              "    </tr>\n",
              "    <tr>\n",
              "      <th>3</th>\n",
              "      <td>iJLyR</td>\n",
              "      <td>-0.032172</td>\n",
              "      <td>0.139033</td>\n",
              "      <td>2.978566</td>\n",
              "      <td>168.620776</td>\n",
              "    </tr>\n",
              "    <tr>\n",
              "      <th>4</th>\n",
              "      <td>Xdl7t</td>\n",
              "      <td>1.988431</td>\n",
              "      <td>0.155413</td>\n",
              "      <td>4.751769</td>\n",
              "      <td>154.036647</td>\n",
              "    </tr>\n",
              "    <tr>\n",
              "      <th>5</th>\n",
              "      <td>wX4Hy</td>\n",
              "      <td>0.969570</td>\n",
              "      <td>0.489775</td>\n",
              "      <td>-0.735383</td>\n",
              "      <td>64.741541</td>\n",
              "    </tr>\n",
              "    <tr>\n",
              "      <th>6</th>\n",
              "      <td>tL6pL</td>\n",
              "      <td>0.645075</td>\n",
              "      <td>0.530656</td>\n",
              "      <td>1.780266</td>\n",
              "      <td>49.055285</td>\n",
              "    </tr>\n",
              "    <tr>\n",
              "      <th>7</th>\n",
              "      <td>BYPU6</td>\n",
              "      <td>-0.400648</td>\n",
              "      <td>0.808337</td>\n",
              "      <td>-5.624670</td>\n",
              "      <td>72.943292</td>\n",
              "    </tr>\n",
              "    <tr>\n",
              "      <th>8</th>\n",
              "      <td>j9Oui</td>\n",
              "      <td>0.643105</td>\n",
              "      <td>-0.551583</td>\n",
              "      <td>2.372141</td>\n",
              "      <td>113.356160</td>\n",
              "    </tr>\n",
              "    <tr>\n",
              "      <th>9</th>\n",
              "      <td>OLuZU</td>\n",
              "      <td>2.173381</td>\n",
              "      <td>0.563698</td>\n",
              "      <td>9.441852</td>\n",
              "      <td>127.910945</td>\n",
              "    </tr>\n",
              "    <tr>\n",
              "      <th>10</th>\n",
              "      <td>b8WQ6</td>\n",
              "      <td>0.371066</td>\n",
              "      <td>-0.036585</td>\n",
              "      <td>0.009208</td>\n",
              "      <td>70.326617</td>\n",
              "    </tr>\n",
              "    <tr>\n",
              "      <th>11</th>\n",
              "      <td>1YYm1</td>\n",
              "      <td>0.015920</td>\n",
              "      <td>1.062729</td>\n",
              "      <td>-0.722248</td>\n",
              "      <td>45.110381</td>\n",
              "    </tr>\n",
              "    <tr>\n",
              "      <th>12</th>\n",
              "      <td>zIYPq</td>\n",
              "      <td>-0.276476</td>\n",
              "      <td>0.924865</td>\n",
              "      <td>0.095584</td>\n",
              "      <td>89.158678</td>\n",
              "    </tr>\n",
              "    <tr>\n",
              "      <th>13</th>\n",
              "      <td>iqTqq</td>\n",
              "      <td>0.212696</td>\n",
              "      <td>-0.111147</td>\n",
              "      <td>5.770095</td>\n",
              "      <td>164.298520</td>\n",
              "    </tr>\n",
              "    <tr>\n",
              "      <th>14</th>\n",
              "      <td>Ct5yY</td>\n",
              "      <td>-0.018578</td>\n",
              "      <td>0.187516</td>\n",
              "      <td>2.944683</td>\n",
              "      <td>158.633720</td>\n",
              "    </tr>\n",
              "    <tr>\n",
              "      <th>15</th>\n",
              "      <td>Q77WQ</td>\n",
              "      <td>1.324566</td>\n",
              "      <td>-0.419149</td>\n",
              "      <td>-4.097429</td>\n",
              "      <td>60.677876</td>\n",
              "    </tr>\n",
              "    <tr>\n",
              "      <th>16</th>\n",
              "      <td>6vJcD</td>\n",
              "      <td>-0.000247</td>\n",
              "      <td>0.360146</td>\n",
              "      <td>0.794115</td>\n",
              "      <td>163.143987</td>\n",
              "    </tr>\n",
              "    <tr>\n",
              "      <th>17</th>\n",
              "      <td>AgRR6</td>\n",
              "      <td>0.380913</td>\n",
              "      <td>1.114558</td>\n",
              "      <td>0.992377</td>\n",
              "      <td>125.942543</td>\n",
              "    </tr>\n",
              "    <tr>\n",
              "      <th>18</th>\n",
              "      <td>tgSSC</td>\n",
              "      <td>0.160021</td>\n",
              "      <td>0.788151</td>\n",
              "      <td>7.629164</td>\n",
              "      <td>113.793566</td>\n",
              "    </tr>\n",
              "    <tr>\n",
              "      <th>19</th>\n",
              "      <td>s2g8E</td>\n",
              "      <td>0.593078</td>\n",
              "      <td>-0.414964</td>\n",
              "      <td>-0.715774</td>\n",
              "      <td>28.207978</td>\n",
              "    </tr>\n",
              "  </tbody>\n",
              "</table>\n",
              "</div>"
            ],
            "text/plain": [
              "       id        f0        f1        f2     product\n",
              "0   txEyH  0.705745 -0.497823  1.221170  105.280062\n",
              "1   2acmU  1.334711 -0.340164  4.365080   73.037750\n",
              "2   409Wp  1.022732  0.151990  1.419926   85.265647\n",
              "3   iJLyR -0.032172  0.139033  2.978566  168.620776\n",
              "4   Xdl7t  1.988431  0.155413  4.751769  154.036647\n",
              "5   wX4Hy  0.969570  0.489775 -0.735383   64.741541\n",
              "6   tL6pL  0.645075  0.530656  1.780266   49.055285\n",
              "7   BYPU6 -0.400648  0.808337 -5.624670   72.943292\n",
              "8   j9Oui  0.643105 -0.551583  2.372141  113.356160\n",
              "9   OLuZU  2.173381  0.563698  9.441852  127.910945\n",
              "10  b8WQ6  0.371066 -0.036585  0.009208   70.326617\n",
              "11  1YYm1  0.015920  1.062729 -0.722248   45.110381\n",
              "12  zIYPq -0.276476  0.924865  0.095584   89.158678\n",
              "13  iqTqq  0.212696 -0.111147  5.770095  164.298520\n",
              "14  Ct5yY -0.018578  0.187516  2.944683  158.633720\n",
              "15  Q77WQ  1.324566 -0.419149 -4.097429   60.677876\n",
              "16  6vJcD -0.000247  0.360146  0.794115  163.143987\n",
              "17  AgRR6  0.380913  1.114558  0.992377  125.942543\n",
              "18  tgSSC  0.160021  0.788151  7.629164  113.793566\n",
              "19  s2g8E  0.593078 -0.414964 -0.715774   28.207978"
            ]
          },
          "metadata": {}
        },
        {
          "name": "stdout",
          "output_type": "stream",
          "text": "Пропущенных значений:  0\n\nДубликатов: 0\n"
        }
      ]
    },
    {
      "cell_type": "code",
      "source": "display(df_1.shape)\ndisplay(df_1.head(20))\n\nprint(\"Пропущенных значений: \", df_1.isna().sum().sum())\n\nprint(\"Дубликатов:\", df_1.duplicated().sum())",
      "metadata": {},
      "execution_count": 5,
      "outputs": [
        {
          "output_type": "display_data",
          "data": {
            "text/plain": [
              "(100000, 5)"
            ]
          },
          "metadata": {}
        },
        {
          "output_type": "display_data",
          "data": {
            "text/html": [
              "<div>\n",
              "<style scoped>\n",
              "    .dataframe tbody tr th:only-of-type {\n",
              "        vertical-align: middle;\n",
              "    }\n",
              "\n",
              "    .dataframe tbody tr th {\n",
              "        vertical-align: top;\n",
              "    }\n",
              "\n",
              "    .dataframe thead th {\n",
              "        text-align: right;\n",
              "    }\n",
              "</style>\n",
              "<table border=\"1\" class=\"dataframe\">\n",
              "  <thead>\n",
              "    <tr style=\"text-align: right;\">\n",
              "      <th></th>\n",
              "      <th>id</th>\n",
              "      <th>f0</th>\n",
              "      <th>f1</th>\n",
              "      <th>f2</th>\n",
              "      <th>product</th>\n",
              "    </tr>\n",
              "  </thead>\n",
              "  <tbody>\n",
              "    <tr>\n",
              "      <th>0</th>\n",
              "      <td>kBEdx</td>\n",
              "      <td>-15.001348</td>\n",
              "      <td>-8.276000</td>\n",
              "      <td>-0.005876</td>\n",
              "      <td>3.179103</td>\n",
              "    </tr>\n",
              "    <tr>\n",
              "      <th>1</th>\n",
              "      <td>62mP7</td>\n",
              "      <td>14.272088</td>\n",
              "      <td>-3.475083</td>\n",
              "      <td>0.999183</td>\n",
              "      <td>26.953261</td>\n",
              "    </tr>\n",
              "    <tr>\n",
              "      <th>2</th>\n",
              "      <td>vyE1P</td>\n",
              "      <td>6.263187</td>\n",
              "      <td>-5.948386</td>\n",
              "      <td>5.001160</td>\n",
              "      <td>134.766305</td>\n",
              "    </tr>\n",
              "    <tr>\n",
              "      <th>3</th>\n",
              "      <td>KcrkZ</td>\n",
              "      <td>-13.081196</td>\n",
              "      <td>-11.506057</td>\n",
              "      <td>4.999415</td>\n",
              "      <td>137.945408</td>\n",
              "    </tr>\n",
              "    <tr>\n",
              "      <th>4</th>\n",
              "      <td>AHL4O</td>\n",
              "      <td>12.702195</td>\n",
              "      <td>-8.147433</td>\n",
              "      <td>5.004363</td>\n",
              "      <td>134.766305</td>\n",
              "    </tr>\n",
              "    <tr>\n",
              "      <th>5</th>\n",
              "      <td>HHckp</td>\n",
              "      <td>-3.327590</td>\n",
              "      <td>-2.205276</td>\n",
              "      <td>3.003647</td>\n",
              "      <td>84.038886</td>\n",
              "    </tr>\n",
              "    <tr>\n",
              "      <th>6</th>\n",
              "      <td>h5Ujo</td>\n",
              "      <td>-11.142655</td>\n",
              "      <td>-10.133399</td>\n",
              "      <td>4.002382</td>\n",
              "      <td>110.992147</td>\n",
              "    </tr>\n",
              "    <tr>\n",
              "      <th>7</th>\n",
              "      <td>muH9x</td>\n",
              "      <td>4.234715</td>\n",
              "      <td>-0.001354</td>\n",
              "      <td>2.004588</td>\n",
              "      <td>53.906522</td>\n",
              "    </tr>\n",
              "    <tr>\n",
              "      <th>8</th>\n",
              "      <td>YiRkx</td>\n",
              "      <td>13.355129</td>\n",
              "      <td>-0.332068</td>\n",
              "      <td>4.998647</td>\n",
              "      <td>134.766305</td>\n",
              "    </tr>\n",
              "    <tr>\n",
              "      <th>9</th>\n",
              "      <td>jG6Gi</td>\n",
              "      <td>1.069227</td>\n",
              "      <td>-11.025667</td>\n",
              "      <td>4.997844</td>\n",
              "      <td>137.945408</td>\n",
              "    </tr>\n",
              "    <tr>\n",
              "      <th>10</th>\n",
              "      <td>7uHUe</td>\n",
              "      <td>11.777049</td>\n",
              "      <td>-5.334084</td>\n",
              "      <td>2.003033</td>\n",
              "      <td>53.906522</td>\n",
              "    </tr>\n",
              "    <tr>\n",
              "      <th>11</th>\n",
              "      <td>OXyvW</td>\n",
              "      <td>16.320755</td>\n",
              "      <td>-0.562946</td>\n",
              "      <td>-0.001783</td>\n",
              "      <td>0.000000</td>\n",
              "    </tr>\n",
              "    <tr>\n",
              "      <th>12</th>\n",
              "      <td>cB8re</td>\n",
              "      <td>7.736313</td>\n",
              "      <td>-6.093374</td>\n",
              "      <td>3.982531</td>\n",
              "      <td>107.813044</td>\n",
              "    </tr>\n",
              "    <tr>\n",
              "      <th>13</th>\n",
              "      <td>igmai</td>\n",
              "      <td>6.695604</td>\n",
              "      <td>-0.749449</td>\n",
              "      <td>-0.007630</td>\n",
              "      <td>0.000000</td>\n",
              "    </tr>\n",
              "    <tr>\n",
              "      <th>14</th>\n",
              "      <td>3OdkE</td>\n",
              "      <td>-10.985487</td>\n",
              "      <td>-5.605994</td>\n",
              "      <td>2.991130</td>\n",
              "      <td>84.038886</td>\n",
              "    </tr>\n",
              "    <tr>\n",
              "      <th>15</th>\n",
              "      <td>3tVUO</td>\n",
              "      <td>-0.347599</td>\n",
              "      <td>-6.275884</td>\n",
              "      <td>-0.003448</td>\n",
              "      <td>3.179103</td>\n",
              "    </tr>\n",
              "    <tr>\n",
              "      <th>16</th>\n",
              "      <td>siveY</td>\n",
              "      <td>12.300570</td>\n",
              "      <td>2.944454</td>\n",
              "      <td>2.005541</td>\n",
              "      <td>53.906522</td>\n",
              "    </tr>\n",
              "    <tr>\n",
              "      <th>17</th>\n",
              "      <td>gIqzq</td>\n",
              "      <td>8.900460</td>\n",
              "      <td>-5.632857</td>\n",
              "      <td>4.994324</td>\n",
              "      <td>134.766305</td>\n",
              "    </tr>\n",
              "    <tr>\n",
              "      <th>18</th>\n",
              "      <td>zO5EU</td>\n",
              "      <td>-13.412826</td>\n",
              "      <td>-4.729495</td>\n",
              "      <td>2.998590</td>\n",
              "      <td>84.038886</td>\n",
              "    </tr>\n",
              "    <tr>\n",
              "      <th>19</th>\n",
              "      <td>dkcEb</td>\n",
              "      <td>-4.373526</td>\n",
              "      <td>-8.590017</td>\n",
              "      <td>2.995379</td>\n",
              "      <td>84.038886</td>\n",
              "    </tr>\n",
              "  </tbody>\n",
              "</table>\n",
              "</div>"
            ],
            "text/plain": [
              "       id         f0         f1        f2     product\n",
              "0   kBEdx -15.001348  -8.276000 -0.005876    3.179103\n",
              "1   62mP7  14.272088  -3.475083  0.999183   26.953261\n",
              "2   vyE1P   6.263187  -5.948386  5.001160  134.766305\n",
              "3   KcrkZ -13.081196 -11.506057  4.999415  137.945408\n",
              "4   AHL4O  12.702195  -8.147433  5.004363  134.766305\n",
              "5   HHckp  -3.327590  -2.205276  3.003647   84.038886\n",
              "6   h5Ujo -11.142655 -10.133399  4.002382  110.992147\n",
              "7   muH9x   4.234715  -0.001354  2.004588   53.906522\n",
              "8   YiRkx  13.355129  -0.332068  4.998647  134.766305\n",
              "9   jG6Gi   1.069227 -11.025667  4.997844  137.945408\n",
              "10  7uHUe  11.777049  -5.334084  2.003033   53.906522\n",
              "11  OXyvW  16.320755  -0.562946 -0.001783    0.000000\n",
              "12  cB8re   7.736313  -6.093374  3.982531  107.813044\n",
              "13  igmai   6.695604  -0.749449 -0.007630    0.000000\n",
              "14  3OdkE -10.985487  -5.605994  2.991130   84.038886\n",
              "15  3tVUO  -0.347599  -6.275884 -0.003448    3.179103\n",
              "16  siveY  12.300570   2.944454  2.005541   53.906522\n",
              "17  gIqzq   8.900460  -5.632857  4.994324  134.766305\n",
              "18  zO5EU -13.412826  -4.729495  2.998590   84.038886\n",
              "19  dkcEb  -4.373526  -8.590017  2.995379   84.038886"
            ]
          },
          "metadata": {}
        },
        {
          "name": "stdout",
          "output_type": "stream",
          "text": "Пропущенных значений:  0\n\nДубликатов: 0\n"
        }
      ]
    },
    {
      "cell_type": "code",
      "source": "display(df_2.shape)\ndisplay(df_2.head(20)) \n\nprint(\"Пропущенных значений: \", df_2.isna().sum().sum())\n\nprint(\"Дубликатов:\", df_2.duplicated().sum())",
      "metadata": {},
      "execution_count": 6,
      "outputs": [
        {
          "output_type": "display_data",
          "data": {
            "text/plain": [
              "(100000, 5)"
            ]
          },
          "metadata": {}
        },
        {
          "output_type": "display_data",
          "data": {
            "text/html": [
              "<div>\n",
              "<style scoped>\n",
              "    .dataframe tbody tr th:only-of-type {\n",
              "        vertical-align: middle;\n",
              "    }\n",
              "\n",
              "    .dataframe tbody tr th {\n",
              "        vertical-align: top;\n",
              "    }\n",
              "\n",
              "    .dataframe thead th {\n",
              "        text-align: right;\n",
              "    }\n",
              "</style>\n",
              "<table border=\"1\" class=\"dataframe\">\n",
              "  <thead>\n",
              "    <tr style=\"text-align: right;\">\n",
              "      <th></th>\n",
              "      <th>id</th>\n",
              "      <th>f0</th>\n",
              "      <th>f1</th>\n",
              "      <th>f2</th>\n",
              "      <th>product</th>\n",
              "    </tr>\n",
              "  </thead>\n",
              "  <tbody>\n",
              "    <tr>\n",
              "      <th>0</th>\n",
              "      <td>fwXo0</td>\n",
              "      <td>-1.146987</td>\n",
              "      <td>0.963328</td>\n",
              "      <td>-0.828965</td>\n",
              "      <td>27.758673</td>\n",
              "    </tr>\n",
              "    <tr>\n",
              "      <th>1</th>\n",
              "      <td>WJtFt</td>\n",
              "      <td>0.262778</td>\n",
              "      <td>0.269839</td>\n",
              "      <td>-2.530187</td>\n",
              "      <td>56.069697</td>\n",
              "    </tr>\n",
              "    <tr>\n",
              "      <th>2</th>\n",
              "      <td>ovLUW</td>\n",
              "      <td>0.194587</td>\n",
              "      <td>0.289035</td>\n",
              "      <td>-5.586433</td>\n",
              "      <td>62.871910</td>\n",
              "    </tr>\n",
              "    <tr>\n",
              "      <th>3</th>\n",
              "      <td>q6cA6</td>\n",
              "      <td>2.236060</td>\n",
              "      <td>-0.553760</td>\n",
              "      <td>0.930038</td>\n",
              "      <td>114.572842</td>\n",
              "    </tr>\n",
              "    <tr>\n",
              "      <th>4</th>\n",
              "      <td>WPMUX</td>\n",
              "      <td>-0.515993</td>\n",
              "      <td>1.716266</td>\n",
              "      <td>5.899011</td>\n",
              "      <td>149.600746</td>\n",
              "    </tr>\n",
              "    <tr>\n",
              "      <th>5</th>\n",
              "      <td>LzZXx</td>\n",
              "      <td>-0.758092</td>\n",
              "      <td>0.710691</td>\n",
              "      <td>2.585887</td>\n",
              "      <td>90.222465</td>\n",
              "    </tr>\n",
              "    <tr>\n",
              "      <th>6</th>\n",
              "      <td>WBHRv</td>\n",
              "      <td>-0.574891</td>\n",
              "      <td>0.317727</td>\n",
              "      <td>1.773745</td>\n",
              "      <td>45.641478</td>\n",
              "    </tr>\n",
              "    <tr>\n",
              "      <th>7</th>\n",
              "      <td>XO8fn</td>\n",
              "      <td>-1.906649</td>\n",
              "      <td>-2.458350</td>\n",
              "      <td>-0.177097</td>\n",
              "      <td>72.480640</td>\n",
              "    </tr>\n",
              "    <tr>\n",
              "      <th>8</th>\n",
              "      <td>ybmQ5</td>\n",
              "      <td>1.776292</td>\n",
              "      <td>-0.279356</td>\n",
              "      <td>3.004156</td>\n",
              "      <td>106.616832</td>\n",
              "    </tr>\n",
              "    <tr>\n",
              "      <th>9</th>\n",
              "      <td>OilcN</td>\n",
              "      <td>-1.214452</td>\n",
              "      <td>-0.439314</td>\n",
              "      <td>5.922514</td>\n",
              "      <td>52.954532</td>\n",
              "    </tr>\n",
              "    <tr>\n",
              "      <th>10</th>\n",
              "      <td>myq2g</td>\n",
              "      <td>0.628659</td>\n",
              "      <td>-2.120049</td>\n",
              "      <td>5.362437</td>\n",
              "      <td>166.799132</td>\n",
              "    </tr>\n",
              "    <tr>\n",
              "      <th>11</th>\n",
              "      <td>V9R1y</td>\n",
              "      <td>-0.544565</td>\n",
              "      <td>0.039088</td>\n",
              "      <td>8.635293</td>\n",
              "      <td>150.859435</td>\n",
              "    </tr>\n",
              "    <tr>\n",
              "      <th>12</th>\n",
              "      <td>bKDo0</td>\n",
              "      <td>-0.960453</td>\n",
              "      <td>-0.127113</td>\n",
              "      <td>7.764734</td>\n",
              "      <td>96.910855</td>\n",
              "    </tr>\n",
              "    <tr>\n",
              "      <th>13</th>\n",
              "      <td>eXvhs</td>\n",
              "      <td>1.432891</td>\n",
              "      <td>-1.242074</td>\n",
              "      <td>3.557168</td>\n",
              "      <td>8.704162</td>\n",
              "    </tr>\n",
              "    <tr>\n",
              "      <th>14</th>\n",
              "      <td>wI4j3</td>\n",
              "      <td>-0.935464</td>\n",
              "      <td>2.420523</td>\n",
              "      <td>1.150536</td>\n",
              "      <td>116.829811</td>\n",
              "    </tr>\n",
              "    <tr>\n",
              "      <th>15</th>\n",
              "      <td>XOWTx</td>\n",
              "      <td>-2.628353</td>\n",
              "      <td>0.937303</td>\n",
              "      <td>0.057847</td>\n",
              "      <td>68.655498</td>\n",
              "    </tr>\n",
              "    <tr>\n",
              "      <th>16</th>\n",
              "      <td>2oVFv</td>\n",
              "      <td>-0.428050</td>\n",
              "      <td>-2.246556</td>\n",
              "      <td>6.970420</td>\n",
              "      <td>84.500464</td>\n",
              "    </tr>\n",
              "    <tr>\n",
              "      <th>17</th>\n",
              "      <td>0wbDA</td>\n",
              "      <td>0.735307</td>\n",
              "      <td>0.913124</td>\n",
              "      <td>7.899539</td>\n",
              "      <td>96.284701</td>\n",
              "    </tr>\n",
              "    <tr>\n",
              "      <th>18</th>\n",
              "      <td>NhHaR</td>\n",
              "      <td>0.706261</td>\n",
              "      <td>-0.993553</td>\n",
              "      <td>3.155582</td>\n",
              "      <td>48.052268</td>\n",
              "    </tr>\n",
              "    <tr>\n",
              "      <th>19</th>\n",
              "      <td>DMNMZ</td>\n",
              "      <td>-1.867846</td>\n",
              "      <td>2.744144</td>\n",
              "      <td>5.918278</td>\n",
              "      <td>153.815137</td>\n",
              "    </tr>\n",
              "  </tbody>\n",
              "</table>\n",
              "</div>"
            ],
            "text/plain": [
              "       id        f0        f1        f2     product\n",
              "0   fwXo0 -1.146987  0.963328 -0.828965   27.758673\n",
              "1   WJtFt  0.262778  0.269839 -2.530187   56.069697\n",
              "2   ovLUW  0.194587  0.289035 -5.586433   62.871910\n",
              "3   q6cA6  2.236060 -0.553760  0.930038  114.572842\n",
              "4   WPMUX -0.515993  1.716266  5.899011  149.600746\n",
              "5   LzZXx -0.758092  0.710691  2.585887   90.222465\n",
              "6   WBHRv -0.574891  0.317727  1.773745   45.641478\n",
              "7   XO8fn -1.906649 -2.458350 -0.177097   72.480640\n",
              "8   ybmQ5  1.776292 -0.279356  3.004156  106.616832\n",
              "9   OilcN -1.214452 -0.439314  5.922514   52.954532\n",
              "10  myq2g  0.628659 -2.120049  5.362437  166.799132\n",
              "11  V9R1y -0.544565  0.039088  8.635293  150.859435\n",
              "12  bKDo0 -0.960453 -0.127113  7.764734   96.910855\n",
              "13  eXvhs  1.432891 -1.242074  3.557168    8.704162\n",
              "14  wI4j3 -0.935464  2.420523  1.150536  116.829811\n",
              "15  XOWTx -2.628353  0.937303  0.057847   68.655498\n",
              "16  2oVFv -0.428050 -2.246556  6.970420   84.500464\n",
              "17  0wbDA  0.735307  0.913124  7.899539   96.284701\n",
              "18  NhHaR  0.706261 -0.993553  3.155582   48.052268\n",
              "19  DMNMZ -1.867846  2.744144  5.918278  153.815137"
            ]
          },
          "metadata": {}
        },
        {
          "name": "stdout",
          "output_type": "stream",
          "text": "Пропущенных значений:  0\n\nДубликатов: 0\n"
        }
      ]
    },
    {
      "cell_type": "markdown",
      "source": "id — уникальный идентификатор скважины;\n\nf0, f1, f2 — три признака точек (неважно, что они означают, но сами признаки значимы);\n\nproduct — объём запасов в скважине (тыс. баррелей).",
      "metadata": {}
    },
    {
      "cell_type": "markdown",
      "source": "Вывели на экран три файла геологоразведки по регионам, ознакомились с содержимым и проверили на наличие пропусков и дубликатов. Можно приступать к обучению и проверки модели.",
      "metadata": {}
    },
    {
      "cell_type": "markdown",
      "source": "## Обучение и проверка модели",
      "metadata": {}
    },
    {
      "cell_type": "markdown",
      "source": "Создадим функцию, берущую на вход датасет и делящую его на train и test выборки, а также обучает модели.",
      "metadata": {}
    },
    {
      "cell_type": "code",
      "source": "def split_and_train_df(df):\n\n    features = df.drop([\"product\",\"id\"], axis=1)\n    target = df[\"product\"]\n    features_train, features_valid, target_train, target_valid = train_test_split(features, \n                                                                                  target, \n                                                                                  test_size=0.25, \n                                                                                  random_state=1)\n    scaler = MinMaxScaler()\n    features_train = scaler.fit_transform(features_train)\n    features_valid = scaler.transform(features_valid)\n    \n    model = LinearRegression(normalize=False)\n    model.fit(features_train, target_train)\n    predictions = model.predict(features_valid)\n    predictions = pd.Series(predictions)\n    rmse = (mean_squared_error(predictions, target_valid))**(0.5)\n    average_product = sum(predictions) / len(predictions)\n    \n    print(\"RMSE: {0:.2f}\".format(rmse))\n    print(\"Average product: {0:.2f}\".format(average_product))\n    \n    return (predictions, target_valid.reset_index(drop=True), rmse)",
      "metadata": {},
      "execution_count": 7,
      "outputs": []
    },
    {
      "cell_type": "code",
      "source": "i=1\nfor df in [df_0, df_1, df_2]:\n    print(f\"Region {i}:\")\n    print(\"\\n----\")\n    split_and_train_df(df)\n    print(\"---\\n\\n\")\n    i+=1 ",
      "metadata": {},
      "execution_count": 8,
      "outputs": [
        {
          "name": "stdout",
          "output_type": "stream",
          "text": "Region 1:\n\n\n\n----\n\nRMSE: 37.74\n\nAverage product: 92.49\n\n---\n\n\n\n\n\nRegion 2:\n\n\n\n----\n\nRMSE: 0.89\n\nAverage product: 69.12\n\n---\n\n\n\n\n\nRegion 3:\n\n\n\n----\n\nRMSE: 39.87\n\nAverage product: 94.96\n\n---\n\n\n\n\n"
        }
      ]
    },
    {
      "cell_type": "code",
      "source": "# Сохраним предсказания, валидационные данные и RMSE \npredictions_0, validation_0, rmse_0 = split_and_train_df(df_0)\npredictions_1, validation_1, rmse_1= split_and_train_df(df_1)\npredictions_2, validation_2, rmse_2 = split_and_train_df(df_2)",
      "metadata": {},
      "execution_count": 9,
      "outputs": [
        {
          "name": "stdout",
          "output_type": "stream",
          "text": "RMSE: 37.74\n\nAverage product: 92.49\n\nRMSE: 0.89\n\nAverage product: 69.12\n\nRMSE: 39.87\n\nAverage product: 94.96\n"
        }
      ]
    },
    {
      "cell_type": "markdown",
      "source": "Лучше всего модель предсказала данные по второму региону (RMSE: 0.89), предсказание остальных регионов было менее удачным. Однако рассматривать второй регион в дальнейшем не будем - в нем слишком мало запасов. ",
      "metadata": {}
    },
    {
      "cell_type": "markdown",
      "source": "## Подготовка к расчёту прибыли",
      "metadata": {}
    },
    {
      "cell_type": "code",
      "source": "budget = 1e+07 # бюджет в тысячах рублей за тысячу баррелей\npoint_per_budget = 200 # количество разрабатываемых точек\nproduct_price = 450 # доходность одной единицы барреля в тысячах рублей\nchosen_points = 500",
      "metadata": {},
      "execution_count": 10,
      "outputs": []
    },
    {
      "cell_type": "markdown",
      "source": "Расчитаем безубыточную разработку сырья на 200 месторождениях. И найдем среднее количество продукта в месторождениях необходимое для этого.",
      "metadata": {}
    },
    {
      "cell_type": "code",
      "source": "average_profit_per_point = budget / point_per_budget\nprint('Средняя прибыль на лучшую точку -', average_profit_per_point, 'тыс.руб.')\n\naverage_barrels_per_point = average_profit_per_point  / product_price\nprint('Средний объем нефти на точку -',average_barrels_per_point, 'тыс. барелей')\n\naverage_barrels = budget / product_price\nprint('Средний объем нефти на регион -',average_barrels, 'тыс. барелей')",
      "metadata": {},
      "execution_count": 11,
      "outputs": [
        {
          "name": "stdout",
          "output_type": "stream",
          "text": "Средняя прибыль на лучшую точку - 50000.0 тыс.руб.\n\nСредний объем нефти на точку - 111.11111111111111 тыс. барелей\n\nСредний объем нефти на регион - 22222.222222222223 тыс. барелей\n"
        }
      ]
    },
    {
      "cell_type": "code",
      "source": "print('Средний запас фактичекой нефти на скважину в регионе 1:', df_0['product'].mean())\nprint('Средний запас фактичекой нефти на скважину в регионе 2:', df_1['product'].mean())\nprint('Средний запас фактичекой нефти на скважину в регионе 3:', df_2['product'].mean())",
      "metadata": {},
      "execution_count": 12,
      "outputs": [
        {
          "name": "stdout",
          "output_type": "stream",
          "text": "Средний запас фактичекой нефти на скважину в регионе 1: 92.50000000000001\n\nСредний запас фактичекой нефти на скважину в регионе 2: 68.82500000000002\n\nСредний запас фактичекой нефти на скважину в регионе 3: 95.00000000000004\n"
        }
      ]
    },
    {
      "cell_type": "markdown",
      "source": "По найденным данным средних запасов и нижней точки безубыточности можно сделать вывод, что ни один регион не обладает требуемым запасом нефти в скважинах.",
      "metadata": {}
    },
    {
      "cell_type": "markdown",
      "source": "## Расчёт прибыли и рисков ",
      "metadata": {}
    },
    {
      "cell_type": "code",
      "source": "def profitization(predictions, target): \n    best_preds = predictions.sort_values(ascending=False) \n    best_target = target[best_preds.index][:200] \n    revenue = best_target.sum() * product_price \n    return revenue - budget",
      "metadata": {},
      "execution_count": 13,
      "outputs": []
    },
    {
      "cell_type": "code",
      "source": "state = np.random.RandomState(12345) \ndef bootstraping_1000(predictions, target): \n    values = [] \n    for i in range(1000):\n        target_sample = target.sample(500, replace=True, random_state=state,) \n        predictions_sample = predictions[target_sample.index]\n        values.append(profitization(predictions_sample, target_sample))\n    values = pd.Series(values) \n    lower = values.quantile(0.025) \n    upper = values.quantile(0.975) \n    average = values.mean() \n    risk = st.percentileofscore(values, 0)\n    return ((lower, upper), average, risk)",
      "metadata": {},
      "execution_count": 14,
      "outputs": []
    },
    {
      "cell_type": "code",
      "source": "i = 1\nfor preds, target in zip([predictions_0, predictions_1, predictions_2], \n                         [validation_0, validation_1, validation_2]):\n    interval, mean_revenue, risk = bootstraping_1000(preds, target)\n    print(f\"Region {i}:\")\n    print(\"\\n----\")\n    print(f\"Mean: {mean_revenue}\")\n    print(f\"95% confidence interval: {interval}\")\n    print(f\"Risk of loss: {risk}\")\n    print('   ')\n    i+=1",
      "metadata": {},
      "execution_count": 15,
      "outputs": [
        {
          "name": "stdout",
          "output_type": "stream",
          "text": "Region 1:\n\n\n\n----\n\nMean: 458100.40179975115\n\n95% confidence interval: (-91938.45332589102, 1015824.8886825135)\n\nRisk of loss: 4.6000000000000005\n\n   \n\nRegion 2:\n\n\n\n----\n\nMean: 533056.7096039738\n\n95% confidence interval: (99430.44840112432, 973064.42488865)\n\nRisk of loss: 0.6000000000000001\n\n   \n\nRegion 3:\n\n\n\n----\n\nMean: 411076.6725586822\n\n95% confidence interval: (-138944.97961462854, 959378.9183216941)\n\nRisk of loss: 7.2\n\n   \n"
        }
      ]
    },
    {
      "cell_type": "markdown",
      "source": "<div class=\"alert alert-block alert-danger\">\n<b>Ошибка:</b>  Здесь код упал, посмотри пожалуйста\n  \n</div>",
      "metadata": {}
    },
    {
      "cell_type": "markdown",
      "source": "<div class=\"alert alert-block alert-warning\">\n    <b> Исправил имена переменных в блоке кода выше, все должно работать</b>  \n</div>",
      "metadata": {}
    },
    {
      "cell_type": "markdown",
      "source": "Исходя из полученных данных, можно сделать вывод, что второй регион - самый благоприятный по балансу средней прибыли и рискам.",
      "metadata": {}
    },
    {
      "cell_type": "markdown",
      "source": "<div class=\"alert alert-block alert-success\">\n<b>Успех[2]:</b> Есть контакт\n</div>\n\n",
      "metadata": {}
    },
    {
      "cell_type": "markdown",
      "source": "# Вывод",
      "metadata": {}
    },
    {
      "cell_type": "markdown",
      "source": "1) Провели исследовательский анализ данных: вывели на экран три файла геологоразведки по регионам, ознакомились с содержимым и проверили на наличие пропусков и дубликатов.\n\n2) Обучили модель для каждого региона: df_0, df_1, df_2\n\n3) Затем применили bootstrap и нашли 95% доверительный интервал для среднего объема нефти в скважинах и риск убытков. Наиболее перспективным для разработки представляется регион № 2, так как риски убытков наименьшие, а средняя прибыль выше, чем в остальных регионах.",
      "metadata": {}
    }
  ]
}